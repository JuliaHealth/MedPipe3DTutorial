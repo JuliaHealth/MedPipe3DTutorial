{
 "cells": [
  {
   "cell_type": "code",
   "execution_count": 1,
   "metadata": {},
   "outputs": [
    {
     "name": "stderr",
     "output_type": "stream",
     "text": [
      "\u001b[32m\u001b[1m    Updating\u001b[22m\u001b[39m git-repo `https://github.com/jakubMitura14/MedPipe3D.jl.git`\n"
     ]
    },
    {
     "name": "stderr",
     "output_type": "stream",
     "text": [
      "\u001b[32m\u001b[1m    Updating\u001b[22m\u001b[39m registry at `~/.julia/registries/General.toml`\n"
     ]
    },
    {
     "name": "stderr",
     "output_type": "stream",
     "text": [
      "\u001b[32m\u001b[1m   Resolving\u001b[22m\u001b[39m package versions...\n"
     ]
    },
    {
     "name": "stderr",
     "output_type": "stream",
     "text": [
      "\u001b[32m\u001b[1m  No Changes\u001b[22m\u001b[39m to `~/.julia/environments/v1.7/Project.toml`\n",
      "\u001b[32m\u001b[1m  No Changes\u001b[22m\u001b[39m to `~/.julia/environments/v1.7/Manifest.toml`\n"
     ]
    },
    {
     "name": "stderr",
     "output_type": "stream",
     "text": [
      "┌ Warning: Expected non-existent /home/jakub/Downloads/julia-1.7.3-linux-x86_64/julia-1.7.3/share/julia to be your Julia directory.\n",
      "│ Certain functionality will be disabled.\n",
      "│ To fix this, try deleting Revise's cache files in ~/.julia/compiled/v1.7/Revise, then restart Julia and load Revise.\n",
      "│ If this doesn't fix the problem, please report an issue at https://github.com/timholy/Revise.jl/issues.\n",
      "└ @ Revise /home/jakub/.julia/packages/Revise/VskYC/src/packagedef.jl:1256\n"
     ]
    }
   ],
   "source": [
    "using Pkg\n",
    "#Pkg.add(url=\"https://github.com/jakubMitura14/MedPipe3D.jl.git\")\n",
    "Pkg.add(url=\"https://github.com/jakubMitura14/MedPipe3D.jl.git\")\n",
    "\n",
    "using MedEye3d\n",
    "using Distributions\n",
    "using Clustering\n",
    "using IrrationalConstants\n",
    "using ParallelStencil\n",
    "using MedPipe3D.LoadFromMonai, MedPipe3D.HDF5saveUtils,MedPipe3D.visualizationFromHdf5, MedPipe3D.distinctColorsSaved\n",
    "using CUDA\n",
    "using HDF5,Colors\n",
    "using ParallelStencil\n",
    "using ParallelStencil.FiniteDifferences3D\n",
    "using MedEval3D\n",
    "using MedEval3D.BasicStructs\n",
    "using MedEval3D.MainAbstractions\n",
    "using MedEval3D\n",
    "using MedEval3D.BasicStructs\n",
    "using MedEval3D.MainAbstractions\n",
    "#]add MedEye3d Distributions Clustering IrrationalConstants ParallelStencil CUDA HDF5 MedEval3D MedPipe3D Colors\n"
   ]
  },
  {
   "cell_type": "markdown",
   "metadata": {},
   "source": [
    "Some usefull constants"
   ]
  },
  {
   "cell_type": "code",
   "execution_count": 2,
   "metadata": {},
   "outputs": [
    {
     "data": {
      "text/plain": [
       "true"
      ]
     },
     "metadata": {},
     "output_type": "display_data"
    }
   ],
   "source": [
    "\n",
    "#directory where we want to store our HDF5 that we will use\n",
    "pathToHDF5=\"/home/jakub/projects/hdf5Data/smallDataSet.hdf5\"\n",
    "#directory of folder with files in this directory all of the image files should be in subfolder volumes 0-49 and labels labels if one ill use lines below\n",
    "data_dir = \"/home/jakub/CTORGmini/\"\n",
    "fid = h5open(pathToHDF5, \"w\")\n",
    "#representing number that is the patient id in this dataset\n",
    "patentNum = 3\n",
    "patienGroupName=string(patentNum)\n",
    "z=7# how big is the area from which we collect data to construct probability distributions\n",
    "klusterNumb = 5# number of clusters - number of probability distributions we will use\n",
    "#******************for display\n",
    "#just needed so we will not have 2 same colors for two diffrent informations\n",
    "listOfColorUsed= falses(18)\n",
    "const USE_GPU = true\n"
   ]
  },
  {
   "cell_type": "markdown",
   "metadata": {},
   "source": [
    "Below we define path to the example files"
   ]
  },
  {
   "cell_type": "code",
   "execution_count": 3,
   "metadata": {},
   "outputs": [
    {
     "data": {
      "text/plain": [
       "([-1024.0 -1024.0 … -1024.0 -1024.0; -1024.0 -1024.0 … -1024.0 -1024.0; … ; -1024.0 -1024.0 … -1024.0 -1024.0; -1024.0 -1024.0 … -1024.0 -1024.0;;; -1024.0 -1024.0 … -1024.0 -1024.0; -1024.0 -1024.0 … -1024.0 -1024.0; … ; -1024.0 -1024.0 … -1024.0 -1024.0; -1024.0 -1024.0 … -1024.0 -1024.0;;; -1024.0 -1024.0 … -1024.0 -1024.0; -1024.0 -1024.0 … -1024.0 -1024.0; … ; -1024.0 -1024.0 … -1024.0 -1024.0; -1024.0 -1024.0 … -1024.0 -1024.0;;; … ;;; -1024.0 -1024.0 … -1024.0 -1024.0; -1024.0 -1024.0 … -1024.0 -1024.0; … ; -1024.0 -1024.0 … -1024.0 -1024.0; -1024.0 -1024.0 … -1024.0 -1024.0;;; -1024.0 -1024.0 … -1024.0 -1024.0; -1024.0 -1024.0 … -1024.0 -1024.0; … ; -1024.0 -1024.0 … -1024.0 -1024.0; -1024.0 -1024.0 … -1024.0 -1024.0;;; -1024.0 -1024.0 … -1024.0 -1024.0; -1024.0 -1024.0 … -1024.0 -1024.0; … ; -1024.0 -1024.0 … -1024.0 -1024.0; -1024.0 -1024.0 … -1024.0 -1024.0], [0.0 0.0 … 0.0 0.0; 0.0 0.0 … 0.0 0.0; … ; 0.0 0.0 … 0.0 0.0; 0.0 0.0 … 0.0 0.0;;; 0.0 0.0 … 0.0 0.0; 0.0 0.0 … 0.0 0.0; … ; 0.0 0.0 … 0.0 0.0; 0.0 0.0 … 0.0 0.0;;; 0.0 0.0 … 0.0 0.0; 0.0 0.0 … 0.0 0.0; … ; 0.0 0.0 … 0.0 0.0; 0.0 0.0 … 0.0 0.0;;; … ;;; 0.0 0.0 … 0.0 0.0; 0.0 0.0 … 0.0 0.0; … ; 0.0 0.0 … 0.0 0.0; 0.0 0.0 … 0.0 0.0;;; 0.0 0.0 … 0.0 0.0; 0.0 0.0 … 0.0 0.0; … ; 0.0 0.0 … 0.0 0.0; 0.0 0.0 … 0.0 0.0;;; 0.0 0.0 … 0.0 0.0; 0.0 0.0 … 0.0 0.0; … ; 0.0 0.0 … 0.0 0.0; 0.0 0.0 … 0.0 0.0], Dict{String, Any}(\"extents\" => fill(0), \"intent_p3\" => fill(0.0f0), \"slice_end\" => fill(0), \"sform_code\" => fill(1), \"original_channel_dim\" => \"no_channel\", \"scl_inter\" => fill(NaN32), \"slice_code\" => fill(0x00), \"cal_max\" => fill(0.0f0), \"intent_code\" => fill(0), \"srow_y\" => Float32[0.0, 0.7753906, 0.0, -27.112305]…))"
      ]
     },
     "metadata": {},
     "output_type": "display_data"
    }
   ],
   "source": [
    "train_labels = map(fileEntry-> joinpath(data_dir,\"labels\",fileEntry),readdir(joinpath(data_dir,\"labels\"); sort=true))\n",
    "train_images = map(fileEntry-> joinpath(data_dir,\"volumes\",fileEntry),readdir(joinpath(data_dir,\"volumes\"); sort=true))\n",
    "#zipping so we will have tuples with image and label names\n",
    "zipped= collect(zip(train_images,train_labels))\n",
    "tupl=zipped[patentNum]\n",
    "#proper loading using some utility function\n",
    "loaded = LoadFromMonai.loadByMonaiFromImageAndLabelPaths(tupl[1],tupl[2])"
   ]
  },
  {
   "cell_type": "markdown",
   "metadata": {},
   "source": [
    "Managing HDF5 database"
   ]
  },
  {
   "cell_type": "code",
   "execution_count": 4,
   "metadata": {},
   "outputs": [],
   "source": [
    "#!!!!!!!!!! important if you are just creating the hdf5 file  do it with \"w\" option otherwise do it with \"r+\"\n",
    "#fid = h5open(pathToHDF5, \"r+\") \n",
    "gr= getGroupOrCreate(fid, patienGroupName)\n",
    "#for this particular example we are intrested only in liver so we will keep only this label\n",
    "labelArr=map(entry-> UInt32(entry==1),loaded[2])\n",
    "#we save loaded and trnsformed data into HDF5 to avoid doing preprocessing every time\n",
    "saveMaskBeforeVisualization(fid,patienGroupName,loaded[1],\"image\", \"CT\" )\n",
    "saveMaskBeforeVisualization(fid,patienGroupName,labelArr,\"labelSet\", \"boolLabel\" )\n",
    "\n",
    "# here we did default transformations so voxel dimension is set to 1,1,1 in any other case one need to set spacing attribute manually to proper value\n",
    "# spacing can be found in metadata dictionary that is third entry in loadByMonaiFromImageAndLabelPaths output\n",
    "# here metadata = loaded[3]\n",
    "writeGroupAttribute(fid,patienGroupName, \"spacing\", [1,1,1])"
   ]
  },
  {
   "cell_type": "markdown",
   "metadata": {},
   "source": [
    "Simple Display Configuration automatically we choose the colors to be some contrassting ones"
   ]
  },
  {
   "cell_type": "code",
   "execution_count": 5,
   "metadata": {},
   "outputs": [
    {
     "data": {
      "text/plain": [
       "MedEye3d.ForDisplayStructs.TextureSpec{Float32}\n",
       "  name: String \"algoOutput\"\n",
       "  numb: Int32 -1\n",
       "  whichCreated: Int32 -1\n",
       "  isMainImage: Bool false\n",
       "  isNuclearMask: Bool false\n",
       "  isContinuusMask: Bool true\n",
       "  color: RGB{Float64}\n",
       "  colorSet: Array{RGB}((2,))\n",
       "  strokeWidth: Int32 3\n",
       "  isEditable: Bool false\n",
       "  GL_Rtype: UInt32 0x00000000\n",
       "  OpGlType: UInt32 0x00000000\n",
       "  actTextrureNumb: UInt32 0x00000000\n",
       "  associatedActiveNumer: Int64 0\n",
       "  ID: Base.RefValue{UInt32}\n",
       "  isVisible: Bool true\n",
       "  uniforms: MedEye3d.ForDisplayStructs.MaskTextureUniforms\n",
       "  minAndMaxValue: Array{Float32}((2,)) Float32[0.0, 1.0]\n",
       "  maskContribution: Float32 1.0f0\n"
      ]
     },
     "metadata": {},
     "output_type": "display_data"
    }
   ],
   "source": [
    "\n",
    "##below we define additional arrays that are not present in original data but will be needed for annotations and storing algorithm output \n",
    "\n",
    "#manual Modification array\n",
    "manualModif = MedEye3d.ForDisplayStructs.TextureSpec{UInt32}(# choosing number type manually to reduce memory usage\n",
    "    name = \"manualModif\",\n",
    "    color = getSomeColor(listOfColorUsed)# automatically choosing some contrasting color\n",
    "    ,minAndMaxValue= UInt32.([0,1]) #important to keep the same number type as chosen at the bagining\n",
    "    ,isEditable = true ) # we will be able to manually modify this array in a viewer\n",
    "\n",
    "algoVisualization = MedEye3d.ForDisplayStructs.TextureSpec{Float32}(\n",
    "    name = \"algoOutput\",\n",
    "    # we point out that we will supply multiple colors\n",
    "    isContinuusMask=true,\n",
    "    colorSet = [getSomeColor(listOfColorUsed),getSomeColor(listOfColorUsed)]\n",
    "    ,minAndMaxValue= Float32.([0,1])# values between 0 and 1 as this represent probabilities\n",
    "   )\n",
    "\n",
    "    addTextSpecs=Vector{MedEye3d.ForDisplayStructs.TextureSpec}(undef,2)\n",
    "    addTextSpecs[1]=manualModif\n",
    "    addTextSpecs[2]=algoVisualization\n",
    "\n"
   ]
  },
  {
   "cell_type": "markdown",
   "metadata": {},
   "source": [
    "Command to Display"
   ]
  },
  {
   "cell_type": "code",
   "execution_count": 6,
   "metadata": {},
   "outputs": [
    {
     "name": "stdout",
     "output_type": "stream",
     "text": [
      "increase number of available threads look into https://docs.julialang.org/en/v1/manual/multi-threading/  or modify for example in vs code extension\n"
     ]
    },
    {
     "name": "stdout",
     "output_type": "stream",
     "text": [
      "Dict{Symbol, Any}("
     ]
    },
    {
     "name": "stdout",
     "output_type": "stream",
     "text": [
      ":gl_version => v\"4.6.0\", :gl_renderer => \"NVIDIA GeForce RTX 3080/PCIe/SSE2\", :glsl_version => v\"4.60.0\", :gl_vendor => \"NVIDIA Corporation\")\n",
      "Dict{Symbol, Any}(:gl_version => v\"4.6.0\", :gl_renderer => \"NVIDIA GeForce RTX 3080/PCIe/SSE2\", :glsl_version => v\"4.60.0\", :gl_vendor => \"NVIDIA Corporation\")\n"
     ]
    },
    {
     "data": {
      "text/plain": [
       "MedEye3d.DataStructs.FullScrollableDat\n",
       "  dataToScrollDims: MedEye3d.DataStructs.DataToScrollDims\n",
       "  dimensionToScroll: Int64 3\n",
       "  dataToScroll: Array{MedEye3d.DataStructs.ThreeDimRawDat}((4,))\n",
       "  mainTextToDisp: Array{MedEye3d.DataStructs.SimpleLineTextStruct}((1,))\n",
       "  sliceTextToDisp: Array{Vector{MedEye3d.DataStructs.SimpleLineTextStruct}}((517,))\n",
       "  segmMetr: MedEye3d.BasicStructs.ResultMetrics\n",
       "  segmMetrs: Array{MedEye3d.BasicStructs.ResultMetrics}((0,))\n",
       "  nameIndexes: Dictionaries.Dictionary{String, Int64}\n",
       "  slicesNumber: Int32 517\n"
      ]
     },
     "metadata": {},
     "output_type": "display_data"
    }
   ],
   "source": [
    "mainScrollDat= loadFromHdf5Prim(fid,patienGroupName,addTextSpecs,listOfColorUsed)\n"
   ]
  },
  {
   "cell_type": "markdown",
   "metadata": {},
   "source": [
    "Here we will modify primary display  by changing the color of displayed label"
   ]
  },
  {
   "cell_type": "code",
   "execution_count": 7,
   "metadata": {},
   "outputs": [
    {
     "name": "stdout",
     "output_type": "stream",
     "text": [
      "increase number of available threads look into https://docs.julialang.org/en/v1/manual/multi-threading/  or modify for example in vs code extension\n"
     ]
    },
    {
     "name": "stdout",
     "output_type": "stream",
     "text": [
      "Dict{Symbol, Any}(:gl_version => v\"4.6.0\", :gl_renderer => \"NVIDIA GeForce RTX 3080/PCIe/SSE2\", :glsl_version => v\"4.60.0\", :gl_vendor => \"NVIDIA Corporation\")\n",
      "Dict{Symbol, Any}(:gl_version => v\"4.6.0\", :gl_renderer => \"NVIDIA GeForce RTX 3080/PCIe/SSE2\", :glsl_version => v\"4.60.0\", :gl_vendor => \"NVIDIA Corporation\")\n"
     ]
    },
    {
     "data": {
      "text/plain": [
       "4-element Vector{MedEye3d.DataStructs.ThreeDimRawDat}:\n",
       " MedEye3d.DataStructs.ThreeDimRawDat{Float32}(Float32, \"image\", [-1024.0 -1024.0 … -1024.0 -1024.0; -1024.0 -1024.0 … -1024.0 -1024.0; … ; -1024.0 -1024.0 … -1024.0 -1024.0; -1024.0 -1024.0 … -1024.0 -1024.0;;; -1024.0 -1024.0 … -1024.0 -1024.0; -1024.0 -1024.0 … -1024.0 -1024.0; … ; -1024.0 -1024.0 … -1024.0 -1024.0; -1024.0 -1024.0 … -1024.0 -1024.0;;; -1024.0 -1024.0 … -1024.0 -1024.0; -1024.0 -1024.0 … -1024.0 -1024.0; … ; -1024.0 -1024.0 … -1024.0 -1024.0; -1024.0 -1024.0 … -1024.0 -1024.0;;; … ;;; -1024.0 -1024.0 … -1024.0 -1024.0; -1024.0 -1024.0 … -1024.0 -1024.0; … ; -1024.0 -1024.0 … -1024.0 -1024.0; -1024.0 -1024.0 … -1024.0 -1024.0;;; -1024.0 -1024.0 … -1024.0 -1024.0; -1024.0 -1024.0 … -1024.0 -1024.0; … ; -1024.0 -1024.0 … -1024.0 -1024.0; -1024.0 -1024.0 … -1024.0 -1024.0;;; -1024.0 -1024.0 … -1024.0 -1024.0; -1024.0 -1024.0 … -1024.0 -1024.0; … ; -1024.0 -1024.0 … -1024.0 -1024.0; -1024.0 -1024.0 … -1024.0 -1024.0])\n",
       " MedEye3d.DataStructs.ThreeDimRawDat{UInt32}(UInt32, \"labelSet\", [0x00000000 0x00000000 … 0x00000000 0x00000000; 0x00000000 0x00000000 … 0x00000000 0x00000000; … ; 0x00000000 0x00000000 … 0x00000000 0x00000000; 0x00000000 0x00000000 … 0x00000000 0x00000000;;; 0x00000000 0x00000000 … 0x00000000 0x00000000; 0x00000000 0x00000000 … 0x00000000 0x00000000; … ; 0x00000000 0x00000000 … 0x00000000 0x00000000; 0x00000000 0x00000000 … 0x00000000 0x00000000;;; 0x00000000 0x00000000 … 0x00000000 0x00000000; 0x00000000 0x00000000 … 0x00000000 0x00000000; … ; 0x00000000 0x00000000 … 0x00000000 0x00000000; 0x00000000 0x00000000 … 0x00000000 0x00000000;;; … ;;; 0x00000000 0x00000000 … 0x00000000 0x00000000; 0x00000000 0x00000000 … 0x00000000 0x00000000; … ; 0x00000000 0x00000000 … 0x00000000 0x00000000; 0x00000000 0x00000000 … 0x00000000 0x00000000;;; 0x00000000 0x00000000 … 0x00000000 0x00000000; 0x00000000 0x00000000 … 0x00000000 0x00000000; … ; 0x00000000 0x00000000 … 0x00000000 0x00000000; 0x00000000 0x00000000 … 0x00000000 0x00000000;;; 0x00000000 0x00000000 … 0x00000000 0x00000000; 0x00000000 0x00000000 … 0x00000000 0x00000000; … ; 0x00000000 0x00000000 … 0x00000000 0x00000000; 0x00000000 0x00000000 … 0x00000000 0x00000000])\n",
       " MedEye3d.DataStructs.ThreeDimRawDat{UInt32}(UInt32, \"manualModif\", [0x00000000 0x00000000 … 0x00000000 0x00000000; 0x00000000 0x00000000 … 0x00000000 0x00000000; … ; 0x00000000 0x00000000 … 0x00000000 0x00000000; 0x00000000 0x00000000 … 0x00000000 0x00000000;;; 0x00000000 0x00000000 … 0x00000000 0x00000000; 0x00000000 0x00000000 … 0x00000000 0x00000000; … ; 0x00000000 0x00000000 … 0x00000000 0x00000000; 0x00000000 0x00000000 … 0x00000000 0x00000000;;; 0x00000000 0x00000000 … 0x00000000 0x00000000; 0x00000000 0x00000000 … 0x00000000 0x00000000; … ; 0x00000000 0x00000000 … 0x00000000 0x00000000; 0x00000000 0x00000000 … 0x00000000 0x00000000;;; … ;;; 0x00000000 0x00000000 … 0x00000000 0x00000000; 0x00000000 0x00000000 … 0x00000000 0x00000000; … ; 0x00000000 0x00000000 … 0x00000000 0x00000000; 0x00000000 0x00000000 … 0x00000000 0x00000000;;; 0x00000000 0x00000000 … 0x00000000 0x00000000; 0x00000000 0x00000000 … 0x00000000 0x00000000; … ; 0x00000000 0x00000000 … 0x00000000 0x00000000; 0x00000000 0x00000000 … 0x00000000 0x00000000;;; 0x00000000 0x00000000 … 0x00000000 0x00000000; 0x00000000 0x00000000 … 0x00000000 0x00000000; … ; 0x00000000 0x00000000 … 0x00000000 0x00000000; 0x00000000 0x00000000 … 0x00000000 0x00000000])\n",
       " MedEye3d.DataStructs.ThreeDimRawDat{Float32}(Float32, \"algoOutput\", [0.0 0.0 … 0.0 0.0; 0.0 0.0 … 0.0 0.0; … ; 0.0 0.0 … 0.0 0.0; 0.0 0.0 … 0.0 0.0;;; 0.0 0.0 … 0.0 0.0; 0.0 0.0 … 0.0 0.0; … ; 0.0 0.0 … 0.0 0.0; 0.0 0.0 … 0.0 0.0;;; 0.0 0.0 … 0.0 0.0; 0.0 0.0 … 0.0 0.0; … ; 0.0 0.0 … 0.0 0.0; 0.0 0.0 … 0.0 0.0;;; … ;;; 0.0 0.0 … 0.0 0.0; 0.0 0.0 … 0.0 0.0; … ; 0.0 0.0 … 0.0 0.0; 0.0 0.0 … 0.0 0.0;;; 0.0 0.0 … 0.0 0.0; 0.0 0.0 … 0.0 0.0; … ; 0.0 0.0 … 0.0 0.0; 0.0 0.0 … 0.0 0.0;;; 0.0 0.0 … 0.0 0.0; 0.0 0.0 … 0.0 0.0; … ; 0.0 0.0 … 0.0 0.0; 0.0 0.0 … 0.0 0.0])"
      ]
     },
     "metadata": {},
     "output_type": "display_data"
    }
   ],
   "source": [
    "#manual Modification array\n",
    "manualModif = MedEye3d.ForDisplayStructs.TextureSpec{UInt32}(# choosing number type manually to reduce memory usage\n",
    "    name = \"manualModif\",\n",
    "    color = RGB(0.2,0.5,0.2) #getSomeColor(listOfColorUsed)# automatically choosing some contrasting color\n",
    "    ,minAndMaxValue= UInt32.([0,1]) #important to keep the same number type as chosen at the bagining\n",
    "    ,isEditable = true ) # we will be able to manually modify this array in a viewer\n",
    "\n",
    "labelSet = MedEye3d.ForDisplayStructs.TextureSpec{UInt32}(\n",
    "    name = \"labelSet\",\n",
    "    # we point out that we will supply multiple colors\n",
    "    isContinuusMask=true,\n",
    "    colorSet = [RGB(1.0,0.0,0.0),RGB(1.0,0.0,0.0),RGB(1.0,1.0,0.0)]\n",
    "    ,minAndMaxValue= UInt32.([0,2])# values between 0 and 1 as this represent probabilities\n",
    "   )   \n",
    "    addTextSpecs=Vector{MedEye3d.ForDisplayStructs.TextureSpec}(undef,3)\n",
    "    addTextSpecs[1]=manualModif\n",
    "    addTextSpecs[2]=algoVisualization\n",
    "    addTextSpecs[3]=labelSet\n",
    "\n",
    "\n",
    "#2) primary display of chosen image \n",
    "mainScrollDat= loadFromHdf5Prim(fid,patienGroupName,addTextSpecs,listOfColorUsed)\n",
    "mainScrollDat.dataToScroll\n"
   ]
  },
  {
   "cell_type": "code",
   "execution_count": 8,
   "metadata": {},
   "outputs": [],
   "source": [
    "group = fid[patienGroupName]\n",
    "attrName=\"spacing\"\n",
    "\n",
    "value=HDF5.read_attribute(group, attrName)\n",
    "delete_attribute(group,attrName)\n",
    "write_attribute(group, attrName, value)\n",
    "\n"
   ]
  },
  {
   "cell_type": "markdown",
   "metadata": {},
   "source": [
    "now we will observe what would happen if we would provie incorrect spacing in display"
   ]
  },
  {
   "cell_type": "code",
   "execution_count": 9,
   "metadata": {},
   "outputs": [
    {
     "name": "stdout",
     "output_type": "stream",
     "text": [
      "increase number of available threads look into https://docs.julialang.org/en/v1/manual/multi-threading/  or modify for example in vs code extension\n"
     ]
    },
    {
     "name": "stdout",
     "output_type": "stream",
     "text": [
      "Dict{Symbol, Any}(:gl_version => v\"4.6.0\", :gl_renderer => \"NVIDIA GeForce RTX 3080/PCIe/SSE2\", :glsl_version => v\"4.60.0\", :gl_vendor => \"NVIDIA Corporation\")\n",
      "Dict{Symbol, Any}(:gl_version => v\"4.6.0\", :gl_renderer => \"NVIDIA GeForce RTX 3080/PCIe/SSE2\", :glsl_version => v\"4.60.0\", :gl_vendor => \"NVIDIA Corporation\")\n"
     ]
    },
    {
     "data": {
      "text/plain": [
       "4-element Vector{MedEye3d.DataStructs.ThreeDimRawDat}:\n",
       " MedEye3d.DataStructs.ThreeDimRawDat{Float32}(Float32, \"image\", [-1024.0 -1024.0 … -1024.0 -1024.0; -1024.0 -1024.0 … -1024.0 -1024.0; … ; -1024.0 -1024.0 … -1024.0 -1024.0; -1024.0 -1024.0 … -1024.0 -1024.0;;; -1024.0 -1024.0 … -1024.0 -1024.0; -1024.0 -1024.0 … -1024.0 -1024.0; … ; -1024.0 -1024.0 … -1024.0 -1024.0; -1024.0 -1024.0 … -1024.0 -1024.0;;; -1024.0 -1024.0 … -1024.0 -1024.0; -1024.0 -1024.0 … -1024.0 -1024.0; … ; -1024.0 -1024.0 … -1024.0 -1024.0; -1024.0 -1024.0 … -1024.0 -1024.0;;; … ;;; -1024.0 -1024.0 … -1024.0 -1024.0; -1024.0 -1024.0 … -1024.0 -1024.0; … ; -1024.0 -1024.0 … -1024.0 -1024.0; -1024.0 -1024.0 … -1024.0 -1024.0;;; -1024.0 -1024.0 … -1024.0 -1024.0; -1024.0 -1024.0 … -1024.0 -1024.0; … ; -1024.0 -1024.0 … -1024.0 -1024.0; -1024.0 -1024.0 … -1024.0 -1024.0;;; -1024.0 -1024.0 … -1024.0 -1024.0; -1024.0 -1024.0 … -1024.0 -1024.0; … ; -1024.0 -1024.0 … -1024.0 -1024.0; -1024.0 -1024.0 … -1024.0 -1024.0])\n",
       " MedEye3d.DataStructs.ThreeDimRawDat{UInt32}(UInt32, \"labelSet\", [0x00000000 0x00000000 … 0x00000000 0x00000000; 0x00000000 0x00000000 … 0x00000000 0x00000000; … ; 0x00000000 0x00000000 … 0x00000000 0x00000000; 0x00000000 0x00000000 … 0x00000000 0x00000000;;; 0x00000000 0x00000000 … 0x00000000 0x00000000; 0x00000000 0x00000000 … 0x00000000 0x00000000; … ; 0x00000000 0x00000000 … 0x00000000 0x00000000; 0x00000000 0x00000000 … 0x00000000 0x00000000;;; 0x00000000 0x00000000 … 0x00000000 0x00000000; 0x00000000 0x00000000 … 0x00000000 0x00000000; … ; 0x00000000 0x00000000 … 0x00000000 0x00000000; 0x00000000 0x00000000 … 0x00000000 0x00000000;;; … ;;; 0x00000000 0x00000000 … 0x00000000 0x00000000; 0x00000000 0x00000000 … 0x00000000 0x00000000; … ; 0x00000000 0x00000000 … 0x00000000 0x00000000; 0x00000000 0x00000000 … 0x00000000 0x00000000;;; 0x00000000 0x00000000 … 0x00000000 0x00000000; 0x00000000 0x00000000 … 0x00000000 0x00000000; … ; 0x00000000 0x00000000 … 0x00000000 0x00000000; 0x00000000 0x00000000 … 0x00000000 0x00000000;;; 0x00000000 0x00000000 … 0x00000000 0x00000000; 0x00000000 0x00000000 … 0x00000000 0x00000000; … ; 0x00000000 0x00000000 … 0x00000000 0x00000000; 0x00000000 0x00000000 … 0x00000000 0x00000000])\n",
       " MedEye3d.DataStructs.ThreeDimRawDat{UInt32}(UInt32, \"manualModif\", [0x00000000 0x00000000 … 0x00000000 0x00000000; 0x00000000 0x00000000 … 0x00000000 0x00000000; … ; 0x00000000 0x00000000 … 0x00000000 0x00000000; 0x00000000 0x00000000 … 0x00000000 0x00000000;;; 0x00000000 0x00000000 … 0x00000000 0x00000000; 0x00000000 0x00000000 … 0x00000000 0x00000000; … ; 0x00000000 0x00000000 … 0x00000000 0x00000000; 0x00000000 0x00000000 … 0x00000000 0x00000000;;; 0x00000000 0x00000000 … 0x00000000 0x00000000; 0x00000000 0x00000000 … 0x00000000 0x00000000; … ; 0x00000000 0x00000000 … 0x00000000 0x00000000; 0x00000000 0x00000000 … 0x00000000 0x00000000;;; … ;;; 0x00000000 0x00000000 … 0x00000000 0x00000000; 0x00000000 0x00000000 … 0x00000000 0x00000000; … ; 0x00000000 0x00000000 … 0x00000000 0x00000000; 0x00000000 0x00000000 … 0x00000000 0x00000000;;; 0x00000000 0x00000000 … 0x00000000 0x00000000; 0x00000000 0x00000000 … 0x00000000 0x00000000; … ; 0x00000000 0x00000000 … 0x00000000 0x00000000; 0x00000000 0x00000000 … 0x00000000 0x00000000;;; 0x00000000 0x00000000 … 0x00000000 0x00000000; 0x00000000 0x00000000 … 0x00000000 0x00000000; … ; 0x00000000 0x00000000 … 0x00000000 0x00000000; 0x00000000 0x00000000 … 0x00000000 0x00000000])\n",
       " MedEye3d.DataStructs.ThreeDimRawDat{Float32}(Float32, \"algoOutput\", [0.0 0.0 … 0.0 0.0; 0.0 0.0 … 0.0 0.0; … ; 0.0 0.0 … 0.0 0.0; 0.0 0.0 … 0.0 0.0;;; 0.0 0.0 … 0.0 0.0; 0.0 0.0 … 0.0 0.0; … ; 0.0 0.0 … 0.0 0.0; 0.0 0.0 … 0.0 0.0;;; 0.0 0.0 … 0.0 0.0; 0.0 0.0 … 0.0 0.0; … ; 0.0 0.0 … 0.0 0.0; 0.0 0.0 … 0.0 0.0;;; … ;;; 0.0 0.0 … 0.0 0.0; 0.0 0.0 … 0.0 0.0; … ; 0.0 0.0 … 0.0 0.0; 0.0 0.0 … 0.0 0.0;;; 0.0 0.0 … 0.0 0.0; 0.0 0.0 … 0.0 0.0; … ; 0.0 0.0 … 0.0 0.0; 0.0 0.0 … 0.0 0.0;;; 0.0 0.0 … 0.0 0.0; 0.0 0.0 … 0.0 0.0; … ; 0.0 0.0 … 0.0 0.0; 0.0 0.0 … 0.0 0.0])"
      ]
     },
     "metadata": {},
     "output_type": "display_data"
    }
   ],
   "source": [
    "delete_attribute(group,\"spacing\")\n",
    "writeGroupAttribute(fid,patienGroupName, \"spacing\", [1,1,1])\n",
    "mainScrollDat= loadFromHdf5Prim(fid,patienGroupName,addTextSpecs,listOfColorUsed)\n",
    "mainScrollDat.dataToScroll\n"
   ]
  },
  {
   "cell_type": "markdown",
   "metadata": {},
   "source": [
    "### remember to manually mark points of interest"
   ]
  },
  {
   "cell_type": "markdown",
   "metadata": {},
   "source": [
    "# Constructing probability distribution"
   ]
  },
  {
   "cell_type": "markdown",
   "metadata": {},
   "source": [
    "Some utility functions"
   ]
  },
  {
   "cell_type": "code",
   "execution_count": 10,
   "metadata": {},
   "outputs": [
    {
     "data": {
      "text/plain": [
       "calculatePatchStatistics"
      ]
     },
     "metadata": {},
     "output_type": "display_data"
    }
   ],
   "source": [
    "\n",
    "\"\"\"\n",
    "works only for 3d cartesian coordinates\n",
    "  cart - cartesian coordinates of point where we will add the dimensions ...\n",
    "\"\"\"\n",
    "function cartesianTolinear(pointCart::CartesianIndex{3}) :: Int16\n",
    "   abs(pointCart[1])+ abs(pointCart[2])+abs(pointCart[3])\n",
    "end\n",
    "\n",
    "\n",
    "\"\"\"\n",
    "point - cartesian coordinates of point around which we want the cartesian coordeinates\n",
    "return set of cartetian coordinates of given distance -patchSize from a point\n",
    "\"\"\"\n",
    "function cartesianCoordAroundPoint(pointCart::CartesianIndex{3}, patchSize ::Int)\n",
    "ones = CartesianIndex(patchSize,patchSize,patchSize) # cartesian 3 dimensional index used for calculations to get range of the cartesian indicis to analyze\n",
    "out = Array{CartesianIndex{3}}(UndefInitializer(), 6+2*patchSize^4)\n",
    "index =0\n",
    "for J in (pointCart-ones):(pointCart+ones)\n",
    "  diff = J - pointCart # diffrence between dimensions relative to point of origin\n",
    "    if cartesianTolinear(diff) <= patchSize\n",
    "      index+=1\n",
    "      out[index] = J\n",
    "    end\n",
    "    end\n",
    "return out[1:index]\n",
    "end\n",
    "\n",
    "\n",
    "\"\"\"\n",
    "By iteratively  searching through the mask M array cartesian coordinates of all entries with value 7 will be returned.\n",
    "Important the number 7 is completely arbitrary - and need to agree with the number set in the annotator\n",
    "\"\"\"\n",
    "function getCoordinatesOfMarkings(::Type{ImageNumb}, ::Type{maskNumb}, M, I )  ::Vector{CartesianIndex{3}} where{ImageNumb,maskNumb}\n",
    "    return filter((index)->M[index]>0 ,CartesianIndices(M))\n",
    "end\n",
    "\n",
    "\"\"\"\n",
    "We need to define the patch Ω using getCartesianAroundPoint around each seed point - we will list of coordinates set  \n",
    "markings - calculated  earlier in getCoordinatesOfMarkings  z is the size of the patch - it is one of the hyperparameters\n",
    "return the patch of pixels around each marked point\n",
    "\"\"\"\n",
    "function getPatchAroundMarks(markings ::Vector{CartesianIndex{3}}, z::Int) \n",
    "    return [cartesianCoordAroundPoint(x,z) for x in markings]\n",
    "end    \n",
    "\n",
    "\"\"\"\n",
    "6.Now we apply analogical operation to each point coordinates of each patch  to get set of sets of sets where the nested sub patch will be referred to as Ω_ij\n",
    "markingsPatches is just the output of getPatchAroundMarks \n",
    "z is the size of the patch - it is one of the hyperparameters\n",
    "return nested patches so we have patch around each voxel from primary patch\n",
    "\"\"\"\n",
    "function allNeededCoord(markingsPatches ,z::Int ) ::Vector{Vector{Vector{CartesianIndex{3}}}}\n",
    "    return [getPatchAroundMarks(x,z) for x in markingsPatches]\n",
    "end  \n",
    "\n",
    "\n",
    "\n",
    "\"\"\"\n",
    "We define function that give set of cartesian coordinates  returns the vector where first entry is a sample mean and second one sample standard deviation \n",
    " of values in image I in given coordinates\n",
    " first type is specyfing the type of number in image array second in the output - so we can controll what type of float it would be\n",
    "getSampleMeanAndStd(points,I)\n",
    "\"\"\"\n",
    "function  getSampleMeanAndStd(a ::Type{Numb},b ::Type{myFloat}, coords::Vector{CartesianIndex{3}} , I  ) ::Vector{myFloat} where{Numb, myFloat}\n",
    "\n",
    "  sizz = size(I)  \n",
    "  arr= I[filter(c-> c[1]>0 && c[2]>0 && c[3]>0 \n",
    "                && c[1]<sizz[1]&& c[2]<sizz[2] && c[3]<sizz[3]  ,coords)]\n",
    "                \n",
    "    return [mean(arr), std(arr)]   \n",
    "end\n",
    "\n",
    "\"\"\"\n",
    "Next we reduce each of the sub patch omega using getSampleMeanAndStd function and store result in patchStats\n",
    "calculatePatchStatistics(allNeededCoord,I\\\n",
    "\"\"\"\n",
    "function calculatePatchStatistics(a ::Type{Numb},b ::Type{myFloat},allNeededCoord ,I )  where{Numb, myFloat}\n",
    "    return [ [getSampleMeanAndStd(a,b, x,I) for x in outer ] for outer in  allNeededCoord]\n",
    "end\n"
   ]
  },
  {
   "cell_type": "markdown",
   "metadata": {},
   "source": [
    "Define Gaussian distributions summarizing data about neighbeirhood of marked points"
   ]
  },
  {
   "cell_type": "code",
   "execution_count": 11,
   "metadata": {},
   "outputs": [
    {
     "data": {
      "text/plain": [
       "495-element Vector{FullNormal}:\n",
       " FullNormal(\n",
       "dim: 2\n",
       "μ: [82.77549504819123, 23.88910255432129]\n",
       "Σ: [13.436958667419452 6.488463203134216; 6.488463203134216 4.066316615066667]\n",
       ")\n",
       "\n",
       " FullNormal(\n",
       "dim: 2\n",
       "μ: [81.63922948422639, 23.47238221873408]\n",
       "Σ: [11.094797308863633 5.559004112373006; 5.559004112373006 3.9642631584883885]\n",
       ")\n",
       "\n",
       " FullNormal(\n",
       "dim: 2\n",
       "μ: [81.73361929188604, 23.492743311342984]\n",
       "Σ: [11.064175861663148 5.587176243930774; 5.587176243930774 3.8714674040354056]\n",
       ")\n",
       "\n",
       " FullNormal(\n",
       "dim: 2\n",
       "μ: [81.71554185950238, 23.47956042745839]\n",
       "Σ: [10.085618315321241 5.021459523023127; 5.021459523023127 3.5181344396800514]\n",
       ")\n",
       "\n",
       " FullNormal(\n",
       "dim: 2\n",
       "μ: [80.5311562446926, 23.14812778307044]\n",
       "Σ: [8.117546955025157 3.4234446775954384; 3.4234446775954384 3.1257896731507353]\n",
       ")\n",
       "\n",
       " FullNormal(\n",
       "dim: 2\n",
       "μ: [80.71954193115235, 23.19486766649329]\n",
       "Σ: [8.635327917370219 4.141368983275746; 4.141368983275746 3.429589703664158]\n",
       ")\n",
       "\n",
       " FullNormal(\n",
       "dim: 2\n",
       "μ: [80.8379087365192, 23.220905353712]\n",
       "Σ: [8.453666949956743 4.415313022277511; 4.415313022277511 3.597811037267062]\n",
       ")\n",
       "\n",
       " FullNormal(\n",
       "dim: 2\n",
       "μ: [80.8952750562585, 23.214897669916567]\n",
       "Σ: [7.68430110480431 4.189287087875086; 4.189287087875086 3.495901240082224]\n",
       ")\n",
       "\n",
       " FullNormal(\n",
       "dim: 2\n",
       "μ: [80.88029878035836, 23.193768260789955]\n",
       "Σ: [6.503530688067723 3.4935637308995493; 3.4935637308995493 3.026119657266273]\n",
       ")\n",
       "\n",
       " FullNormal(\n",
       "dim: 2\n",
       "μ: [79.75250720480214, 23.023581227841586]\n",
       "Σ: [6.608669875259195 2.196732034034557; 2.196732034034557 2.7374380854356115]\n",
       ")\n",
       "\n",
       " ⋮\n",
       " FullNormal(\n",
       "dim: 2\n",
       "μ: [85.24383974821671, 23.1133770619268]\n",
       "Σ: [1.8777342314169287 -0.39337643020182766; -0.39337643020182766 0.8955316879401164]\n",
       ")\n",
       "\n",
       " FullNormal(\n",
       "dim: 2\n",
       "μ: [85.4426738307787, 23.01716491367506]\n",
       "Σ: [1.832604260825979 -0.40267748043494667; -0.40267748043494667 0.8757518736636354]\n",
       ")\n",
       "\n",
       " FullNormal(\n",
       "dim: 2\n",
       "μ: [85.55616375467052, 22.879433709849483]\n",
       "Σ: [1.7793795821809395 -0.34096788157489144; -0.34096788157489144 0.8514069463285341]\n",
       ")\n",
       "\n",
       " FullNormal(\n",
       "dim: 2\n",
       "μ: [85.53504844333814, 22.766762260768726]\n",
       "Σ: [1.9736210103969962 -0.27602492842907; -0.27602492842907 0.7998925168205173]\n",
       ")\n",
       "\n",
       " FullNormal(\n",
       "dim: 2\n",
       "μ: [85.35919174857762, 22.696353020046068]\n",
       "Σ: [2.62638329672615 -0.3037778998054753; -0.3037778998054753 0.8304300893280026]\n",
       ")\n",
       "\n",
       " FullNormal(\n",
       "dim: 2\n",
       "μ: [85.64790133268937, 22.864750601727028]\n",
       "Σ: [1.6818316542299536 -0.1637762790672413; -0.1637762790672413 0.9369131126626253]\n",
       ")\n",
       "\n",
       " FullNormal(\n",
       "dim: 2\n",
       "μ: [85.73196509319803, 22.760049139935038]\n",
       "Σ: [1.702896745322401 -0.06394843952288984; -0.06394843952288984 0.856612952864037]\n",
       ")\n",
       "\n",
       " FullNormal(\n",
       "dim: 2\n",
       "μ: [85.68062539805537, 22.644057656993038]\n",
       "Σ: [2.220849425124809 0.015470915257827761; 0.015470915257827761 0.759809258565748]\n",
       ")\n",
       "\n",
       " FullNormal(\n",
       "dim: 2\n",
       "μ: [85.73159248683764, 22.59906147500743]\n",
       "Σ: [2.035929910298689 0.1544001574884419; 0.1544001574884419 0.7853325397928201]\n",
       ")\n"
      ]
     },
     "metadata": {},
     "output_type": "display_data"
    }
   ],
   "source": [
    "\n",
    "#we load image from displayed object\n",
    "image= getArrByName(\"image\" ,mainScrollDat)\n",
    "manualModif= getArrByName(\"manualModif\" ,mainScrollDat)\n",
    "\n",
    "maximum(manualModif) # it should be greater than 0 if you marked anything in array\n",
    "##coordinates of manually set points\n",
    "coordsss= getCoordinatesOfMarkings(eltype(image),eltype(manualModif),  manualModif, image) |>\n",
    "    (seedsCoords) ->getPatchAroundMarks(seedsCoords,z ) |>\n",
    "    (patchCoords) ->allNeededCoord(patchCoords,z )\n",
    "\n",
    "#getting patch statistics - mean and covariance\n",
    "patchStats = calculatePatchStatistics(eltype(image),Float64, coordsss, image)\n",
    "\n",
    "#separate distribution for each marked point\n",
    "distribs = map(patchStat-> fit(MvNormal, reduce(hcat,(patchStat)))  , patchStats  )\n"
   ]
  },
  {
   "cell_type": "markdown",
   "metadata": {},
   "source": [
    "in order to reduce computational complexity  we will reduce the number of used distributions using kl divergence"
   ]
  },
  {
   "cell_type": "code",
   "execution_count": 13,
   "metadata": {},
   "outputs": [
    {
     "name": "stdout",
     "output_type": "stream",
     "text": [
      "  Iters               objv        objv-change | affected \n",
      "-------------------------------------------------------------\n",
      "      0       1.074526e+07\n",
      "      1       7.245306e+06      -3.499958e+06 |        5\n",
      "      2       6.905388e+06      -3.399177e+05 |        4\n",
      "      3       6.429369e+06      -4.760189e+05 |        3\n",
      "      4       6.140850e+06      -2.885191e+05 |        4\n",
      "      5       5.969487e+06      -1.713631e+05 |        3\n",
      "      6       5.949319e+06      -2.016808e+04 |        2\n",
      "      7       5.947455e+06      -1.863190e+03 |        2\n",
      "      8       5.946229e+06      -1.226105e+03 |        2\n",
      "      9       5.944856e+06      -1.373777e+03 |        0\n",
      "     10       5.944856e+06       0.000000e+00 |        0\n",
      "K-means converged with 10 iterations (objv = 5.944855607926025e6)\n"
     ]
    },
    {
     "data": {
      "text/plain": [
       "5-element Vector{FullNormal}:\n",
       " FullNormal(\n",
       "dim: 2\n",
       "μ: [83.50956702190896, 26.82041021264118]\n",
       "Σ: [28.092890899898034 9.344385013957424; 9.344385013957424 6.671045967153633]\n",
       ")\n",
       "\n",
       " FullNormal(\n",
       "dim: 2\n",
       "μ: [93.2836464923361, 31.861211853027342]\n",
       "Σ: [70.39766060016993 23.695809430954764; 23.695809430954764 11.501149913931721]\n",
       ")\n",
       "\n",
       " FullNormal(\n",
       "dim: 2\n",
       "μ: [101.33072942319123, 33.087626667851985]\n",
       "Σ: [118.02356315271685 13.788228756522146; 13.788228756522146 8.779116852836353]\n",
       ")\n",
       "\n",
       " FullNormal(\n",
       "dim: 2\n",
       "μ: [99.83586148469344, 32.90043631512186]\n",
       "Σ: [108.51627807721356 17.447986992865214; 17.447986992865214 9.731272665610991]\n",
       ")\n",
       "\n",
       " FullNormal(\n",
       "dim: 2\n",
       "μ: [85.73159248683764, 22.59906147500743]\n",
       "Σ: [2.035929910298689 0.1544001574884419; 0.1544001574884419 0.7853325397928201]\n",
       ")\n"
      ]
     },
     "metadata": {},
     "output_type": "display_data"
    }
   ],
   "source": [
    "\n",
    "#we are comparing all distributions \n",
    "klDivs =map(outerDist->    map(dist->kldivergence( outerDist  ,dist), distribs  ), distribs  )\n",
    "klDivsInMatrix = reduce(hcat,(klDivs))\n",
    "#clustering with kmeans\n",
    "R = kmeans(klDivsInMatrix, klusterNumb; maxiter=200, display=:iter)\n",
    "\n",
    "#now identify indexes for some example distributions from each cluster\n",
    "indicies = zeros(Int64,klusterNumb )\n",
    "a = assignments(R) # get the assignments of points to clusters\n",
    "for i in 1:klusterNumb\n",
    "    for j in 1:length(distribs)\n",
    "        if(a[j] == i)\n",
    "            indicies[i]=j\n",
    "        end\n",
    "    end    \n",
    "end\n",
    "indicies\n",
    "\n",
    "#ditributions from diffrent clusters\n",
    "chosenDistribs = map(ind->distribs[ind] ,indicies)"
   ]
  },
  {
   "cell_type": "markdown",
   "metadata": {},
   "source": [
    "## applying  probability distributions to image "
   ]
  },
  {
   "cell_type": "code",
   "execution_count": 14,
   "metadata": {},
   "outputs": [
    {
     "data": {
      "text/plain": [
       "7×5 Matrix{Float64}:\n",
       " -4.14092    -4.59492     -5.20815    -5.14896    -2.06502\n",
       " 83.5096     93.2836     101.331      99.8359     85.7316\n",
       " 26.8204     31.8612      33.0876     32.9004     22.5991\n",
       "  0.0666495   0.0463452    0.0103769   0.0129479   0.49861\n",
       " -0.0933585  -0.095485    -0.0162976  -0.0232154  -0.0980292\n",
       " -0.0933585  -0.095485    -0.0162976  -0.0232154  -0.0980292\n",
       "  0.280672    0.283675     0.139503    0.144386    1.29262"
      ]
     },
     "metadata": {},
     "output_type": "display_data"
    }
   ],
   "source": [
    "\n",
    "### getting constants from distributions\n",
    "\n",
    "\"\"\"\n",
    "calculate log normalization constant from distribution\n",
    "\"\"\"\n",
    "function mvnormal_c0(d::AbstractMvNormal)\n",
    "    ldcd = logdetcov(d)\n",
    "    return - (length(d) * oftype(ldcd, log2π) + ldcd) / 2\n",
    "end\n",
    "\n",
    "\"\"\"\n",
    "get constants needed for applying probability distributions\n",
    " return vector   1) logConst 2) mu1 3) mu2 4) invcov00 5)invcov01 6)invcov10 7)invcov11 \n",
    "\"\"\"\n",
    "function getDistrConstants(exampleDistr)\n",
    "    c0= mvnormal_c0(exampleDistr)\n",
    "    invCov= inv(exampleDistr.Σ)\n",
    "    return [c0,exampleDistr.μ[1],exampleDistr.μ[2],invCov[1,1],invCov[1,2],invCov[2,1],invCov[2,2]  ]\n",
    "end#getDistrConstants\n",
    "\n",
    "\n",
    "# creating matrix from constants\n",
    "allConstants = map(distr-> getDistrConstants(distr)  , chosenDistribs) |>\n",
    "               (vectOfvects)-> reduce(hcat, vectOfvects)\n"
   ]
  },
  {
   "cell_type": "markdown",
   "metadata": {},
   "source": [
    "defining CUDA kernel"
   ]
  },
  {
   "cell_type": "code",
   "execution_count": 15,
   "metadata": {},
   "outputs": [
    {
     "data": {
      "text/plain": [
       "@iterAround"
      ]
     },
     "metadata": {},
     "output_type": "display_data"
    }
   ],
   "source": [
    "\n",
    "\"\"\"\n",
    "utility macro to iterate in given range around given voxel\n",
    "\"\"\"\n",
    "macro iterAround(ex   )\n",
    "    return esc(quote\n",
    "        for xAdd in -r:r\n",
    "            x= (threadIdx().x+ ((blockIdx().x -1)*CUDA.blockDim_x()))+xAdd\n",
    "            if(x>0 && x<=mainArrSize[1])\n",
    "                for yAdd in -r:r\n",
    "                    y= (threadIdx().y+ ((blockIdx().y -1)*CUDA.blockDim_y()))+yAdd\n",
    "                    if(y>0 && y<=mainArrSize[2])\n",
    "                        for zAdd in -r:r\n",
    "                            z= (threadIdx().z+ ((blockIdx().z -1)*CUDA.blockDim_z()))+zAdd\n",
    "                            if(z>0 && z<=mainArrSize[3])\n",
    "                                if((abs(xAdd)+abs(yAdd)+abs(zAdd)) <=r)\n",
    "                                    $ex\n",
    "                                end \n",
    "                            end\n",
    "                        end\n",
    "                    end    \n",
    "                end    \n",
    "            end\n",
    "        end    \n",
    "    end)\n",
    "end\n",
    "      "
   ]
  },
  {
   "cell_type": "code",
   "execution_count": 16,
   "metadata": {},
   "outputs": [
    {
     "data": {
      "text/plain": [
       "(50, 90, 65)"
      ]
     },
     "metadata": {},
     "output_type": "display_data"
    }
   ],
   "source": [
    "\n",
    "\"\"\"\n",
    "con - matrix of precalculated constants\n",
    "image - main image here computer tomography image\n",
    "mainArrSize - dimensions of image\n",
    "output - where we want to save the calculations\n",
    "r - size of the evaluated patch\n",
    "klusterNumb- number of clusters - number of probability distributions we will use\n",
    "\"\"\"\n",
    "function applyGaussKernel(con,image,mainArrSize,output, r::Int,klusterNumb::Int)\n",
    "    for probDist in 1:klusterNumb\n",
    "        summ=0.0\n",
    "        sumCentered=0.0\n",
    "        lenn= UInt8(0)\n",
    "        #get mean\n",
    "        @iterAround begin \n",
    "            lenn=lenn+1\n",
    "            summ+=image[x,y,z]    \n",
    "        end\n",
    "        summ=summ/lenn\n",
    "        #get standard deviation\n",
    "        @iterAround sumCentered+= ((image[x,y,z]-summ )^2)\n",
    "\n",
    "        #here we have standard deviation\n",
    "        sumCentered= sqrt(sumCentered/(lenn-1))\n",
    "        #centering - subtracting means...\n",
    "        summ=summ-con[2,probDist]\n",
    "        sumCentered=sumCentered-con[3,probDist]\n",
    "        #saving output\n",
    "        x= (threadIdx().x+ ((blockIdx().x -1)*CUDA.blockDim_x()))\n",
    "        y= (threadIdx().y+ ((blockIdx().y -1)*CUDA.blockDim_y()))\n",
    "        z= (threadIdx().z+ ((blockIdx().z -1)*CUDA.blockDim_z()))\n",
    "        if(x>0 && x<=mainArrSize[1] && y>0 && y<=mainArrSize[2] &&z>0 && z<=mainArrSize[3] )\n",
    "            output[x,y,z]=  max(exp(con[1,probDist]-( ((summ*con[4,probDist]+sumCentered*con[6,probDist])*summ+(summ*con[5,probDist]+sumCentered*con[7,probDist])*sumCentered)/2 ) ),output[x,y,z]  )\n",
    "        end  \n",
    "    end#for\n",
    "    return\n",
    "end#main kernel\n",
    "\n",
    "mainArrSize= size(image)\n",
    "# for simplicity not using the occupancy API - in production one rather should\n",
    "threads=(8,4,8)\n",
    "blocks = (cld(mainArrSize[1],threads[1]), cld(mainArrSize[2],threads[2])  , cld(mainArrSize[3],threads[3]))\n"
   ]
  },
  {
   "cell_type": "markdown",
   "metadata": {},
   "source": [
    "Executing kernel"
   ]
  },
  {
   "cell_type": "code",
   "execution_count": 17,
   "metadata": {},
   "outputs": [
    {
     "ename": "ErrorException",
     "evalue": "Failed to compile PTX code (ptxas exited with code 255)\nptxas /tmp/jl_sI9ZtK.ptx, line 1; fatal   : Missing .version directive at start of file '/tmp/jl_sI9ZtK.ptx'\nptxas fatal   : Ptx assembly aborted due to errors\nIf you think this is a bug, please file an issue and attach /tmp/jl_sI9ZtK.ptx",
     "output_type": "error",
     "traceback": [
      "Failed to compile PTX code (ptxas exited with code 255)\n",
      "ptxas /tmp/jl_sI9ZtK.ptx, line 1; fatal   : Missing .version directive at start of file '/tmp/jl_sI9ZtK.ptx'\n",
      "ptxas fatal   : Ptx assembly aborted due to errors\n",
      "If you think this is a bug, please file an issue and attach /tmp/jl_sI9ZtK.ptx\n",
      "\n",
      "Stacktrace:\n",
      "  [1] error(s::String)\n",
      "    @ Base ./error.jl:33\n",
      "  [2] cufunction_compile(job::GPUCompiler.CompilerJob, ctx::LLVM.Context)\n",
      "    @ CUDA ~/.julia/packages/CUDA/fAEDi/src/compiler/execution.jl:427\n",
      "  [3] #258\n",
      "    @ ~/.julia/packages/CUDA/fAEDi/src/compiler/execution.jl:347 [inlined]\n",
      "  [4] JuliaContext(f::CUDA.var\"#258#259\"{GPUCompiler.CompilerJob{GPUCompiler.PTXCompilerTarget, CUDA.CUDACompilerParams, GPUCompiler.FunctionSpec{typeof(applyGaussKernel), Tuple{CuDeviceMatrix{Float64, 1}, CuDeviceArray{Float32, 3, 1}, Tuple{Int64, Int64, Int64}, CuDeviceArray{Float32, 3, 1}, Int64, Int64}}}})\n",
      "    @ GPUCompiler ~/.julia/packages/GPUCompiler/XyxTy/src/driver.jl:74\n",
      "  [5] cufunction_compile(job::GPUCompiler.CompilerJob)\n",
      "    @ CUDA ~/.julia/packages/CUDA/fAEDi/src/compiler/execution.jl:346\n",
      "  [6] cached_compilation(cache::Dict{UInt64, Any}, job::GPUCompiler.CompilerJob, compiler::typeof(CUDA.cufunction_compile), linker::typeof(CUDA.cufunction_link))\n",
      "    @ GPUCompiler ~/.julia/packages/GPUCompiler/XyxTy/src/cache.jl:90\n",
      "  [7] cufunction(f::typeof(applyGaussKernel), tt::Type{Tuple{CuDeviceMatrix{Float64, 1}, CuDeviceArray{Float32, 3, 1}, Tuple{Int64, Int64, Int64}, CuDeviceArray{Float32, 3, 1}, Int64, Int64}}; name::Nothing, kwargs::Base.Pairs{Symbol, Union{}, Tuple{}, NamedTuple{(), Tuple{}}})\n",
      "    @ CUDA ~/.julia/packages/CUDA/fAEDi/src/compiler/execution.jl:299\n",
      "  [8] cufunction(f::typeof(applyGaussKernel), tt::Type{Tuple{CuDeviceMatrix{Float64, 1}, CuDeviceArray{Float32, 3, 1}, Tuple{Int64, Int64, Int64}, CuDeviceArray{Float32, 3, 1}, Int64, Int64}})\n",
      "    @ CUDA ~/.julia/packages/CUDA/fAEDi/src/compiler/execution.jl:293\n",
      "  [9] top-level scope\n",
      "    @ ~/.julia/packages/CUDA/fAEDi/src/compiler/execution.jl:102\n",
      " [10] eval\n",
      "    @ ./boot.jl:373 [inlined]\n",
      " [11] include_string(mapexpr::typeof(REPL.softscope), mod::Module, code::String, filename::String)\n",
      "    @ Base ./loading.jl:1196\n",
      " [12] #invokelatest#2\n",
      "    @ ./essentials.jl:716 [inlined]\n",
      " [13] invokelatest\n",
      "    @ ./essentials.jl:714 [inlined]\n",
      " [14] (::VSCodeServer.var\"#164#165\"{VSCodeServer.NotebookRunCellArguments, String})()\n",
      "    @ VSCodeServer ~/.vscode/extensions/julialang.language-julia-1.6.24/scripts/packages/VSCodeServer/src/serve_notebook.jl:19\n",
      " [15] withpath(f::VSCodeServer.var\"#164#165\"{VSCodeServer.NotebookRunCellArguments, String}, path::String)\n",
      "    @ VSCodeServer ~/.vscode/extensions/julialang.language-julia-1.6.24/scripts/packages/VSCodeServer/src/repl.jl:184\n",
      " [16] notebook_runcell_request(conn::VSCodeServer.JSONRPC.JSONRPCEndpoint{Base.PipeEndpoint, Base.PipeEndpoint}, params::VSCodeServer.NotebookRunCellArguments)\n",
      "    @ VSCodeServer ~/.vscode/extensions/julialang.language-julia-1.6.24/scripts/packages/VSCodeServer/src/serve_notebook.jl:13\n",
      " [17] dispatch_msg(x::VSCodeServer.JSONRPC.JSONRPCEndpoint{Base.PipeEndpoint, Base.PipeEndpoint}, dispatcher::VSCodeServer.JSONRPC.MsgDispatcher, msg::Dict{String, Any})\n",
      "    @ VSCodeServer.JSONRPC ~/.vscode/extensions/julialang.language-julia-1.6.24/scripts/packages/JSONRPC/src/typed.jl:67\n",
      " [18] serve_notebook(pipename::String, outputchannel_logger::Base.CoreLogging.SimpleLogger; crashreporting_pipename::String)\n",
      "    @ VSCodeServer ~/.vscode/extensions/julialang.language-julia-1.6.24/scripts/packages/VSCodeServer/src/serve_notebook.jl:136\n",
      " [19] top-level scope\n",
      "    @ ~/.vscode/extensions/julialang.language-julia-1.6.24/scripts/notebook/notebook.jl:32\n",
      " [20] include(mod::Module, _path::String)\n",
      "    @ Base ./Base.jl:418\n",
      " [21] exec_options(opts::Base.JLOptions)\n",
      "    @ Base ./client.jl:292\n",
      " [22] _start()\n",
      "    @ Base ./client.jl:495"
     ]
    }
   ],
   "source": [
    "algoOutput= getArrByName(\"algoOutput\" ,mainScrollDat)\n",
    "mainArrSize= size(image)\n",
    "\n",
    "algoOutputGPU=CuArray(algoOutput)\n",
    "imageGPU=CuArray(image)\n",
    "conGPU = CuArray(allConstants)\n",
    "@cuda threads=threads blocks=blocks applyGaussKernel(conGPU,imageGPU,mainArrSize,algoOutputGPU, 5,klusterNumb)\n",
    "#@cuda threads=threads blocks=blocks applyGaussKernel(conGPU,imageGPU,mainArrSize,algoOutputGPU, z,klusterNumb)\n",
    "copyto!(algoOutput,algoOutputGPU)\n",
    "sum(algoOutput)# just to check is anythink copied\n"
   ]
  },
  {
   "cell_type": "markdown",
   "metadata": {},
   "source": [
    "copy and divide by max so will be easier to visualize"
   ]
  },
  {
   "cell_type": "code",
   "execution_count": 17,
   "metadata": {},
   "outputs": [
    {
     "data": {
      "text/plain": [
       "false"
      ]
     },
     "metadata": {},
     "output_type": "display_data"
    }
   ],
   "source": [
    "\n",
    "visualizationFromHdf5.refresh(MedEye3d.SegmentationDisplay.mainActor) # krowa"
   ]
  },
  {
   "cell_type": "code",
   "execution_count": 1,
   "metadata": {},
   "outputs": [
    {
     "ename": "UndefVarError",
     "evalue": "UndefVarError: getArrByName not defined",
     "output_type": "error",
     "traceback": [
      "UndefVarError: getArrByName not defined\n",
      "\n",
      "Stacktrace:\n",
      "  [1] top-level scope\n",
      "    @ ~/projects/MedPipe3DTutorial/MedPipe3DTutorial/src/juliaNotebookTest.ipynb:1\n",
      "  [2] eval\n",
      "    @ ./boot.jl:373 [inlined]\n",
      "  [3] include_string(mapexpr::typeof(REPL.softscope), mod::Module, code::String, filename::String)\n",
      "    @ Base ./loading.jl:1196\n",
      "  [4] #invokelatest#2\n",
      "    @ ./essentials.jl:716 [inlined]\n",
      "  [5] invokelatest\n",
      "    @ ./essentials.jl:714 [inlined]\n",
      "  [6] (::VSCodeServer.var\"#164#165\"{VSCodeServer.NotebookRunCellArguments, String})()\n",
      "    @ VSCodeServer ~/.vscode/extensions/julialang.language-julia-1.6.24/scripts/packages/VSCodeServer/src/serve_notebook.jl:19\n",
      "  [7] withpath(f::VSCodeServer.var\"#164#165\"{VSCodeServer.NotebookRunCellArguments, String}, path::String)\n",
      "    @ VSCodeServer ~/.vscode/extensions/julialang.language-julia-1.6.24/scripts/packages/VSCodeServer/src/repl.jl:184\n",
      "  [8] notebook_runcell_request(conn::VSCodeServer.JSONRPC.JSONRPCEndpoint{Base.PipeEndpoint, Base.PipeEndpoint}, params::VSCodeServer.NotebookRunCellArguments)\n",
      "    @ VSCodeServer ~/.vscode/extensions/julialang.language-julia-1.6.24/scripts/packages/VSCodeServer/src/serve_notebook.jl:13\n",
      "  [9] dispatch_msg(x::VSCodeServer.JSONRPC.JSONRPCEndpoint{Base.PipeEndpoint, Base.PipeEndpoint}, dispatcher::VSCodeServer.JSONRPC.MsgDispatcher, msg::Dict{String, Any})\n",
      "    @ VSCodeServer.JSONRPC ~/.vscode/extensions/julialang.language-julia-1.6.24/scripts/packages/JSONRPC/src/typed.jl:67\n",
      " [10] serve_notebook(pipename::String, outputchannel_logger::Base.CoreLogging.SimpleLogger; crashreporting_pipename::String)\n",
      "    @ VSCodeServer ~/.vscode/extensions/julialang.language-julia-1.6.24/scripts/packages/VSCodeServer/src/serve_notebook.jl:136\n",
      " [11] top-level scope\n",
      "    @ ~/.vscode/extensions/julialang.language-julia-1.6.24/scripts/notebook/notebook.jl:32\n",
      " [12] include(mod::Module, _path::String)\n",
      "    @ Base ./Base.jl:418\n",
      " [13] exec_options(opts::Base.JLOptions)\n",
      "    @ Base ./client.jl:292\n",
      " [14] _start()\n",
      "    @ Base ./client.jl:495"
     ]
    }
   ],
   "source": [
    "algoOutputB= getArrByName(\"algoOutput\" ,mainScrollDat)\n",
    "maxEl = maximum(algoOutputGPU)\n",
    "algoOutputB[:,:,:]=algoOutput./maxEl"
   ]
  },
  {
   "cell_type": "markdown",
   "metadata": {},
   "source": [
    "## relaxation labelling"
   ]
  },
  {
   "cell_type": "markdown",
   "metadata": {},
   "source": [
    "Relaxation labelling will be executed using parallel stencil"
   ]
  },
  {
   "cell_type": "code",
   "execution_count": 2,
   "metadata": {},
   "outputs": [
    {
     "ename": "LoadError",
     "evalue": "LoadError: UndefVarError: @init_parallel_stencil not defined\nin expression starting at /home/jakub/projects/MedPipe3DTutorial/MedPipe3DTutorial/src/juliaNotebookTest.ipynb:1",
     "output_type": "error",
     "traceback": [
      "LoadError: UndefVarError: @init_parallel_stencil not defined\n",
      "in expression starting at /home/jakub/projects/MedPipe3DTutorial/MedPipe3DTutorial/src/juliaNotebookTest.ipynb:1\n",
      "\n",
      "Stacktrace:\n",
      "  [1] top-level scope\n",
      "    @ :0\n",
      "  [2] eval\n",
      "    @ ./boot.jl:373 [inlined]\n",
      "  [3] include_string(mapexpr::typeof(REPL.softscope), mod::Module, code::String, filename::String)\n",
      "    @ Base ./loading.jl:1196\n",
      "  [4] #invokelatest#2\n",
      "    @ ./essentials.jl:716 [inlined]\n",
      "  [5] invokelatest\n",
      "    @ ./essentials.jl:714 [inlined]\n",
      "  [6] (::VSCodeServer.var\"#164#165\"{VSCodeServer.NotebookRunCellArguments, String})()\n",
      "    @ VSCodeServer ~/.vscode/extensions/julialang.language-julia-1.6.24/scripts/packages/VSCodeServer/src/serve_notebook.jl:19\n",
      "  [7] withpath(f::VSCodeServer.var\"#164#165\"{VSCodeServer.NotebookRunCellArguments, String}, path::String)\n",
      "    @ VSCodeServer ~/.vscode/extensions/julialang.language-julia-1.6.24/scripts/packages/VSCodeServer/src/repl.jl:184\n",
      "  [8] notebook_runcell_request(conn::VSCodeServer.JSONRPC.JSONRPCEndpoint{Base.PipeEndpoint, Base.PipeEndpoint}, params::VSCodeServer.NotebookRunCellArguments)\n",
      "    @ VSCodeServer ~/.vscode/extensions/julialang.language-julia-1.6.24/scripts/packages/VSCodeServer/src/serve_notebook.jl:13\n",
      "  [9] dispatch_msg(x::VSCodeServer.JSONRPC.JSONRPCEndpoint{Base.PipeEndpoint, Base.PipeEndpoint}, dispatcher::VSCodeServer.JSONRPC.MsgDispatcher, msg::Dict{String, Any})\n",
      "    @ VSCodeServer.JSONRPC ~/.vscode/extensions/julialang.language-julia-1.6.24/scripts/packages/JSONRPC/src/typed.jl:67\n",
      " [10] serve_notebook(pipename::String, outputchannel_logger::Base.CoreLogging.SimpleLogger; crashreporting_pipename::String)\n",
      "    @ VSCodeServer ~/.vscode/extensions/julialang.language-julia-1.6.24/scripts/packages/VSCodeServer/src/serve_notebook.jl:136\n",
      " [11] top-level scope\n",
      "    @ ~/.vscode/extensions/julialang.language-julia-1.6.24/scripts/notebook/notebook.jl:32\n",
      " [12] include(mod::Module, _path::String)\n",
      "    @ Base ./Base.jl:418\n",
      " [13] exec_options(opts::Base.JLOptions)\n",
      "    @ Base ./client.jl:292\n",
      " [14] _start()\n",
      "    @ Base ./client.jl:495"
     ]
    }
   ],
   "source": [
    "@init_parallel_stencil(CUDA, Float64, 3);\n",
    "\n",
    "\n",
    "#cutoff set manually to rate\n",
    "@parallel_indices (ix,iy,iz) function relaxationLabellKern(In, rate)\n",
    "    # 7-point Neuman stencil\n",
    "    if (ix>1 && iy>1 && iz>1 &&      ix<(size(In,1))&& iy<(size(In,2)) && iz<(size(In,3)))\n",
    "        In[ix,iy,iz] = ( (In[ix-1,iy  ,iz  ] >rate)+\n",
    "                          (In[ix-1,iy  ,iz  ]>rate)+ (In[ix+1,iy  ,iz  ]>rate) +\n",
    "                          (In[ix  ,iy-1,iz  ]>rate) + (In[ix  ,iy+1,iz  ]>rate) +\n",
    "                          (In[ix  ,iy  ,iz-1]>rate) + (In[ix  ,iy  ,iz+1]>rate) )/7.0\n",
    "\n",
    "     \n",
    "    end\n",
    "    return\n",
    "end\n",
    "\n",
    "@views function relaxLabels(In, iterNumb,rate)\n",
    "    # Calculation\n",
    "    for i in 1:iterNumb\n",
    "        innerRate=rate + ((i/iterNumb)/3)\n",
    "        @parallel relaxationLabellKern(In,innerRate)\n",
    "    end#for    \n",
    "    return\n",
    "end\n",
    "\n",
    "rate=0.05\n",
    "relaxLabels(algoOutputGPU,19,rate)"
   ]
  },
  {
   "cell_type": "code",
   "execution_count": 3,
   "metadata": {},
   "outputs": [
    {
     "ename": "UndefVarError",
     "evalue": "UndefVarError: algoOutput not defined",
     "output_type": "error",
     "traceback": [
      "UndefVarError: algoOutput not defined\n",
      "\n",
      "Stacktrace:\n",
      "  [1] top-level scope\n",
      "    @ ~/projects/MedPipe3DTutorial/MedPipe3DTutorial/src/juliaNotebookTest.ipynb:1\n",
      "  [2] eval\n",
      "    @ ./boot.jl:373 [inlined]\n",
      "  [3] include_string(mapexpr::typeof(REPL.softscope), mod::Module, code::String, filename::String)\n",
      "    @ Base ./loading.jl:1196\n",
      "  [4] #invokelatest#2\n",
      "    @ ./essentials.jl:716 [inlined]\n",
      "  [5] invokelatest\n",
      "    @ ./essentials.jl:714 [inlined]\n",
      "  [6] (::VSCodeServer.var\"#164#165\"{VSCodeServer.NotebookRunCellArguments, String})()\n",
      "    @ VSCodeServer ~/.vscode/extensions/julialang.language-julia-1.6.24/scripts/packages/VSCodeServer/src/serve_notebook.jl:19\n",
      "  [7] withpath(f::VSCodeServer.var\"#164#165\"{VSCodeServer.NotebookRunCellArguments, String}, path::String)\n",
      "    @ VSCodeServer ~/.vscode/extensions/julialang.language-julia-1.6.24/scripts/packages/VSCodeServer/src/repl.jl:184\n",
      "  [8] notebook_runcell_request(conn::VSCodeServer.JSONRPC.JSONRPCEndpoint{Base.PipeEndpoint, Base.PipeEndpoint}, params::VSCodeServer.NotebookRunCellArguments)\n",
      "    @ VSCodeServer ~/.vscode/extensions/julialang.language-julia-1.6.24/scripts/packages/VSCodeServer/src/serve_notebook.jl:13\n",
      "  [9] dispatch_msg(x::VSCodeServer.JSONRPC.JSONRPCEndpoint{Base.PipeEndpoint, Base.PipeEndpoint}, dispatcher::VSCodeServer.JSONRPC.MsgDispatcher, msg::Dict{String, Any})\n",
      "    @ VSCodeServer.JSONRPC ~/.vscode/extensions/julialang.language-julia-1.6.24/scripts/packages/JSONRPC/src/typed.jl:67\n",
      " [10] serve_notebook(pipename::String, outputchannel_logger::Base.CoreLogging.SimpleLogger; crashreporting_pipename::String)\n",
      "    @ VSCodeServer ~/.vscode/extensions/julialang.language-julia-1.6.24/scripts/packages/VSCodeServer/src/serve_notebook.jl:136\n",
      " [11] top-level scope\n",
      "    @ ~/.vscode/extensions/julialang.language-julia-1.6.24/scripts/notebook/notebook.jl:32\n",
      " [12] include(mod::Module, _path::String)\n",
      "    @ Base ./Base.jl:418\n",
      " [13] exec_options(opts::Base.JLOptions)\n",
      "    @ Base ./client.jl:292\n",
      " [14] _start()\n",
      "    @ Base ./client.jl:495"
     ]
    }
   ],
   "source": [
    "copyto!(algoOutput,algoOutputGPU)\n",
    "Int(round(sum(algoOutput)))# just to check is anythink copied  #85162\n",
    "\n"
   ]
  },
  {
   "cell_type": "markdown",
   "metadata": {},
   "source": [
    "##  displaying performance metrics"
   ]
  },
  {
   "cell_type": "markdown",
   "metadata": {},
   "source": [
    "tresholding using CUDA.jl"
   ]
  },
  {
   "cell_type": "code",
   "execution_count": 4,
   "metadata": {},
   "outputs": [
    {
     "ename": "UndefVarError",
     "evalue": "UndefVarError: mainArrSize not defined",
     "output_type": "error",
     "traceback": [
      "UndefVarError: mainArrSize not defined\n",
      "\n",
      "Stacktrace:\n",
      "  [1] top-level scope\n",
      "    @ ~/projects/MedPipe3DTutorial/MedPipe3DTutorial/src/juliaNotebookTest.ipynb:14\n",
      "  [2] eval\n",
      "    @ ./boot.jl:373 [inlined]\n",
      "  [3] include_string(mapexpr::typeof(REPL.softscope), mod::Module, code::String, filename::String)\n",
      "    @ Base ./loading.jl:1196\n",
      "  [4] #invokelatest#2\n",
      "    @ ./essentials.jl:716 [inlined]\n",
      "  [5] invokelatest\n",
      "    @ ./essentials.jl:714 [inlined]\n",
      "  [6] (::VSCodeServer.var\"#164#165\"{VSCodeServer.NotebookRunCellArguments, String})()\n",
      "    @ VSCodeServer ~/.vscode/extensions/julialang.language-julia-1.6.24/scripts/packages/VSCodeServer/src/serve_notebook.jl:19\n",
      "  [7] withpath(f::VSCodeServer.var\"#164#165\"{VSCodeServer.NotebookRunCellArguments, String}, path::String)\n",
      "    @ VSCodeServer ~/.vscode/extensions/julialang.language-julia-1.6.24/scripts/packages/VSCodeServer/src/repl.jl:184\n",
      "  [8] notebook_runcell_request(conn::VSCodeServer.JSONRPC.JSONRPCEndpoint{Base.PipeEndpoint, Base.PipeEndpoint}, params::VSCodeServer.NotebookRunCellArguments)\n",
      "    @ VSCodeServer ~/.vscode/extensions/julialang.language-julia-1.6.24/scripts/packages/VSCodeServer/src/serve_notebook.jl:13\n",
      "  [9] dispatch_msg(x::VSCodeServer.JSONRPC.JSONRPCEndpoint{Base.PipeEndpoint, Base.PipeEndpoint}, dispatcher::VSCodeServer.JSONRPC.MsgDispatcher, msg::Dict{String, Any})\n",
      "    @ VSCodeServer.JSONRPC ~/.vscode/extensions/julialang.language-julia-1.6.24/scripts/packages/JSONRPC/src/typed.jl:67\n",
      " [10] serve_notebook(pipename::String, outputchannel_logger::Base.CoreLogging.SimpleLogger; crashreporting_pipename::String)\n",
      "    @ VSCodeServer ~/.vscode/extensions/julialang.language-julia-1.6.24/scripts/packages/VSCodeServer/src/serve_notebook.jl:136\n",
      " [11] top-level scope\n",
      "    @ ~/.vscode/extensions/julialang.language-julia-1.6.24/scripts/notebook/notebook.jl:32\n",
      " [12] include(mod::Module, _path::String)\n",
      "    @ Base ./Base.jl:418\n",
      " [13] exec_options(opts::Base.JLOptions)\n",
      "    @ Base ./client.jl:292\n",
      " [14] _start()\n",
      "    @ Base ./client.jl:495"
     ]
    }
   ],
   "source": [
    "function tresholdingKernel(mainArrSize,output)\n",
    "  \n",
    "    x= (threadIdx().x+ ((blockIdx().x -1)*CUDA.blockDim_x()))\n",
    "    y= (threadIdx().y+ ((blockIdx().y -1)*CUDA.blockDim_y()))\n",
    "    z= (threadIdx().z+ ((blockIdx().z -1)*CUDA.blockDim_z()))\n",
    "    if(x>0 && x<=mainArrSize[1] && y>0 && y<=mainArrSize[2] &&z>0 && z<=mainArrSize[3] )\n",
    "        output[x,y,z]=  (output[x,y,z]>0.5)\n",
    "    end  \n",
    "return\n",
    "end#main kernel\n",
    "\n",
    "# for simplicity not using the occupancy API - in production one rather should\n",
    "threads=(8,8,8)\n",
    "blocks = (cld(mainArrSize[1],threads[1]), cld(mainArrSize[2],threads[2])  , cld(mainArrSize[3],threads[3]))\n",
    "@cuda threads=threads blocks=blocks tresholdingKernel(mainArrSize,algoOutputGPU)"
   ]
  },
  {
   "cell_type": "code",
   "execution_count": 5,
   "metadata": {},
   "outputs": [
    {
     "ename": "UndefVarError",
     "evalue": "UndefVarError: ConfigurtationStruct not defined",
     "output_type": "error",
     "traceback": [
      "UndefVarError: ConfigurtationStruct not defined\n",
      "\n",
      "Stacktrace:\n",
      "  [1] top-level scope\n",
      "    @ ~/projects/MedPipe3DTutorial/MedPipe3DTutorial/src/juliaNotebookTest.ipynb:1\n",
      "  [2] eval\n",
      "    @ ./boot.jl:373 [inlined]\n",
      "  [3] include_string(mapexpr::typeof(REPL.softscope), mod::Module, code::String, filename::String)\n",
      "    @ Base ./loading.jl:1196\n",
      "  [4] #invokelatest#2\n",
      "    @ ./essentials.jl:716 [inlined]\n",
      "  [5] invokelatest\n",
      "    @ ./essentials.jl:714 [inlined]\n",
      "  [6] (::VSCodeServer.var\"#164#165\"{VSCodeServer.NotebookRunCellArguments, String})()\n",
      "    @ VSCodeServer ~/.vscode/extensions/julialang.language-julia-1.6.24/scripts/packages/VSCodeServer/src/serve_notebook.jl:19\n",
      "  [7] withpath(f::VSCodeServer.var\"#164#165\"{VSCodeServer.NotebookRunCellArguments, String}, path::String)\n",
      "    @ VSCodeServer ~/.vscode/extensions/julialang.language-julia-1.6.24/scripts/packages/VSCodeServer/src/repl.jl:184\n",
      "  [8] notebook_runcell_request(conn::VSCodeServer.JSONRPC.JSONRPCEndpoint{Base.PipeEndpoint, Base.PipeEndpoint}, params::VSCodeServer.NotebookRunCellArguments)\n",
      "    @ VSCodeServer ~/.vscode/extensions/julialang.language-julia-1.6.24/scripts/packages/VSCodeServer/src/serve_notebook.jl:13\n",
      "  [9] dispatch_msg(x::VSCodeServer.JSONRPC.JSONRPCEndpoint{Base.PipeEndpoint, Base.PipeEndpoint}, dispatcher::VSCodeServer.JSONRPC.MsgDispatcher, msg::Dict{String, Any})\n",
      "    @ VSCodeServer.JSONRPC ~/.vscode/extensions/julialang.language-julia-1.6.24/scripts/packages/JSONRPC/src/typed.jl:67\n",
      " [10] serve_notebook(pipename::String, outputchannel_logger::Base.CoreLogging.SimpleLogger; crashreporting_pipename::String)\n",
      "    @ VSCodeServer ~/.vscode/extensions/julialang.language-julia-1.6.24/scripts/packages/VSCodeServer/src/serve_notebook.jl:136\n",
      " [11] top-level scope\n",
      "    @ ~/.vscode/extensions/julialang.language-julia-1.6.24/scripts/notebook/notebook.jl:32\n",
      " [12] include(mod::Module, _path::String)\n",
      "    @ Base ./Base.jl:418\n",
      " [13] exec_options(opts::Base.JLOptions)\n",
      "    @ Base ./client.jl:292\n",
      " [14] _start()\n",
      "    @ Base ./client.jl:495"
     ]
    }
   ],
   "source": [
    "conf= ConfigurtationStruct(md=true, dice=true)\n",
    "numberToLookFor = 1.0\n",
    "liverGold= getArrByName(\"labelSet\" ,mainScrollDat)\n",
    "preparedDict=MedEval3D.MainAbstractions.prepareMetrics(conf)\n",
    "calculateAndDisplay(preparedDict,mainScrollDat, conf, numberToLookFor,CuArray(liverGold),algoOutputGPU )\n",
    "saveManualModif(fid,patienGroupName , mainScrollDat)"
   ]
  },
  {
   "cell_type": "code",
   "execution_count": 6,
   "metadata": {},
   "outputs": [
    {
     "ename": "UndefVarError",
     "evalue": "UndefVarError: fid not defined",
     "output_type": "error",
     "traceback": [
      "UndefVarError: fid not defined\n",
      "\n",
      "Stacktrace:\n",
      "  [1] top-level scope\n",
      "    @ ~/projects/MedPipe3DTutorial/MedPipe3DTutorial/src/juliaNotebookTest.ipynb:1\n",
      "  [2] eval\n",
      "    @ ./boot.jl:373 [inlined]\n",
      "  [3] include_string(mapexpr::typeof(REPL.softscope), mod::Module, code::String, filename::String)\n",
      "    @ Base ./loading.jl:1196\n",
      "  [4] #invokelatest#2\n",
      "    @ ./essentials.jl:716 [inlined]\n",
      "  [5] invokelatest\n",
      "    @ ./essentials.jl:714 [inlined]\n",
      "  [6] (::VSCodeServer.var\"#164#165\"{VSCodeServer.NotebookRunCellArguments, String})()\n",
      "    @ VSCodeServer ~/.vscode/extensions/julialang.language-julia-1.6.24/scripts/packages/VSCodeServer/src/serve_notebook.jl:19\n",
      "  [7] withpath(f::VSCodeServer.var\"#164#165\"{VSCodeServer.NotebookRunCellArguments, String}, path::String)\n",
      "    @ VSCodeServer ~/.vscode/extensions/julialang.language-julia-1.6.24/scripts/packages/VSCodeServer/src/repl.jl:184\n",
      "  [8] notebook_runcell_request(conn::VSCodeServer.JSONRPC.JSONRPCEndpoint{Base.PipeEndpoint, Base.PipeEndpoint}, params::VSCodeServer.NotebookRunCellArguments)\n",
      "    @ VSCodeServer ~/.vscode/extensions/julialang.language-julia-1.6.24/scripts/packages/VSCodeServer/src/serve_notebook.jl:13\n",
      "  [9] dispatch_msg(x::VSCodeServer.JSONRPC.JSONRPCEndpoint{Base.PipeEndpoint, Base.PipeEndpoint}, dispatcher::VSCodeServer.JSONRPC.MsgDispatcher, msg::Dict{String, Any})\n",
      "    @ VSCodeServer.JSONRPC ~/.vscode/extensions/julialang.language-julia-1.6.24/scripts/packages/JSONRPC/src/typed.jl:67\n",
      " [10] serve_notebook(pipename::String, outputchannel_logger::Base.CoreLogging.SimpleLogger; crashreporting_pipename::String)\n",
      "    @ VSCodeServer ~/.vscode/extensions/julialang.language-julia-1.6.24/scripts/packages/VSCodeServer/src/serve_notebook.jl:136\n",
      " [11] top-level scope\n",
      "    @ ~/.vscode/extensions/julialang.language-julia-1.6.24/scripts/notebook/notebook.jl:32\n",
      " [12] include(mod::Module, _path::String)\n",
      "    @ Base ./Base.jl:418\n",
      " [13] exec_options(opts::Base.JLOptions)\n",
      "    @ Base ./client.jl:292\n",
      " [14] _start()\n",
      "    @ Base ./client.jl:495"
     ]
    }
   ],
   "source": [
    "close(fid)"
   ]
  }
 ],
 "metadata": {
  "kernelspec": {
   "display_name": "Julia 1.7.3",
   "language": "julia",
   "name": "julia-1.7"
  },
  "language_info": {
   "file_extension": ".jl",
   "mimetype": "application/julia",
   "name": "julia",
   "version": "1.7.3"
  },
  "orig_nbformat": 4
 },
 "nbformat": 4,
 "nbformat_minor": 2
}
