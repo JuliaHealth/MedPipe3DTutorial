{
 "cells": [
  {
   "cell_type": "code",
   "execution_count": 1,
   "metadata": {},
   "outputs": [
    {
     "name": "stderr",
     "output_type": "stream",
     "text": [
      "\u001b[32m\u001b[1m    Updating\u001b[22m\u001b[39m git-repo `https://github.com/jakubMitura14/MedPipe3D.jl.git`"
     ]
    },
    {
     "name": "stderr",
     "output_type": "stream",
     "text": [
      "\n",
      "\u001b[32m\u001b[1m    Updating\u001b[22m\u001b[39m registry at `C:\\Users\\jakub\\.julia\\registries\\General.toml`\n"
     ]
    },
    {
     "name": "stderr",
     "output_type": "stream",
     "text": [
      "\u001b[32m\u001b[1m   Resolving\u001b[22m\u001b[39m package versions..."
     ]
    },
    {
     "name": "stderr",
     "output_type": "stream",
     "text": [
      "\n"
     ]
    },
    {
     "name": "stderr",
     "output_type": "stream",
     "text": [
      "\u001b[32m\u001b[1m  No Changes\u001b[22m\u001b[39m to `C:\\Users\\jakub\\.julia\\environments\\v1.7\\Project.toml`\n",
      "\u001b[32m\u001b[1m  No Changes\u001b[22m\u001b[39m to `C:\\Users\\jakub\\.julia\\environments\\v1.7\\Manifest.toml`\n"
     ]
    }
   ],
   "source": [
    "using Pkg\n",
    "Pkg.add(url=\"https://github.com/jakubMitura14/MedPipe3D.jl.git\")\n",
    "import BSON,MedPipe3D\n",
    "using BSON: @save\n",
    "using BSON: @load\n",
    "using MedEye3d\n",
    "using Distributions\n",
    "using Clustering\n",
    "using IrrationalConstants\n",
    "using ParallelStencil\n",
    "using MedPipe3D.LoadFromMonai, MedPipe3D.HDF5saveUtils,MedPipe3D.visualizationFromHdf5, MedPipe3D.distinctColorsSaved\n",
    "using CUDA\n",
    "using HDF5,Colors\n",
    "using ParallelStencil\n",
    "using ParallelStencil.FiniteDifferences3D\n",
    "using MedEval3D\n",
    "using MedEval3D.BasicStructs\n",
    "using MedEval3D.MainAbstractions\n",
    "using MedEval3D\n",
    "using MedEval3D.BasicStructs\n",
    "using MedEval3D.MainAbstractions\n",
    "using Hyperopt,Plots\n",
    "using MedPipe3D.LoadFromMonai\n",
    "#]add ProgressMeter StaticArrays BSON Distributed Flux Hyperopt Plots MedEye3d Distributions Clustering IrrationalConstants ParallelStencil CUDA HDF5 MedEval3D MedPipe3D Colors\n",
    "CUDA.allowscalar(true)"
   ]
  },
  {
   "cell_type": "markdown",
   "metadata": {},
   "source": [
    "Some usefull constants"
   ]
  },
  {
   "cell_type": "code",
   "execution_count": 2,
   "metadata": {},
   "outputs": [
    {
     "data": {
      "text/plain": [
       "true"
      ]
     },
     "metadata": {},
     "output_type": "display_data"
    }
   ],
   "source": [
    "\n",
    "#directory where we want to store our HDF5 that we will use\n",
    "pathToHDF5=\"D:\\\\projects\\\\dockerForJulia\\\\spleenData\\\\smallDataSet.hdf5\"\n",
    "# data downloaded from http://medicaldecathlon.com/   (task 9 spleen)\n",
    "#directory of folder with files in this directory all of the image files should be in subfolder volumes 0-49 and labels labels if one ill use lines below\n",
    "fid = h5open(pathToHDF5, \"w\")\n",
    "#representing number that is the patient id in this dataset\n",
    "patientNum = 1#6\n",
    "patienGroupName=string(patientNum)\n",
    "z=8# how big is the area from which we collect data to construct probability distributions\n",
    "klusterNumb = 5# number of clusters - number of probability distributions we will use\n",
    "#******************for display\n",
    "#just needed so we will not have 2 same colors for two diffrent informations\n",
    "listOfColorUsed= falses(18)\n",
    "const USE_GPU = true\n"
   ]
  },
  {
   "cell_type": "markdown",
   "metadata": {},
   "source": [
    "Below we define path to the example files"
   ]
  },
  {
   "cell_type": "code",
   "execution_count": 3,
   "metadata": {},
   "outputs": [
    {
     "data": {
      "text/plain": [
       "360×360×375 Array{Float32, 3}:\n",
       "[:, :, 1] =\n",
       " -3024.0  -3024.0  -3024.0  -3024.0  …  -3024.0  -3024.0  -3024.0  -3024.0\n",
       " -3024.0  -3024.0  -3024.0  -3024.0     -3024.0  -3024.0  -3024.0  -3024.0\n",
       " -3024.0  -3024.0  -3024.0  -3024.0     -3024.0  -3024.0  -3024.0  -3024.0\n",
       " -3024.0  -3024.0  -3024.0  -3024.0     -3024.0  -3024.0  -3024.0  -3024.0\n",
       " -3024.0  -3024.0  -3024.0  -3024.0     -3024.0  -3024.0  -3024.0  -3024.0\n",
       " -3024.0  -3024.0  -3024.0  -3024.0  …  -3024.0  -3024.0  -3024.0  -3024.0\n",
       " -3024.0  -3024.0  -3024.0  -3024.0     -3024.0  -3024.0  -3024.0  -3024.0\n",
       " -3024.0  -3024.0  -3024.0  -3024.0     -3024.0  -3024.0  -3024.0  -3024.0\n",
       " -3024.0  -3024.0  -3024.0  -3024.0     -3024.0  -3024.0  -3024.0  -3024.0\n",
       " -3024.0  -3024.0  -3024.0  -3024.0     -3024.0  -3024.0  -3024.0  -3024.0\n",
       "     ⋮                               ⋱                             \n",
       " -3024.0  -3024.0  -3024.0  -3024.0     -3024.0  -3024.0  -3024.0  -3024.0\n",
       " -3024.0  -3024.0  -3024.0  -3024.0     -3024.0  -3024.0  -3024.0  -3024.0\n",
       " -3024.0  -3024.0  -3024.0  -3024.0     -3024.0  -3024.0  -3024.0  -3024.0\n",
       " -3024.0  -3024.0  -3024.0  -3024.0     -3024.0  -3024.0  -3024.0  -3024.0\n",
       " -3024.0  -3024.0  -3024.0  -3024.0  …  -3024.0  -3024.0  -3024.0  -3024.0\n",
       " -3024.0  -3024.0  -3024.0  -3024.0     -3024.0  -3024.0  -3024.0  -3024.0\n",
       " -3024.0  -3024.0  -3024.0  -3024.0     -3024.0  -3024.0  -3024.0  -3024.0\n",
       " -3024.0  -3024.0  -3024.0  -3024.0     -3024.0  -3024.0  -3024.0  -3024.0\n",
       " -3024.0  -3024.0  -3024.0  -3024.0     -3024.0  -3024.0  -3024.0  -3024.0\n",
       "\n",
       "[:, :, 2] =\n",
       " -3024.0  -3024.0  -3024.0  -3024.0  …  -3024.0  -3024.0  -3024.0  -3024.0\n",
       " -3024.0  -3024.0  -3024.0  -3024.0     -3024.0  -3024.0  -3024.0  -3024.0\n",
       " -3024.0  -3024.0  -3024.0  -3024.0     -3024.0  -3024.0  -3024.0  -3024.0\n",
       " -3024.0  -3024.0  -3024.0  -3024.0     -3024.0  -3024.0  -3024.0  -3024.0\n",
       " -3024.0  -3024.0  -3024.0  -3024.0     -3024.0  -3024.0  -3024.0  -3024.0\n",
       " -3024.0  -3024.0  -3024.0  -3024.0  …  -3024.0  -3024.0  -3024.0  -3024.0\n",
       " -3024.0  -3024.0  -3024.0  -3024.0     -3024.0  -3024.0  -3024.0  -3024.0\n",
       " -3024.0  -3024.0  -3024.0  -3024.0     -3024.0  -3024.0  -3024.0  -3024.0\n",
       " -3024.0  -3024.0  -3024.0  -3024.0     -3024.0  -3024.0  -3024.0  -3024.0\n",
       " -3024.0  -3024.0  -3024.0  -3024.0     -3024.0  -3024.0  -3024.0  -3024.0\n",
       "     ⋮                               ⋱                             \n",
       " -3024.0  -3024.0  -3024.0  -3024.0     -3024.0  -3024.0  -3024.0  -3024.0\n",
       " -3024.0  -3024.0  -3024.0  -3024.0     -3024.0  -3024.0  -3024.0  -3024.0\n",
       " -3024.0  -3024.0  -3024.0  -3024.0     -3024.0  -3024.0  -3024.0  -3024.0\n",
       " -3024.0  -3024.0  -3024.0  -3024.0     -3024.0  -3024.0  -3024.0  -3024.0\n",
       " -3024.0  -3024.0  -3024.0  -3024.0  …  -3024.0  -3024.0  -3024.0  -3024.0\n",
       " -3024.0  -3024.0  -3024.0  -3024.0     -3024.0  -3024.0  -3024.0  -3024.0\n",
       " -3024.0  -3024.0  -3024.0  -3024.0     -3024.0  -3024.0  -3024.0  -3024.0\n",
       " -3024.0  -3024.0  -3024.0  -3024.0     -3024.0  -3024.0  -3024.0  -3024.0\n",
       " -3024.0  -3024.0  -3024.0  -3024.0     -3024.0  -3024.0  -3024.0  -3024.0\n",
       "\n",
       "[:, :, 3] =\n",
       " -3024.0  -3024.0  -3024.0  -3024.0  …  -3024.0  -3024.0  -3024.0  -3024.0\n",
       " -3024.0  -3024.0  -3024.0  -3024.0     -3024.0  -3024.0  -3024.0  -3024.0\n",
       " -3024.0  -3024.0  -3024.0  -3024.0     -3024.0  -3024.0  -3024.0  -3024.0\n",
       " -3024.0  -3024.0  -3024.0  -3024.0     -3024.0  -3024.0  -3024.0  -3024.0\n",
       " -3024.0  -3024.0  -3024.0  -3024.0     -3024.0  -3024.0  -3024.0  -3024.0\n",
       " -3024.0  -3024.0  -3024.0  -3024.0  …  -3024.0  -3024.0  -3024.0  -3024.0\n",
       " -3024.0  -3024.0  -3024.0  -3024.0     -3024.0  -3024.0  -3024.0  -3024.0\n",
       " -3024.0  -3024.0  -3024.0  -3024.0     -3024.0  -3024.0  -3024.0  -3024.0\n",
       " -3024.0  -3024.0  -3024.0  -3024.0     -3024.0  -3024.0  -3024.0  -3024.0\n",
       " -3024.0  -3024.0  -3024.0  -3024.0     -3024.0  -3024.0  -3024.0  -3024.0\n",
       "     ⋮                               ⋱                             \n",
       " -3024.0  -3024.0  -3024.0  -3024.0     -3024.0  -3024.0  -3024.0  -3024.0\n",
       " -3024.0  -3024.0  -3024.0  -3024.0     -3024.0  -3024.0  -3024.0  -3024.0\n",
       " -3024.0  -3024.0  -3024.0  -3024.0     -3024.0  -3024.0  -3024.0  -3024.0\n",
       " -3024.0  -3024.0  -3024.0  -3024.0     -3024.0  -3024.0  -3024.0  -3024.0\n",
       " -3024.0  -3024.0  -3024.0  -3024.0  …  -3024.0  -3024.0  -3024.0  -3024.0\n",
       " -3024.0  -3024.0  -3024.0  -3024.0     -3024.0  -3024.0  -3024.0  -3024.0\n",
       " -3024.0  -3024.0  -3024.0  -3024.0     -3024.0  -3024.0  -3024.0  -3024.0\n",
       " -3024.0  -3024.0  -3024.0  -3024.0     -3024.0  -3024.0  -3024.0  -3024.0\n",
       " -3024.0  -3024.0  -3024.0  -3024.0     -3024.0  -3024.0  -3024.0  -3024.0\n",
       "\n",
       ";;; … \n",
       "\n",
       "[:, :, 373] =\n",
       " -3024.0  -3024.0  -3024.0  -3024.0  …  -3024.0  -3024.0  -3024.0  -3024.0\n",
       " -3024.0  -3024.0  -3024.0  -3024.0     -3024.0  -3024.0  -3024.0  -3024.0\n",
       " -3024.0  -3024.0  -3024.0  -3024.0     -3024.0  -3024.0  -3024.0  -3024.0\n",
       " -3024.0  -3024.0  -3024.0  -3024.0     -3024.0  -3024.0  -3024.0  -3024.0\n",
       " -3024.0  -3024.0  -3024.0  -3024.0     -3024.0  -3024.0  -3024.0  -3024.0\n",
       " -3024.0  -3024.0  -3024.0  -3024.0  …  -3024.0  -3024.0  -3024.0  -3024.0\n",
       " -3024.0  -3024.0  -3024.0  -3024.0     -3024.0  -3024.0  -3024.0  -3024.0\n",
       " -3024.0  -3024.0  -3024.0  -3024.0     -3024.0  -3024.0  -3024.0  -3024.0\n",
       " -3024.0  -3024.0  -3024.0  -3024.0     -3024.0  -3024.0  -3024.0  -3024.0\n",
       " -3024.0  -3024.0  -3024.0  -3024.0     -3024.0  -3024.0  -3024.0  -3024.0\n",
       "     ⋮                               ⋱                             \n",
       " -3024.0  -3024.0  -3024.0  -3024.0     -3024.0  -3024.0  -3024.0  -3024.0\n",
       " -3024.0  -3024.0  -3024.0  -3024.0     -3024.0  -3024.0  -3024.0  -3024.0\n",
       " -3024.0  -3024.0  -3024.0  -3024.0     -3024.0  -3024.0  -3024.0  -3024.0\n",
       " -3024.0  -3024.0  -3024.0  -3024.0     -3024.0  -3024.0  -3024.0  -3024.0\n",
       " -3024.0  -3024.0  -3024.0  -3024.0  …  -3024.0  -3024.0  -3024.0  -3024.0\n",
       " -3024.0  -3024.0  -3024.0  -3024.0     -3024.0  -3024.0  -3024.0  -3024.0\n",
       " -3024.0  -3024.0  -3024.0  -3024.0     -3024.0  -3024.0  -3024.0  -3024.0\n",
       " -3024.0  -3024.0  -3024.0  -3024.0     -3024.0  -3024.0  -3024.0  -3024.0\n",
       " -3024.0  -3024.0  -3024.0  -3024.0     -3024.0  -3024.0  -3024.0  -3024.0\n",
       "\n",
       "[:, :, 374] =\n",
       " 8.0  8.0  8.0  8.0  8.0  8.0  8.0  8.0  …  8.0  8.0  8.0  8.0  8.0  8.0  8.0\n",
       " 8.0  8.0  8.0  8.0  8.0  8.0  8.0  8.0     8.0  8.0  8.0  8.0  8.0  8.0  8.0\n",
       " 8.0  8.0  8.0  8.0  8.0  8.0  8.0  8.0     8.0  8.0  8.0  8.0  8.0  8.0  8.0\n",
       " 8.0  8.0  8.0  8.0  8.0  8.0  8.0  8.0     8.0  8.0  8.0  8.0  8.0  8.0  8.0\n",
       " 8.0  8.0  8.0  8.0  8.0  8.0  8.0  8.0     8.0  8.0  8.0  8.0  8.0  8.0  8.0\n",
       " 8.0  8.0  8.0  8.0  8.0  8.0  8.0  8.0  …  8.0  8.0  8.0  8.0  8.0  8.0  8.0\n",
       " 8.0  8.0  8.0  8.0  8.0  8.0  8.0  8.0     8.0  8.0  8.0  8.0  8.0  8.0  8.0\n",
       " 8.0  8.0  8.0  8.0  8.0  8.0  8.0  8.0     8.0  8.0  8.0  8.0  8.0  8.0  8.0\n",
       " 8.0  8.0  8.0  8.0  8.0  8.0  8.0  8.0     8.0  8.0  8.0  8.0  8.0  8.0  8.0\n",
       " 8.0  8.0  8.0  8.0  8.0  8.0  8.0  8.0     8.0  8.0  8.0  8.0  8.0  8.0  8.0\n",
       " ⋮                        ⋮              ⋱            ⋮                   \n",
       " 8.0  8.0  8.0  8.0  8.0  8.0  8.0  8.0     8.0  8.0  8.0  8.0  8.0  8.0  8.0\n",
       " 8.0  8.0  8.0  8.0  8.0  8.0  8.0  8.0     8.0  8.0  8.0  8.0  8.0  8.0  8.0\n",
       " 8.0  8.0  8.0  8.0  8.0  8.0  8.0  8.0     8.0  8.0  8.0  8.0  8.0  8.0  8.0\n",
       " 8.0  8.0  8.0  8.0  8.0  8.0  8.0  8.0     8.0  8.0  8.0  8.0  8.0  8.0  8.0\n",
       " 8.0  8.0  8.0  8.0  8.0  8.0  8.0  8.0  …  8.0  8.0  8.0  8.0  8.0  8.0  8.0\n",
       " 8.0  8.0  8.0  8.0  8.0  8.0  8.0  8.0     8.0  8.0  8.0  8.0  8.0  8.0  8.0\n",
       " 8.0  8.0  8.0  8.0  8.0  8.0  8.0  8.0     8.0  8.0  8.0  8.0  8.0  8.0  8.0\n",
       " 8.0  8.0  8.0  8.0  8.0  8.0  8.0  8.0     8.0  8.0  8.0  8.0  8.0  8.0  8.0\n",
       " 8.0  8.0  8.0  8.0  8.0  8.0  8.0  8.0     8.0  8.0  8.0  8.0  8.0  8.0  8.0\n",
       "\n",
       "[:, :, 375] =\n",
       " 8.0  8.0  8.0  8.0  8.0  8.0  8.0  8.0  …  8.0  8.0  8.0  8.0  8.0  8.0  8.0\n",
       " 8.0  8.0  8.0  8.0  8.0  8.0  8.0  8.0     8.0  8.0  8.0  8.0  8.0  8.0  8.0\n",
       " 8.0  8.0  8.0  8.0  8.0  8.0  8.0  8.0     8.0  8.0  8.0  8.0  8.0  8.0  8.0\n",
       " 8.0  8.0  8.0  8.0  8.0  8.0  8.0  8.0     8.0  8.0  8.0  8.0  8.0  8.0  8.0\n",
       " 8.0  8.0  8.0  8.0  8.0  8.0  8.0  8.0     8.0  8.0  8.0  8.0  8.0  8.0  8.0\n",
       " 8.0  8.0  8.0  8.0  8.0  8.0  8.0  8.0  …  8.0  8.0  8.0  8.0  8.0  8.0  8.0\n",
       " 8.0  8.0  8.0  8.0  8.0  8.0  8.0  8.0     8.0  8.0  8.0  8.0  8.0  8.0  8.0\n",
       " 8.0  8.0  8.0  8.0  8.0  8.0  8.0  8.0     8.0  8.0  8.0  8.0  8.0  8.0  8.0\n",
       " 8.0  8.0  8.0  8.0  8.0  8.0  8.0  8.0     8.0  8.0  8.0  8.0  8.0  8.0  8.0\n",
       " 8.0  8.0  8.0  8.0  8.0  8.0  8.0  8.0     8.0  8.0  8.0  8.0  8.0  8.0  8.0\n",
       " ⋮                        ⋮              ⋱            ⋮                   \n",
       " 8.0  8.0  8.0  8.0  8.0  8.0  8.0  8.0     8.0  8.0  8.0  8.0  8.0  8.0  8.0\n",
       " 8.0  8.0  8.0  8.0  8.0  8.0  8.0  8.0     8.0  8.0  8.0  8.0  8.0  8.0  8.0\n",
       " 8.0  8.0  8.0  8.0  8.0  8.0  8.0  8.0     8.0  8.0  8.0  8.0  8.0  8.0  8.0\n",
       " 8.0  8.0  8.0  8.0  8.0  8.0  8.0  8.0     8.0  8.0  8.0  8.0  8.0  8.0  8.0\n",
       " 8.0  8.0  8.0  8.0  8.0  8.0  8.0  8.0  …  8.0  8.0  8.0  8.0  8.0  8.0  8.0\n",
       " 8.0  8.0  8.0  8.0  8.0  8.0  8.0  8.0     8.0  8.0  8.0  8.0  8.0  8.0  8.0\n",
       " 8.0  8.0  8.0  8.0  8.0  8.0  8.0  8.0     8.0  8.0  8.0  8.0  8.0  8.0  8.0\n",
       " 8.0  8.0  8.0  8.0  8.0  8.0  8.0  8.0     8.0  8.0  8.0  8.0  8.0  8.0  8.0\n",
       " 8.0  8.0  8.0  8.0  8.0  8.0  8.0  8.0     8.0  8.0  8.0  8.0  8.0  8.0  8.0"
      ]
     },
     "metadata": {},
     "output_type": "display_data"
    }
   ],
   "source": [
    "#for spleen dataset https://drive.google.com/drive/folders/1HqEgzS8BV2c7xYNrZdEAnrHk7osJJ--2- task 9 spleen\n",
    "# data_dir = \"D:\\\\projects\\\\dockerForJulia\\\\spleenData\\\\Task09_Spleen\\\\Task09_Spleen\\\\Task09_Spleen\"\n",
    "# train_labels = map(fileEntry-> joinpath(data_dir,\"labelsTr\",fileEntry),readdir(joinpath(data_dir,\"labelsTr\"); sort=true))\n",
    "# train_images = map(fileEntry-> joinpath(data_dir,\"imagesTr\",fileEntry),readdir(joinpath(data_dir,\"imagesTr\"); sort=true))\n",
    "#for ct org dataset\n",
    "data_dir = \"D:\\\\forJuliaData\\\\CT_ORG\"\n",
    "train_labels = map(fileEntry-> joinpath(data_dir,\"labels\",fileEntry),readdir(joinpath(data_dir,\"labels\"); sort=true))\n",
    "train_images = map(fileEntry-> joinpath(data_dir,\"volumes\",fileEntry),readdir(joinpath(data_dir,\"volumes\"); sort=true))\n",
    "\n",
    "#zipping so we will have tuples with image and label names\n",
    "zipped= collect(zip(train_images,train_labels))\n",
    "# the paths are for some reasons reading incorrectly\n",
    "#zipped=map(tupl -> (replace(tupl[1], \"._\" => \"\"), replace(tupl[2], \"._\" => \"\")),zipped)\n",
    "\n",
    "tupl=zipped[patientNum]\n",
    "#proper loading using some utility function\n",
    "targetSpacing=(1,1,1)\n",
    "\n",
    "loaded = LoadFromMonai.loadBySitkromImageAndLabelPaths(tupl[1],tupl[2],targetSpacing)\n",
    "\n",
    "#CTORG\n",
    "#for this particular example we are intrested only in liver so we will keep only this label\n",
    "labelArr=map(entry-> UInt32(entry==1),loaded[2])\n",
    "imageArr=Float32.(loaded[1])\n",
    "\n",
    "# #spleen\n",
    "# labelArr=map(entry-> UInt32(entry),loaded[2])\n",
    "# imageArr=loaded[2]\n",
    "\n"
   ]
  },
  {
   "cell_type": "markdown",
   "metadata": {},
   "source": [
    "Managing HDF5 database"
   ]
  },
  {
   "cell_type": "code",
   "execution_count": 4,
   "metadata": {},
   "outputs": [],
   "source": [
    "#!!!!!!!!!! important if you are just creating the hdf5 file  do it with \"w\" option otherwise do it with \"r+\"\n",
    "#fid = h5open(pathToHDF5, \"r+\") \n",
    "gr= getGroupOrCreate(fid, patienGroupName)\n",
    "\n",
    "#we save loaded and trnsformed data into HDF5 to avoid doing preprocessing every time\n",
    "saveMaskBeforeVisualization(fid,patienGroupName,imageArr,\"image\", \"CT\" )\n",
    "saveMaskBeforeVisualization(fid,patienGroupName,labelArr,\"labelSet\", \"boolLabel\" )\n",
    "\n",
    "# here we did default transformations so voxel dimension is set to 1,1,1 in any other case one need to set spacing attribute manually to proper value\n",
    "# spacing can be found in metadata dictionary that is third entry in loadByMonaiFromImageAndLabelPaths output\n",
    "# here metadata = loaded[3]\n",
    "writeGroupAttribute(fid,patienGroupName, \"spacing\", [1,1,1])"
   ]
  },
  {
   "cell_type": "markdown",
   "metadata": {},
   "source": [
    "Simple Display Configuration automatically we choose the colors to be some contrassting ones"
   ]
  },
  {
   "cell_type": "code",
   "execution_count": 5,
   "metadata": {},
   "outputs": [
    {
     "data": {
      "text/plain": [
       "MedEye3d.ForDisplayStructs.TextureSpec{Float32}\n",
       "  name: String \"algoOutput\"\n",
       "  numb: Int32 -1\n",
       "  whichCreated: Int32 -1\n",
       "  isMainImage: Bool false\n",
       "  isNuclearMask: Bool false\n",
       "  isContinuusMask: Bool true\n",
       "  color: RGB{Float64}\n",
       "  colorSet: Array{RGB}((2,))\n",
       "  strokeWidth: Int32 3\n",
       "  isEditable: Bool false\n",
       "  GL_Rtype: UInt32 0x00000000\n",
       "  OpGlType: UInt32 0x00000000\n",
       "  actTextrureNumb: UInt32 0x00000000\n",
       "  associatedActiveNumer: Int64 0\n",
       "  ID: Base.RefValue{UInt32}\n",
       "  isVisible: Bool true\n",
       "  uniforms: MedEye3d.ForDisplayStructs.MaskTextureUniforms\n",
       "  minAndMaxValue: Array{Float32}((2,)) Float32[0.0, 1.0]\n",
       "  maskContribution: Float32 1.0f0\n"
      ]
     },
     "metadata": {},
     "output_type": "display_data"
    }
   ],
   "source": [
    "\n",
    "##below we define additional arrays that are not present in original data but will be needed for annotations and storing algorithm output \n",
    "\n",
    "#manual Modification array\n",
    "manualModif = MedEye3d.ForDisplayStructs.TextureSpec{UInt32}(# choosing number type manually to reduce memory usage\n",
    "    name = \"manualModif\",\n",
    "    color = getSomeColor(listOfColorUsed)# automatically choosing some contrasting color\n",
    "    ,minAndMaxValue= UInt32.([0,1]) #important to keep the same number type as chosen at the bagining\n",
    "    ,isEditable = true ) # we will be able to manually modify this array in a viewer\n",
    "\n",
    "algoVisualization = MedEye3d.ForDisplayStructs.TextureSpec{Float32}(\n",
    "    name = \"algoOutput\",\n",
    "    # we point out that we will supply multiple colors\n",
    "    isContinuusMask=true,\n",
    "    colorSet = [getSomeColor(listOfColorUsed),getSomeColor(listOfColorUsed)]\n",
    "    ,minAndMaxValue= Float32.([0,1])# values between 0 and 1 as this represent probabilities\n",
    "   )\n",
    "\n",
    "    addTextSpecs=Vector{MedEye3d.ForDisplayStructs.TextureSpec}(undef,2)\n",
    "    addTextSpecs[1]=manualModif\n",
    "    addTextSpecs[2]=algoVisualization\n",
    "\n"
   ]
  },
  {
   "cell_type": "markdown",
   "metadata": {},
   "source": [
    "Command to Display"
   ]
  },
  {
   "cell_type": "code",
   "execution_count": 6,
   "metadata": {},
   "outputs": [
    {
     "name": "stdout",
     "output_type": "stream",
     "text": [
      "increase number of available threads look into https://docs.julialang.org/en/v1/manual/multi-threading/  or modify for example in vs code extension\n"
     ]
    },
    {
     "name": "stdout",
     "output_type": "stream",
     "text": [
      "Dict{Symbol, Any}("
     ]
    },
    {
     "name": "stdout",
     "output_type": "stream",
     "text": [
      ":gl_version => v\"4.6.0\", :gl_renderer => \"NVIDIA GeForce RTX 3080/PCIe/SSE2\", :glsl_version => v\"4.60.0\", :gl_vendor => \"NVIDIA Corporation\")\n",
      "Dict{Symbol, Any}(:gl_version => v\"4.6.0\", :gl_renderer => \"NVIDIA GeForce RTX 3080/PCIe/SSE2\", :glsl_version => v\"4.60.0\", :gl_vendor => \"NVIDIA Corporation\")\n"
     ]
    },
    {
     "data": {
      "text/plain": [
       "MedEye3d.DataStructs.FullScrollableDat\n",
       "  dataToScrollDims: MedEye3d.DataStructs.DataToScrollDims\n",
       "  dimensionToScroll: Int64 3\n",
       "  dataToScroll: Array{MedEye3d.DataStructs.ThreeDimRawDat}((4,))\n",
       "  mainTextToDisp: Array{MedEye3d.DataStructs.SimpleLineTextStruct}((1,))\n",
       "  sliceTextToDisp: Array{Vector{MedEye3d.DataStructs.SimpleLineTextStruct}}((375,))\n",
       "  segmMetr: MedEye3d.BasicStructs.ResultMetrics\n",
       "  segmMetrs: Array{MedEye3d.BasicStructs.ResultMetrics}((0,))\n",
       "  nameIndexes: Dictionaries.Dictionary{String, Int64}\n",
       "  slicesNumber: Int32 375\n"
      ]
     },
     "metadata": {},
     "output_type": "display_data"
    }
   ],
   "source": [
    "mainScrollDat= loadFromHdf5Prim(fid,patienGroupName,addTextSpecs,listOfColorUsed)\n"
   ]
  },
  {
   "cell_type": "markdown",
   "metadata": {},
   "source": [
    "Here we will modify primary display  by changing the color of displayed label"
   ]
  },
  {
   "cell_type": "code",
   "execution_count": 7,
   "metadata": {},
   "outputs": [
    {
     "name": "stdout",
     "output_type": "stream",
     "text": [
      "increase number of available threads look into https://docs.julialang.org/en/v1/manual/multi-threading/  or modify for example in vs code extension\n",
      "Dict{Symbol, Any}(:gl_version => v\"4.6.0\", :gl_renderer => \"NVIDIA GeForce RTX 3080/PCIe/SSE2\", :glsl_version => v\"4.60.0\", :gl_vendor => \"NVIDIA Corporation\")\n",
      "Dict{Symbol, Any}(:gl_version => v\"4.6.0\", :gl_renderer => \"NVIDIA GeForce RTX 3080/PCIe/SSE2\", :glsl_version => v\"4.60.0\", :gl_vendor => \"NVIDIA Corporation\")"
     ]
    },
    {
     "name": "stdout",
     "output_type": "stream",
     "text": [
      "\n"
     ]
    },
    {
     "data": {
      "text/plain": [
       "4-element Vector{MedEye3d.DataStructs.ThreeDimRawDat}:\n",
       " MedEye3d.DataStructs.ThreeDimRawDat{Float32}(Float32, \"image\", [-3024.0 -3024.0 … -3024.0 -3024.0; -3024.0 -3024.0 … -3024.0 -3024.0; … ; -3024.0 -3024.0 … -3024.0 -3024.0; -3024.0 -3024.0 … -3024.0 -3024.0;;; -3024.0 -3024.0 … -3024.0 -3024.0; -3024.0 -3024.0 … -3024.0 -3024.0; … ; -3024.0 -3024.0 … -3024.0 -3024.0; -3024.0 -3024.0 … -3024.0 -3024.0;;; -3024.0 -3024.0 … -3024.0 -3024.0; -3024.0 -3024.0 … -3024.0 -3024.0; … ; -3024.0 -3024.0 … -3024.0 -3024.0; -3024.0 -3024.0 … -3024.0 -3024.0;;; … ;;; -3024.0 -3024.0 … -3024.0 -3024.0; -3024.0 -3024.0 … -3024.0 -3024.0; … ; -3024.0 -3024.0 … -3024.0 -3024.0; -3024.0 -3024.0 … -3024.0 -3024.0;;; 8.0 8.0 … 8.0 8.0; 8.0 8.0 … 8.0 8.0; … ; 8.0 8.0 … 8.0 8.0; 8.0 8.0 … 8.0 8.0;;; 8.0 8.0 … 8.0 8.0; 8.0 8.0 … 8.0 8.0; … ; 8.0 8.0 … 8.0 8.0; 8.0 8.0 … 8.0 8.0])\n",
       " MedEye3d.DataStructs.ThreeDimRawDat{UInt32}(UInt32, \"labelSet\", [0x00000000 0x00000000 … 0x00000000 0x00000000; 0x00000000 0x00000000 … 0x00000000 0x00000000; … ; 0x00000000 0x00000000 … 0x00000000 0x00000000; 0x00000000 0x00000000 … 0x00000000 0x00000000;;; 0x00000000 0x00000000 … 0x00000000 0x00000000; 0x00000000 0x00000000 … 0x00000000 0x00000000; … ; 0x00000000 0x00000000 … 0x00000000 0x00000000; 0x00000000 0x00000000 … 0x00000000 0x00000000;;; 0x00000000 0x00000000 … 0x00000000 0x00000000; 0x00000000 0x00000000 … 0x00000000 0x00000000; … ; 0x00000000 0x00000000 … 0x00000000 0x00000000; 0x00000000 0x00000000 … 0x00000000 0x00000000;;; … ;;; 0x00000000 0x00000000 … 0x00000000 0x00000000; 0x00000000 0x00000000 … 0x00000000 0x00000000; … ; 0x00000000 0x00000000 … 0x00000000 0x00000000; 0x00000000 0x00000000 … 0x00000000 0x00000000;;; 0x00000000 0x00000000 … 0x00000000 0x00000000; 0x00000000 0x00000000 … 0x00000000 0x00000000; … ; 0x00000000 0x00000000 … 0x00000000 0x00000000; 0x00000000 0x00000000 … 0x00000000 0x00000000;;; 0x00000000 0x00000000 … 0x00000000 0x00000000; 0x00000000 0x00000000 … 0x00000000 0x00000000; … ; 0x00000000 0x00000000 … 0x00000000 0x00000000; 0x00000000 0x00000000 … 0x00000000 0x00000000])\n",
       " MedEye3d.DataStructs.ThreeDimRawDat{UInt32}(UInt32, \"manualModif\", [0x00000000 0x00000000 … 0x00000000 0x00000000; 0x00000000 0x00000000 … 0x00000000 0x00000000; … ; 0x00000000 0x00000000 … 0x00000000 0x00000000; 0x00000000 0x00000000 … 0x00000000 0x00000000;;; 0x00000000 0x00000000 … 0x00000000 0x00000000; 0x00000000 0x00000000 … 0x00000000 0x00000000; … ; 0x00000000 0x00000000 … 0x00000000 0x00000000; 0x00000000 0x00000000 … 0x00000000 0x00000000;;; 0x00000000 0x00000000 … 0x00000000 0x00000000; 0x00000000 0x00000000 … 0x00000000 0x00000000; … ; 0x00000000 0x00000000 … 0x00000000 0x00000000; 0x00000000 0x00000000 … 0x00000000 0x00000000;;; … ;;; 0x00000000 0x00000000 … 0x00000000 0x00000000; 0x00000000 0x00000000 … 0x00000000 0x00000000; … ; 0x00000000 0x00000000 … 0x00000000 0x00000000; 0x00000000 0x00000000 … 0x00000000 0x00000000;;; 0x00000000 0x00000000 … 0x00000000 0x00000000; 0x00000000 0x00000000 … 0x00000000 0x00000000; … ; 0x00000000 0x00000000 … 0x00000000 0x00000000; 0x00000000 0x00000000 … 0x00000000 0x00000000;;; 0x00000000 0x00000000 … 0x00000000 0x00000000; 0x00000000 0x00000000 … 0x00000000 0x00000000; … ; 0x00000000 0x00000000 … 0x00000000 0x00000000; 0x00000000 0x00000000 … 0x00000000 0x00000000])\n",
       " MedEye3d.DataStructs.ThreeDimRawDat{Float32}(Float32, \"algoOutput\", [0.0 0.0 … 0.0 0.0; 0.0 0.0 … 0.0 0.0; … ; 0.0 0.0 … 0.0 0.0; 0.0 0.0 … 0.0 0.0;;; 0.0 0.0 … 0.0 0.0; 0.0 0.0 … 0.0 0.0; … ; 0.0 0.0 … 0.0 0.0; 0.0 0.0 … 0.0 0.0;;; 0.0 0.0 … 0.0 0.0; 0.0 0.0 … 0.0 0.0; … ; 0.0 0.0 … 0.0 0.0; 0.0 0.0 … 0.0 0.0;;; … ;;; 0.0 0.0 … 0.0 0.0; 0.0 0.0 … 0.0 0.0; … ; 0.0 0.0 … 0.0 0.0; 0.0 0.0 … 0.0 0.0;;; 0.0 0.0 … 0.0 0.0; 0.0 0.0 … 0.0 0.0; … ; 0.0 0.0 … 0.0 0.0; 0.0 0.0 … 0.0 0.0;;; 0.0 0.0 … 0.0 0.0; 0.0 0.0 … 0.0 0.0; … ; 0.0 0.0 … 0.0 0.0; 0.0 0.0 … 0.0 0.0])"
      ]
     },
     "metadata": {},
     "output_type": "display_data"
    }
   ],
   "source": [
    "#manual Modification array\n",
    "manualModif = MedEye3d.ForDisplayStructs.TextureSpec{UInt32}(# choosing number type manually to reduce memory usage\n",
    "    name = \"manualModif\",\n",
    "    color = RGB(0.2,0.5,0.2) #getSomeColor(listOfColorUsed)# automatically choosing some contrasting color\n",
    "    ,minAndMaxValue= UInt32.([0,1]) #important to keep the same number type as chosen at the bagining\n",
    "    ,isEditable = true ) # we will be able to manually modify this array in a viewer\n",
    "\n",
    "labelSet = MedEye3d.ForDisplayStructs.TextureSpec{UInt32}(\n",
    "    name = \"labelSet\",\n",
    "    # we point out that we will supply multiple colors\n",
    "    isContinuusMask=true,\n",
    "    colorSet = [RGB(1.0,0.0,0.0),RGB(1.0,0.0,0.0),RGB(1.0,1.0,0.0)]\n",
    "    ,minAndMaxValue= UInt32.([0,2])# values between 0 and 1 as this represent probabilities\n",
    "   )   \n",
    "    addTextSpecs=Vector{MedEye3d.ForDisplayStructs.TextureSpec}(undef,3)\n",
    "    addTextSpecs[1]=manualModif\n",
    "    addTextSpecs[2]=algoVisualization\n",
    "    addTextSpecs[3]=labelSet\n",
    "\n",
    "\n",
    "#2) primary display of chosen image \n",
    "mainScrollDat= loadFromHdf5Prim(fid,patienGroupName,addTextSpecs,listOfColorUsed)\n",
    "mainScrollDat.dataToScroll\n"
   ]
  },
  {
   "cell_type": "markdown",
   "metadata": {},
   "source": [
    "now we will observe what would happen if we would provie incorrect spacing in display"
   ]
  },
  {
   "cell_type": "code",
   "execution_count": 8,
   "metadata": {},
   "outputs": [
    {
     "ename": "UndefVarError",
     "evalue": "UndefVarError: group not defined",
     "output_type": "error",
     "traceback": [
      "UndefVarError: group not defined\n",
      "\n",
      "Stacktrace:\n",
      "  [1] top-level scope\n",
      "    @ c:\\projects\\MedPipe3DTutorial\\MedPipe3DTutorial\\src\\juliaNotebookTest.ipynb:1\n",
      "  [2] eval\n",
      "    @ .\\boot.jl:373 [inlined]\n",
      "  [3] include_string(mapexpr::typeof(REPL.softscope), mod::Module, code::String, filename::String)\n",
      "    @ Base .\\loading.jl:1196\n",
      "  [4] #invokelatest#2\n",
      "    @ .\\essentials.jl:716 [inlined]\n",
      "  [5] invokelatest\n",
      "    @ .\\essentials.jl:714 [inlined]\n",
      "  [6] (::VSCodeServer.var\"#164#165\"{VSCodeServer.NotebookRunCellArguments, String})()\n",
      "    @ VSCodeServer c:\\Users\\jakub\\.vscode\\extensions\\julialang.language-julia-1.6.24\\scripts\\packages\\VSCodeServer\\src\\serve_notebook.jl:19\n",
      "  [7] withpath(f::VSCodeServer.var\"#164#165\"{VSCodeServer.NotebookRunCellArguments, String}, path::String)\n",
      "    @ VSCodeServer c:\\Users\\jakub\\.vscode\\extensions\\julialang.language-julia-1.6.24\\scripts\\packages\\VSCodeServer\\src\\repl.jl:184\n",
      "  [8] notebook_runcell_request(conn::VSCodeServer.JSONRPC.JSONRPCEndpoint{Base.PipeEndpoint, Base.PipeEndpoint}, params::VSCodeServer.NotebookRunCellArguments)\n",
      "    @ VSCodeServer c:\\Users\\jakub\\.vscode\\extensions\\julialang.language-julia-1.6.24\\scripts\\packages\\VSCodeServer\\src\\serve_notebook.jl:13\n",
      "  [9] dispatch_msg(x::VSCodeServer.JSONRPC.JSONRPCEndpoint{Base.PipeEndpoint, Base.PipeEndpoint}, dispatcher::VSCodeServer.JSONRPC.MsgDispatcher, msg::Dict{String, Any})\n",
      "    @ VSCodeServer.JSONRPC c:\\Users\\jakub\\.vscode\\extensions\\julialang.language-julia-1.6.24\\scripts\\packages\\JSONRPC\\src\\typed.jl:67\n",
      " [10] serve_notebook(pipename::String, outputchannel_logger::Base.CoreLogging.SimpleLogger; crashreporting_pipename::String)\n",
      "    @ VSCodeServer c:\\Users\\jakub\\.vscode\\extensions\\julialang.language-julia-1.6.24\\scripts\\packages\\VSCodeServer\\src\\serve_notebook.jl:136\n",
      " [11] top-level scope\n",
      "    @ c:\\Users\\jakub\\.vscode\\extensions\\julialang.language-julia-1.6.24\\scripts\\notebook\\notebook.jl:32\n",
      " [12] include(mod::Module, _path::String)\n",
      "    @ Base .\\Base.jl:418\n",
      " [13] exec_options(opts::Base.JLOptions)\n",
      "    @ Base .\\client.jl:292\n",
      " [14] _start()\n",
      "    @ Base .\\client.jl:495"
     ]
    }
   ],
   "source": [
    "delete_attribute(group,\"spacing\")\n",
    "writeGroupAttribute(fid,patienGroupName, \"spacing\", [1,1,1])\n",
    "mainScrollDat= loadFromHdf5Prim(fid,patienGroupName,addTextSpecs,listOfColorUsed)\n",
    "mainScrollDat.dataToScroll\n"
   ]
  },
  {
   "cell_type": "markdown",
   "metadata": {},
   "source": [
    "### remember to manually mark points of interest"
   ]
  },
  {
   "cell_type": "markdown",
   "metadata": {},
   "source": [
    "# Constructing probability distribution"
   ]
  },
  {
   "cell_type": "markdown",
   "metadata": {},
   "source": [
    "Some utility functions"
   ]
  },
  {
   "cell_type": "code",
   "execution_count": 9,
   "metadata": {},
   "outputs": [
    {
     "data": {
      "text/plain": [
       "calculatePatchStatistics"
      ]
     },
     "metadata": {},
     "output_type": "display_data"
    }
   ],
   "source": [
    "\n",
    "\"\"\"\n",
    "works only for 3d cartesian coordinates\n",
    "  cart - cartesian coordinates of point where we will add the dimensions ...\n",
    "\"\"\"\n",
    "function cartesianTolinear(pointCart::CartesianIndex{3}) :: Int16\n",
    "   abs(pointCart[1])+ abs(pointCart[2])+abs(pointCart[3])\n",
    "end\n",
    "\n",
    "\n",
    "\"\"\"\n",
    "point - cartesian coordinates of point around which we want the cartesian coordeinates\n",
    "return set of cartetian coordinates of given distance -patchSize from a point\n",
    "\"\"\"\n",
    "function cartesianCoordAroundPoint(pointCart::CartesianIndex{3}, patchSize ::Int)\n",
    "ones = CartesianIndex(patchSize,patchSize,patchSize) # cartesian 3 dimensional index used for calculations to get range of the cartesian indicis to analyze\n",
    "out = Array{CartesianIndex{3}}(UndefInitializer(), 6+2*patchSize^4)\n",
    "index =0\n",
    "for J in (pointCart-ones):(pointCart+ones)\n",
    "  diff = J - pointCart # diffrence between dimensions relative to point of origin\n",
    "    if cartesianTolinear(diff) <= patchSize\n",
    "      index+=1\n",
    "      out[index] = J\n",
    "    end\n",
    "    end\n",
    "return out[1:index]\n",
    "end\n",
    "\n",
    "\n",
    "\"\"\"\n",
    "By iteratively  searching through the mask M array cartesian coordinates of all entries with value 7 will be returned.\n",
    "Important the number 7 is completely arbitrary - and need to agree with the number set in the annotator\n",
    "\"\"\"\n",
    "function getCoordinatesOfMarkings(::Type{ImageNumb}, ::Type{maskNumb}, M, I )  ::Vector{CartesianIndex{3}} where{ImageNumb,maskNumb}\n",
    "    return filter((index)->M[index]>0 ,CartesianIndices(M))\n",
    "end\n",
    "\n",
    "\"\"\"\n",
    "We need to define the patch Ω using getCartesianAroundPoint around each seed point - we will list of coordinates set  \n",
    "markings - calculated  earlier in getCoordinatesOfMarkings  z is the size of the patch - it is one of the hyperparameters\n",
    "return the patch of pixels around each marked point\n",
    "\"\"\"\n",
    "function getPatchAroundMarks(markings ::Vector{CartesianIndex{3}}, z::Int) \n",
    "    return [cartesianCoordAroundPoint(x,z) for x in markings]\n",
    "end    \n",
    "\n",
    "\"\"\"\n",
    "6.Now we apply analogical operation to each point coordinates of each patch  to get set of sets of sets where the nested sub patch will be referred to as Ω_ij\n",
    "markingsPatches is just the output of getPatchAroundMarks \n",
    "z is the size of the patch - it is one of the hyperparameters\n",
    "return nested patches so we have patch around each voxel from primary patch\n",
    "\"\"\"\n",
    "function allNeededCoord(markingsPatches ,z::Int ) ::Vector{Vector{Vector{CartesianIndex{3}}}}\n",
    "    return [getPatchAroundMarks(x,z) for x in markingsPatches]\n",
    "end  \n",
    "\n",
    "\n",
    "\n",
    "\"\"\"\n",
    "We define function that give set of cartesian coordinates  returns the vector where first entry is a sample mean and second one sample standard deviation \n",
    " of values in image I in given coordinates\n",
    " first type is specyfing the type of number in image array second in the output - so we can controll what type of float it would be\n",
    "getSampleMeanAndStd(points,I)\n",
    "\"\"\"\n",
    "function  getSampleMeanAndStd(a ::Type{Numb},b ::Type{myFloat}, coords::Vector{CartesianIndex{3}} , I  ) ::Vector{myFloat} where{Numb, myFloat}\n",
    "\n",
    "  sizz = size(I)  \n",
    "  arr= I[filter(c-> c[1]>0 && c[2]>0 && c[3]>0 \n",
    "                && c[1]<sizz[1]&& c[2]<sizz[2] && c[3]<sizz[3]  ,coords)]\n",
    "                \n",
    "    return [mean(arr), std(arr)]   \n",
    "end\n",
    "\n",
    "\"\"\"\n",
    "Next we reduce each of the sub patch omega using getSampleMeanAndStd function and store result in patchStats\n",
    "calculatePatchStatistics(allNeededCoord,I\n",
    "\"\"\"\n",
    "function calculatePatchStatistics(a ::Type{Numb},b ::Type{myFloat},allNeededCoord ,I )  where{Numb, myFloat}\n",
    "    return [ [getSampleMeanAndStd(a,b, x,I) for x in outer ] for outer in  allNeededCoord]\n",
    "end\n"
   ]
  },
  {
   "cell_type": "markdown",
   "metadata": {},
   "source": [
    "Define Gaussian distributions summarizing data about neighbeirhood of marked points"
   ]
  },
  {
   "cell_type": "code",
   "execution_count": 10,
   "metadata": {},
   "outputs": [
    {
     "data": {
      "text/plain": [
       "Any[]"
      ]
     },
     "metadata": {},
     "output_type": "display_data"
    }
   ],
   "source": [
    "\n",
    "#we load image from displayed object\n",
    "image= getArrByName(\"image\" ,mainScrollDat)\n",
    "manualModif= getArrByName(\"manualModif\" ,mainScrollDat)\n",
    "\n",
    "manualModifPrim=deepcopy(manualModif)\n",
    "maximum(manualModif) # it should be greater than 0 if you marked anything in array\n",
    "##coordinates of manually set points\n",
    "coordsss= getCoordinatesOfMarkings(eltype(image),eltype(manualModif),  manualModif, image) |>\n",
    "    (seedsCoords) ->getPatchAroundMarks(seedsCoords,z ) |>\n",
    "    (patchCoords) ->allNeededCoord(patchCoords,z )\n",
    "\n",
    "#getting patch statistics - mean and covariance\n",
    "patchStats = calculatePatchStatistics(eltype(image),Float64, coordsss, image)\n",
    "\n",
    "#separate distribution for each marked point\n",
    "distribs = map(patchStat-> fit(MvNormal, reduce(hcat,(patchStat)))  , patchStats  )\n"
   ]
  },
  {
   "cell_type": "markdown",
   "metadata": {},
   "source": [
    "in order to reduce computational complexity  we will reduce the number of used distributions using kl divergence"
   ]
  },
  {
   "cell_type": "code",
   "execution_count": 11,
   "metadata": {},
   "outputs": [
    {
     "ename": "ArgumentError",
     "evalue": "ArgumentError: reducing over an empty collection is not allowed",
     "output_type": "error",
     "traceback": [
      "ArgumentError: reducing over an empty collection is not allowed\n",
      "\n",
      "Stacktrace:\n",
      "  [1] _empty_reduce_error()\n",
      "    @ Base .\\reduce.jl:301\n",
      "  [2] reduce_empty(op::Function, #unused#::Type{Any})\n",
      "    @ Base .\\reduce.jl:311\n",
      "  [3] mapreduce_empty(#unused#::typeof(identity), op::Function, T::Type)\n",
      "    @ Base .\\reduce.jl:345\n",
      "  [4] reduce_empty(op::Base.MappingRF{typeof(identity), typeof(hcat)}, #unused#::Type{Any})\n",
      "    @ Base .\\reduce.jl:331\n",
      "  [5] reduce_empty_iter\n",
      "    @ .\\reduce.jl:357 [inlined]\n",
      "  [6] mapreduce_empty_iter(f::Function, op::Function, itr::Vector{Any}, ItrEltype::Base.HasEltype)\n",
      "    @ Base .\\reduce.jl:353\n",
      "  [7] _mapreduce(f::typeof(identity), op::typeof(hcat), #unused#::IndexLinear, A::Vector{Any})\n",
      "    @ Base .\\reduce.jl:402\n",
      "  [8] _mapreduce_dim(f::Function, op::Function, #unused#::Base._InitialValue, A::Vector{Any}, #unused#::Colon)\n",
      "    @ Base .\\reducedim.jl:330\n",
      "  [9] #mapreduce#731\n",
      "    @ .\\reducedim.jl:322 [inlined]\n",
      " [10] mapreduce\n",
      "    @ .\\reducedim.jl:322 [inlined]\n",
      " [11] #reduce#733\n",
      "    @ .\\reducedim.jl:371 [inlined]\n",
      " [12] reduce(op::Function, A::Vector{Any})\n",
      "    @ Base .\\reducedim.jl:371\n",
      " [13] top-level scope\n",
      "    @ c:\\projects\\MedPipe3DTutorial\\MedPipe3DTutorial\\src\\juliaNotebookTest.ipynb:4\n",
      " [14] eval\n",
      "    @ .\\boot.jl:373 [inlined]\n",
      " [15] include_string(mapexpr::typeof(REPL.softscope), mod::Module, code::String, filename::String)\n",
      "    @ Base .\\loading.jl:1196\n",
      " [16] #invokelatest#2\n",
      "    @ .\\essentials.jl:716 [inlined]\n",
      " [17] invokelatest\n",
      "    @ .\\essentials.jl:714 [inlined]\n",
      " [18] (::VSCodeServer.var\"#164#165\"{VSCodeServer.NotebookRunCellArguments, String})()\n",
      "    @ VSCodeServer c:\\Users\\jakub\\.vscode\\extensions\\julialang.language-julia-1.6.24\\scripts\\packages\\VSCodeServer\\src\\serve_notebook.jl:19\n",
      " [19] withpath(f::VSCodeServer.var\"#164#165\"{VSCodeServer.NotebookRunCellArguments, String}, path::String)\n",
      "    @ VSCodeServer c:\\Users\\jakub\\.vscode\\extensions\\julialang.language-julia-1.6.24\\scripts\\packages\\VSCodeServer\\src\\repl.jl:184\n",
      " [20] notebook_runcell_request(conn::VSCodeServer.JSONRPC.JSONRPCEndpoint{Base.PipeEndpoint, Base.PipeEndpoint}, params::VSCodeServer.NotebookRunCellArguments)\n",
      "    @ VSCodeServer c:\\Users\\jakub\\.vscode\\extensions\\julialang.language-julia-1.6.24\\scripts\\packages\\VSCodeServer\\src\\serve_notebook.jl:13\n",
      " [21] dispatch_msg(x::VSCodeServer.JSONRPC.JSONRPCEndpoint{Base.PipeEndpoint, Base.PipeEndpoint}, dispatcher::VSCodeServer.JSONRPC.MsgDispatcher, msg::Dict{String, Any})\n",
      "    @ VSCodeServer.JSONRPC c:\\Users\\jakub\\.vscode\\extensions\\julialang.language-julia-1.6.24\\scripts\\packages\\JSONRPC\\src\\typed.jl:67\n",
      " [22] serve_notebook(pipename::String, outputchannel_logger::Base.CoreLogging.SimpleLogger; crashreporting_pipename::String)\n",
      "    @ VSCodeServer c:\\Users\\jakub\\.vscode\\extensions\\julialang.language-julia-1.6.24\\scripts\\packages\\VSCodeServer\\src\\serve_notebook.jl:136\n",
      " [23] top-level scope\n",
      "    @ c:\\Users\\jakub\\.vscode\\extensions\\julialang.language-julia-1.6.24\\scripts\\notebook\\notebook.jl:32\n",
      " [24] include(mod::Module, _path::String)\n",
      "    @ Base .\\Base.jl:418\n",
      " [25] exec_options(opts::Base.JLOptions)\n",
      "    @ Base .\\client.jl:292\n",
      " [26] _start()\n",
      "    @ Base .\\client.jl:495"
     ]
    }
   ],
   "source": [
    "\n",
    "#we are comparing all distributions \n",
    "klDivs =map(outerDist->    map(dist->kldivergence( outerDist  ,dist), distribs  ), distribs  )\n",
    "klDivsInMatrix = reduce(hcat,(klDivs))\n",
    "#clustering with kmeans\n",
    "R = kmeans(klDivsInMatrix, klusterNumb; maxiter=200, display=:iter)\n",
    "\n",
    "#now identify indexes for some example distributions from each cluster\n",
    "indicies = zeros(Int64,klusterNumb )\n",
    "a = assignments(R) # get the assignments of points to clusters\n",
    "for i in 1:klusterNumb\n",
    "    for j in 1:length(distribs)\n",
    "        if(a[j] == i)\n",
    "            indicies[i]=j\n",
    "        end\n",
    "    end    \n",
    "end\n",
    "indicies\n",
    "\n",
    "#ditributions from diffrent clusters\n",
    "chosenDistribs = map(ind->distribs[ind] ,indicies)"
   ]
  },
  {
   "cell_type": "markdown",
   "metadata": {},
   "source": [
    "## applying  probability distributions to image "
   ]
  },
  {
   "cell_type": "code",
   "execution_count": 12,
   "metadata": {},
   "outputs": [
    {
     "ename": "UndefVarError",
     "evalue": "UndefVarError: chosenDistribs not defined",
     "output_type": "error",
     "traceback": [
      "UndefVarError: chosenDistribs not defined\n",
      "\n",
      "Stacktrace:\n",
      "  [1] top-level scope\n",
      "    @ c:\\projects\\MedPipe3DTutorial\\MedPipe3DTutorial\\src\\juliaNotebookTest.ipynb:24\n",
      "  [2] eval\n",
      "    @ .\\boot.jl:373 [inlined]\n",
      "  [3] include_string(mapexpr::typeof(REPL.softscope), mod::Module, code::String, filename::String)\n",
      "    @ Base .\\loading.jl:1196\n",
      "  [4] #invokelatest#2\n",
      "    @ .\\essentials.jl:716 [inlined]\n",
      "  [5] invokelatest\n",
      "    @ .\\essentials.jl:714 [inlined]\n",
      "  [6] (::VSCodeServer.var\"#164#165\"{VSCodeServer.NotebookRunCellArguments, String})()\n",
      "    @ VSCodeServer c:\\Users\\jakub\\.vscode\\extensions\\julialang.language-julia-1.6.24\\scripts\\packages\\VSCodeServer\\src\\serve_notebook.jl:19\n",
      "  [7] withpath(f::VSCodeServer.var\"#164#165\"{VSCodeServer.NotebookRunCellArguments, String}, path::String)\n",
      "    @ VSCodeServer c:\\Users\\jakub\\.vscode\\extensions\\julialang.language-julia-1.6.24\\scripts\\packages\\VSCodeServer\\src\\repl.jl:184\n",
      "  [8] notebook_runcell_request(conn::VSCodeServer.JSONRPC.JSONRPCEndpoint{Base.PipeEndpoint, Base.PipeEndpoint}, params::VSCodeServer.NotebookRunCellArguments)\n",
      "    @ VSCodeServer c:\\Users\\jakub\\.vscode\\extensions\\julialang.language-julia-1.6.24\\scripts\\packages\\VSCodeServer\\src\\serve_notebook.jl:13\n",
      "  [9] dispatch_msg(x::VSCodeServer.JSONRPC.JSONRPCEndpoint{Base.PipeEndpoint, Base.PipeEndpoint}, dispatcher::VSCodeServer.JSONRPC.MsgDispatcher, msg::Dict{String, Any})\n",
      "    @ VSCodeServer.JSONRPC c:\\Users\\jakub\\.vscode\\extensions\\julialang.language-julia-1.6.24\\scripts\\packages\\JSONRPC\\src\\typed.jl:67\n",
      " [10] serve_notebook(pipename::String, outputchannel_logger::Base.CoreLogging.SimpleLogger; crashreporting_pipename::String)\n",
      "    @ VSCodeServer c:\\Users\\jakub\\.vscode\\extensions\\julialang.language-julia-1.6.24\\scripts\\packages\\VSCodeServer\\src\\serve_notebook.jl:136\n",
      " [11] top-level scope\n",
      "    @ c:\\Users\\jakub\\.vscode\\extensions\\julialang.language-julia-1.6.24\\scripts\\notebook\\notebook.jl:32\n",
      " [12] include(mod::Module, _path::String)\n",
      "    @ Base .\\Base.jl:418\n",
      " [13] exec_options(opts::Base.JLOptions)\n",
      "    @ Base .\\client.jl:292\n",
      " [14] _start()\n",
      "    @ Base .\\client.jl:495"
     ]
    }
   ],
   "source": [
    "\n",
    "### getting constants from distributions\n",
    "\n",
    "\"\"\"\n",
    "calculate log normalization constant from distribution\n",
    "\"\"\"\n",
    "function mvnormal_c0(d::AbstractMvNormal)\n",
    "    ldcd = logdetcov(d)\n",
    "    return - (length(d) * oftype(ldcd, log2π) + ldcd) / 2\n",
    "end\n",
    "\n",
    "\"\"\"\n",
    "get constants needed for applying probability distributions\n",
    " return vector   1) logConst 2) mu1 3) mu2 4) invcov00 5)invcov01 6)invcov10 7)invcov11 \n",
    "\"\"\"\n",
    "function getDistrConstants(exampleDistr)\n",
    "    c0= mvnormal_c0(exampleDistr)\n",
    "    invCov= inv(exampleDistr.Σ)\n",
    "    return [c0,exampleDistr.μ[1],exampleDistr.μ[2],invCov[1,1],invCov[1,2],invCov[2,1],invCov[2,2]  ]\n",
    "end#getDistrConstants\n",
    "\n",
    "\n",
    "# creating matrix from constants\n",
    "allConstants = map(distr-> getDistrConstants(distr)  , chosenDistribs) |>\n",
    "               (vectOfvects)-> reduce(hcat, vectOfvects)\n"
   ]
  },
  {
   "cell_type": "markdown",
   "metadata": {},
   "source": [
    "defining CUDA kernel"
   ]
  },
  {
   "cell_type": "code",
   "execution_count": 13,
   "metadata": {},
   "outputs": [
    {
     "data": {
      "text/plain": [
       "@iterAround"
      ]
     },
     "metadata": {},
     "output_type": "display_data"
    }
   ],
   "source": [
    "\n",
    "\"\"\"\n",
    "utility macro to iterate in given range around given voxel\n",
    "\"\"\"\n",
    "macro iterAround(ex   )\n",
    "    return esc(quote\n",
    "        for xAdd in -r:r\n",
    "            x= (threadIdx().x+ ((blockIdx().x -1)*CUDA.blockDim_x()))+xAdd\n",
    "            if(x>0 && x<=mainArrSize[1])\n",
    "                for yAdd in -r:r\n",
    "                    y= (threadIdx().y+ ((blockIdx().y -1)*CUDA.blockDim_y()))+yAdd\n",
    "                    if(y>0 && y<=mainArrSize[2])\n",
    "                        for zAdd in -r:r\n",
    "                            z= (threadIdx().z+ ((blockIdx().z -1)*CUDA.blockDim_z()))+zAdd\n",
    "                            if(z>0 && z<=mainArrSize[3])\n",
    "                                if((abs(xAdd)+abs(yAdd)+abs(zAdd)) <=r)\n",
    "                                    $ex\n",
    "                                end \n",
    "                            end\n",
    "                        end\n",
    "                    end    \n",
    "                end    \n",
    "            end\n",
    "        end    \n",
    "    end)\n",
    "end\n",
    "      "
   ]
  },
  {
   "cell_type": "code",
   "execution_count": 14,
   "metadata": {},
   "outputs": [
    {
     "data": {
      "text/plain": [
       "(45, 90, 47)"
      ]
     },
     "metadata": {},
     "output_type": "display_data"
    }
   ],
   "source": [
    "\n",
    "\"\"\"\n",
    "con - matrix of precalculated constants\n",
    "image - main image here computer tomography image\n",
    "mainArrSize - dimensions of image\n",
    "output - where we want to save the calculations\n",
    "r - size of the evaluated patch\n",
    "klusterNumb- number of clusters - number of probability distributions we will use\n",
    "\"\"\"\n",
    "function applyGaussKernel(con,image,mainArrSize,output, r::Int,klusterNumb::Int)\n",
    "    for probDist in 1:klusterNumb\n",
    "        summ=0.0\n",
    "        sumCentered=0.0\n",
    "        lenn= UInt8(0)\n",
    "        #get mean\n",
    "        @iterAround begin \n",
    "            lenn=lenn+1\n",
    "            summ+=image[x,y,z]    \n",
    "        end\n",
    "        summ=summ/lenn\n",
    "        #get standard deviation\n",
    "        @iterAround sumCentered+= ((image[x,y,z]-summ )^2)\n",
    "\n",
    "        #here we have standard deviation\n",
    "        sumCentered= sqrt(sumCentered/(lenn-1))\n",
    "        #centering - subtracting means...\n",
    "        summ=summ-con[2,probDist]\n",
    "        sumCentered=sumCentered-con[3,probDist]\n",
    "        #saving output\n",
    "        x= (threadIdx().x+ ((blockIdx().x -1)*CUDA.blockDim_x()))\n",
    "        y= (threadIdx().y+ ((blockIdx().y -1)*CUDA.blockDim_y()))\n",
    "        z= (threadIdx().z+ ((blockIdx().z -1)*CUDA.blockDim_z()))\n",
    "        if(x>0 && x<=mainArrSize[1] && y>0 && y<=mainArrSize[2] &&z>0 && z<=mainArrSize[3] )\n",
    "            output[x,y,z]=  max(exp(con[1,probDist]-( ((summ*con[4,probDist]+sumCentered*con[6,probDist])*summ+(summ*con[5,probDist]+sumCentered*con[7,probDist])*sumCentered)/2 ) ),output[x,y,z]  )\n",
    "        end  \n",
    "    end#for\n",
    "    return\n",
    "end#main kernel\n",
    "\n",
    "mainArrSize= size(image)\n",
    "# for simplicity not using the occupancy API - in production one rather should\n",
    "threads=(8,4,8)\n",
    "blocks = (cld(mainArrSize[1],threads[1]), cld(mainArrSize[2],threads[2])  , cld(mainArrSize[3],threads[3]))\n"
   ]
  },
  {
   "cell_type": "markdown",
   "metadata": {},
   "source": [
    "Executing kernel"
   ]
  },
  {
   "cell_type": "code",
   "execution_count": 15,
   "metadata": {},
   "outputs": [
    {
     "ename": "UndefVarError",
     "evalue": "UndefVarError: allConstants not defined",
     "output_type": "error",
     "traceback": [
      "UndefVarError: allConstants not defined\n",
      "\n",
      "Stacktrace:\n",
      "  [1] top-level scope\n",
      "    @ c:\\projects\\MedPipe3DTutorial\\MedPipe3DTutorial\\src\\juliaNotebookTest.ipynb:6\n",
      "  [2] eval\n",
      "    @ .\\boot.jl:373 [inlined]\n",
      "  [3] include_string(mapexpr::typeof(REPL.softscope), mod::Module, code::String, filename::String)\n",
      "    @ Base .\\loading.jl:1196\n",
      "  [4] #invokelatest#2\n",
      "    @ .\\essentials.jl:716 [inlined]\n",
      "  [5] invokelatest\n",
      "    @ .\\essentials.jl:714 [inlined]\n",
      "  [6] (::VSCodeServer.var\"#164#165\"{VSCodeServer.NotebookRunCellArguments, String})()\n",
      "    @ VSCodeServer c:\\Users\\jakub\\.vscode\\extensions\\julialang.language-julia-1.6.24\\scripts\\packages\\VSCodeServer\\src\\serve_notebook.jl:19\n",
      "  [7] withpath(f::VSCodeServer.var\"#164#165\"{VSCodeServer.NotebookRunCellArguments, String}, path::String)\n",
      "    @ VSCodeServer c:\\Users\\jakub\\.vscode\\extensions\\julialang.language-julia-1.6.24\\scripts\\packages\\VSCodeServer\\src\\repl.jl:184\n",
      "  [8] notebook_runcell_request(conn::VSCodeServer.JSONRPC.JSONRPCEndpoint{Base.PipeEndpoint, Base.PipeEndpoint}, params::VSCodeServer.NotebookRunCellArguments)\n",
      "    @ VSCodeServer c:\\Users\\jakub\\.vscode\\extensions\\julialang.language-julia-1.6.24\\scripts\\packages\\VSCodeServer\\src\\serve_notebook.jl:13\n",
      "  [9] dispatch_msg(x::VSCodeServer.JSONRPC.JSONRPCEndpoint{Base.PipeEndpoint, Base.PipeEndpoint}, dispatcher::VSCodeServer.JSONRPC.MsgDispatcher, msg::Dict{String, Any})\n",
      "    @ VSCodeServer.JSONRPC c:\\Users\\jakub\\.vscode\\extensions\\julialang.language-julia-1.6.24\\scripts\\packages\\JSONRPC\\src\\typed.jl:67\n",
      " [10] serve_notebook(pipename::String, outputchannel_logger::Base.CoreLogging.SimpleLogger; crashreporting_pipename::String)\n",
      "    @ VSCodeServer c:\\Users\\jakub\\.vscode\\extensions\\julialang.language-julia-1.6.24\\scripts\\packages\\VSCodeServer\\src\\serve_notebook.jl:136\n",
      " [11] top-level scope\n",
      "    @ c:\\Users\\jakub\\.vscode\\extensions\\julialang.language-julia-1.6.24\\scripts\\notebook\\notebook.jl:32\n",
      " [12] include(mod::Module, _path::String)\n",
      "    @ Base .\\Base.jl:418\n",
      " [13] exec_options(opts::Base.JLOptions)\n",
      "    @ Base .\\client.jl:292\n",
      " [14] _start()\n",
      "    @ Base .\\client.jl:495"
     ]
    }
   ],
   "source": [
    "algoOutput= getArrByName(\"algoOutput\" ,mainScrollDat)\n",
    "mainArrSize= size(image)\n",
    "\n",
    "algoOutputGPU=CuArray(algoOutput)\n",
    "imageGPU=CuArray(image)\n",
    "conGPU = CuArray(allConstants)\n",
    "@cuda threads=threads blocks=blocks applyGaussKernel(conGPU,imageGPU,mainArrSize,algoOutputGPU, 5,klusterNumb)\n",
    "copyto!(algoOutput,algoOutputGPU)\n",
    "sum(algoOutput)# just to check is anything copied\n"
   ]
  },
  {
   "cell_type": "code",
   "execution_count": 16,
   "metadata": {},
   "outputs": [
    {
     "data": {
      "text/plain": [
       "false"
      ]
     },
     "metadata": {},
     "output_type": "display_data"
    }
   ],
   "source": [
    "# copyto!(algoOutput,algoOutputGPU)\n",
    "algoOutputB= getArrByName(\"algoOutput\" ,mainScrollDat)\n",
    "maxEl = maximum(algoOutputGPU)\n",
    "algoOutputB[:,:,:]=algoOutput./maxEl\n",
    "algoOutputGPU=algoOutputGPU./maxEl\n",
    "visualizationFromHdf5.refresh(MedEye3d.SegmentationDisplay.mainActor) "
   ]
  },
  {
   "cell_type": "markdown",
   "metadata": {},
   "source": [
    "copy and divide by max so will be easier to visualize"
   ]
  },
  {
   "cell_type": "markdown",
   "metadata": {},
   "source": [
    "## relaxation labelling"
   ]
  },
  {
   "cell_type": "markdown",
   "metadata": {},
   "source": [
    "Relaxation labelling will be executed using parallel stencil"
   ]
  },
  {
   "cell_type": "code",
   "execution_count": 17,
   "metadata": {},
   "outputs": [
    {
     "data": {
      "text/plain": [
       "NaN32"
      ]
     },
     "metadata": {},
     "output_type": "display_data"
    }
   ],
   "source": [
    "@init_parallel_stencil(CUDA, Float64, 3);\n",
    "\n",
    "\n",
    "#cutoff set manually to rate\n",
    "@parallel_indices (ix,iy,iz) function relaxationLabellKern(In, rate)\n",
    "    # 7-point Neuman stencil\n",
    "    if (ix>1 && iy>1 && iz>1 &&      ix<(size(In,1))&& iy<(size(In,2)) && iz<(size(In,3)))\n",
    "        In[ix,iy,iz] = ( (In[ix-1,iy  ,iz  ] >rate)+\n",
    "                          (In[ix-1,iy  ,iz  ]>rate)+ (In[ix+1,iy  ,iz  ]>rate) +\n",
    "                          (In[ix  ,iy-1,iz  ]>rate) + (In[ix  ,iy+1,iz  ]>rate) +\n",
    "                          (In[ix  ,iy  ,iz-1]>rate) + (In[ix  ,iy  ,iz+1]>rate) )/7.0\n",
    "\n",
    "     \n",
    "    end\n",
    "    return\n",
    "end\n",
    "\n",
    "@views function relaxLabels(In, iterNumb,rate)\n",
    "    # Calculation\n",
    "    for i in 1:iterNumb\n",
    "        innerRate=rate + ((i/iterNumb)/3)\n",
    "        @parallel relaxationLabellKern(In,innerRate)\n",
    "    end#for    \n",
    "    return\n",
    "end\n",
    "\n",
    "#rate for spleen\n",
    "# rate=0.03\n",
    "# steps = 4\n",
    "rate=0.09\n",
    "steps=5\n",
    "\n",
    "relaxLabels(algoOutputGPU,steps,rate)\n",
    "copyto!(algoOutput,algoOutputGPU)\n",
    "sum(algoOutput)# just to check is anythink copied"
   ]
  },
  {
   "cell_type": "code",
   "execution_count": null,
   "metadata": {},
   "outputs": [],
   "source": [
    "algoOutputB= getArrByName(\"algoOutput\" ,mainScrollDat)\n",
    "algoOutputB[:,:,:]=algoOutput\n",
    "visualizationFromHdf5.refresh(MedEye3d.SegmentationDisplay.mainActor) \n",
    "\n",
    "\n"
   ]
  },
  {
   "cell_type": "markdown",
   "metadata": {},
   "source": [
    "##  displaying performance metrics"
   ]
  },
  {
   "cell_type": "markdown",
   "metadata": {},
   "source": [
    "tresholding using CUDA.jl"
   ]
  },
  {
   "cell_type": "code",
   "execution_count": null,
   "metadata": {},
   "outputs": [],
   "source": [
    "function tresholdingKernel(mainArrSize,output)\n",
    "  \n",
    "    x= (threadIdx().x+ ((blockIdx().x -1)*CUDA.blockDim_x()))\n",
    "    y= (threadIdx().y+ ((blockIdx().y -1)*CUDA.blockDim_y()))\n",
    "    z= (threadIdx().z+ ((blockIdx().z -1)*CUDA.blockDim_z()))\n",
    "    if(x>0 && x<=mainArrSize[1] && y>0 && y<=mainArrSize[2] &&z>0 && z<=mainArrSize[3] )\n",
    "        output[x,y,z]=  (output[x,y,z]>0.5)\n",
    "    end  \n",
    "return\n",
    "end#main kernel\n",
    "\n",
    "# for simplicity not using the occupancy API - in production one rather should\n",
    "threads=(8,8,8)\n",
    "blocks = (cld(mainArrSize[1],threads[1]), cld(mainArrSize[2],threads[2])  , cld(mainArrSize[3],threads[3]))\n",
    "@cuda threads=threads blocks=blocks tresholdingKernel(mainArrSize,algoOutputGPU)"
   ]
  },
  {
   "cell_type": "code",
   "execution_count": null,
   "metadata": {},
   "outputs": [],
   "source": [
    "algoOutputB= getArrByName(\"algoOutput\" ,mainScrollDat)\n",
    "maxEl = maximum(algoOutputGPU)\n",
    "algoOutputB[:,:,:]=algoOutput\n",
    "visualizationFromHdf5.refresh(MedEye3d.SegmentationDisplay.mainActor) "
   ]
  },
  {
   "cell_type": "code",
   "execution_count": null,
   "metadata": {},
   "outputs": [],
   "source": [
    "conf= ConfigurtationStruct(md=true, dice=true)\n",
    "numberToLookFor = 1.0\n",
    "liverGold= getArrByName(\"labelSet\" ,mainScrollDat)\n",
    "preparedDict=MedEval3D.MainAbstractions.prepareMetrics(conf)\n",
    "calculateAndDisplay(preparedDict,mainScrollDat, conf, numberToLookFor,CuArray(liverGold),algoOutputGPU )\n",
    "\n",
    "\n",
    "# algoOutputB= getArrByName(\"algoOutput\" ,mainScrollDat)\n",
    "# maxEl = maximum(algoOutputGPU)\n",
    "# algoOutputB[:,:,:]=algoOutput./maxEl\n",
    "visualizationFromHdf5.refresh(MedEye3d.SegmentationDisplay.mainActor) \n"
   ]
  },
  {
   "cell_type": "code",
   "execution_count": null,
   "metadata": {},
   "outputs": [],
   "source": [
    "saveManualModif(fid,patienGroupName , mainScrollDat)\n",
    "\n",
    "close(fid)"
   ]
  },
  {
   "cell_type": "markdown",
   "metadata": {},
   "source": [
    "## Hyperparameter tuning\n",
    "In our simple algorithm we have two parameters rate and steps that are controlling relaxation labelling we can use another usefull Julia library for optimising those hyperparameters"
   ]
  },
  {
   "cell_type": "code",
   "execution_count": null,
   "metadata": {},
   "outputs": [],
   "source": [
    "conf= ConfigurtationStruct(md=true, dice=true)\n",
    "numberToLookFor = 1.0\n",
    "liverGold= getArrByName(\"labelSet\" ,mainScrollDat)\n",
    "CUDAGold=CuArray(liverGold)\n",
    "preparedDict=MedEval3D.MainAbstractions.prepareMetrics(conf)\n",
    "res= calcMetricGlobal(preparedDict,conf,CUDAGold,algoOutputGPU,numberToLookFor)\n",
    "res"
   ]
  },
  {
   "cell_type": "code",
   "execution_count": null,
   "metadata": {},
   "outputs": [],
   "source": [
    "\n",
    "rate=0.09\n",
    "steps=5\n",
    "\n",
    "function evaluateOnHyperParams(rate,steps)\n",
    "    @cuda threads=threads blocks=blocks applyGaussKernel(conGPU,imageGPU,mainArrSize,algoOutputGPU, 5,klusterNumb)\n",
    "    maxEl = maximum(algoOutputGPU)\n",
    "    algoOutputGPU[:,:,:]=algoOutputGPU./maxEl\n",
    "    #rate=mean(algoOutputB)\n",
    "    relaxLabels(algoOutputGPU,steps,rate)\n",
    "    @cuda threads=threads blocks=blocks tresholdingKernel(mainArrSize,algoOutputGPU)\n",
    "    res= calcMetricGlobal(preparedDict,conf,CUDAGold,algoOutputGPU,numberToLookFor)\n",
    "    return res.dice\n",
    "end\n",
    "\n",
    "evaluateOnHyperParams(rate,steps)\n"
   ]
  },
  {
   "cell_type": "code",
   "execution_count": null,
   "metadata": {},
   "outputs": [],
   "source": [
    "using Hyperopt,Random, Distributed, Statistics\n",
    "\n",
    "\n",
    "hob = @hyperopt for i=10,\n",
    "    sampler=CLHSampler(dims=[ Hyperopt.Categorical(10), Hyperopt.Continuous()]),\n",
    "    steps =[1,2,3,4,5,6,7,8,9,10], rate = LinRange(0.01,0.08,10)\n",
    "    (-1)*evaluateOnHyperParams(rate,steps)\n",
    "end\n",
    "hob\n",
    "\n"
   ]
  },
  {
   "cell_type": "code",
   "execution_count": null,
   "metadata": {},
   "outputs": [],
   "source": [
    "steps=4\n",
    "rate=0.01778\n",
    "@cuda threads=threads blocks=blocks applyGaussKernel(conGPU,imageGPU,mainArrSize,algoOutputGPU, 5,klusterNumb)\n",
    "maxEl = maximum(algoOutputGPU)\n",
    "algoOutputGPU[:,:,:]=algoOutputGPU./maxEl\n",
    "#rate=mean(algoOutputB)\n",
    "relaxLabels(algoOutputGPU,steps,rate)\n",
    "@cuda threads=threads blocks=blocks tresholdingKernel(mainArrSize,algoOutputGPU)\n",
    "\n",
    "algoOutputB= getArrByName(\"algoOutput\" ,mainScrollDat)\n",
    "maxEl = maximum(algoOutputGPU)\n",
    "algoOutputB[:,:,:]=algoOutput\n",
    "visualizationFromHdf5.refresh(MedEye3d.SegmentationDisplay.mainActor) \n"
   ]
  },
  {
   "cell_type": "code",
   "execution_count": null,
   "metadata": {},
   "outputs": [],
   "source": [
    "using Plots\n",
    "plot(hob)"
   ]
  },
  {
   "cell_type": "markdown",
   "metadata": {},
   "source": [
    "# Flux.jl\n",
    "First we need to iterate through data load it into Hdf5 and collect the sizes - sizes will be needed as neural network expect uniform sizes of all training and test cases so we will need to get biggest image and pad others accordingly\n",
    "code is based on https://github.com/Dale-Black/MedicalTutorials.jl/tree/master/src/3D_Segmentation/Heart"
   ]
  },
  {
   "cell_type": "code",
   "execution_count": null,
   "metadata": {},
   "outputs": [],
   "source": [
    "pathToHDF55=\"/media/jakub/NewVolume/projects/bigDataSet.hdf5\"\n",
    "listOfColorUsed= falses(18)\n",
    "toSaveKey=\"506\"\n",
    "fid = h5open(pathToHDF55, \"r+\")\n",
    "#manual Modification array\n",
    "algoVisualization = MedEye3d.ForDisplayStructs.TextureSpec{Float32}(\n",
    "    name = \"algoOutput\",\n",
    "    # we point out that we will supply multiple colors\n",
    "    isContinuusMask=true,\n",
    "    colorSet = [getSomeColor(listOfColorUsed),getSomeColor(listOfColorUsed)]\n",
    "    ,minAndMaxValue= Float32.([0,1])# values between 0 and 1 as this represent probabilities\n",
    "   )\n",
    "\n",
    "    addTextSpecs=Vector{MedEye3d.ForDisplayStructs.TextureSpec}(undef,1)\n",
    "    addTextSpecs[1]=algoVisualization\n",
    "\n",
    "mainScrollDat= loadFromHdf5Prim(fid,toSaveKey,addTextSpecs,listOfColorUsed)"
   ]
  }
 ],
 "metadata": {
  "kernelspec": {
   "display_name": "Julia 1.7.3",
   "language": "julia",
   "name": "julia-1.7"
  },
  "language_info": {
   "file_extension": ".jl",
   "mimetype": "application/julia",
   "name": "julia",
   "version": "1.7.3"
  },
  "orig_nbformat": 4
 },
 "nbformat": 4,
 "nbformat_minor": 2
}
