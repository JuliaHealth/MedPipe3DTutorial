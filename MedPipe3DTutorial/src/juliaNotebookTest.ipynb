{
    "cells": [
        {
            "cell_type": "code",
            "execution_count": 1,
            "metadata": {},
            "outputs": [
                {
                    "name": "stderr",
                    "output_type": "stream",
                    "text": [
                        "\u001b[32m\u001b[1m    Updating\u001b[22m\u001b[39m git-repo `https://github.com/jakubMitura14/MedPipe3D.jl.git`\n",
                        "\u001b[32m\u001b[1m    Updating\u001b[22m\u001b[39m registry at `C:\\Users\\jakub\\.julia\\registries\\General.toml`\n",
                        "\u001b[32m\u001b[1m   Resolving\u001b[22m\u001b[39m package versions...\n",
                        "\u001b[32m\u001b[1m  No Changes\u001b[22m\u001b[39m to `C:\\Users\\jakub\\.julia\\environments\\v1.7\\Project.toml`\n",
                        "\u001b[32m\u001b[1m  No Changes\u001b[22m\u001b[39m to `C:\\Users\\jakub\\.julia\\environments\\v1.7\\Manifest.toml`\n"
                    ]
                }
            ],
            "source": [
                "using Pkg\n",
                "Pkg.add(url=\"https://github.com/jakubMitura14/MedPipe3D.jl.git\")\n",
                "import BSON,MedPipe3D\n",
                "using BSON: @save\n",
                "using BSON: @load\n",
                "using MedEye3d\n",
                "using Distributions\n",
                "using Clustering\n",
                "using IrrationalConstants\n",
                "using ParallelStencil\n",
                "using MedPipe3D.LoadFromMonai, MedPipe3D.HDF5saveUtils,MedEye3d.visualizationFromHdf5, MedEye3d.distinctColorsSaved\n",
                "using CUDA\n",
                "using HDF5,Colors\n",
                "using ParallelStencil\n",
                "using ParallelStencil.FiniteDifferences3D\n",
                "using MedEval3D\n",
                "using MedEval3D.BasicStructs\n",
                "using MedEval3D.MainAbstractions\n",
                "using MedEval3D\n",
                "using MedEval3D.BasicStructs\n",
                "using MedEval3D.MainAbstractions\n",
                "using Hyperopt,Plots\n",
                "using MedPipe3D.LoadFromMonai\n",
                "#]add ProgressMeter StaticArrays BSON Distributed Flux Hyperopt Plots MedEye3d Distributions Clustering IrrationalConstants ParallelStencil CUDA HDF5 MedEval3D MedPipe3D Colors\n",
                "CUDA.allowscalar(true)"
            ]
        },
        {
            "cell_type": "markdown",
            "metadata": {},
            "source": [
                "Some usefull constants"
            ]
        },
        {
            "cell_type": "code",
            "execution_count": 2,
            "metadata": {},
            "outputs": [
                {
                    "data": {
                        "text/plain": [
                            "true"
                        ]
                    },
                    "metadata": {},
                    "output_type": "display_data"
                }
            ],
            "source": [
                "\n",
                "#directory where we want to store our HDF5 that we will use\n",
                "pathToHDF5=\"D:\\\\projects\\\\dockerForJulia\\\\spleenData\\\\smallDataSet.hdf5\"\n",
                "# data downloaded from http://medicaldecathlon.com/   (task 9 spleen)\n",
                "#directory of folder with files in this directory all of the image files should be in subfolder volumes 0-49 and labels labels if one ill use lines below\n",
                "fid = h5open(pathToHDF5, \"w\")\n",
                "#representing number that is the patient id in this dataset\n",
                "patientNum = 1#6\n",
                "patienGroupName=string(patientNum)\n",
                "z=8# how big is the area from which we collect data to construct probability distributions\n",
                "klusterNumb = 5# number of clusters - number of probability distributions we will use\n",
                "#******************for display\n",
                "#just needed so we will not have 2 same colors for two diffrent informations\n",
                "listOfColorUsed= falses(18)\n",
                "const USE_GPU = true\n"
            ]
        },
        {
            "cell_type": "markdown",
            "metadata": {},
            "source": [
                "Below we define path to the example files"
            ]
        },
        {
            "cell_type": "code",
            "execution_count": 3,
            "metadata": {},
            "outputs": [
                {
                    "data": {
                        "text/plain": [
                            "360×360×375 Array{Float32, 3}:\n",
                            "[:, :, 1] =\n",
                            " -3024.0  -3024.0  -3024.0  -3024.0  …  -3024.0  -3024.0  -3024.0  -3024.0\n",
                            " -3024.0  -3024.0  -3024.0  -3024.0     -3024.0  -3024.0  -3024.0  -3024.0\n",
                            " -3024.0  -3024.0  -3024.0  -3024.0     -3024.0  -3024.0  -3024.0  -3024.0\n",
                            " -3024.0  -3024.0  -3024.0  -3024.0     -3024.0  -3024.0  -3024.0  -3024.0\n",
                            " -3024.0  -3024.0  -3024.0  -3024.0     -3024.0  -3024.0  -3024.0  -3024.0\n",
                            " -3024.0  -3024.0  -3024.0  -3024.0  …  -3024.0  -3024.0  -3024.0  -3024.0\n",
                            " -3024.0  -3024.0  -3024.0  -3024.0     -3024.0  -3024.0  -3024.0  -3024.0\n",
                            " -3024.0  -3024.0  -3024.0  -3024.0     -3024.0  -3024.0  -3024.0  -3024.0\n",
                            " -3024.0  -3024.0  -3024.0  -3024.0     -3024.0  -3024.0  -3024.0  -3024.0\n",
                            " -3024.0  -3024.0  -3024.0  -3024.0     -3024.0  -3024.0  -3024.0  -3024.0\n",
                            "     ⋮                               ⋱                             \n",
                            " -3024.0  -3024.0  -3024.0  -3024.0     -3024.0  -3024.0  -3024.0  -3024.0\n",
                            " -3024.0  -3024.0  -3024.0  -3024.0     -3024.0  -3024.0  -3024.0  -3024.0\n",
                            " -3024.0  -3024.0  -3024.0  -3024.0     -3024.0  -3024.0  -3024.0  -3024.0\n",
                            " -3024.0  -3024.0  -3024.0  -3024.0     -3024.0  -3024.0  -3024.0  -3024.0\n",
                            " -3024.0  -3024.0  -3024.0  -3024.0  …  -3024.0  -3024.0  -3024.0  -3024.0\n",
                            " -3024.0  -3024.0  -3024.0  -3024.0     -3024.0  -3024.0  -3024.0  -3024.0\n",
                            " -3024.0  -3024.0  -3024.0  -3024.0     -3024.0  -3024.0  -3024.0  -3024.0\n",
                            " -3024.0  -3024.0  -3024.0  -3024.0     -3024.0  -3024.0  -3024.0  -3024.0\n",
                            " -3024.0  -3024.0  -3024.0  -3024.0     -3024.0  -3024.0  -3024.0  -3024.0\n",
                            "\n",
                            "[:, :, 2] =\n",
                            " -3024.0  -3024.0  -3024.0  -3024.0  …  -3024.0  -3024.0  -3024.0  -3024.0\n",
                            " -3024.0  -3024.0  -3024.0  -3024.0     -3024.0  -3024.0  -3024.0  -3024.0\n",
                            " -3024.0  -3024.0  -3024.0  -3024.0     -3024.0  -3024.0  -3024.0  -3024.0\n",
                            " -3024.0  -3024.0  -3024.0  -3024.0     -3024.0  -3024.0  -3024.0  -3024.0\n",
                            " -3024.0  -3024.0  -3024.0  -3024.0     -3024.0  -3024.0  -3024.0  -3024.0\n",
                            " -3024.0  -3024.0  -3024.0  -3024.0  …  -3024.0  -3024.0  -3024.0  -3024.0\n",
                            " -3024.0  -3024.0  -3024.0  -3024.0     -3024.0  -3024.0  -3024.0  -3024.0\n",
                            " -3024.0  -3024.0  -3024.0  -3024.0     -3024.0  -3024.0  -3024.0  -3024.0\n",
                            " -3024.0  -3024.0  -3024.0  -3024.0     -3024.0  -3024.0  -3024.0  -3024.0\n",
                            " -3024.0  -3024.0  -3024.0  -3024.0     -3024.0  -3024.0  -3024.0  -3024.0\n",
                            "     ⋮                               ⋱                             \n",
                            " -3024.0  -3024.0  -3024.0  -3024.0     -3024.0  -3024.0  -3024.0  -3024.0\n",
                            " -3024.0  -3024.0  -3024.0  -3024.0     -3024.0  -3024.0  -3024.0  -3024.0\n",
                            " -3024.0  -3024.0  -3024.0  -3024.0     -3024.0  -3024.0  -3024.0  -3024.0\n",
                            " -3024.0  -3024.0  -3024.0  -3024.0     -3024.0  -3024.0  -3024.0  -3024.0\n",
                            " -3024.0  -3024.0  -3024.0  -3024.0  …  -3024.0  -3024.0  -3024.0  -3024.0\n",
                            " -3024.0  -3024.0  -3024.0  -3024.0     -3024.0  -3024.0  -3024.0  -3024.0\n",
                            " -3024.0  -3024.0  -3024.0  -3024.0     -3024.0  -3024.0  -3024.0  -3024.0\n",
                            " -3024.0  -3024.0  -3024.0  -3024.0     -3024.0  -3024.0  -3024.0  -3024.0\n",
                            " -3024.0  -3024.0  -3024.0  -3024.0     -3024.0  -3024.0  -3024.0  -3024.0\n",
                            "\n",
                            "[:, :, 3] =\n",
                            " -3024.0  -3024.0  -3024.0  -3024.0  …  -3024.0  -3024.0  -3024.0  -3024.0\n",
                            " -3024.0  -3024.0  -3024.0  -3024.0     -3024.0  -3024.0  -3024.0  -3024.0\n",
                            " -3024.0  -3024.0  -3024.0  -3024.0     -3024.0  -3024.0  -3024.0  -3024.0\n",
                            " -3024.0  -3024.0  -3024.0  -3024.0     -3024.0  -3024.0  -3024.0  -3024.0\n",
                            " -3024.0  -3024.0  -3024.0  -3024.0     -3024.0  -3024.0  -3024.0  -3024.0\n",
                            " -3024.0  -3024.0  -3024.0  -3024.0  …  -3024.0  -3024.0  -3024.0  -3024.0\n",
                            " -3024.0  -3024.0  -3024.0  -3024.0     -3024.0  -3024.0  -3024.0  -3024.0\n",
                            " -3024.0  -3024.0  -3024.0  -3024.0     -3024.0  -3024.0  -3024.0  -3024.0\n",
                            " -3024.0  -3024.0  -3024.0  -3024.0     -3024.0  -3024.0  -3024.0  -3024.0\n",
                            " -3024.0  -3024.0  -3024.0  -3024.0     -3024.0  -3024.0  -3024.0  -3024.0\n",
                            "     ⋮                               ⋱                             \n",
                            " -3024.0  -3024.0  -3024.0  -3024.0     -3024.0  -3024.0  -3024.0  -3024.0\n",
                            " -3024.0  -3024.0  -3024.0  -3024.0     -3024.0  -3024.0  -3024.0  -3024.0\n",
                            " -3024.0  -3024.0  -3024.0  -3024.0     -3024.0  -3024.0  -3024.0  -3024.0\n",
                            " -3024.0  -3024.0  -3024.0  -3024.0     -3024.0  -3024.0  -3024.0  -3024.0\n",
                            " -3024.0  -3024.0  -3024.0  -3024.0  …  -3024.0  -3024.0  -3024.0  -3024.0\n",
                            " -3024.0  -3024.0  -3024.0  -3024.0     -3024.0  -3024.0  -3024.0  -3024.0\n",
                            " -3024.0  -3024.0  -3024.0  -3024.0     -3024.0  -3024.0  -3024.0  -3024.0\n",
                            " -3024.0  -3024.0  -3024.0  -3024.0     -3024.0  -3024.0  -3024.0  -3024.0\n",
                            " -3024.0  -3024.0  -3024.0  -3024.0     -3024.0  -3024.0  -3024.0  -3024.0\n",
                            "\n",
                            ";;; … \n",
                            "\n",
                            "[:, :, 373] =\n",
                            " -3024.0  -3024.0  -3024.0  -3024.0  …  -3024.0  -3024.0  -3024.0  -3024.0\n",
                            " -3024.0  -3024.0  -3024.0  -3024.0     -3024.0  -3024.0  -3024.0  -3024.0\n",
                            " -3024.0  -3024.0  -3024.0  -3024.0     -3024.0  -3024.0  -3024.0  -3024.0\n",
                            " -3024.0  -3024.0  -3024.0  -3024.0     -3024.0  -3024.0  -3024.0  -3024.0\n",
                            " -3024.0  -3024.0  -3024.0  -3024.0     -3024.0  -3024.0  -3024.0  -3024.0\n",
                            " -3024.0  -3024.0  -3024.0  -3024.0  …  -3024.0  -3024.0  -3024.0  -3024.0\n",
                            " -3024.0  -3024.0  -3024.0  -3024.0     -3024.0  -3024.0  -3024.0  -3024.0\n",
                            " -3024.0  -3024.0  -3024.0  -3024.0     -3024.0  -3024.0  -3024.0  -3024.0\n",
                            " -3024.0  -3024.0  -3024.0  -3024.0     -3024.0  -3024.0  -3024.0  -3024.0\n",
                            " -3024.0  -3024.0  -3024.0  -3024.0     -3024.0  -3024.0  -3024.0  -3024.0\n",
                            "     ⋮                               ⋱                             \n",
                            " -3024.0  -3024.0  -3024.0  -3024.0     -3024.0  -3024.0  -3024.0  -3024.0\n",
                            " -3024.0  -3024.0  -3024.0  -3024.0     -3024.0  -3024.0  -3024.0  -3024.0\n",
                            " -3024.0  -3024.0  -3024.0  -3024.0     -3024.0  -3024.0  -3024.0  -3024.0\n",
                            " -3024.0  -3024.0  -3024.0  -3024.0     -3024.0  -3024.0  -3024.0  -3024.0\n",
                            " -3024.0  -3024.0  -3024.0  -3024.0  …  -3024.0  -3024.0  -3024.0  -3024.0\n",
                            " -3024.0  -3024.0  -3024.0  -3024.0     -3024.0  -3024.0  -3024.0  -3024.0\n",
                            " -3024.0  -3024.0  -3024.0  -3024.0     -3024.0  -3024.0  -3024.0  -3024.0\n",
                            " -3024.0  -3024.0  -3024.0  -3024.0     -3024.0  -3024.0  -3024.0  -3024.0\n",
                            " -3024.0  -3024.0  -3024.0  -3024.0     -3024.0  -3024.0  -3024.0  -3024.0\n",
                            "\n",
                            "[:, :, 374] =\n",
                            " 8.0  8.0  8.0  8.0  8.0  8.0  8.0  8.0  …  8.0  8.0  8.0  8.0  8.0  8.0  8.0\n",
                            " 8.0  8.0  8.0  8.0  8.0  8.0  8.0  8.0     8.0  8.0  8.0  8.0  8.0  8.0  8.0\n",
                            " 8.0  8.0  8.0  8.0  8.0  8.0  8.0  8.0     8.0  8.0  8.0  8.0  8.0  8.0  8.0\n",
                            " 8.0  8.0  8.0  8.0  8.0  8.0  8.0  8.0     8.0  8.0  8.0  8.0  8.0  8.0  8.0\n",
                            " 8.0  8.0  8.0  8.0  8.0  8.0  8.0  8.0     8.0  8.0  8.0  8.0  8.0  8.0  8.0\n",
                            " 8.0  8.0  8.0  8.0  8.0  8.0  8.0  8.0  …  8.0  8.0  8.0  8.0  8.0  8.0  8.0\n",
                            " 8.0  8.0  8.0  8.0  8.0  8.0  8.0  8.0     8.0  8.0  8.0  8.0  8.0  8.0  8.0\n",
                            " 8.0  8.0  8.0  8.0  8.0  8.0  8.0  8.0     8.0  8.0  8.0  8.0  8.0  8.0  8.0\n",
                            " 8.0  8.0  8.0  8.0  8.0  8.0  8.0  8.0     8.0  8.0  8.0  8.0  8.0  8.0  8.0\n",
                            " 8.0  8.0  8.0  8.0  8.0  8.0  8.0  8.0     8.0  8.0  8.0  8.0  8.0  8.0  8.0\n",
                            " ⋮                        ⋮              ⋱            ⋮                   \n",
                            " 8.0  8.0  8.0  8.0  8.0  8.0  8.0  8.0     8.0  8.0  8.0  8.0  8.0  8.0  8.0\n",
                            " 8.0  8.0  8.0  8.0  8.0  8.0  8.0  8.0     8.0  8.0  8.0  8.0  8.0  8.0  8.0\n",
                            " 8.0  8.0  8.0  8.0  8.0  8.0  8.0  8.0     8.0  8.0  8.0  8.0  8.0  8.0  8.0\n",
                            " 8.0  8.0  8.0  8.0  8.0  8.0  8.0  8.0     8.0  8.0  8.0  8.0  8.0  8.0  8.0\n",
                            " 8.0  8.0  8.0  8.0  8.0  8.0  8.0  8.0  …  8.0  8.0  8.0  8.0  8.0  8.0  8.0\n",
                            " 8.0  8.0  8.0  8.0  8.0  8.0  8.0  8.0     8.0  8.0  8.0  8.0  8.0  8.0  8.0\n",
                            " 8.0  8.0  8.0  8.0  8.0  8.0  8.0  8.0     8.0  8.0  8.0  8.0  8.0  8.0  8.0\n",
                            " 8.0  8.0  8.0  8.0  8.0  8.0  8.0  8.0     8.0  8.0  8.0  8.0  8.0  8.0  8.0\n",
                            " 8.0  8.0  8.0  8.0  8.0  8.0  8.0  8.0     8.0  8.0  8.0  8.0  8.0  8.0  8.0\n",
                            "\n",
                            "[:, :, 375] =\n",
                            " 8.0  8.0  8.0  8.0  8.0  8.0  8.0  8.0  …  8.0  8.0  8.0  8.0  8.0  8.0  8.0\n",
                            " 8.0  8.0  8.0  8.0  8.0  8.0  8.0  8.0     8.0  8.0  8.0  8.0  8.0  8.0  8.0\n",
                            " 8.0  8.0  8.0  8.0  8.0  8.0  8.0  8.0     8.0  8.0  8.0  8.0  8.0  8.0  8.0\n",
                            " 8.0  8.0  8.0  8.0  8.0  8.0  8.0  8.0     8.0  8.0  8.0  8.0  8.0  8.0  8.0\n",
                            " 8.0  8.0  8.0  8.0  8.0  8.0  8.0  8.0     8.0  8.0  8.0  8.0  8.0  8.0  8.0\n",
                            " 8.0  8.0  8.0  8.0  8.0  8.0  8.0  8.0  …  8.0  8.0  8.0  8.0  8.0  8.0  8.0\n",
                            " 8.0  8.0  8.0  8.0  8.0  8.0  8.0  8.0     8.0  8.0  8.0  8.0  8.0  8.0  8.0\n",
                            " 8.0  8.0  8.0  8.0  8.0  8.0  8.0  8.0     8.0  8.0  8.0  8.0  8.0  8.0  8.0\n",
                            " 8.0  8.0  8.0  8.0  8.0  8.0  8.0  8.0     8.0  8.0  8.0  8.0  8.0  8.0  8.0\n",
                            " 8.0  8.0  8.0  8.0  8.0  8.0  8.0  8.0     8.0  8.0  8.0  8.0  8.0  8.0  8.0\n",
                            " ⋮                        ⋮              ⋱            ⋮                   \n",
                            " 8.0  8.0  8.0  8.0  8.0  8.0  8.0  8.0     8.0  8.0  8.0  8.0  8.0  8.0  8.0\n",
                            " 8.0  8.0  8.0  8.0  8.0  8.0  8.0  8.0     8.0  8.0  8.0  8.0  8.0  8.0  8.0\n",
                            " 8.0  8.0  8.0  8.0  8.0  8.0  8.0  8.0     8.0  8.0  8.0  8.0  8.0  8.0  8.0\n",
                            " 8.0  8.0  8.0  8.0  8.0  8.0  8.0  8.0     8.0  8.0  8.0  8.0  8.0  8.0  8.0\n",
                            " 8.0  8.0  8.0  8.0  8.0  8.0  8.0  8.0  …  8.0  8.0  8.0  8.0  8.0  8.0  8.0\n",
                            " 8.0  8.0  8.0  8.0  8.0  8.0  8.0  8.0     8.0  8.0  8.0  8.0  8.0  8.0  8.0\n",
                            " 8.0  8.0  8.0  8.0  8.0  8.0  8.0  8.0     8.0  8.0  8.0  8.0  8.0  8.0  8.0\n",
                            " 8.0  8.0  8.0  8.0  8.0  8.0  8.0  8.0     8.0  8.0  8.0  8.0  8.0  8.0  8.0\n",
                            " 8.0  8.0  8.0  8.0  8.0  8.0  8.0  8.0     8.0  8.0  8.0  8.0  8.0  8.0  8.0"
                        ]
                    },
                    "metadata": {},
                    "output_type": "display_data"
                }
            ],
            "source": [
                "#for spleen dataset https://drive.google.com/drive/folders/1HqEgzS8BV2c7xYNrZdEAnrHk7osJJ--2- task 9 spleen\n",
                "# data_dir = \"D:\\\\projects\\\\dockerForJulia\\\\spleenData\\\\Task09_Spleen\\\\Task09_Spleen\\\\Task09_Spleen\"\n",
                "# train_labels = map(fileEntry-> joinpath(data_dir,\"labelsTr\",fileEntry),readdir(joinpath(data_dir,\"labelsTr\"); sort=true))\n",
                "# train_images = map(fileEntry-> joinpath(data_dir,\"imagesTr\",fileEntry),readdir(joinpath(data_dir,\"imagesTr\"); sort=true))\n",
                "#for ct org dataset\n",
                "data_dir = \"D:\\\\forJuliaData\\\\CT_ORG\"\n",
                "train_labels = map(fileEntry-> joinpath(data_dir,\"labels\",fileEntry),readdir(joinpath(data_dir,\"labels\"); sort=true))\n",
                "train_images = map(fileEntry-> joinpath(data_dir,\"volumes\",fileEntry),readdir(joinpath(data_dir,\"volumes\"); sort=true))\n",
                "\n",
                "#zipping so we will have tuples with image and label names\n",
                "zipped= collect(zip(train_images,train_labels))\n",
                "# the paths are for some reasons reading incorrectly\n",
                "#zipped=map(tupl -> (replace(tupl[1], \"._\" => \"\"), replace(tupl[2], \"._\" => \"\")),zipped)\n",
                "\n",
                "tupl=zipped[patientNum]\n",
                "#proper loading using some utility function\n",
                "targetSpacing=(1,1,1)\n",
                "\n",
                "loaded = LoadFromMonai.loadBySitkromImageAndLabelPaths(tupl[1],tupl[2],targetSpacing)\n",
                "\n",
                "#CTORG\n",
                "#for this particular example we are intrested only in liver so we will keep only this label\n",
                "labelArr=map(entry-> UInt32(entry==1),loaded[2])\n",
                "imageArr=Float32.(loaded[1])\n",
                "\n",
                "# #spleen\n",
                "# labelArr=map(entry-> UInt32(entry),loaded[2])\n",
                "# imageArr=loaded[2]\n",
                "\n"
            ]
        },
        {
            "cell_type": "markdown",
            "metadata": {},
            "source": [
                "Managing HDF5 database"
            ]
        },
        {
            "cell_type": "code",
            "execution_count": 4,
            "metadata": {},
            "outputs": [],
            "source": [
                "#!!!!!!!!!! important if you are just creating the hdf5 file  do it with \"w\" option otherwise do it with \"r+\"\n",
                "#fid = h5open(pathToHDF5, \"r+\") \n",
                "gr= getGroupOrCreate(fid, patienGroupName)\n",
                "\n",
                "#we save loaded and trnsformed data into HDF5 to avoid doing preprocessing every time\n",
                "saveMaskBeforeVisualization(fid,patienGroupName,imageArr,\"image\", \"CT\" )\n",
                "saveMaskBeforeVisualization(fid,patienGroupName,labelArr,\"labelSet\", \"boolLabel\" )\n",
                "\n",
                "# here we did default transformations so voxel dimension is set to 1,1,1 in any other case one need to set spacing attribute manually to proper value\n",
                "# spacing can be found in metadata dictionary that is third entry in loadByMonaiFromImageAndLabelPaths output\n",
                "writeGroupAttribute(fid,patienGroupName, \"spacing\", [1,1,1])"
            ]
        },
        {
            "cell_type": "markdown",
            "metadata": {},
            "source": [
                "Simple Display Configuration automatically we choose the colors to be some contrassting ones"
            ]
        },
        {
            "cell_type": "code",
            "execution_count": 5,
            "metadata": {},
            "outputs": [
                {
                    "data": {
                        "text/plain": [
                            "MedEye3d.ForDisplayStructs.TextureSpec{Float32}\n",
                            "  name: String \"algoOutput\"\n",
                            "  numb: Int32 -1\n",
                            "  whichCreated: Int32 -1\n",
                            "  isMainImage: Bool false\n",
                            "  isNuclearMask: Bool false\n",
                            "  isContinuusMask: Bool true\n",
                            "  color: RGB{Float64}\n",
                            "  colorSet: Array{RGB}((2,))\n",
                            "  strokeWidth: Int32 3\n",
                            "  isEditable: Bool false\n",
                            "  GL_Rtype: UInt32 0x00000000\n",
                            "  OpGlType: UInt32 0x00000000\n",
                            "  actTextrureNumb: UInt32 0x00000000\n",
                            "  associatedActiveNumer: Int64 0\n",
                            "  ID: Base.RefValue{UInt32}\n",
                            "  isVisible: Bool true\n",
                            "  uniforms: MedEye3d.ForDisplayStructs.MaskTextureUniforms\n",
                            "  minAndMaxValue: Array{Float32}((2,)) Float32[0.0, 1.0]\n",
                            "  maskContribution: Float32 1.0f0\n"
                        ]
                    },
                    "metadata": {},
                    "output_type": "display_data"
                }
            ],
            "source": [
                "\n",
                "##below we define additional arrays that are not present in original data but will be needed for annotations and storing algorithm output \n",
                "\n",
                "#manual Modification array\n",
                "manualModif = MedEye3d.ForDisplayStructs.TextureSpec{UInt32}(# choosing number type manually to reduce memory usage\n",
                "    name = \"manualModif\",\n",
                "    color = getSomeColor(listOfColorUsed)# automatically choosing some contrasting color\n",
                "    ,minAndMaxValue= UInt32.([0,1]) #important to keep the same number type as chosen at the bagining\n",
                "    ,isEditable = true ) # we will be able to manually modify this array in a viewer\n",
                "\n",
                "algoVisualization = MedEye3d.ForDisplayStructs.TextureSpec{Float32}(\n",
                "    name = \"algoOutput\",\n",
                "    # we point out that we will supply multiple colors\n",
                "    isContinuusMask=true,\n",
                "    colorSet = [getSomeColor(listOfColorUsed),getSomeColor(listOfColorUsed)]\n",
                "    ,minAndMaxValue= Float32.([0,1])# values between 0 and 1 as this represent probabilities\n",
                "   )\n",
                "\n",
                "    addTextSpecs=Vector{MedEye3d.ForDisplayStructs.TextureSpec}(undef,2)\n",
                "    addTextSpecs[1]=manualModif\n",
                "    addTextSpecs[2]=algoVisualization\n",
                "\n"
            ]
        },
        {
            "cell_type": "markdown",
            "metadata": {},
            "source": [
                "Command to Display"
            ]
        },
        {
            "cell_type": "code",
            "execution_count": 6,
            "metadata": {},
            "outputs": [
                {
                    "name": "stdout",
                    "output_type": "stream",
                    "text": [
                        "increase number of available threads look into https://docs.julialang.org/en/v1/manual/multi-threading/  or modify for example in vs code extension\n",
                        "Dict{Symbol, Any}(:gl_version => v\"4.6.0\", :gl_renderer => \"NVIDIA GeForce RTX 3080/PCIe/SSE2\", :glsl_version => v\"4.60.0\", :gl_vendor => \"NVIDIA Corporation\")\n",
                        "Dict{Symbol, Any}(:gl_version => v\"4.6.0\", :gl_renderer => \"NVIDIA GeForce RTX 3080/PCIe/SSE2\", :glsl_version => v\"4.60.0\", :gl_vendor => \"NVIDIA Corporation\")\n"
                    ]
                },
                {
                    "data": {
                        "text/plain": [
                            "MedEye3d.DataStructs.FullScrollableDat\n",
                            "  dataToScrollDims: MedEye3d.DataStructs.DataToScrollDims\n",
                            "  dimensionToScroll: Int64 3\n",
                            "  dataToScroll: Array{MedEye3d.DataStructs.ThreeDimRawDat}((4,))\n",
                            "  mainTextToDisp: Array{MedEye3d.DataStructs.SimpleLineTextStruct}((1,))\n",
                            "  sliceTextToDisp: Array{Vector{MedEye3d.DataStructs.SimpleLineTextStruct}}((375,))\n",
                            "  segmMetr: MedEye3d.BasicStructs.ResultMetrics\n",
                            "  segmMetrs: Array{MedEye3d.BasicStructs.ResultMetrics}((0,))\n",
                            "  nameIndexes: Dictionaries.Dictionary{String, Int64}\n",
                            "  slicesNumber: Int32 375\n"
                        ]
                    },
                    "metadata": {},
                    "output_type": "display_data"
                }
            ],
            "source": [
                "mainScrollDat= loadFromHdf5Prim(fid,patienGroupName,addTextSpecs,listOfColorUsed)\n"
            ]
        },
        {
            "cell_type": "markdown",
            "metadata": {},
            "source": [
                "Here we will modify primary display  by changing the color of displayed label"
            ]
        },
        {
            "cell_type": "code",
            "execution_count": 7,
            "metadata": {},
            "outputs": [
                {
                    "name": "stdout",
                    "output_type": "stream",
                    "text": [
                        "increase number of available threads look into https://docs.julialang.org/en/v1/manual/multi-threading/  or modify for example in vs code extension\n",
                        "Dict{Symbol, Any}(:gl_version => v\"4.6.0\", :gl_renderer => \"NVIDIA GeForce RTX 3080/PCIe/SSE2\", :glsl_version => v\"4.60.0\", :gl_vendor => \"NVIDIA Corporation\")\n",
                        "Dict{Symbol, Any}(:gl_version => v\"4.6.0\", :gl_renderer => \"NVIDIA GeForce RTX 3080/PCIe/SSE2\", :glsl_version => v\"4.60.0\", :gl_vendor => \"NVIDIA Corporation\")\n"
                    ]
                },
                {
                    "data": {
                        "text/plain": [
                            "4-element Vector{MedEye3d.DataStructs.ThreeDimRawDat}:\n",
                            " MedEye3d.DataStructs.ThreeDimRawDat{Float32}(Float32, \"image\", [-3024.0 -3024.0 … -3024.0 -3024.0; -3024.0 -3024.0 … -3024.0 -3024.0; … ; -3024.0 -3024.0 … -3024.0 -3024.0; -3024.0 -3024.0 … -3024.0 -3024.0;;; -3024.0 -3024.0 … -3024.0 -3024.0; -3024.0 -3024.0 … -3024.0 -3024.0; … ; -3024.0 -3024.0 … -3024.0 -3024.0; -3024.0 -3024.0 … -3024.0 -3024.0;;; -3024.0 -3024.0 … -3024.0 -3024.0; -3024.0 -3024.0 … -3024.0 -3024.0; … ; -3024.0 -3024.0 … -3024.0 -3024.0; -3024.0 -3024.0 … -3024.0 -3024.0;;; … ;;; -3024.0 -3024.0 … -3024.0 -3024.0; -3024.0 -3024.0 … -3024.0 -3024.0; … ; -3024.0 -3024.0 … -3024.0 -3024.0; -3024.0 -3024.0 … -3024.0 -3024.0;;; 8.0 8.0 … 8.0 8.0; 8.0 8.0 … 8.0 8.0; … ; 8.0 8.0 … 8.0 8.0; 8.0 8.0 … 8.0 8.0;;; 8.0 8.0 … 8.0 8.0; 8.0 8.0 … 8.0 8.0; … ; 8.0 8.0 … 8.0 8.0; 8.0 8.0 … 8.0 8.0])\n",
                            " MedEye3d.DataStructs.ThreeDimRawDat{UInt32}(UInt32, \"labelSet\", [0x00000000 0x00000000 … 0x00000000 0x00000000; 0x00000000 0x00000000 … 0x00000000 0x00000000; … ; 0x00000000 0x00000000 … 0x00000000 0x00000000; 0x00000000 0x00000000 … 0x00000000 0x00000000;;; 0x00000000 0x00000000 … 0x00000000 0x00000000; 0x00000000 0x00000000 … 0x00000000 0x00000000; … ; 0x00000000 0x00000000 … 0x00000000 0x00000000; 0x00000000 0x00000000 … 0x00000000 0x00000000;;; 0x00000000 0x00000000 … 0x00000000 0x00000000; 0x00000000 0x00000000 … 0x00000000 0x00000000; … ; 0x00000000 0x00000000 … 0x00000000 0x00000000; 0x00000000 0x00000000 … 0x00000000 0x00000000;;; … ;;; 0x00000000 0x00000000 … 0x00000000 0x00000000; 0x00000000 0x00000000 … 0x00000000 0x00000000; … ; 0x00000000 0x00000000 … 0x00000000 0x00000000; 0x00000000 0x00000000 … 0x00000000 0x00000000;;; 0x00000000 0x00000000 … 0x00000000 0x00000000; 0x00000000 0x00000000 … 0x00000000 0x00000000; … ; 0x00000000 0x00000000 … 0x00000000 0x00000000; 0x00000000 0x00000000 … 0x00000000 0x00000000;;; 0x00000000 0x00000000 … 0x00000000 0x00000000; 0x00000000 0x00000000 … 0x00000000 0x00000000; … ; 0x00000000 0x00000000 … 0x00000000 0x00000000; 0x00000000 0x00000000 … 0x00000000 0x00000000])\n",
                            " MedEye3d.DataStructs.ThreeDimRawDat{UInt32}(UInt32, \"manualModif\", [0x00000000 0x00000000 … 0x00000000 0x00000000; 0x00000000 0x00000000 … 0x00000000 0x00000000; … ; 0x00000000 0x00000000 … 0x00000000 0x00000000; 0x00000000 0x00000000 … 0x00000000 0x00000000;;; 0x00000000 0x00000000 … 0x00000000 0x00000000; 0x00000000 0x00000000 … 0x00000000 0x00000000; … ; 0x00000000 0x00000000 … 0x00000000 0x00000000; 0x00000000 0x00000000 … 0x00000000 0x00000000;;; 0x00000000 0x00000000 … 0x00000000 0x00000000; 0x00000000 0x00000000 … 0x00000000 0x00000000; … ; 0x00000000 0x00000000 … 0x00000000 0x00000000; 0x00000000 0x00000000 … 0x00000000 0x00000000;;; … ;;; 0x00000000 0x00000000 … 0x00000000 0x00000000; 0x00000000 0x00000000 … 0x00000000 0x00000000; … ; 0x00000000 0x00000000 … 0x00000000 0x00000000; 0x00000000 0x00000000 … 0x00000000 0x00000000;;; 0x00000000 0x00000000 … 0x00000000 0x00000000; 0x00000000 0x00000000 … 0x00000000 0x00000000; … ; 0x00000000 0x00000000 … 0x00000000 0x00000000; 0x00000000 0x00000000 … 0x00000000 0x00000000;;; 0x00000000 0x00000000 … 0x00000000 0x00000000; 0x00000000 0x00000000 … 0x00000000 0x00000000; … ; 0x00000000 0x00000000 … 0x00000000 0x00000000; 0x00000000 0x00000000 … 0x00000000 0x00000000])\n",
                            " MedEye3d.DataStructs.ThreeDimRawDat{Float32}(Float32, \"algoOutput\", [0.0 0.0 … 0.0 0.0; 0.0 0.0 … 0.0 0.0; … ; 0.0 0.0 … 0.0 0.0; 0.0 0.0 … 0.0 0.0;;; 0.0 0.0 … 0.0 0.0; 0.0 0.0 … 0.0 0.0; … ; 0.0 0.0 … 0.0 0.0; 0.0 0.0 … 0.0 0.0;;; 0.0 0.0 … 0.0 0.0; 0.0 0.0 … 0.0 0.0; … ; 0.0 0.0 … 0.0 0.0; 0.0 0.0 … 0.0 0.0;;; … ;;; 0.0 0.0 … 0.0 0.0; 0.0 0.0 … 0.0 0.0; … ; 0.0 0.0 … 0.0 0.0; 0.0 0.0 … 0.0 0.0;;; 0.0 0.0 … 0.0 0.0; 0.0 0.0 … 0.0 0.0; … ; 0.0 0.0 … 0.0 0.0; 0.0 0.0 … 0.0 0.0;;; 0.0 0.0 … 0.0 0.0; 0.0 0.0 … 0.0 0.0; … ; 0.0 0.0 … 0.0 0.0; 0.0 0.0 … 0.0 0.0])"
                        ]
                    },
                    "metadata": {},
                    "output_type": "display_data"
                }
            ],
            "source": [
                "#manual Modification array\n",
                "manualModif = MedEye3d.ForDisplayStructs.TextureSpec{UInt32}(# choosing number type manually to reduce memory usage\n",
                "    name = \"manualModif\",\n",
                "    color = RGB(0.2,0.5,0.2) #getSomeColor(listOfColorUsed)# automatically choosing some contrasting color\n",
                "    ,minAndMaxValue= UInt32.([0,1]) #important to keep the same number type as chosen at the bagining\n",
                "    ,isEditable = true ) # we will be able to manually modify this array in a viewer\n",
                "\n",
                "labelSet = MedEye3d.ForDisplayStructs.TextureSpec{UInt32}(\n",
                "    name = \"labelSet\",\n",
                "    # we point out that we will supply multiple colors\n",
                "    isContinuusMask=true,\n",
                "    colorSet = [RGB(1.0,0.0,0.0),RGB(1.0,0.0,0.0),RGB(1.0,1.0,0.0)]\n",
                "    ,minAndMaxValue= UInt32.([0,2])# values between 0 and 1 as this represent probabilities\n",
                "   )   \n",
                "    addTextSpecs=Vector{MedEye3d.ForDisplayStructs.TextureSpec}(undef,3)\n",
                "    addTextSpecs[1]=manualModif\n",
                "    addTextSpecs[2]=algoVisualization\n",
                "    addTextSpecs[3]=labelSet\n",
                "\n",
                "\n",
                "#2) primary display of chosen image \n",
                "mainScrollDat= loadFromHdf5Prim(fid,patienGroupName,addTextSpecs,listOfColorUsed)\n",
                "mainScrollDat.dataToScroll\n"
            ]
        },
        {
            "cell_type": "markdown",
            "metadata": {},
            "source": [
                "now we will observe what would happen if we would provie incorrect spacing in display"
            ]
        },
        {
            "cell_type": "code",
            "execution_count": 8,
            "metadata": {},
            "outputs": [
                {
                    "name": "stdout",
                    "output_type": "stream",
                    "text": [
                        "increase number of available threads look into https://docs.julialang.org/en/v1/manual/multi-threading/  or modify for example in vs code extension\n",
                        "Dict{Symbol, Any}(:gl_version => v\"4.6.0\", :gl_renderer => \"NVIDIA GeForce RTX 3080/PCIe/SSE2\", :glsl_version => v\"4.60.0\", :gl_vendor => \"NVIDIA Corporation\")\n",
                        "Dict{Symbol, Any}(:gl_version => v\"4.6.0\", :gl_renderer => \"NVIDIA GeForce RTX 3080/PCIe/SSE2\", :glsl_version => v\"4.60.0\", :gl_vendor => \"NVIDIA Corporation\")\n"
                    ]
                },
                {
                    "data": {
                        "text/plain": [
                            "4-element Vector{MedEye3d.DataStructs.ThreeDimRawDat}:\n",
                            " MedEye3d.DataStructs.ThreeDimRawDat{Float32}(Float32, \"image\", [-3024.0 -3024.0 … -3024.0 -3024.0; -3024.0 -3024.0 … -3024.0 -3024.0; … ; -3024.0 -3024.0 … -3024.0 -3024.0; -3024.0 -3024.0 … -3024.0 -3024.0;;; -3024.0 -3024.0 … -3024.0 -3024.0; -3024.0 -3024.0 … -3024.0 -3024.0; … ; -3024.0 -3024.0 … -3024.0 -3024.0; -3024.0 -3024.0 … -3024.0 -3024.0;;; -3024.0 -3024.0 … -3024.0 -3024.0; -3024.0 -3024.0 … -3024.0 -3024.0; … ; -3024.0 -3024.0 … -3024.0 -3024.0; -3024.0 -3024.0 … -3024.0 -3024.0;;; … ;;; -3024.0 -3024.0 … -3024.0 -3024.0; -3024.0 -3024.0 … -3024.0 -3024.0; … ; -3024.0 -3024.0 … -3024.0 -3024.0; -3024.0 -3024.0 … -3024.0 -3024.0;;; 8.0 8.0 … 8.0 8.0; 8.0 8.0 … 8.0 8.0; … ; 8.0 8.0 … 8.0 8.0; 8.0 8.0 … 8.0 8.0;;; 8.0 8.0 … 8.0 8.0; 8.0 8.0 … 8.0 8.0; … ; 8.0 8.0 … 8.0 8.0; 8.0 8.0 … 8.0 8.0])\n",
                            " MedEye3d.DataStructs.ThreeDimRawDat{UInt32}(UInt32, \"labelSet\", [0x00000000 0x00000000 … 0x00000000 0x00000000; 0x00000000 0x00000000 … 0x00000000 0x00000000; … ; 0x00000000 0x00000000 … 0x00000000 0x00000000; 0x00000000 0x00000000 … 0x00000000 0x00000000;;; 0x00000000 0x00000000 … 0x00000000 0x00000000; 0x00000000 0x00000000 … 0x00000000 0x00000000; … ; 0x00000000 0x00000000 … 0x00000000 0x00000000; 0x00000000 0x00000000 … 0x00000000 0x00000000;;; 0x00000000 0x00000000 … 0x00000000 0x00000000; 0x00000000 0x00000000 … 0x00000000 0x00000000; … ; 0x00000000 0x00000000 … 0x00000000 0x00000000; 0x00000000 0x00000000 … 0x00000000 0x00000000;;; … ;;; 0x00000000 0x00000000 … 0x00000000 0x00000000; 0x00000000 0x00000000 … 0x00000000 0x00000000; … ; 0x00000000 0x00000000 … 0x00000000 0x00000000; 0x00000000 0x00000000 … 0x00000000 0x00000000;;; 0x00000000 0x00000000 … 0x00000000 0x00000000; 0x00000000 0x00000000 … 0x00000000 0x00000000; … ; 0x00000000 0x00000000 … 0x00000000 0x00000000; 0x00000000 0x00000000 … 0x00000000 0x00000000;;; 0x00000000 0x00000000 … 0x00000000 0x00000000; 0x00000000 0x00000000 … 0x00000000 0x00000000; … ; 0x00000000 0x00000000 … 0x00000000 0x00000000; 0x00000000 0x00000000 … 0x00000000 0x00000000])\n",
                            " MedEye3d.DataStructs.ThreeDimRawDat{UInt32}(UInt32, \"manualModif\", [0x00000000 0x00000000 … 0x00000000 0x00000000; 0x00000000 0x00000000 … 0x00000000 0x00000000; … ; 0x00000000 0x00000000 … 0x00000000 0x00000000; 0x00000000 0x00000000 … 0x00000000 0x00000000;;; 0x00000000 0x00000000 … 0x00000000 0x00000000; 0x00000000 0x00000000 … 0x00000000 0x00000000; … ; 0x00000000 0x00000000 … 0x00000000 0x00000000; 0x00000000 0x00000000 … 0x00000000 0x00000000;;; 0x00000000 0x00000000 … 0x00000000 0x00000000; 0x00000000 0x00000000 … 0x00000000 0x00000000; … ; 0x00000000 0x00000000 … 0x00000000 0x00000000; 0x00000000 0x00000000 … 0x00000000 0x00000000;;; … ;;; 0x00000000 0x00000000 … 0x00000000 0x00000000; 0x00000000 0x00000000 … 0x00000000 0x00000000; … ; 0x00000000 0x00000000 … 0x00000000 0x00000000; 0x00000000 0x00000000 … 0x00000000 0x00000000;;; 0x00000000 0x00000000 … 0x00000000 0x00000000; 0x00000000 0x00000000 … 0x00000000 0x00000000; … ; 0x00000000 0x00000000 … 0x00000000 0x00000000; 0x00000000 0x00000000 … 0x00000000 0x00000000;;; 0x00000000 0x00000000 … 0x00000000 0x00000000; 0x00000000 0x00000000 … 0x00000000 0x00000000; … ; 0x00000000 0x00000000 … 0x00000000 0x00000000; 0x00000000 0x00000000 … 0x00000000 0x00000000])\n",
                            " MedEye3d.DataStructs.ThreeDimRawDat{Float32}(Float32, \"algoOutput\", [0.0 0.0 … 0.0 0.0; 0.0 0.0 … 0.0 0.0; … ; 0.0 0.0 … 0.0 0.0; 0.0 0.0 … 0.0 0.0;;; 0.0 0.0 … 0.0 0.0; 0.0 0.0 … 0.0 0.0; … ; 0.0 0.0 … 0.0 0.0; 0.0 0.0 … 0.0 0.0;;; 0.0 0.0 … 0.0 0.0; 0.0 0.0 … 0.0 0.0; … ; 0.0 0.0 … 0.0 0.0; 0.0 0.0 … 0.0 0.0;;; … ;;; 0.0 0.0 … 0.0 0.0; 0.0 0.0 … 0.0 0.0; … ; 0.0 0.0 … 0.0 0.0; 0.0 0.0 … 0.0 0.0;;; 0.0 0.0 … 0.0 0.0; 0.0 0.0 … 0.0 0.0; … ; 0.0 0.0 … 0.0 0.0; 0.0 0.0 … 0.0 0.0;;; 0.0 0.0 … 0.0 0.0; 0.0 0.0 … 0.0 0.0; … ; 0.0 0.0 … 0.0 0.0; 0.0 0.0 … 0.0 0.0])"
                        ]
                    },
                    "metadata": {},
                    "output_type": "display_data"
                }
            ],
            "source": [
                "group= getGroupOrCreate(fid, patienGroupName)\n",
                "\n",
                "delete_attribute(group,\"spacing\")\n",
                "writeGroupAttribute(fid,patienGroupName, \"spacing\", [1,1,1])\n",
                "mainScrollDat= loadFromHdf5Prim(fid,patienGroupName,addTextSpecs,listOfColorUsed)\n",
                "\n"
            ]
        },
        {
            "cell_type": "markdown",
            "metadata": {},
            "source": [
                "### remember to manually mark points of interest"
            ]
        },
        {
            "cell_type": "markdown",
            "metadata": {},
            "source": [
                "# Constructing probability distribution"
            ]
        },
        {
            "cell_type": "markdown",
            "metadata": {},
            "source": [
                "Some utility functions"
            ]
        },
        {
            "cell_type": "code",
            "execution_count": 9,
            "metadata": {},
            "outputs": [
                {
                    "data": {
                        "text/plain": [
                            "calculatePatchStatistics"
                        ]
                    },
                    "metadata": {},
                    "output_type": "display_data"
                }
            ],
            "source": [
                "\n",
                "\"\"\"\n",
                "works only for 3d cartesian coordinates\n",
                "  cart - cartesian coordinates of point where we will add the dimensions ...\n",
                "\"\"\"\n",
                "function cartesianTolinear(pointCart::CartesianIndex{3}) :: Int16\n",
                "   abs(pointCart[1])+ abs(pointCart[2])+abs(pointCart[3])\n",
                "end\n",
                "\n",
                "\n",
                "\"\"\"\n",
                "point - cartesian coordinates of point around which we want the cartesian coordeinates\n",
                "return set of cartetian coordinates of given distance -patchSize from a point\n",
                "\"\"\"\n",
                "function cartesianCoordAroundPoint(pointCart::CartesianIndex{3}, patchSize ::Int)\n",
                "ones = CartesianIndex(patchSize,patchSize,patchSize) # cartesian 3 dimensional index used for calculations to get range of the cartesian indicis to analyze\n",
                "out = Array{CartesianIndex{3}}(UndefInitializer(), 6+2*patchSize^4)\n",
                "index =0\n",
                "for J in (pointCart-ones):(pointCart+ones)\n",
                "  diff = J - pointCart # diffrence between dimensions relative to point of origin\n",
                "    if cartesianTolinear(diff) <= patchSize\n",
                "      index+=1\n",
                "      out[index] = J\n",
                "    end\n",
                "    end\n",
                "return out[1:index]\n",
                "end\n",
                "\n",
                "\n",
                "\"\"\"\n",
                "By iteratively  searching through the mask M array cartesian coordinates of all entries with value 7 will be returned.\n",
                "Important the number 7 is completely arbitrary - and need to agree with the number set in the annotator\n",
                "\"\"\"\n",
                "function getCoordinatesOfMarkings(::Type{ImageNumb}, ::Type{maskNumb}, M, I )  ::Vector{CartesianIndex{3}} where{ImageNumb,maskNumb}\n",
                "    return filter((index)->M[index]>0 ,CartesianIndices(M))\n",
                "end\n",
                "\n",
                "\"\"\"\n",
                "We need to define the patch Ω using getCartesianAroundPoint around each seed point - we will list of coordinates set  \n",
                "markings - calculated  earlier in getCoordinatesOfMarkings  z is the size of the patch - it is one of the hyperparameters\n",
                "return the patch of pixels around each marked point\n",
                "\"\"\"\n",
                "function getPatchAroundMarks(markings ::Vector{CartesianIndex{3}}, z::Int) \n",
                "    return [cartesianCoordAroundPoint(x,z) for x in markings]\n",
                "end    \n",
                "\n",
                "\"\"\"\n",
                "6.Now we apply analogical operation to each point coordinates of each patch  to get set of sets of sets where the nested sub patch will be referred to as Ω_ij\n",
                "markingsPatches is just the output of getPatchAroundMarks \n",
                "z is the size of the patch - it is one of the hyperparameters\n",
                "return nested patches so we have patch around each voxel from primary patch\n",
                "\"\"\"\n",
                "function allNeededCoord(markingsPatches ,z::Int ) ::Vector{Vector{Vector{CartesianIndex{3}}}}\n",
                "    return [getPatchAroundMarks(x,z) for x in markingsPatches]\n",
                "end  \n",
                "\n",
                "\n",
                "\n",
                "\"\"\"\n",
                "We define function that give set of cartesian coordinates  returns the vector where first entry is a sample mean and second one sample standard deviation \n",
                " of values in image I in given coordinates\n",
                " first type is specyfing the type of number in image array second in the output - so we can controll what type of float it would be\n",
                "getSampleMeanAndStd(points,I)\n",
                "\"\"\"\n",
                "function  getSampleMeanAndStd(a ::Type{Numb},b ::Type{myFloat}, coords::Vector{CartesianIndex{3}} , I  ) ::Vector{myFloat} where{Numb, myFloat}\n",
                "\n",
                "  sizz = size(I)  \n",
                "  arr= I[filter(c-> c[1]>0 && c[2]>0 && c[3]>0 \n",
                "                && c[1]<sizz[1]&& c[2]<sizz[2] && c[3]<sizz[3]  ,coords)]\n",
                "                \n",
                "    return [mean(arr), std(arr)]   \n",
                "end\n",
                "\n",
                "\"\"\"\n",
                "Next we reduce each of the sub patch omega using getSampleMeanAndStd function and store result in patchStats\n",
                "calculatePatchStatistics(allNeededCoord,I\n",
                "\"\"\"\n",
                "function calculatePatchStatistics(a ::Type{Numb},b ::Type{myFloat},allNeededCoord ,I )  where{Numb, myFloat}\n",
                "    return [ [getSampleMeanAndStd(a,b, x,I) for x in outer ] for outer in  allNeededCoord]\n",
                "end\n"
            ]
        },
        {
            "cell_type": "markdown",
            "metadata": {},
            "source": [
                "Define Gaussian distributions summarizing data about neighbeirhood of marked points"
            ]
        },
        {
            "cell_type": "code",
            "execution_count": 10,
            "metadata": {},
            "outputs": [
                {
                    "data": {
                        "text/plain": [
                            "115-element Vector{FullNormal}:\n",
                            " FullNormal(\n",
                            "dim: 2\n",
                            "μ: [125.26762348005609, 11.597574030222441]\n",
                            "Σ: [1.252862152775392 0.21134730024192808; 0.21134730024192808 0.3222965314444638]\n",
                            ")\n",
                            "\n",
                            " FullNormal(\n",
                            "dim: 2\n",
                            "μ: [125.14702233432436, 11.682299104486765]\n",
                            "Σ: [0.931264710595974 0.09172589367757343; 0.09172589367757343 0.3449920759565919]\n",
                            ")\n",
                            "\n",
                            " FullNormal(\n",
                            "dim: 2\n",
                            "μ: [125.08976411304268, 11.64482030605211]\n",
                            "Σ: [0.8703424464171269 0.11654869965086402; 0.11654869965086402 0.31814733585372107]\n",
                            ")\n",
                            "\n",
                            " FullNormal(\n",
                            "dim: 2\n",
                            "μ: [125.0367716941513, 11.579336293462086]\n",
                            "Σ: [0.8064057538198136 0.1260331941839078; 0.1260331941839078 0.2991601761189882]\n",
                            ")\n",
                            "\n",
                            " FullNormal(\n",
                            "dim: 2\n",
                            "μ: [125.08800688854643, 11.828765120397524]\n",
                            "Σ: [0.7032019077726606 0.031763273825179426; 0.031763273825179426 0.36787672932050897]\n",
                            ")\n",
                            "\n",
                            " FullNormal(\n",
                            "dim: 2\n",
                            "μ: [125.01925349607616, 11.786194902078874]\n",
                            "Σ: [0.6597154721384066 0.04853057359403834; 0.04853057359403834 0.34445676315508783]\n",
                            ")\n",
                            "\n",
                            " FullNormal(\n",
                            "dim: 2\n",
                            "μ: [124.95527248680234, 11.70411449148446]\n",
                            "Σ: [0.6052412616442666 0.05364991009448277; 0.05364991009448277 0.33165526172440196]\n",
                            ")\n",
                            "\n",
                            " FullNormal(\n",
                            "dim: 2\n",
                            "μ: [124.90170655359312, 11.596410929942046]\n",
                            "Σ: [0.5536596235150548 0.051004447453652846; 0.051004447453652846 0.32335460379395176]\n",
                            ")\n",
                            "\n",
                            " FullNormal(\n",
                            "dim: 2\n",
                            "μ: [124.85656129211938, 11.482429934864571]\n",
                            "Σ: [0.5168810196210893 0.05182420470453978; 0.05182420470453978 0.31200116419707374]\n",
                            ")\n",
                            "\n",
                            " FullNormal(\n",
                            "dim: 2\n",
                            "μ: [125.03995347223362, 11.9823671869871]\n",
                            "Σ: [0.5776608412908577 0.053181832862343306; 0.053181832862343306 0.3502142144875884]\n",
                            ")\n",
                            "\n",
                            " ⋮\n",
                            " FullNormal(\n",
                            "dim: 2\n",
                            "μ: [126.36068084460346, 12.355516121167096]\n",
                            "Σ: [2.6330940628901796 1.5445388957022594; 1.5445388957022594 2.4939454767333853]\n",
                            ")\n",
                            "\n",
                            " FullNormal(\n",
                            "dim: 2\n",
                            "μ: [126.4137142039433, 12.732828526079011]\n",
                            "Σ: [2.8140137795084863 1.5937374392667143; 1.5937374392667143 2.4714122424346616]\n",
                            ")\n",
                            "\n",
                            " FullNormal(\n",
                            "dim: 2\n",
                            "μ: [126.42905585390895, 13.043219621298837]\n",
                            "Σ: [2.9446511526396466 1.6397399419592347; 1.6397399419592347 2.395654794682492]\n",
                            ")\n",
                            "\n",
                            " FullNormal(\n",
                            "dim: 2\n",
                            "μ: [126.39598066094113, 13.276974487991607]\n",
                            "Σ: [3.0644667832395642 1.728253551311343; 1.728253551311343 2.3429507112267616]\n",
                            ")\n",
                            "\n",
                            " FullNormal(\n",
                            "dim: 2\n",
                            "μ: [126.31692713706576, 13.443061067276641]\n",
                            "Σ: [3.2365568051119142 1.8837170919717545; 1.8837170919717545 2.3526713182240035]\n",
                            ")\n",
                            "\n",
                            " FullNormal(\n",
                            "dim: 2\n",
                            "μ: [126.71206099932648, 12.742646991276368]\n",
                            "Σ: [2.5317770020017725 1.2858015429029803; 1.2858015429029803 2.1496139683807494]\n",
                            ")\n",
                            "\n",
                            " FullNormal(\n",
                            "dim: 2\n",
                            "μ: [126.70167051500776, 13.012706291775743]\n",
                            "Σ: [2.695010867777422 1.3458432037891115; 1.3458432037891115 2.1131918251625366]\n",
                            ")\n",
                            "\n",
                            " FullNormal(\n",
                            "dim: 2\n",
                            "μ: [126.6148522549889, 13.207405201384143]\n",
                            "Σ: [2.9224905824213363 1.4960200613855867; 1.4960200613855867 2.121686427179121]\n",
                            ")\n",
                            "\n",
                            " FullNormal(\n",
                            "dim: 2\n",
                            "μ: [126.86496854601215, 12.940715970683927]\n",
                            "Σ: [2.461216435711697 1.1135015525758496; 1.1135015525758496 1.837635701227496]\n",
                            ")\n"
                        ]
                    },
                    "metadata": {},
                    "output_type": "display_data"
                }
            ],
            "source": [
                "\n",
                "#we load image from displayed object\n",
                "image= getArrByName(\"image\" ,mainScrollDat)\n",
                "manualModif= getArrByName(\"manualModif\" ,mainScrollDat)\n",
                "\n",
                "manualModifPrim=deepcopy(manualModif)\n",
                "maximum(manualModif) # it should be greater than 0 if you marked anything in array\n",
                "##coordinates of manually set points\n",
                "coordsss= getCoordinatesOfMarkings(eltype(image),eltype(manualModif),  manualModif, image) |>\n",
                "    (seedsCoords) ->getPatchAroundMarks(seedsCoords,z ) |>\n",
                "    (patchCoords) ->allNeededCoord(patchCoords,z )\n",
                "\n",
                "#getting patch statistics - mean and covariance\n",
                "patchStats = calculatePatchStatistics(eltype(image),Float64, coordsss, image)\n",
                "\n",
                "#separate distribution for each marked point\n",
                "distribs = map(patchStat-> fit(MvNormal, reduce(hcat,(patchStat)))  , patchStats  )\n"
            ]
        },
        {
            "cell_type": "markdown",
            "metadata": {},
            "source": [
                "in order to reduce computational complexity  we will reduce the number of used distributions using kl divergence"
            ]
        },
        {
            "cell_type": "code",
            "execution_count": 11,
            "metadata": {},
            "outputs": [
                {
                    "name": "stdout",
                    "output_type": "stream",
                    "text": [
                        "  Iters               objv        objv-change | affected \n",
                        "-------------------------------------------------------------\n",
                        "      0       1.003689e+04\n",
                        "      1       5.580084e+03      -4.456802e+03 |        3\n",
                        "      2       5.241300e+03      -3.387837e+02 |        3\n",
                        "      3       5.063800e+03      -1.775003e+02 |        2\n",
                        "      4       4.794099e+03      -2.697014e+02 |        3\n",
                        "      5       4.569071e+03      -2.250279e+02 |        3\n",
                        "      6       4.302363e+03      -2.667079e+02 |        2\n",
                        "      7       4.099624e+03      -2.027387e+02 |        3\n",
                        "      8       4.072809e+03      -2.681462e+01 |        0\n",
                        "      9       4.072809e+03       0.000000e+00 |        0\n",
                        "K-means converged with 9 iterations (objv = 4072.809434491562)\n"
                    ]
                },
                {
                    "data": {
                        "text/plain": [
                            "5-element Vector{FullNormal}:\n",
                            " FullNormal(\n",
                            "dim: 2\n",
                            "μ: [125.84837449384051, 11.65386693961337]\n",
                            "Σ: [0.6369984977364394 0.10821672437337194; 0.10821672437337194 0.27157199706990415]\n",
                            ")\n",
                            "\n",
                            " FullNormal(\n",
                            "dim: 2\n",
                            "μ: [126.86496854601215, 12.940715970683927]\n",
                            "Σ: [2.461216435711697 1.1135015525758496; 1.1135015525758496 1.837635701227496]\n",
                            ")\n",
                            "\n",
                            " FullNormal(\n",
                            "dim: 2\n",
                            "μ: [126.05825220407988, 13.63836181865019]\n",
                            "Σ: [3.4025797877854833 2.2189055105407416; 2.2189055105407416 2.582661358746818]\n",
                            ")\n",
                            "\n",
                            " FullNormal(\n",
                            "dim: 2\n",
                            "μ: [126.28045851214021, 12.476136714756704]\n",
                            "Σ: [2.4660581646306223 1.0639173831818918; 1.0639173831818918 1.5024099711229624]\n",
                            ")\n",
                            "\n",
                            " FullNormal(\n",
                            "dim: 2\n",
                            "μ: [126.6148522549889, 13.207405201384143]\n",
                            "Σ: [2.9224905824213363 1.4960200613855867; 1.4960200613855867 2.121686427179121]\n",
                            ")\n"
                        ]
                    },
                    "metadata": {},
                    "output_type": "display_data"
                }
            ],
            "source": [
                "\n",
                "#we are comparing all distributions \n",
                "klDivs =map(outerDist->    map(dist->kldivergence( outerDist  ,dist), distribs  ), distribs  )\n",
                "klDivsInMatrix = reduce(hcat,(klDivs))\n",
                "#clustering with kmeans\n",
                "R = kmeans(klDivsInMatrix, klusterNumb; maxiter=200, display=:iter)\n",
                "\n",
                "#now identify indexes for some example distributions from each cluster\n",
                "indicies = zeros(Int64,klusterNumb )\n",
                "a = assignments(R) # get the assignments of points to clusters\n",
                "for i in 1:klusterNumb\n",
                "    for j in 1:length(distribs)\n",
                "        if(a[j] == i)\n",
                "            indicies[i]=j\n",
                "        end\n",
                "    end    \n",
                "end\n",
                "indicies\n",
                "\n",
                "#ditributions from diffrent clusters\n",
                "chosenDistribs = map(ind->distribs[ind] ,indicies)"
            ]
        },
        {
            "cell_type": "markdown",
            "metadata": {},
            "source": [
                "## applying  probability distributions to image "
            ]
        },
        {
            "cell_type": "code",
            "execution_count": 12,
            "metadata": {},
            "outputs": [
                {
                    "data": {
                        "text/plain": [
                            "7×5 Matrix{Float64}:\n",
                            "  -0.925571   -2.43225    -2.51375    -2.31043    -2.52632\n",
                            " 125.848     126.865     126.058     126.28      126.615\n",
                            "  11.6539     12.9407     13.6384     12.4761     13.2074\n",
                            "   1.68385     0.559754    0.668361    0.583889    0.535437\n",
                            "  -0.670986   -0.339179   -0.574226   -0.413475   -0.377541\n",
                            "  -0.670986   -0.339179   -0.574226   -0.413475   -0.377541\n",
                            "   3.94964     0.7497      0.880546    0.958396    0.737531"
                        ]
                    },
                    "metadata": {},
                    "output_type": "display_data"
                }
            ],
            "source": [
                "\n",
                "### getting constants from distributions\n",
                "\n",
                "\"\"\"\n",
                "calculate log normalization constant from distribution\n",
                "\"\"\"\n",
                "function mvnormal_c0(d::AbstractMvNormal)\n",
                "    ldcd = logdetcov(d)\n",
                "    return - (length(d) * oftype(ldcd, log2π) + ldcd) / 2\n",
                "end\n",
                "\n",
                "\"\"\"\n",
                "get constants needed for applying probability distributions\n",
                " return vector   1) logConst 2) mu1 3) mu2 4) invcov00 5)invcov01 6)invcov10 7)invcov11 \n",
                "\"\"\"\n",
                "function getDistrConstants(exampleDistr)\n",
                "    c0= mvnormal_c0(exampleDistr)\n",
                "    invCov= inv(exampleDistr.Σ)\n",
                "    return [c0,exampleDistr.μ[1],exampleDistr.μ[2],invCov[1,1],invCov[1,2],invCov[2,1],invCov[2,2]  ]\n",
                "end#getDistrConstants\n",
                "\n",
                "\n",
                "# creating matrix from constants\n",
                "allConstants = map(distr-> getDistrConstants(distr)  , chosenDistribs) |>\n",
                "               (vectOfvects)-> reduce(hcat, vectOfvects)\n"
            ]
        },
        {
            "cell_type": "markdown",
            "metadata": {},
            "source": [
                "defining CUDA kernel"
            ]
        },
        {
            "cell_type": "code",
            "execution_count": 13,
            "metadata": {},
            "outputs": [
                {
                    "data": {
                        "text/plain": [
                            "@iterAround"
                        ]
                    },
                    "metadata": {},
                    "output_type": "display_data"
                }
            ],
            "source": [
                "\n",
                "\"\"\"\n",
                "utility macro to iterate in given range around given voxel\n",
                "\"\"\"\n",
                "macro iterAround(ex   )\n",
                "    return esc(quote\n",
                "        for xAdd in -r:r\n",
                "            x= (threadIdx().x+ ((blockIdx().x -1)*CUDA.blockDim_x()))+xAdd\n",
                "            if(x>0 && x<=mainArrSize[1])\n",
                "                for yAdd in -r:r\n",
                "                    y= (threadIdx().y+ ((blockIdx().y -1)*CUDA.blockDim_y()))+yAdd\n",
                "                    if(y>0 && y<=mainArrSize[2])\n",
                "                        for zAdd in -r:r\n",
                "                            z= (threadIdx().z+ ((blockIdx().z -1)*CUDA.blockDim_z()))+zAdd\n",
                "                            if(z>0 && z<=mainArrSize[3])\n",
                "                                if((abs(xAdd)+abs(yAdd)+abs(zAdd)) <=r)\n",
                "                                    $ex\n",
                "                                end \n",
                "                            end\n",
                "                        end\n",
                "                    end    \n",
                "                end    \n",
                "            end\n",
                "        end    \n",
                "    end)\n",
                "end\n",
                "      "
            ]
        },
        {
            "cell_type": "code",
            "execution_count": 14,
            "metadata": {},
            "outputs": [
                {
                    "data": {
                        "text/plain": [
                            "(45, 90, 47)"
                        ]
                    },
                    "metadata": {},
                    "output_type": "display_data"
                }
            ],
            "source": [
                "\n",
                "\"\"\"\n",
                "con - matrix of precalculated constants\n",
                "image - main image here computer tomography image\n",
                "mainArrSize - dimensions of image\n",
                "output - where we want to save the calculations\n",
                "r - size of the evaluated patch\n",
                "klusterNumb- number of clusters - number of probability distributions we will use\n",
                "\"\"\"\n",
                "function applyGaussKernel(con,image,mainArrSize,output, r::Int,klusterNumb::Int)\n",
                "    for probDist in 1:klusterNumb\n",
                "        summ=0.0\n",
                "        sumCentered=0.0\n",
                "        lenn= UInt8(0)\n",
                "        #get mean\n",
                "        @iterAround begin \n",
                "            lenn=lenn+1\n",
                "            summ+=image[x,y,z]    \n",
                "        end\n",
                "        summ=summ/lenn\n",
                "        #get variance\n",
                "        @iterAround sumCentered+= ((image[x,y,z]-summ )^2)\n",
                "\n",
                "        #here we have standard deviation\n",
                "        sumCentered= sqrt(sumCentered/(lenn-1))\n",
                "        #centering - subtracting means...\n",
                "        summ=summ-con[2,probDist]\n",
                "        sumCentered=sumCentered-con[3,probDist]\n",
                "        #saving output\n",
                "        x= (threadIdx().x+ ((blockIdx().x -1)*CUDA.blockDim_x()))\n",
                "        y= (threadIdx().y+ ((blockIdx().y -1)*CUDA.blockDim_y()))\n",
                "        z= (threadIdx().z+ ((blockIdx().z -1)*CUDA.blockDim_z()))\n",
                "        if(x>0 && x<=mainArrSize[1] && y>0 && y<=mainArrSize[2] &&z>0 && z<=mainArrSize[3] )\n",
                "            output[x,y,z]=  max(exp(con[1,probDist]-( ((summ*con[4,probDist]+sumCentered*con[6,probDist])*summ+(summ*con[5,probDist]+sumCentered*con[7,probDist])*sumCentered)/2 ) ),output[x,y,z]  )\n",
                "        end  \n",
                "    end#for\n",
                "    return\n",
                "end#main kernel\n",
                "\n",
                "mainArrSize= size(image)\n",
                "# for simplicity not using the occupancy API - in production one rather should\n",
                "threads=(8,4,8)\n",
                "blocks = (cld(mainArrSize[1],threads[1]), cld(mainArrSize[2],threads[2])  , cld(mainArrSize[3],threads[3]))\n"
            ]
        },
        {
            "cell_type": "markdown",
            "metadata": {},
            "source": [
                "Executing kernel"
            ]
        },
        {
            "cell_type": "code",
            "execution_count": 15,
            "metadata": {},
            "outputs": [
                {
                    "data": {
                        "text/plain": [
                            "17513.21f0"
                        ]
                    },
                    "metadata": {},
                    "output_type": "display_data"
                }
            ],
            "source": [
                "algoOutput= getArrByName(\"algoOutput\" ,mainScrollDat)\n",
                "mainArrSize= size(image)\n",
                "\n",
                "algoOutputGPU=CuArray(algoOutput)\n",
                "imageGPU=CuArray(image)\n",
                "conGPU = CuArray(allConstants)\n",
                "@cuda threads=threads blocks=blocks applyGaussKernel(conGPU,imageGPU,mainArrSize,algoOutputGPU, 5,klusterNumb)\n",
                "CUDA.reduce(+,algoOutputGPU)# just to check is anything copied\n"
            ]
        },
        {
            "cell_type": "code",
            "execution_count": 16,
            "metadata": {},
            "outputs": [
                {
                    "data": {
                        "text/plain": [
                            "false"
                        ]
                    },
                    "metadata": {},
                    "output_type": "display_data"
                }
            ],
            "source": [
                "# copyto!(algoOutput,algoOutputGPU)\n",
                "algoOutputB= getArrByName(\"algoOutput\" ,mainScrollDat)\n",
                "maxEl = maximum(algoOutputGPU)\n",
                "algoOutputB[:,:,:]=algoOutput./maxEl\n",
                "algoOutputGPU=algoOutputGPU./maxEl\n",
                "visualizationFromHdf5.refresh(MedEye3d.SegmentationDisplay.mainActor) "
            ]
        },
        {
            "cell_type": "markdown",
            "metadata": {},
            "source": [
                "copy and divide by max so will be easier to visualize"
            ]
        },
        {
            "cell_type": "markdown",
            "metadata": {},
            "source": [
                "## relaxation labelling"
            ]
        },
        {
            "cell_type": "markdown",
            "metadata": {},
            "source": [
                "Relaxation labelling will be executed using parallel stencil"
            ]
        },
        {
            "cell_type": "code",
            "execution_count": null,
            "metadata": {},
            "outputs": [],
            "source": [
                "@init_parallel_stencil(CUDA, Float64, 3);\n"
            ]
        },
        {
            "cell_type": "code",
            "execution_count": 25,
            "metadata": {},
            "outputs": [
                {
                    "data": {
                        "text/plain": [
                            "false"
                        ]
                    },
                    "metadata": {},
                    "output_type": "display_data"
                }
            ],
            "source": [
                "\n",
                "\n",
                "#cutoff set manually to rate\n",
                "@parallel_indices (ix,iy,iz) function relaxationLabellKern(In, rate)\n",
                "    # 7-point Neuman stencil\n",
                "    if (ix>1 && iy>1 && iz>1 &&      ix<(size(In,1))&& iy<(size(In,2)) && iz<(size(In,3)))\n",
                "        In[ix,iy,iz] = ( (In[ix-1,iy  ,iz  ] >rate)+\n",
                "                          (In[ix-1,iy  ,iz  ]>rate)+ (In[ix+1,iy  ,iz  ]>rate) +\n",
                "                          (In[ix  ,iy-1,iz  ]>rate) + (In[ix  ,iy+1,iz  ]>rate) +\n",
                "                          (In[ix  ,iy  ,iz-1]>rate) + (In[ix  ,iy  ,iz+1]>rate) )/7.0\n",
                "\n",
                "     \n",
                "    end\n",
                "    return\n",
                "end\n",
                "\n",
                "@views function relaxLabels(In, iterNumb,rate)\n",
                "    # Calculation\n",
                "    for i in 1:iterNumb\n",
                "        innerRate=rate + ((i/iterNumb)/3)\n",
                "        @parallel relaxationLabellKern(In,innerRate)\n",
                "    end#for    \n",
                "    return\n",
                "end\n",
                "\n",
                "#rate for spleen\n",
                "# rate=0.03\n",
                "# steps = 4\n",
                "rate=0.09\n",
                "steps=5\n",
                "\n",
                "relaxLabels(algoOutputGPU,steps,rate)\n",
                "copyto!(algoOutput,algoOutputGPU)\n",
                "sum(algoOutput)# just to check is anythink copied\n",
                "\n",
                "algoOutputB= getArrByName(\"algoOutput\" ,mainScrollDat)\n",
                "algoOutputB[:,:,:]=algoOutput\n",
                "visualizationFromHdf5.refresh(MedEye3d.SegmentationDisplay.mainActor) \n"
            ]
        },
        {
            "cell_type": "markdown",
            "metadata": {},
            "source": [
                "##  displaying performance metrics"
            ]
        },
        {
            "cell_type": "markdown",
            "metadata": {},
            "source": [
                "tresholding using CUDA.jl"
            ]
        },
        {
            "cell_type": "code",
            "execution_count": 26,
            "metadata": {},
            "outputs": [
                {
                    "data": {
                        "text/plain": [
                            "CUDA.HostKernel{typeof(tresholdingKernel), Tuple{Tuple{Int64, Int64, Int64}, CuDeviceArray{Float32, 3, 1}}}(tresholdingKernel, CuFunction(Ptr{Nothing} @0x00000001e18d4af0, CuModule(Ptr{Nothing} @0x00000001e1626310, CuContext(0x00000000c990f050, instance 633d12312963d4ae))), CUDA.KernelState(Ptr{Nothing} @0x0000000704000000))"
                        ]
                    },
                    "metadata": {},
                    "output_type": "display_data"
                }
            ],
            "source": [
                "function tresholdingKernel(mainArrSize,output)\n",
                "  \n",
                "    x= (threadIdx().x+ ((blockIdx().x -1)*CUDA.blockDim_x()))\n",
                "    y= (threadIdx().y+ ((blockIdx().y -1)*CUDA.blockDim_y()))\n",
                "    z= (threadIdx().z+ ((blockIdx().z -1)*CUDA.blockDim_z()))\n",
                "    if(x>0 && x<=mainArrSize[1] && y>0 && y<=mainArrSize[2] &&z>0 && z<=mainArrSize[3] )\n",
                "        output[x,y,z]=  (output[x,y,z]>0.5)\n",
                "    end  \n",
                "return\n",
                "end#main kernel\n",
                "\n",
                "# for simplicity not using the occupancy API - in production one rather should\n",
                "threads=(8,8,8)\n",
                "blocks = (cld(mainArrSize[1],threads[1]), cld(mainArrSize[2],threads[2])  , cld(mainArrSize[3],threads[3]))\n",
                "@cuda threads=threads blocks=blocks tresholdingKernel(mainArrSize,algoOutputGPU)"
            ]
        },
        {
            "cell_type": "code",
            "execution_count": 27,
            "metadata": {},
            "outputs": [
                {
                    "data": {
                        "text/plain": [
                            "false"
                        ]
                    },
                    "metadata": {},
                    "output_type": "display_data"
                }
            ],
            "source": [
                "algoOutputB= getArrByName(\"algoOutput\" ,mainScrollDat)\n",
                "maxEl = maximum(algoOutputGPU)\n",
                "algoOutputB[:,:,:]=algoOutput\n",
                "visualizationFromHdf5.refresh(MedEye3d.SegmentationDisplay.mainActor) "
            ]
        },
        {
            "cell_type": "code",
            "execution_count": 32,
            "metadata": {},
            "outputs": [
                {
                    "data": {
                        "text/plain": [
                            "false"
                        ]
                    },
                    "metadata": {},
                    "output_type": "display_data"
                }
            ],
            "source": [
                "conf= ConfigurtationStruct(md=true, dice=true)\n",
                "numberToLookFor = 1.0\n",
                "liverGold= getArrByName(\"labelSet\" ,mainScrollDat)\n",
                "CUDAGold=CuArray(liverGold)\n",
                "preparedDict=MedEval3D.MainAbstractions.prepareMetrics(conf)\n",
                "calculateAndDisplay(preparedDict,mainScrollDat, conf, numberToLookFor,CuArray(liverGold),algoOutputGPU )\n",
                "\n",
                "\n",
                "visualizationFromHdf5.refresh(MedEye3d.SegmentationDisplay.mainActor) \n"
            ]
        },
        {
            "cell_type": "code",
            "execution_count": 29,
            "metadata": {},
            "outputs": [
                {
                    "ename": "ErrorException",
                    "evalue": "File or object has been closed",
                    "output_type": "error",
                    "traceback": [
                        "File or object has been closed\n",
                        "\n",
                        "Stacktrace:\n",
                        "  [1] error(s::String)\n",
                        "    @ Base .\\error.jl:33\n",
                        "  [2] checkvalid\n",
                        "    @ C:\\Users\\jakub\\.julia\\packages\\HDF5\\7zvRl\\src\\HDF5.jl:365 [inlined]\n",
                        "  [3] haskey(parent::HDF5.File, path::String, lapl::HDF5.LinkAccessProperties) (repeats 2 times)\n",
                        "    @ HDF5 C:\\Users\\jakub\\.julia\\packages\\HDF5\\7zvRl\\src\\HDF5.jl:617\n",
                        "  [4] getindex(parent::HDF5.File, path::String; pv::Base.Pairs{Symbol, Union{}, Tuple{}, NamedTuple{(), Tuple{}}})\n",
                        "    @ HDF5 C:\\Users\\jakub\\.julia\\packages\\HDF5\\7zvRl\\src\\HDF5.jl:472\n",
                        "  [5] getindex\n",
                        "    @ C:\\Users\\jakub\\.julia\\packages\\HDF5\\7zvRl\\src\\HDF5.jl:472 [inlined]\n",
                        "  [6] saveManualModif(fid::HDF5.File, patienGroupName::String, mainScrollDat::MedEye3d.DataStructs.FullScrollableDat)\n",
                        "    @ MedPipe3D.HDF5saveUtils C:\\Users\\jakub\\.julia\\packages\\MedPipe3D\\ghFFN\\src\\HDF5Utils\\HDF5saveUtils.jl:17\n",
                        "  [7] top-level scope\n",
                        "    @ c:\\projects\\MedPipe3DTutorial\\MedPipe3DTutorial\\src\\juliaNotebookTest.ipynb:1\n",
                        "  [8] eval\n",
                        "    @ .\\boot.jl:373 [inlined]\n",
                        "  [9] include_string(mapexpr::typeof(REPL.softscope), mod::Module, code::String, filename::String)\n",
                        "    @ Base .\\loading.jl:1196\n",
                        " [10] #invokelatest#2\n",
                        "    @ .\\essentials.jl:716 [inlined]\n",
                        " [11] invokelatest\n",
                        "    @ .\\essentials.jl:714 [inlined]\n",
                        " [12] (::VSCodeServer.var\"#164#165\"{VSCodeServer.NotebookRunCellArguments, String})()\n",
                        "    @ VSCodeServer c:\\Users\\jakub\\.vscode\\extensions\\julialang.language-julia-1.6.24\\scripts\\packages\\VSCodeServer\\src\\serve_notebook.jl:19\n",
                        " [13] withpath(f::VSCodeServer.var\"#164#165\"{VSCodeServer.NotebookRunCellArguments, String}, path::String)\n",
                        "    @ VSCodeServer c:\\Users\\jakub\\.vscode\\extensions\\julialang.language-julia-1.6.24\\scripts\\packages\\VSCodeServer\\src\\repl.jl:184\n",
                        " [14] notebook_runcell_request(conn::VSCodeServer.JSONRPC.JSONRPCEndpoint{Base.PipeEndpoint, Base.PipeEndpoint}, params::VSCodeServer.NotebookRunCellArguments)\n",
                        "    @ VSCodeServer c:\\Users\\jakub\\.vscode\\extensions\\julialang.language-julia-1.6.24\\scripts\\packages\\VSCodeServer\\src\\serve_notebook.jl:13\n",
                        " [15] dispatch_msg(x::VSCodeServer.JSONRPC.JSONRPCEndpoint{Base.PipeEndpoint, Base.PipeEndpoint}, dispatcher::VSCodeServer.JSONRPC.MsgDispatcher, msg::Dict{String, Any})\n",
                        "    @ VSCodeServer.JSONRPC c:\\Users\\jakub\\.vscode\\extensions\\julialang.language-julia-1.6.24\\scripts\\packages\\JSONRPC\\src\\typed.jl:67\n",
                        " [16] serve_notebook(pipename::String, outputchannel_logger::Base.CoreLogging.SimpleLogger; crashreporting_pipename::String)\n",
                        "    @ VSCodeServer c:\\Users\\jakub\\.vscode\\extensions\\julialang.language-julia-1.6.24\\scripts\\packages\\VSCodeServer\\src\\serve_notebook.jl:136\n",
                        " [17] top-level scope\n",
                        "    @ c:\\Users\\jakub\\.vscode\\extensions\\julialang.language-julia-1.6.24\\scripts\\notebook\\notebook.jl:32\n",
                        " [18] include(mod::Module, _path::String)\n",
                        "    @ Base .\\Base.jl:418\n",
                        " [19] exec_options(opts::Base.JLOptions)\n",
                        "    @ Base .\\client.jl:292\n",
                        " [20] _start()\n",
                        "    @ Base .\\client.jl:495"
                    ]
                }
            ],
            "source": [
                "saveManualModif(fid,patienGroupName , mainScrollDat)\n",
                "\n",
                "close(fid)"
            ]
        },
        {
            "cell_type": "markdown",
            "metadata": {},
            "source": [
                "## Hyperparameter tuning\n",
                "In our simple algorithm we have two parameters rate and steps that are controlling relaxation labelling we can use another usefull Julia library for optimising those hyperparameters"
            ]
        },
        {
            "cell_type": "code",
            "execution_count": 33,
            "metadata": {},
            "outputs": [
                {
                    "data": {
                        "text/plain": [
                            "0.26232408997035106"
                        ]
                    },
                    "metadata": {},
                    "output_type": "display_data"
                }
            ],
            "source": [
                "\n",
                "steps=15\n",
                "rate=0.05\n",
                "\n",
                "function evaluateOnHyperParams(rate,steps)\n",
                "    @cuda threads=threads blocks=blocks applyGaussKernel(conGPU,imageGPU,mainArrSize,algoOutputGPU, 5,klusterNumb)\n",
                "    maxEl = maximum(algoOutputGPU)\n",
                "    algoOutputGPU[:,:,:]=algoOutputGPU./maxEl\n",
                "    relaxLabels(algoOutputGPU,steps,rate)\n",
                "    @cuda threads=threads blocks=blocks tresholdingKernel(mainArrSize,algoOutputGPU)\n",
                "    res= calcMetricGlobal(preparedDict,conf,CUDAGold,algoOutputGPU,numberToLookFor)\n",
                "    return res.dice\n",
                "end\n",
                "\n",
                "evaluateOnHyperParams(rate,steps)\n"
            ]
        },
        {
            "cell_type": "code",
            "execution_count": 35,
            "metadata": {},
            "outputs": [
                {
                    "name": "stderr",
                    "output_type": "stream",
                    "text": [
                        "\u001b[32mHyperoptimizing 100%|████████████████████████████████████| Time: 0:00:43\u001b[39m\u001b[K\n"
                    ]
                },
                {
                    "data": {
                        "text/plain": [
                            "Hyperoptimizer with\n",
                            "  1 length: 11\n",
                            "  2 length: 10\n",
                            "  minimum / maximum: (-0.697079109353901, -0.14354067922963906)\n",
                            "  minimizer:\n",
                            "    steps      rate \n",
                            "       19      0.04 "
                        ]
                    },
                    "metadata": {},
                    "output_type": "display_data"
                },
                {
                    "name": "stdout",
                    "output_type": "stream",
                    "text": [
                        "\n"
                    ]
                }
            ],
            "source": [
                "using Hyperopt,Random, Distributed, Statistics\n",
                "\n",
                "\n",
                "hob = @hyperopt for i=10,\n",
                "    sampler=CLHSampler(dims=[ Hyperopt.Categorical(10), Hyperopt.Continuous()]),\n",
                "    steps =15:25, rate = LinRange(0.01,0.10,10)\n",
                "    (-1)*evaluateOnHyperParams(rate,steps)\n",
                "end\n",
                "hob\n",
                "\n"
            ]
        },
        {
            "cell_type": "code",
            "execution_count": 41,
            "metadata": {},
            "outputs": [
                {
                    "data": {
                        "text/plain": [
                            "Any[]"
                        ]
                    },
                    "metadata": {},
                    "output_type": "display_data"
                }
            ],
            "source": [
                "mainScrollDat.mainTextToDisp=[]"
            ]
        },
        {
            "cell_type": "code",
            "execution_count": 38,
            "metadata": {},
            "outputs": [
                {
                    "data": {
                        "text/plain": [
                            "0.06248436f0"
                        ]
                    },
                    "metadata": {},
                    "output_type": "display_data"
                }
            ],
            "source": [
                "\n",
                "steps=19\n",
                "rate=0.04\n",
                "algoOutputGPU.=0\n",
                "algoOutputB= getArrByName(\"algoOutput\" ,mainScrollDat)\n",
                "algoOutputB.=0\n",
                "\n",
                "\n",
                "@cuda threads=threads blocks=blocks applyGaussKernel(conGPU,imageGPU,mainArrSize,algoOutputGPU, 5,klusterNumb)\n",
                "maxEl = maximum(algoOutputGPU)\n",
                "algoOutputGPU[:,:,:]=algoOutputGPU./maxEl\n",
                "\n",
                "relaxLabels(algoOutputGPU,steps,rate)\n",
                "@cuda threads=threads blocks=blocks tresholdingKernel(mainArrSize,algoOutputGPU)\n",
                "\n",
                "res= calcMetricGlobal(preparedDict,conf,CUDAGold,algoOutputGPU,numberToLookFor)\n",
                "\n",
                "@cuda threads=threads blocks=blocks tresholdingKernel(mainArrSize,algoOutputGPU)\n",
                "\n",
                "algoOutputB= getArrByName(\"algoOutput\" ,mainScrollDat)\n",
                "maxEl = maximum(algoOutputGPU)\n",
                "copyto!(algoOutput,algoOutputGPU)\n",
                "algoOutputB[:,:,:]=algoOutput\n",
                "visualizationFromHdf5.refresh(MedEye3d.SegmentationDisplay.mainActor) \n",
                "mean(algoOutputGPU)"
            ]
        },
        {
            "cell_type": "code",
            "execution_count": 39,
            "metadata": {},
            "outputs": [
                {
                    "data": {
                        "image/png": "[encoded data removed]",
                        "image/svg+xml": [
                            "<?xml version=\"1.0\" encoding=\"utf-8\"?>\n",
                            "<svg xmlns=\"http://www.w3.org/2000/svg\" xmlns:xlink=\"http://www.w3.org/1999/xlink\" width=\"600\" height=\"400\" viewBox=\"0 0 2400 1600\">\n",
                            "<defs>\n",
                            "  <clipPath id=\"clip260\">\n",
                            "    <rect x=\"0\" y=\"0\" width=\"2400\" height=\"1600\"/>\n",
                            "  </clipPath>\n",
                            "</defs>\n",
                            "<path clip-path=\"url(#clip260)\" d=\"\n",
                            "M0 1600 L2400 1600 L2400 0 L0 0  Z\n",
                            "  \" fill=\"#ffffff\" fill-rule=\"evenodd\" fill-opacity=\"1\"/>\n",
                            "<defs>\n",
                            "  <clipPath id=\"clip261\">\n",
                            "    <rect x=\"480\" y=\"0\" width=\"1681\" height=\"1600\"/>\n",
                            "  </clipPath>\n",
                            "</defs>\n",
                            "<path clip-path=\"url(#clip260)\" d=\"\n",
                            "M257.69 1423.18 L1152.76 1423.18 L1152.76 47.2441 L257.69 47.2441  Z\n",
                            "  \" fill=\"#ffffff\" fill-rule=\"evenodd\" fill-opacity=\"1\"/>\n",
                            "<defs>\n",
                            "  <clipPath id=\"clip262\">\n",
                            "    <rect x=\"257\" y=\"47\" width=\"896\" height=\"1377\"/>\n",
                            "  </clipPath>\n",
                            "</defs>\n",
                            "<polyline clip-path=\"url(#clip262)\" style=\"stroke:#000000; stroke-linecap:butt; stroke-linejoin:round; stroke-width:2; stroke-opacity:0.1; fill:none\" points=\"\n",
                            "  376.845,1423.18 376.845,47.2441 \n",
                            "  \"/>\n",
                            "<polyline clip-path=\"url(#clip262)\" style=\"stroke:#000000; stroke-linecap:butt; stroke-linejoin:round; stroke-width:2; stroke-opacity:0.1; fill:none\" points=\"\n",
                            "  564.489,1423.18 564.489,47.2441 \n",
                            "  \"/>\n",
                            "<polyline clip-path=\"url(#clip262)\" style=\"stroke:#000000; stroke-linecap:butt; stroke-linejoin:round; stroke-width:2; stroke-opacity:0.1; fill:none\" points=\"\n",
                            "  752.134,1423.18 752.134,47.2441 \n",
                            "  \"/>\n",
                            "<polyline clip-path=\"url(#clip262)\" style=\"stroke:#000000; stroke-linecap:butt; stroke-linejoin:round; stroke-width:2; stroke-opacity:0.1; fill:none\" points=\"\n",
                            "  939.779,1423.18 939.779,47.2441 \n",
                            "  \"/>\n",
                            "<polyline clip-path=\"url(#clip262)\" style=\"stroke:#000000; stroke-linecap:butt; stroke-linejoin:round; stroke-width:2; stroke-opacity:0.1; fill:none\" points=\"\n",
                            "  1127.42,1423.18 1127.42,47.2441 \n",
                            "  \"/>\n",
                            "<polyline clip-path=\"url(#clip260)\" style=\"stroke:#000000; stroke-linecap:butt; stroke-linejoin:round; stroke-width:4; stroke-opacity:1; fill:none\" points=\"\n",
                            "  257.69,1423.18 1152.76,1423.18 \n",
                            "  \"/>\n",
                            "<polyline clip-path=\"url(#clip260)\" style=\"stroke:#000000; stroke-linecap:butt; stroke-linejoin:round; stroke-width:4; stroke-opacity:1; fill:none\" points=\"\n",
                            "  376.845,1423.18 376.845,1404.28 \n",
                            "  \"/>\n",
                            "<polyline clip-path=\"url(#clip260)\" style=\"stroke:#000000; stroke-linecap:butt; stroke-linejoin:round; stroke-width:4; stroke-opacity:1; fill:none\" points=\"\n",
                            "  564.489,1423.18 564.489,1404.28 \n",
                            "  \"/>\n",
                            "<polyline clip-path=\"url(#clip260)\" style=\"stroke:#000000; stroke-linecap:butt; stroke-linejoin:round; stroke-width:4; stroke-opacity:1; fill:none\" points=\"\n",
                            "  752.134,1423.18 752.134,1404.28 \n",
                            "  \"/>\n",
                            "<polyline clip-path=\"url(#clip260)\" style=\"stroke:#000000; stroke-linecap:butt; stroke-linejoin:round; stroke-width:4; stroke-opacity:1; fill:none\" points=\"\n",
                            "  939.779,1423.18 939.779,1404.28 \n",
                            "  \"/>\n",
                            "<polyline clip-path=\"url(#clip260)\" style=\"stroke:#000000; stroke-linecap:butt; stroke-linejoin:round; stroke-width:4; stroke-opacity:1; fill:none\" points=\"\n",
                            "  1127.42,1423.18 1127.42,1404.28 \n",
                            "  \"/>\n",
                            "<path clip-path=\"url(#clip260)\" d=\"M351.451 1481.64 L359.09 1481.64 L359.09 1455.28 L350.78 1456.95 L350.78 1452.69 L359.044 1451.02 L363.72 1451.02 L363.72 1481.64 L371.359 1481.64 L371.359 1485.58 L351.451 1485.58 L351.451 1481.64 Z\" fill=\"#000000\" fill-rule=\"evenodd\" fill-opacity=\"1\" /><path clip-path=\"url(#clip260)\" d=\"M391.382 1466.44 Q388.233 1466.44 386.382 1468.59 Q384.553 1470.74 384.553 1474.49 Q384.553 1478.22 386.382 1480.39 Q388.233 1482.55 391.382 1482.55 Q394.53 1482.55 396.358 1480.39 Q398.21 1478.22 398.21 1474.49 Q398.21 1470.74 396.358 1468.59 Q394.53 1466.44 391.382 1466.44 M400.664 1451.78 L400.664 1456.04 Q398.905 1455.21 397.099 1454.77 Q395.317 1454.33 393.557 1454.33 Q388.928 1454.33 386.474 1457.45 Q384.044 1460.58 383.696 1466.9 Q385.062 1464.89 387.122 1463.82 Q389.182 1462.73 391.659 1462.73 Q396.868 1462.73 399.877 1465.9 Q402.909 1469.05 402.909 1474.49 Q402.909 1479.82 399.761 1483.03 Q396.613 1486.25 391.382 1486.25 Q385.386 1486.25 382.215 1481.67 Q379.044 1477.06 379.044 1468.33 Q379.044 1460.14 382.933 1455.28 Q386.821 1450.39 393.372 1450.39 Q395.132 1450.39 396.914 1450.74 Q398.719 1451.09 400.664 1451.78 Z\" fill=\"#000000\" fill-rule=\"evenodd\" fill-opacity=\"1\" /><path clip-path=\"url(#clip260)\" d=\"M539.223 1481.64 L546.862 1481.64 L546.862 1455.28 L538.552 1456.95 L538.552 1452.69 L546.816 1451.02 L551.492 1451.02 L551.492 1481.64 L559.131 1481.64 L559.131 1485.58 L539.223 1485.58 L539.223 1481.64 Z\" fill=\"#000000\" fill-rule=\"evenodd\" fill-opacity=\"1\" /><path clip-path=\"url(#clip260)\" d=\"M578.575 1469.17 Q575.242 1469.17 573.32 1470.95 Q571.422 1472.73 571.422 1475.86 Q571.422 1478.98 573.32 1480.77 Q575.242 1482.55 578.575 1482.55 Q581.908 1482.55 583.83 1480.77 Q585.751 1478.96 585.751 1475.86 Q585.751 1472.73 583.83 1470.95 Q581.931 1469.17 578.575 1469.17 M573.899 1467.18 Q570.89 1466.44 569.2 1464.38 Q567.533 1462.32 567.533 1459.35 Q567.533 1455.21 570.473 1452.8 Q573.436 1450.39 578.575 1450.39 Q583.737 1450.39 586.677 1452.8 Q589.617 1455.21 589.617 1459.35 Q589.617 1462.32 587.927 1464.38 Q586.26 1466.44 583.274 1467.18 Q586.654 1467.96 588.529 1470.26 Q590.427 1472.55 590.427 1475.86 Q590.427 1480.88 587.348 1483.57 Q584.293 1486.25 578.575 1486.25 Q572.857 1486.25 569.779 1483.57 Q566.723 1480.88 566.723 1475.86 Q566.723 1472.55 568.621 1470.26 Q570.519 1467.96 573.899 1467.18 M572.186 1459.79 Q572.186 1462.48 573.853 1463.98 Q575.543 1465.49 578.575 1465.49 Q581.584 1465.49 583.274 1463.98 Q584.987 1462.48 584.987 1459.79 Q584.987 1457.11 583.274 1455.6 Q581.584 1454.1 578.575 1454.1 Q575.543 1454.1 573.853 1455.6 Q572.186 1457.11 572.186 1459.79 Z\" fill=\"#000000\" fill-rule=\"evenodd\" fill-opacity=\"1\" /><path clip-path=\"url(#clip260)\" d=\"M730.907 1481.64 L747.227 1481.64 L747.227 1485.58 L725.283 1485.58 L725.283 1481.64 Q727.945 1478.89 732.528 1474.26 Q737.134 1469.61 738.315 1468.27 Q740.56 1465.74 741.44 1464.01 Q742.343 1462.25 742.343 1460.56 Q742.343 1457.8 740.398 1456.07 Q738.477 1454.33 735.375 1454.33 Q733.176 1454.33 730.722 1455.09 Q728.292 1455.86 725.514 1457.41 L725.514 1452.69 Q728.338 1451.55 730.792 1450.97 Q733.245 1450.39 735.282 1450.39 Q740.653 1450.39 743.847 1453.08 Q747.042 1455.77 747.042 1460.26 Q747.042 1462.39 746.231 1464.31 Q745.444 1466.2 743.338 1468.8 Q742.759 1469.47 739.657 1472.69 Q736.556 1475.88 730.907 1481.64 Z\" fill=\"#000000\" fill-rule=\"evenodd\" fill-opacity=\"1\" /><path clip-path=\"url(#clip260)\" d=\"M767.042 1454.1 Q763.43 1454.1 761.602 1457.66 Q759.796 1461.2 759.796 1468.33 Q759.796 1475.44 761.602 1479.01 Q763.43 1482.55 767.042 1482.55 Q770.676 1482.55 772.481 1479.01 Q774.31 1475.44 774.31 1468.33 Q774.31 1461.2 772.481 1457.66 Q770.676 1454.1 767.042 1454.1 M767.042 1450.39 Q772.852 1450.39 775.907 1455 Q778.986 1459.58 778.986 1468.33 Q778.986 1477.06 775.907 1481.67 Q772.852 1486.25 767.042 1486.25 Q761.231 1486.25 758.153 1481.67 Q755.097 1477.06 755.097 1468.33 Q755.097 1459.58 758.153 1455 Q761.231 1450.39 767.042 1450.39 Z\" fill=\"#000000\" fill-rule=\"evenodd\" fill-opacity=\"1\" /><path clip-path=\"url(#clip260)\" d=\"M919.351 1481.64 L935.67 1481.64 L935.67 1485.58 L913.726 1485.58 L913.726 1481.64 Q916.388 1478.89 920.971 1474.26 Q925.578 1469.61 926.758 1468.27 Q929.004 1465.74 929.883 1464.01 Q930.786 1462.25 930.786 1460.56 Q930.786 1457.8 928.842 1456.07 Q926.92 1454.33 923.818 1454.33 Q921.619 1454.33 919.166 1455.09 Q916.735 1455.86 913.957 1457.41 L913.957 1452.69 Q916.781 1451.55 919.235 1450.97 Q921.689 1450.39 923.726 1450.39 Q929.096 1450.39 932.291 1453.08 Q935.485 1455.77 935.485 1460.26 Q935.485 1462.39 934.675 1464.31 Q933.888 1466.2 931.781 1468.8 Q931.203 1469.47 928.101 1472.69 Q924.999 1475.88 919.351 1481.64 Z\" fill=\"#000000\" fill-rule=\"evenodd\" fill-opacity=\"1\" /><path clip-path=\"url(#clip260)\" d=\"M949.513 1481.64 L965.832 1481.64 L965.832 1485.58 L943.888 1485.58 L943.888 1481.64 Q946.55 1478.89 951.133 1474.26 Q955.74 1469.61 956.92 1468.27 Q959.166 1465.74 960.045 1464.01 Q960.948 1462.25 960.948 1460.56 Q960.948 1457.8 959.003 1456.07 Q957.082 1454.33 953.98 1454.33 Q951.781 1454.33 949.328 1455.09 Q946.897 1455.86 944.119 1457.41 L944.119 1452.69 Q946.943 1451.55 949.397 1450.97 Q951.851 1450.39 953.888 1450.39 Q959.258 1450.39 962.453 1453.08 Q965.647 1455.77 965.647 1460.26 Q965.647 1462.39 964.837 1464.31 Q964.05 1466.2 961.943 1468.8 Q961.365 1469.47 958.263 1472.69 Q955.161 1475.88 949.513 1481.64 Z\" fill=\"#000000\" fill-rule=\"evenodd\" fill-opacity=\"1\" /><path clip-path=\"url(#clip260)\" d=\"M1105.95 1481.64 L1122.27 1481.64 L1122.27 1485.58 L1100.33 1485.58 L1100.33 1481.64 Q1102.99 1478.89 1107.57 1474.26 Q1112.18 1469.61 1113.36 1468.27 Q1115.61 1465.74 1116.49 1464.01 Q1117.39 1462.25 1117.39 1460.56 Q1117.39 1457.8 1115.44 1456.07 Q1113.52 1454.33 1110.42 1454.33 Q1108.22 1454.33 1105.77 1455.09 Q1103.34 1455.86 1100.56 1457.41 L1100.56 1452.69 Q1103.38 1451.55 1105.84 1450.97 Q1108.29 1450.39 1110.33 1450.39 Q1115.7 1450.39 1118.89 1453.08 Q1122.09 1455.77 1122.09 1460.26 Q1122.09 1462.39 1121.28 1464.31 Q1120.49 1466.2 1118.38 1468.8 Q1117.81 1469.47 1114.7 1472.69 Q1111.6 1475.88 1105.95 1481.64 Z\" fill=\"#000000\" fill-rule=\"evenodd\" fill-opacity=\"1\" /><path clip-path=\"url(#clip260)\" d=\"M1144.94 1455.09 L1133.13 1473.54 L1144.94 1473.54 L1144.94 1455.09 M1143.71 1451.02 L1149.59 1451.02 L1149.59 1473.54 L1154.52 1473.54 L1154.52 1477.43 L1149.59 1477.43 L1149.59 1485.58 L1144.94 1485.58 L1144.94 1477.43 L1129.33 1477.43 L1129.33 1472.92 L1143.71 1451.02 Z\" fill=\"#000000\" fill-rule=\"evenodd\" fill-opacity=\"1\" /><path clip-path=\"url(#clip260)\" d=\"M646.436 1533.45 L646.436 1538.98 Q643.953 1537.71 641.279 1537.07 Q638.606 1536.44 635.741 1536.44 Q631.381 1536.44 629.185 1537.77 Q627.02 1539.11 627.02 1541.79 Q627.02 1543.82 628.58 1545 Q630.14 1546.15 634.85 1547.2 L636.855 1547.64 Q643.094 1548.98 645.704 1551.43 Q648.345 1553.85 648.345 1558.21 Q648.345 1563.17 644.399 1566.07 Q640.484 1568.97 633.609 1568.97 Q630.744 1568.97 627.625 1568.39 Q624.538 1567.85 621.1 1566.74 L621.1 1560.69 Q624.347 1562.38 627.498 1563.24 Q630.649 1564.07 633.736 1564.07 Q637.874 1564.07 640.102 1562.66 Q642.33 1561.23 642.33 1558.65 Q642.33 1556.27 640.707 1554.99 Q639.115 1553.72 633.672 1552.54 L631.635 1552.07 Q626.193 1550.92 623.774 1548.56 Q621.355 1546.18 621.355 1542.04 Q621.355 1537.01 624.92 1534.27 Q628.484 1531.54 635.041 1531.54 Q638.288 1531.54 641.152 1532.01 Q644.017 1532.49 646.436 1533.45 Z\" fill=\"#000000\" fill-rule=\"evenodd\" fill-opacity=\"1\" /><path clip-path=\"url(#clip260)\" d=\"M663.464 1522.27 L663.464 1532.4 L675.527 1532.4 L675.527 1536.95 L663.464 1536.95 L663.464 1556.3 Q663.464 1560.66 664.642 1561.9 Q665.851 1563.14 669.511 1563.14 L675.527 1563.14 L675.527 1568.04 L669.511 1568.04 Q662.732 1568.04 660.154 1565.53 Q657.576 1562.98 657.576 1556.3 L657.576 1536.95 L653.279 1536.95 L653.279 1532.4 L657.576 1532.4 L657.576 1522.27 L663.464 1522.27 Z\" fill=\"#000000\" fill-rule=\"evenodd\" fill-opacity=\"1\" /><path clip-path=\"url(#clip260)\" d=\"M713.721 1548.76 L713.721 1551.62 L686.794 1551.62 Q687.176 1557.67 690.423 1560.85 Q693.701 1564 699.526 1564 Q702.9 1564 706.051 1563.17 Q709.233 1562.35 712.353 1560.69 L712.353 1566.23 Q709.202 1567.57 705.891 1568.27 Q702.581 1568.97 699.176 1568.97 Q690.646 1568.97 685.648 1564 Q680.683 1559.04 680.683 1550.57 Q680.683 1541.82 685.394 1536.69 Q690.136 1531.54 698.157 1531.54 Q705.35 1531.54 709.52 1536.18 Q713.721 1540.8 713.721 1548.76 M707.865 1547.04 Q707.801 1542.23 705.159 1539.37 Q702.549 1536.5 698.221 1536.5 Q693.319 1536.5 690.359 1539.27 Q687.431 1542.04 686.985 1547.07 L707.865 1547.04 Z\" fill=\"#000000\" fill-rule=\"evenodd\" fill-opacity=\"1\" /><path clip-path=\"url(#clip260)\" d=\"M728.999 1562.7 L728.999 1581.6 L723.111 1581.6 L723.111 1532.4 L728.999 1532.4 L728.999 1537.81 Q730.845 1534.62 733.646 1533.1 Q736.479 1531.54 740.394 1531.54 Q746.887 1531.54 750.929 1536.69 Q755.003 1541.85 755.003 1550.25 Q755.003 1558.65 750.929 1563.81 Q746.887 1568.97 740.394 1568.97 Q736.479 1568.97 733.646 1567.44 Q730.845 1565.88 728.999 1562.7 M748.924 1550.25 Q748.924 1543.79 746.25 1540.13 Q743.608 1536.44 738.961 1536.44 Q734.314 1536.44 731.641 1540.13 Q728.999 1543.79 728.999 1550.25 Q728.999 1556.71 731.641 1560.4 Q734.314 1564.07 738.961 1564.07 Q743.608 1564.07 746.25 1560.4 Q748.924 1556.71 748.924 1550.25 Z\" fill=\"#000000\" fill-rule=\"evenodd\" fill-opacity=\"1\" /><path clip-path=\"url(#clip260)\" d=\"M787.436 1533.45 L787.436 1538.98 Q784.953 1537.71 782.28 1537.07 Q779.606 1536.44 776.742 1536.44 Q772.381 1536.44 770.185 1537.77 Q768.021 1539.11 768.021 1541.79 Q768.021 1543.82 769.58 1545 Q771.14 1546.15 775.851 1547.2 L777.856 1547.64 Q784.094 1548.98 786.704 1551.43 Q789.346 1553.85 789.346 1558.21 Q789.346 1563.17 785.399 1566.07 Q781.484 1568.97 774.609 1568.97 Q771.745 1568.97 768.625 1568.39 Q765.538 1567.85 762.101 1566.74 L762.101 1560.69 Q765.347 1562.38 768.498 1563.24 Q771.649 1564.07 774.737 1564.07 Q778.874 1564.07 781.102 1562.66 Q783.33 1561.23 783.33 1558.65 Q783.33 1556.27 781.707 1554.99 Q780.116 1553.72 774.673 1552.54 L772.636 1552.07 Q767.193 1550.92 764.774 1548.56 Q762.355 1546.18 762.355 1542.04 Q762.355 1537.01 765.92 1534.27 Q769.485 1531.54 776.042 1531.54 Q779.288 1531.54 782.153 1532.01 Q785.017 1532.49 787.436 1533.45 Z\" fill=\"#000000\" fill-rule=\"evenodd\" fill-opacity=\"1\" /><polyline clip-path=\"url(#clip262)\" style=\"stroke:#000000; stroke-linecap:butt; stroke-linejoin:round; stroke-width:2; stroke-opacity:0.1; fill:none\" points=\"\n",
                            "  257.69,1391.09 1152.76,1391.09 \n",
                            "  \"/>\n",
                            "<polyline clip-path=\"url(#clip262)\" style=\"stroke:#000000; stroke-linecap:butt; stroke-linejoin:round; stroke-width:2; stroke-opacity:0.1; fill:none\" points=\"\n",
                            "  257.69,1156.59 1152.76,1156.59 \n",
                            "  \"/>\n",
                            "<polyline clip-path=\"url(#clip262)\" style=\"stroke:#000000; stroke-linecap:butt; stroke-linejoin:round; stroke-width:2; stroke-opacity:0.1; fill:none\" points=\"\n",
                            "  257.69,922.086 1152.76,922.086 \n",
                            "  \"/>\n",
                            "<polyline clip-path=\"url(#clip262)\" style=\"stroke:#000000; stroke-linecap:butt; stroke-linejoin:round; stroke-width:2; stroke-opacity:0.1; fill:none\" points=\"\n",
                            "  257.69,687.585 1152.76,687.585 \n",
                            "  \"/>\n",
                            "<polyline clip-path=\"url(#clip262)\" style=\"stroke:#000000; stroke-linecap:butt; stroke-linejoin:round; stroke-width:2; stroke-opacity:0.1; fill:none\" points=\"\n",
                            "  257.69,453.084 1152.76,453.084 \n",
                            "  \"/>\n",
                            "<polyline clip-path=\"url(#clip262)\" style=\"stroke:#000000; stroke-linecap:butt; stroke-linejoin:round; stroke-width:2; stroke-opacity:0.1; fill:none\" points=\"\n",
                            "  257.69,218.583 1152.76,218.583 \n",
                            "  \"/>\n",
                            "<polyline clip-path=\"url(#clip260)\" style=\"stroke:#000000; stroke-linecap:butt; stroke-linejoin:round; stroke-width:4; stroke-opacity:1; fill:none\" points=\"\n",
                            "  257.69,1423.18 257.69,47.2441 \n",
                            "  \"/>\n",
                            "<polyline clip-path=\"url(#clip260)\" style=\"stroke:#000000; stroke-linecap:butt; stroke-linejoin:round; stroke-width:4; stroke-opacity:1; fill:none\" points=\"\n",
                            "  257.69,1391.09 276.588,1391.09 \n",
                            "  \"/>\n",
                            "<polyline clip-path=\"url(#clip260)\" style=\"stroke:#000000; stroke-linecap:butt; stroke-linejoin:round; stroke-width:4; stroke-opacity:1; fill:none\" points=\"\n",
                            "  257.69,1156.59 276.588,1156.59 \n",
                            "  \"/>\n",
                            "<polyline clip-path=\"url(#clip260)\" style=\"stroke:#000000; stroke-linecap:butt; stroke-linejoin:round; stroke-width:4; stroke-opacity:1; fill:none\" points=\"\n",
                            "  257.69,922.086 276.588,922.086 \n",
                            "  \"/>\n",
                            "<polyline clip-path=\"url(#clip260)\" style=\"stroke:#000000; stroke-linecap:butt; stroke-linejoin:round; stroke-width:4; stroke-opacity:1; fill:none\" points=\"\n",
                            "  257.69,687.585 276.588,687.585 \n",
                            "  \"/>\n",
                            "<polyline clip-path=\"url(#clip260)\" style=\"stroke:#000000; stroke-linecap:butt; stroke-linejoin:round; stroke-width:4; stroke-opacity:1; fill:none\" points=\"\n",
                            "  257.69,453.084 276.588,453.084 \n",
                            "  \"/>\n",
                            "<polyline clip-path=\"url(#clip260)\" style=\"stroke:#000000; stroke-linecap:butt; stroke-linejoin:round; stroke-width:4; stroke-opacity:1; fill:none\" points=\"\n",
                            "  257.69,218.583 276.588,218.583 \n",
                            "  \"/>\n",
                            "<path clip-path=\"url(#clip260)\" d=\"M115.649 1391.54 L145.325 1391.54 L145.325 1395.47 L115.649 1395.47 L115.649 1391.54 Z\" fill=\"#000000\" fill-rule=\"evenodd\" fill-opacity=\"1\" /><path clip-path=\"url(#clip260)\" d=\"M165.417 1376.89 Q161.806 1376.89 159.978 1380.45 Q158.172 1383.99 158.172 1391.12 Q158.172 1398.23 159.978 1401.79 Q161.806 1405.34 165.417 1405.34 Q169.052 1405.34 170.857 1401.79 Q172.686 1398.23 172.686 1391.12 Q172.686 1383.99 170.857 1380.45 Q169.052 1376.89 165.417 1376.89 M165.417 1373.18 Q171.227 1373.18 174.283 1377.79 Q177.362 1382.37 177.362 1391.12 Q177.362 1399.85 174.283 1404.46 Q171.227 1409.04 165.417 1409.04 Q159.607 1409.04 156.528 1404.46 Q153.473 1399.85 153.473 1391.12 Q153.473 1382.37 156.528 1377.79 Q159.607 1373.18 165.417 1373.18 Z\" fill=\"#000000\" fill-rule=\"evenodd\" fill-opacity=\"1\" /><path clip-path=\"url(#clip260)\" d=\"M185.579 1402.49 L190.463 1402.49 L190.463 1408.37 L185.579 1408.37 L185.579 1402.49 Z\" fill=\"#000000\" fill-rule=\"evenodd\" fill-opacity=\"1\" /><path clip-path=\"url(#clip260)\" d=\"M199.468 1373.81 L221.69 1373.81 L221.69 1375.8 L209.144 1408.37 L204.26 1408.37 L216.065 1377.74 L199.468 1377.74 L199.468 1373.81 Z\" fill=\"#000000\" fill-rule=\"evenodd\" fill-opacity=\"1\" /><path clip-path=\"url(#clip260)\" d=\"M114.584 1157.04 L144.26 1157.04 L144.26 1160.97 L114.584 1160.97 L114.584 1157.04 Z\" fill=\"#000000\" fill-rule=\"evenodd\" fill-opacity=\"1\" /><path clip-path=\"url(#clip260)\" d=\"M164.352 1142.39 Q160.741 1142.39 158.913 1145.95 Q157.107 1149.49 157.107 1156.62 Q157.107 1163.73 158.913 1167.29 Q160.741 1170.83 164.352 1170.83 Q167.987 1170.83 169.792 1167.29 Q171.621 1163.73 171.621 1156.62 Q171.621 1149.49 169.792 1145.95 Q167.987 1142.39 164.352 1142.39 M164.352 1138.68 Q170.163 1138.68 173.218 1143.29 Q176.297 1147.87 176.297 1156.62 Q176.297 1165.35 173.218 1169.95 Q170.163 1174.54 164.352 1174.54 Q158.542 1174.54 155.464 1169.95 Q152.408 1165.35 152.408 1156.62 Q152.408 1147.87 155.464 1143.29 Q158.542 1138.68 164.352 1138.68 Z\" fill=\"#000000\" fill-rule=\"evenodd\" fill-opacity=\"1\" /><path clip-path=\"url(#clip260)\" d=\"M184.514 1167.99 L189.399 1167.99 L189.399 1173.87 L184.514 1173.87 L184.514 1167.99 Z\" fill=\"#000000\" fill-rule=\"evenodd\" fill-opacity=\"1\" /><path clip-path=\"url(#clip260)\" d=\"M210.162 1154.72 Q207.014 1154.72 205.162 1156.88 Q203.334 1159.03 203.334 1162.78 Q203.334 1166.51 205.162 1168.68 Q207.014 1170.83 210.162 1170.83 Q213.311 1170.83 215.139 1168.68 Q216.991 1166.51 216.991 1162.78 Q216.991 1159.03 215.139 1156.88 Q213.311 1154.72 210.162 1154.72 M219.445 1140.07 L219.445 1144.33 Q217.686 1143.5 215.88 1143.06 Q214.098 1142.62 212.338 1142.62 Q207.709 1142.62 205.255 1145.74 Q202.824 1148.87 202.477 1155.19 Q203.843 1153.17 205.903 1152.11 Q207.963 1151.02 210.44 1151.02 Q215.649 1151.02 218.658 1154.19 Q221.69 1157.34 221.69 1162.78 Q221.69 1168.1 218.542 1171.32 Q215.394 1174.54 210.162 1174.54 Q204.167 1174.54 200.996 1169.95 Q197.825 1165.35 197.825 1156.62 Q197.825 1148.43 201.713 1143.57 Q205.602 1138.68 212.153 1138.68 Q213.912 1138.68 215.695 1139.03 Q217.5 1139.38 219.445 1140.07 Z\" fill=\"#000000\" fill-rule=\"evenodd\" fill-opacity=\"1\" /><path clip-path=\"url(#clip260)\" d=\"M115.742 922.537 L145.417 922.537 L145.417 926.473 L115.742 926.473 L115.742 922.537 Z\" fill=\"#000000\" fill-rule=\"evenodd\" fill-opacity=\"1\" /><path clip-path=\"url(#clip260)\" d=\"M165.51 907.885 Q161.899 907.885 160.07 911.449 Q158.265 914.991 158.265 922.121 Q158.265 929.227 160.07 932.792 Q161.899 936.334 165.51 936.334 Q169.144 936.334 170.95 932.792 Q172.778 929.227 172.778 922.121 Q172.778 914.991 170.95 911.449 Q169.144 907.885 165.51 907.885 M165.51 904.181 Q171.32 904.181 174.376 908.787 Q177.454 913.371 177.454 922.121 Q177.454 930.848 174.376 935.454 Q171.32 940.037 165.51 940.037 Q159.7 940.037 156.621 935.454 Q153.566 930.848 153.566 922.121 Q153.566 913.371 156.621 908.787 Q159.7 904.181 165.51 904.181 Z\" fill=\"#000000\" fill-rule=\"evenodd\" fill-opacity=\"1\" /><path clip-path=\"url(#clip260)\" d=\"M185.672 933.486 L190.556 933.486 L190.556 939.366 L185.672 939.366 L185.672 933.486 Z\" fill=\"#000000\" fill-rule=\"evenodd\" fill-opacity=\"1\" /><path clip-path=\"url(#clip260)\" d=\"M200.787 904.806 L219.144 904.806 L219.144 908.741 L205.07 908.741 L205.07 917.213 Q206.088 916.866 207.107 916.704 Q208.125 916.519 209.144 916.519 Q214.931 916.519 218.311 919.69 Q221.69 922.861 221.69 928.278 Q221.69 933.857 218.218 936.959 Q214.746 940.037 208.426 940.037 Q206.25 940.037 203.982 939.667 Q201.737 939.297 199.329 938.556 L199.329 933.857 Q201.412 934.991 203.635 935.547 Q205.857 936.102 208.334 936.102 Q212.338 936.102 214.676 933.996 Q217.014 931.889 217.014 928.278 Q217.014 924.667 214.676 922.561 Q212.338 920.454 208.334 920.454 Q206.459 920.454 204.584 920.871 Q202.732 921.287 200.787 922.167 L200.787 904.806 Z\" fill=\"#000000\" fill-rule=\"evenodd\" fill-opacity=\"1\" /><path clip-path=\"url(#clip260)\" d=\"M114.26 688.036 L143.936 688.036 L143.936 691.972 L114.26 691.972 L114.26 688.036 Z\" fill=\"#000000\" fill-rule=\"evenodd\" fill-opacity=\"1\" /><path clip-path=\"url(#clip260)\" d=\"M164.028 673.384 Q160.417 673.384 158.589 676.949 Q156.783 680.49 156.783 687.62 Q156.783 694.726 158.589 698.291 Q160.417 701.833 164.028 701.833 Q167.663 701.833 169.468 698.291 Q171.297 694.726 171.297 687.62 Q171.297 680.49 169.468 676.949 Q167.663 673.384 164.028 673.384 M164.028 669.68 Q169.839 669.68 172.894 674.287 Q175.973 678.87 175.973 687.62 Q175.973 696.347 172.894 700.953 Q169.839 705.536 164.028 705.536 Q158.218 705.536 155.14 700.953 Q152.084 696.347 152.084 687.62 Q152.084 678.87 155.14 674.287 Q158.218 669.68 164.028 669.68 Z\" fill=\"#000000\" fill-rule=\"evenodd\" fill-opacity=\"1\" /><path clip-path=\"url(#clip260)\" d=\"M184.19 698.985 L189.075 698.985 L189.075 704.865 L184.19 704.865 L184.19 698.985 Z\" fill=\"#000000\" fill-rule=\"evenodd\" fill-opacity=\"1\" /><path clip-path=\"url(#clip260)\" d=\"M212.107 674.379 L200.301 692.828 L212.107 692.828 L212.107 674.379 M210.88 670.305 L216.76 670.305 L216.76 692.828 L221.69 692.828 L221.69 696.717 L216.76 696.717 L216.76 704.865 L212.107 704.865 L212.107 696.717 L196.505 696.717 L196.505 692.203 L210.88 670.305 Z\" fill=\"#000000\" fill-rule=\"evenodd\" fill-opacity=\"1\" /><path clip-path=\"url(#clip260)\" d=\"M115.394 453.536 L145.07 453.536 L145.07 457.471 L115.394 457.471 L115.394 453.536 Z\" fill=\"#000000\" fill-rule=\"evenodd\" fill-opacity=\"1\" /><path clip-path=\"url(#clip260)\" d=\"M165.163 438.883 Q161.552 438.883 159.723 442.448 Q157.917 445.989 157.917 453.119 Q157.917 460.225 159.723 463.79 Q161.552 467.332 165.163 467.332 Q168.797 467.332 170.602 463.79 Q172.431 460.225 172.431 453.119 Q172.431 445.989 170.602 442.448 Q168.797 438.883 165.163 438.883 M165.163 435.179 Q170.973 435.179 174.028 439.786 Q177.107 444.369 177.107 453.119 Q177.107 461.846 174.028 466.452 Q170.973 471.035 165.163 471.035 Q159.353 471.035 156.274 466.452 Q153.218 461.846 153.218 453.119 Q153.218 444.369 156.274 439.786 Q159.353 435.179 165.163 435.179 Z\" fill=\"#000000\" fill-rule=\"evenodd\" fill-opacity=\"1\" /><path clip-path=\"url(#clip260)\" d=\"M185.325 464.485 L190.209 464.485 L190.209 470.364 L185.325 470.364 L185.325 464.485 Z\" fill=\"#000000\" fill-rule=\"evenodd\" fill-opacity=\"1\" /><path clip-path=\"url(#clip260)\" d=\"M214.561 451.73 Q217.917 452.448 219.792 454.716 Q221.69 456.985 221.69 460.318 Q221.69 465.434 218.172 468.235 Q214.653 471.035 208.172 471.035 Q205.996 471.035 203.681 470.596 Q201.389 470.179 198.936 469.323 L198.936 464.809 Q200.88 465.943 203.195 466.522 Q205.51 467.1 208.033 467.1 Q212.431 467.1 214.723 465.364 Q217.037 463.628 217.037 460.318 Q217.037 457.262 214.885 455.549 Q212.755 453.813 208.936 453.813 L204.908 453.813 L204.908 449.971 L209.121 449.971 Q212.57 449.971 214.399 448.605 Q216.227 447.216 216.227 444.624 Q216.227 441.962 214.329 440.55 Q212.454 439.114 208.936 439.114 Q207.014 439.114 204.815 439.531 Q202.616 439.948 199.977 440.827 L199.977 436.661 Q202.639 435.92 204.954 435.55 Q207.292 435.179 209.352 435.179 Q214.676 435.179 217.778 437.61 Q220.88 440.017 220.88 444.137 Q220.88 447.008 219.236 448.999 Q217.593 450.966 214.561 451.73 Z\" fill=\"#000000\" fill-rule=\"evenodd\" fill-opacity=\"1\" /><path clip-path=\"url(#clip260)\" d=\"M116.343 219.035 L146.019 219.035 L146.019 222.97 L116.343 222.97 L116.343 219.035 Z\" fill=\"#000000\" fill-rule=\"evenodd\" fill-opacity=\"1\" /><path clip-path=\"url(#clip260)\" d=\"M166.112 204.382 Q162.501 204.382 160.672 207.947 Q158.866 211.488 158.866 218.618 Q158.866 225.724 160.672 229.289 Q162.501 232.831 166.112 232.831 Q169.746 232.831 171.552 229.289 Q173.38 225.724 173.38 218.618 Q173.38 211.488 171.552 207.947 Q169.746 204.382 166.112 204.382 M166.112 200.678 Q171.922 200.678 174.977 205.285 Q178.056 209.868 178.056 218.618 Q178.056 227.345 174.977 231.951 Q171.922 236.535 166.112 236.535 Q160.302 236.535 157.223 231.951 Q154.167 227.345 154.167 218.618 Q154.167 209.868 157.223 205.285 Q160.302 200.678 166.112 200.678 Z\" fill=\"#000000\" fill-rule=\"evenodd\" fill-opacity=\"1\" /><path clip-path=\"url(#clip260)\" d=\"M186.274 229.984 L191.158 229.984 L191.158 235.863 L186.274 235.863 L186.274 229.984 Z\" fill=\"#000000\" fill-rule=\"evenodd\" fill-opacity=\"1\" /><path clip-path=\"url(#clip260)\" d=\"M205.371 231.928 L221.69 231.928 L221.69 235.863 L199.746 235.863 L199.746 231.928 Q202.408 229.174 206.991 224.544 Q211.598 219.891 212.778 218.549 Q215.024 216.025 215.903 214.289 Q216.806 212.53 216.806 210.84 Q216.806 208.086 214.861 206.35 Q212.94 204.613 209.838 204.613 Q207.639 204.613 205.186 205.377 Q202.755 206.141 199.977 207.692 L199.977 202.97 Q202.801 201.836 205.255 201.257 Q207.709 200.678 209.746 200.678 Q215.116 200.678 218.311 203.363 Q221.505 206.049 221.505 210.539 Q221.505 212.669 220.695 214.59 Q219.908 216.488 217.801 219.081 Q217.223 219.752 214.121 222.97 Q211.019 226.164 205.371 231.928 Z\" fill=\"#000000\" fill-rule=\"evenodd\" fill-opacity=\"1\" /><path clip-path=\"url(#clip260)\" d=\"M16.4842 968.292 L16.4842 940.983 L21.895 940.983 L21.895 961.863 L35.8996 961.863 L35.8996 943.02 L41.3104 943.02 L41.3104 961.863 L64.0042 961.863 L64.0042 968.292 L16.4842 968.292 Z\" fill=\"#000000\" fill-rule=\"evenodd\" fill-opacity=\"1\" /><path clip-path=\"url(#clip260)\" d=\"M49.9359 935.222 L28.3562 935.222 L28.3562 929.366 L49.7131 929.366 Q54.7739 929.366 57.3202 927.393 Q59.8346 925.419 59.8346 921.473 Q59.8346 916.73 56.8109 913.993 Q53.7872 911.224 48.5673 911.224 L28.3562 911.224 L28.3562 905.367 L64.0042 905.367 L64.0042 911.224 L58.5296 911.224 Q61.7762 913.356 63.3676 916.189 Q64.9272 918.99 64.9272 922.714 Q64.9272 928.857 61.1078 932.04 Q57.2883 935.222 49.9359 935.222 M27.4968 920.486 L27.4968 920.486 Z\" fill=\"#000000\" fill-rule=\"evenodd\" fill-opacity=\"1\" /><path clip-path=\"url(#clip260)\" d=\"M42.4881 863.672 L64.0042 863.672 L64.0042 869.528 L42.679 869.528 Q37.6183 869.528 35.1038 871.502 Q32.5894 873.475 32.5894 877.422 Q32.5894 882.164 35.6131 884.902 Q38.6368 887.639 43.8567 887.639 L64.0042 887.639 L64.0042 893.527 L28.3562 893.527 L28.3562 887.639 L33.8944 887.639 Q30.6797 885.538 29.0883 882.705 Q27.4968 879.841 27.4968 876.117 Q27.4968 869.974 31.3163 866.823 Q35.1038 863.672 42.4881 863.672 Z\" fill=\"#000000\" fill-rule=\"evenodd\" fill-opacity=\"1\" /><path clip-path=\"url(#clip260)\" d=\"M29.7248 826.337 L35.1993 826.337 Q33.8307 828.82 33.1623 831.334 Q32.4621 833.817 32.4621 836.363 Q32.4621 842.06 36.0905 845.211 Q39.6872 848.362 46.212 848.362 Q52.7369 848.362 56.3653 845.211 Q59.9619 842.06 59.9619 836.363 Q59.9619 833.817 59.2935 831.334 Q58.5933 828.82 57.2247 826.337 L62.6355 826.337 Q63.7814 828.788 64.3543 831.43 Q64.9272 834.04 64.9272 837 Q64.9272 845.052 59.8664 849.795 Q54.8057 854.537 46.212 854.537 Q37.491 854.537 32.4939 849.763 Q27.4968 844.957 27.4968 836.618 Q27.4968 833.912 28.0697 831.334 Q28.6108 828.756 29.7248 826.337 Z\" fill=\"#000000\" fill-rule=\"evenodd\" fill-opacity=\"1\" /><path clip-path=\"url(#clip260)\" d=\"M18.2347 810.359 L28.3562 810.359 L28.3562 798.296 L32.9077 798.296 L32.9077 810.359 L52.2594 810.359 Q56.6199 810.359 57.8613 809.181 Q59.1026 807.972 59.1026 804.312 L59.1026 798.296 L64.0042 798.296 L64.0042 804.312 Q64.0042 811.091 61.4897 813.669 Q58.9434 816.247 52.2594 816.247 L32.9077 816.247 L32.9077 820.544 L28.3562 820.544 L28.3562 816.247 L18.2347 816.247 L18.2347 810.359 Z\" fill=\"#000000\" fill-rule=\"evenodd\" fill-opacity=\"1\" /><path clip-path=\"url(#clip260)\" d=\"M28.3562 790.594 L28.3562 784.737 L64.0042 784.737 L64.0042 790.594 L28.3562 790.594 M14.479 790.594 L14.479 784.737 L21.895 784.737 L21.895 790.594 L14.479 790.594 Z\" fill=\"#000000\" fill-rule=\"evenodd\" fill-opacity=\"1\" /><path clip-path=\"url(#clip260)\" d=\"M32.4621 758.67 Q32.4621 763.38 36.1542 766.117 Q39.8145 768.855 46.212 768.855 Q52.6095 768.855 56.3017 766.149 Q59.9619 763.412 59.9619 758.67 Q59.9619 753.991 56.2698 751.254 Q52.5777 748.516 46.212 748.516 Q39.8781 748.516 36.186 751.254 Q32.4621 753.991 32.4621 758.67 M27.4968 758.67 Q27.4968 751.031 32.4621 746.67 Q37.4273 742.31 46.212 742.31 Q54.9649 742.31 59.9619 746.67 Q64.9272 751.031 64.9272 758.67 Q64.9272 766.34 59.9619 770.701 Q54.9649 775.029 46.212 775.029 Q37.4273 775.029 32.4621 770.701 Q27.4968 766.34 27.4968 758.67 Z\" fill=\"#000000\" fill-rule=\"evenodd\" fill-opacity=\"1\" /><path clip-path=\"url(#clip260)\" d=\"M42.4881 702.97 L64.0042 702.97 L64.0042 708.826 L42.679 708.826 Q37.6183 708.826 35.1038 710.799 Q32.5894 712.773 32.5894 716.72 Q32.5894 721.462 35.6131 724.199 Q38.6368 726.937 43.8567 726.937 L64.0042 726.937 L64.0042 732.825 L28.3562 732.825 L28.3562 726.937 L33.8944 726.937 Q30.6797 724.836 29.0883 722.003 Q27.4968 719.139 27.4968 715.415 Q27.4968 709.272 31.3163 706.121 Q35.1038 702.97 42.4881 702.97 Z\" fill=\"#000000\" fill-rule=\"evenodd\" fill-opacity=\"1\" /><path clip-path=\"url(#clip260)\" d=\"M28.3562 674.77 L28.3562 668.563 L58.275 657.423 L28.3562 646.283 L28.3562 640.076 L64.0042 653.444 L64.0042 661.402 L28.3562 674.77 Z\" fill=\"#000000\" fill-rule=\"evenodd\" fill-opacity=\"1\" /><path clip-path=\"url(#clip260)\" d=\"M46.0847 615.791 Q46.0847 622.889 47.7079 625.626 Q49.3312 628.364 53.2461 628.364 Q56.3653 628.364 58.2114 626.327 Q60.0256 624.258 60.0256 620.725 Q60.0256 615.855 56.5881 612.927 Q53.1188 609.967 47.3897 609.967 L46.0847 609.967 L46.0847 615.791 M43.6657 604.11 L64.0042 604.11 L64.0042 609.967 L58.5933 609.967 Q61.8398 611.972 63.3994 614.964 Q64.9272 617.956 64.9272 622.284 Q64.9272 627.759 61.8716 631.005 Q58.7843 634.22 53.6281 634.22 Q47.6125 634.22 44.5569 630.21 Q41.5014 626.167 41.5014 618.178 L41.5014 609.967 L40.9285 609.967 Q36.8862 609.967 34.6901 612.64 Q32.4621 615.282 32.4621 620.088 Q32.4621 623.144 33.1941 626.04 Q33.9262 628.936 35.3903 631.61 L29.9795 631.61 Q28.7381 628.395 28.1334 625.372 Q27.4968 622.348 27.4968 619.483 Q27.4968 611.749 31.5072 607.93 Q35.5176 604.11 43.6657 604.11 Z\" fill=\"#000000\" fill-rule=\"evenodd\" fill-opacity=\"1\" /><path clip-path=\"url(#clip260)\" d=\"M14.479 592.047 L14.479 586.191 L64.0042 586.191 L64.0042 592.047 L14.479 592.047 Z\" fill=\"#000000\" fill-rule=\"evenodd\" fill-opacity=\"1\" /><path clip-path=\"url(#clip260)\" d=\"M49.9359 574.542 L28.3562 574.542 L28.3562 568.685 L49.7131 568.685 Q54.7739 568.685 57.3202 566.712 Q59.8346 564.738 59.8346 560.792 Q59.8346 556.049 56.8109 553.312 Q53.7872 550.543 48.5673 550.543 L28.3562 550.543 L28.3562 544.686 L64.0042 544.686 L64.0042 550.543 L58.5296 550.543 Q61.7762 552.675 63.3676 555.508 Q64.9272 558.309 64.9272 562.033 Q64.9272 568.176 61.1078 571.359 Q57.2883 574.542 49.9359 574.542 M27.4968 559.805 L27.4968 559.805 Z\" fill=\"#000000\" fill-rule=\"evenodd\" fill-opacity=\"1\" /><path clip-path=\"url(#clip260)\" d=\"M44.7161 502.132 L47.5806 502.132 L47.5806 529.059 Q53.6281 528.677 56.8109 525.43 Q59.9619 522.152 59.9619 516.327 Q59.9619 512.953 59.1344 509.802 Q58.3069 506.619 56.6518 503.5 L62.1899 503.5 Q63.5267 506.651 64.227 509.961 Q64.9272 513.272 64.9272 516.677 Q64.9272 525.207 59.9619 530.204 Q54.9967 535.17 46.5303 535.17 Q37.7774 535.17 32.6531 530.459 Q27.4968 525.717 27.4968 517.696 Q27.4968 510.503 32.1438 506.333 Q36.7589 502.132 44.7161 502.132 M42.9973 507.988 Q38.1912 508.052 35.3266 510.693 Q32.4621 513.303 32.4621 517.632 Q32.4621 522.534 35.2312 525.494 Q38.0002 528.422 43.0292 528.868 L42.9973 507.988 Z\" fill=\"#000000\" fill-rule=\"evenodd\" fill-opacity=\"1\" /><circle clip-path=\"url(#clip262)\" cx=\"283.022\" cy=\"1221.23\" r=\"14.4\" fill=\"#009af9\" fill-rule=\"evenodd\" fill-opacity=\"1\" stroke=\"#000000\" stroke-opacity=\"1\" stroke-width=\"3.2\"/>\n",
                            "<circle clip-path=\"url(#clip262)\" cx=\"376.845\" cy=\"831.202\" r=\"14.4\" fill=\"#009af9\" fill-rule=\"evenodd\" fill-opacity=\"1\" stroke=\"#000000\" stroke-opacity=\"1\" stroke-width=\"3.2\"/>\n",
                            "<circle clip-path=\"url(#clip262)\" cx=\"470.667\" cy=\"1007.81\" r=\"14.4\" fill=\"#009af9\" fill-rule=\"evenodd\" fill-opacity=\"1\" stroke=\"#000000\" stroke-opacity=\"1\" stroke-width=\"3.2\"/>\n",
                            "<circle clip-path=\"url(#clip262)\" cx=\"564.489\" cy=\"792.291\" r=\"14.4\" fill=\"#009af9\" fill-rule=\"evenodd\" fill-opacity=\"1\" stroke=\"#000000\" stroke-opacity=\"1\" stroke-width=\"3.2\"/>\n",
                            "<circle clip-path=\"url(#clip262)\" cx=\"658.312\" cy=\"1384.24\" r=\"14.4\" fill=\"#009af9\" fill-rule=\"evenodd\" fill-opacity=\"1\" stroke=\"#000000\" stroke-opacity=\"1\" stroke-width=\"3.2\"/>\n",
                            "<circle clip-path=\"url(#clip262)\" cx=\"752.134\" cy=\"86.1857\" r=\"14.4\" fill=\"#009af9\" fill-rule=\"evenodd\" fill-opacity=\"1\" stroke=\"#000000\" stroke-opacity=\"1\" stroke-width=\"3.2\"/>\n",
                            "<circle clip-path=\"url(#clip262)\" cx=\"845.957\" cy=\"824.473\" r=\"14.4\" fill=\"#009af9\" fill-rule=\"evenodd\" fill-opacity=\"1\" stroke=\"#000000\" stroke-opacity=\"1\" stroke-width=\"3.2\"/>\n",
                            "<circle clip-path=\"url(#clip262)\" cx=\"939.779\" cy=\"1110.41\" r=\"14.4\" fill=\"#009af9\" fill-rule=\"evenodd\" fill-opacity=\"1\" stroke=\"#000000\" stroke-opacity=\"1\" stroke-width=\"3.2\"/>\n",
                            "<circle clip-path=\"url(#clip262)\" cx=\"1033.6\" cy=\"764.376\" r=\"14.4\" fill=\"#009af9\" fill-rule=\"evenodd\" fill-opacity=\"1\" stroke=\"#000000\" stroke-opacity=\"1\" stroke-width=\"3.2\"/>\n",
                            "<circle clip-path=\"url(#clip262)\" cx=\"1127.42\" cy=\"1001.7\" r=\"14.4\" fill=\"#009af9\" fill-rule=\"evenodd\" fill-opacity=\"1\" stroke=\"#000000\" stroke-opacity=\"1\" stroke-width=\"3.2\"/>\n",
                            "<path clip-path=\"url(#clip260)\" d=\"\n",
                            "M1457.69 1423.18 L2352.76 1423.18 L2352.76 47.2441 L1457.69 47.2441  Z\n",
                            "  \" fill=\"#ffffff\" fill-rule=\"evenodd\" fill-opacity=\"1\"/>\n",
                            "<defs>\n",
                            "  <clipPath id=\"clip263\">\n",
                            "    <rect x=\"1457\" y=\"47\" width=\"896\" height=\"1377\"/>\n",
                            "  </clipPath>\n",
                            "</defs>\n",
                            "<polyline clip-path=\"url(#clip263)\" style=\"stroke:#000000; stroke-linecap:butt; stroke-linejoin:round; stroke-width:2; stroke-opacity:0.1; fill:none\" points=\"\n",
                            "  1576.84,1423.18 1576.84,47.2441 \n",
                            "  \"/>\n",
                            "<polyline clip-path=\"url(#clip263)\" style=\"stroke:#000000; stroke-linecap:butt; stroke-linejoin:round; stroke-width:2; stroke-opacity:0.1; fill:none\" points=\"\n",
                            "  1764.49,1423.18 1764.49,47.2441 \n",
                            "  \"/>\n",
                            "<polyline clip-path=\"url(#clip263)\" style=\"stroke:#000000; stroke-linecap:butt; stroke-linejoin:round; stroke-width:2; stroke-opacity:0.1; fill:none\" points=\"\n",
                            "  1952.13,1423.18 1952.13,47.2441 \n",
                            "  \"/>\n",
                            "<polyline clip-path=\"url(#clip263)\" style=\"stroke:#000000; stroke-linecap:butt; stroke-linejoin:round; stroke-width:2; stroke-opacity:0.1; fill:none\" points=\"\n",
                            "  2139.78,1423.18 2139.78,47.2441 \n",
                            "  \"/>\n",
                            "<polyline clip-path=\"url(#clip263)\" style=\"stroke:#000000; stroke-linecap:butt; stroke-linejoin:round; stroke-width:2; stroke-opacity:0.1; fill:none\" points=\"\n",
                            "  2327.42,1423.18 2327.42,47.2441 \n",
                            "  \"/>\n",
                            "<polyline clip-path=\"url(#clip260)\" style=\"stroke:#000000; stroke-linecap:butt; stroke-linejoin:round; stroke-width:4; stroke-opacity:1; fill:none\" points=\"\n",
                            "  1457.69,1423.18 2352.76,1423.18 \n",
                            "  \"/>\n",
                            "<polyline clip-path=\"url(#clip260)\" style=\"stroke:#000000; stroke-linecap:butt; stroke-linejoin:round; stroke-width:4; stroke-opacity:1; fill:none\" points=\"\n",
                            "  1576.84,1423.18 1576.84,1404.28 \n",
                            "  \"/>\n",
                            "<polyline clip-path=\"url(#clip260)\" style=\"stroke:#000000; stroke-linecap:butt; stroke-linejoin:round; stroke-width:4; stroke-opacity:1; fill:none\" points=\"\n",
                            "  1764.49,1423.18 1764.49,1404.28 \n",
                            "  \"/>\n",
                            "<polyline clip-path=\"url(#clip260)\" style=\"stroke:#000000; stroke-linecap:butt; stroke-linejoin:round; stroke-width:4; stroke-opacity:1; fill:none\" points=\"\n",
                            "  1952.13,1423.18 1952.13,1404.28 \n",
                            "  \"/>\n",
                            "<polyline clip-path=\"url(#clip260)\" style=\"stroke:#000000; stroke-linecap:butt; stroke-linejoin:round; stroke-width:4; stroke-opacity:1; fill:none\" points=\"\n",
                            "  2139.78,1423.18 2139.78,1404.28 \n",
                            "  \"/>\n",
                            "<polyline clip-path=\"url(#clip260)\" style=\"stroke:#000000; stroke-linecap:butt; stroke-linejoin:round; stroke-width:4; stroke-opacity:1; fill:none\" points=\"\n",
                            "  2327.42,1423.18 2327.42,1404.28 \n",
                            "  \"/>\n",
                            "<path clip-path=\"url(#clip260)\" d=\"M1539.95 1454.1 Q1536.34 1454.1 1534.51 1457.66 Q1532.7 1461.2 1532.7 1468.33 Q1532.7 1475.44 1534.51 1479.01 Q1536.34 1482.55 1539.95 1482.55 Q1543.58 1482.55 1545.39 1479.01 Q1547.22 1475.44 1547.22 1468.33 Q1547.22 1461.2 1545.39 1457.66 Q1543.58 1454.1 1539.95 1454.1 M1539.95 1450.39 Q1545.76 1450.39 1548.81 1455 Q1551.89 1459.58 1551.89 1468.33 Q1551.89 1477.06 1548.81 1481.67 Q1545.76 1486.25 1539.95 1486.25 Q1534.14 1486.25 1531.06 1481.67 Q1528 1477.06 1528 1468.33 Q1528 1459.58 1531.06 1455 Q1534.14 1450.39 1539.95 1450.39 Z\" fill=\"#000000\" fill-rule=\"evenodd\" fill-opacity=\"1\" /><path clip-path=\"url(#clip260)\" d=\"M1560.11 1479.7 L1564.99 1479.7 L1564.99 1485.58 L1560.11 1485.58 L1560.11 1479.7 Z\" fill=\"#000000\" fill-rule=\"evenodd\" fill-opacity=\"1\" /><path clip-path=\"url(#clip260)\" d=\"M1585.18 1454.1 Q1581.57 1454.1 1579.74 1457.66 Q1577.93 1461.2 1577.93 1468.33 Q1577.93 1475.44 1579.74 1479.01 Q1581.57 1482.55 1585.18 1482.55 Q1588.81 1482.55 1590.62 1479.01 Q1592.45 1475.44 1592.45 1468.33 Q1592.45 1461.2 1590.62 1457.66 Q1588.81 1454.1 1585.18 1454.1 M1585.18 1450.39 Q1590.99 1450.39 1594.04 1455 Q1597.12 1459.58 1597.12 1468.33 Q1597.12 1477.06 1594.04 1481.67 Q1590.99 1486.25 1585.18 1486.25 Q1579.37 1486.25 1576.29 1481.67 Q1573.23 1477.06 1573.23 1468.33 Q1573.23 1459.58 1576.29 1455 Q1579.37 1450.39 1585.18 1450.39 Z\" fill=\"#000000\" fill-rule=\"evenodd\" fill-opacity=\"1\" /><path clip-path=\"url(#clip260)\" d=\"M1609.37 1481.64 L1625.69 1481.64 L1625.69 1485.58 L1603.74 1485.58 L1603.74 1481.64 Q1606.4 1478.89 1610.99 1474.26 Q1615.59 1469.61 1616.77 1468.27 Q1619.02 1465.74 1619.9 1464.01 Q1620.8 1462.25 1620.8 1460.56 Q1620.8 1457.8 1618.86 1456.07 Q1616.94 1454.33 1613.84 1454.33 Q1611.64 1454.33 1609.18 1455.09 Q1606.75 1455.86 1603.97 1457.41 L1603.97 1452.69 Q1606.8 1451.55 1609.25 1450.97 Q1611.71 1450.39 1613.74 1450.39 Q1619.11 1450.39 1622.31 1453.08 Q1625.5 1455.77 1625.5 1460.26 Q1625.5 1462.39 1624.69 1464.31 Q1623.9 1466.2 1621.8 1468.8 Q1621.22 1469.47 1618.12 1472.69 Q1615.02 1475.88 1609.37 1481.64 Z\" fill=\"#000000\" fill-rule=\"evenodd\" fill-opacity=\"1\" /><path clip-path=\"url(#clip260)\" d=\"M1726.55 1454.1 Q1722.94 1454.1 1721.11 1457.66 Q1719.3 1461.2 1719.3 1468.33 Q1719.3 1475.44 1721.11 1479.01 Q1722.94 1482.55 1726.55 1482.55 Q1730.18 1482.55 1731.99 1479.01 Q1733.82 1475.44 1733.82 1468.33 Q1733.82 1461.2 1731.99 1457.66 Q1730.18 1454.1 1726.55 1454.1 M1726.55 1450.39 Q1732.36 1450.39 1735.42 1455 Q1738.49 1459.58 1738.49 1468.33 Q1738.49 1477.06 1735.42 1481.67 Q1732.36 1486.25 1726.55 1486.25 Q1720.74 1486.25 1717.66 1481.67 Q1714.61 1477.06 1714.61 1468.33 Q1714.61 1459.58 1717.66 1455 Q1720.74 1450.39 1726.55 1450.39 Z\" fill=\"#000000\" fill-rule=\"evenodd\" fill-opacity=\"1\" /><path clip-path=\"url(#clip260)\" d=\"M1746.71 1479.7 L1751.6 1479.7 L1751.6 1485.58 L1746.71 1485.58 L1746.71 1479.7 Z\" fill=\"#000000\" fill-rule=\"evenodd\" fill-opacity=\"1\" /><path clip-path=\"url(#clip260)\" d=\"M1771.78 1454.1 Q1768.17 1454.1 1766.34 1457.66 Q1764.54 1461.2 1764.54 1468.33 Q1764.54 1475.44 1766.34 1479.01 Q1768.17 1482.55 1771.78 1482.55 Q1775.42 1482.55 1777.22 1479.01 Q1779.05 1475.44 1779.05 1468.33 Q1779.05 1461.2 1777.22 1457.66 Q1775.42 1454.1 1771.78 1454.1 M1771.78 1450.39 Q1777.59 1450.39 1780.65 1455 Q1783.73 1459.58 1783.73 1468.33 Q1783.73 1477.06 1780.65 1481.67 Q1777.59 1486.25 1771.78 1486.25 Q1765.97 1486.25 1762.89 1481.67 Q1759.84 1477.06 1759.84 1468.33 Q1759.84 1459.58 1762.89 1455 Q1765.97 1450.39 1771.78 1450.39 Z\" fill=\"#000000\" fill-rule=\"evenodd\" fill-opacity=\"1\" /><path clip-path=\"url(#clip260)\" d=\"M1804.79 1455.09 L1792.98 1473.54 L1804.79 1473.54 L1804.79 1455.09 M1803.56 1451.02 L1809.44 1451.02 L1809.44 1473.54 L1814.37 1473.54 L1814.37 1477.43 L1809.44 1477.43 L1809.44 1485.58 L1804.79 1485.58 L1804.79 1477.43 L1789.19 1477.43 L1789.19 1472.92 L1803.56 1451.02 Z\" fill=\"#000000\" fill-rule=\"evenodd\" fill-opacity=\"1\" /><path clip-path=\"url(#clip260)\" d=\"M1914.36 1454.1 Q1910.75 1454.1 1908.92 1457.66 Q1907.11 1461.2 1907.11 1468.33 Q1907.11 1475.44 1908.92 1479.01 Q1910.75 1482.55 1914.36 1482.55 Q1917.99 1482.55 1919.8 1479.01 Q1921.63 1475.44 1921.63 1468.33 Q1921.63 1461.2 1919.8 1457.66 Q1917.99 1454.1 1914.36 1454.1 M1914.36 1450.39 Q1920.17 1450.39 1923.22 1455 Q1926.3 1459.58 1926.3 1468.33 Q1926.3 1477.06 1923.22 1481.67 Q1920.17 1486.25 1914.36 1486.25 Q1908.55 1486.25 1905.47 1481.67 Q1902.41 1477.06 1902.41 1468.33 Q1902.41 1459.58 1905.47 1455 Q1908.55 1450.39 1914.36 1450.39 Z\" fill=\"#000000\" fill-rule=\"evenodd\" fill-opacity=\"1\" /><path clip-path=\"url(#clip260)\" d=\"M1934.52 1479.7 L1939.4 1479.7 L1939.4 1485.58 L1934.52 1485.58 L1934.52 1479.7 Z\" fill=\"#000000\" fill-rule=\"evenodd\" fill-opacity=\"1\" /><path clip-path=\"url(#clip260)\" d=\"M1959.59 1454.1 Q1955.98 1454.1 1954.15 1457.66 Q1952.34 1461.2 1952.34 1468.33 Q1952.34 1475.44 1954.15 1479.01 Q1955.98 1482.55 1959.59 1482.55 Q1963.22 1482.55 1965.03 1479.01 Q1966.86 1475.44 1966.86 1468.33 Q1966.86 1461.2 1965.03 1457.66 Q1963.22 1454.1 1959.59 1454.1 M1959.59 1450.39 Q1965.4 1450.39 1968.45 1455 Q1971.53 1459.58 1971.53 1468.33 Q1971.53 1477.06 1968.45 1481.67 Q1965.4 1486.25 1959.59 1486.25 Q1953.78 1486.25 1950.7 1481.67 Q1947.64 1477.06 1947.64 1468.33 Q1947.64 1459.58 1950.7 1455 Q1953.78 1450.39 1959.59 1450.39 Z\" fill=\"#000000\" fill-rule=\"evenodd\" fill-opacity=\"1\" /><path clip-path=\"url(#clip260)\" d=\"M1990.33 1466.44 Q1987.18 1466.44 1985.33 1468.59 Q1983.5 1470.74 1983.5 1474.49 Q1983.5 1478.22 1985.33 1480.39 Q1987.18 1482.55 1990.33 1482.55 Q1993.48 1482.55 1995.31 1480.39 Q1997.16 1478.22 1997.16 1474.49 Q1997.16 1470.74 1995.31 1468.59 Q1993.48 1466.44 1990.33 1466.44 M1999.61 1451.78 L1999.61 1456.04 Q1997.85 1455.21 1996.05 1454.77 Q1994.26 1454.33 1992.5 1454.33 Q1987.87 1454.33 1985.42 1457.45 Q1982.99 1460.58 1982.64 1466.9 Q1984.01 1464.89 1986.07 1463.82 Q1988.13 1462.73 1990.61 1462.73 Q1995.81 1462.73 1998.82 1465.9 Q2001.86 1469.05 2001.86 1474.49 Q2001.86 1479.82 1998.71 1483.03 Q1995.56 1486.25 1990.33 1486.25 Q1984.33 1486.25 1981.16 1481.67 Q1977.99 1477.06 1977.99 1468.33 Q1977.99 1460.14 1981.88 1455.28 Q1985.77 1450.39 1992.32 1450.39 Q1994.08 1450.39 1995.86 1450.74 Q1997.67 1451.09 1999.61 1451.78 Z\" fill=\"#000000\" fill-rule=\"evenodd\" fill-opacity=\"1\" /><path clip-path=\"url(#clip260)\" d=\"M2102.13 1454.1 Q2098.52 1454.1 2096.69 1457.66 Q2094.88 1461.2 2094.88 1468.33 Q2094.88 1475.44 2096.69 1479.01 Q2098.52 1482.55 2102.13 1482.55 Q2105.76 1482.55 2107.57 1479.01 Q2109.4 1475.44 2109.4 1468.33 Q2109.4 1461.2 2107.57 1457.66 Q2105.76 1454.1 2102.13 1454.1 M2102.13 1450.39 Q2107.94 1450.39 2110.99 1455 Q2114.07 1459.58 2114.07 1468.33 Q2114.07 1477.06 2110.99 1481.67 Q2107.94 1486.25 2102.13 1486.25 Q2096.32 1486.25 2093.24 1481.67 Q2090.18 1477.06 2090.18 1468.33 Q2090.18 1459.58 2093.24 1455 Q2096.32 1450.39 2102.13 1450.39 Z\" fill=\"#000000\" fill-rule=\"evenodd\" fill-opacity=\"1\" /><path clip-path=\"url(#clip260)\" d=\"M2122.29 1479.7 L2127.17 1479.7 L2127.17 1485.58 L2122.29 1485.58 L2122.29 1479.7 Z\" fill=\"#000000\" fill-rule=\"evenodd\" fill-opacity=\"1\" /><path clip-path=\"url(#clip260)\" d=\"M2147.36 1454.1 Q2143.75 1454.1 2141.92 1457.66 Q2140.11 1461.2 2140.11 1468.33 Q2140.11 1475.44 2141.92 1479.01 Q2143.75 1482.55 2147.36 1482.55 Q2150.99 1482.55 2152.8 1479.01 Q2154.63 1475.44 2154.63 1468.33 Q2154.63 1461.2 2152.8 1457.66 Q2150.99 1454.1 2147.36 1454.1 M2147.36 1450.39 Q2153.17 1450.39 2156.23 1455 Q2159.3 1459.58 2159.3 1468.33 Q2159.3 1477.06 2156.23 1481.67 Q2153.17 1486.25 2147.36 1486.25 Q2141.55 1486.25 2138.47 1481.67 Q2135.42 1477.06 2135.42 1468.33 Q2135.42 1459.58 2138.47 1455 Q2141.55 1450.39 2147.36 1450.39 Z\" fill=\"#000000\" fill-rule=\"evenodd\" fill-opacity=\"1\" /><path clip-path=\"url(#clip260)\" d=\"M2177.52 1469.17 Q2174.19 1469.17 2172.27 1470.95 Q2170.37 1472.73 2170.37 1475.86 Q2170.37 1478.98 2172.27 1480.77 Q2174.19 1482.55 2177.52 1482.55 Q2180.86 1482.55 2182.78 1480.77 Q2184.7 1478.96 2184.7 1475.86 Q2184.7 1472.73 2182.78 1470.95 Q2180.88 1469.17 2177.52 1469.17 M2172.85 1467.18 Q2169.84 1466.44 2168.15 1464.38 Q2166.48 1462.32 2166.48 1459.35 Q2166.48 1455.21 2169.42 1452.8 Q2172.38 1450.39 2177.52 1450.39 Q2182.68 1450.39 2185.62 1452.8 Q2188.56 1455.21 2188.56 1459.35 Q2188.56 1462.32 2186.87 1464.38 Q2185.21 1466.44 2182.22 1467.18 Q2185.6 1467.96 2187.48 1470.26 Q2189.37 1472.55 2189.37 1475.86 Q2189.37 1480.88 2186.29 1483.57 Q2183.24 1486.25 2177.52 1486.25 Q2171.8 1486.25 2168.73 1483.57 Q2165.67 1480.88 2165.67 1475.86 Q2165.67 1472.55 2167.57 1470.26 Q2169.47 1467.96 2172.85 1467.18 M2171.13 1459.79 Q2171.13 1462.48 2172.8 1463.98 Q2174.49 1465.49 2177.52 1465.49 Q2180.53 1465.49 2182.22 1463.98 Q2183.93 1462.48 2183.93 1459.79 Q2183.93 1457.11 2182.22 1455.6 Q2180.53 1454.1 2177.52 1454.1 Q2174.49 1454.1 2172.8 1455.6 Q2171.13 1457.11 2171.13 1459.79 Z\" fill=\"#000000\" fill-rule=\"evenodd\" fill-opacity=\"1\" /><path clip-path=\"url(#clip260)\" d=\"M2289.73 1454.1 Q2286.12 1454.1 2284.29 1457.66 Q2282.48 1461.2 2282.48 1468.33 Q2282.48 1475.44 2284.29 1479.01 Q2286.12 1482.55 2289.73 1482.55 Q2293.36 1482.55 2295.17 1479.01 Q2297 1475.44 2297 1468.33 Q2297 1461.2 2295.17 1457.66 Q2293.36 1454.1 2289.73 1454.1 M2289.73 1450.39 Q2295.54 1450.39 2298.59 1455 Q2301.67 1459.58 2301.67 1468.33 Q2301.67 1477.06 2298.59 1481.67 Q2295.54 1486.25 2289.73 1486.25 Q2283.92 1486.25 2280.84 1481.67 Q2277.78 1477.06 2277.78 1468.33 Q2277.78 1459.58 2280.84 1455 Q2283.92 1450.39 2289.73 1450.39 Z\" fill=\"#000000\" fill-rule=\"evenodd\" fill-opacity=\"1\" /><path clip-path=\"url(#clip260)\" d=\"M2309.89 1479.7 L2314.77 1479.7 L2314.77 1485.58 L2309.89 1485.58 L2309.89 1479.7 Z\" fill=\"#000000\" fill-rule=\"evenodd\" fill-opacity=\"1\" /><path clip-path=\"url(#clip260)\" d=\"M2325.77 1481.64 L2333.41 1481.64 L2333.41 1455.28 L2325.1 1456.95 L2325.1 1452.69 L2333.36 1451.02 L2338.04 1451.02 L2338.04 1481.64 L2345.68 1481.64 L2345.68 1485.58 L2325.77 1485.58 L2325.77 1481.64 Z\" fill=\"#000000\" fill-rule=\"evenodd\" fill-opacity=\"1\" /><path clip-path=\"url(#clip260)\" d=\"M2365.12 1454.1 Q2361.51 1454.1 2359.68 1457.66 Q2357.88 1461.2 2357.88 1468.33 Q2357.88 1475.44 2359.68 1479.01 Q2361.51 1482.55 2365.12 1482.55 Q2368.75 1482.55 2370.56 1479.01 Q2372.39 1475.44 2372.39 1468.33 Q2372.39 1461.2 2370.56 1457.66 Q2368.75 1454.1 2365.12 1454.1 M2365.12 1450.39 Q2370.93 1450.39 2373.99 1455 Q2377.06 1459.58 2377.06 1468.33 Q2377.06 1477.06 2373.99 1481.67 Q2370.93 1486.25 2365.12 1486.25 Q2359.31 1486.25 2356.23 1481.67 Q2353.18 1477.06 2353.18 1468.33 Q2353.18 1459.58 2356.23 1455 Q2359.31 1450.39 2365.12 1450.39 Z\" fill=\"#000000\" fill-rule=\"evenodd\" fill-opacity=\"1\" /><path clip-path=\"url(#clip260)\" d=\"M1864.59 1537.87 Q1863.61 1537.3 1862.43 1537.04 Q1861.28 1536.76 1859.88 1536.76 Q1854.92 1536.76 1852.24 1540 Q1849.6 1543.22 1849.6 1549.27 L1849.6 1568.04 L1843.71 1568.04 L1843.71 1532.4 L1849.6 1532.4 L1849.6 1537.93 Q1851.45 1534.69 1854.41 1533.13 Q1857.37 1531.54 1861.6 1531.54 Q1862.21 1531.54 1862.94 1531.63 Q1863.67 1531.7 1864.56 1531.85 L1864.59 1537.87 Z\" fill=\"#000000\" fill-rule=\"evenodd\" fill-opacity=\"1\" /><path clip-path=\"url(#clip260)\" d=\"M1886.94 1550.12 Q1879.84 1550.12 1877.1 1551.75 Q1874.37 1553.37 1874.37 1557.29 Q1874.37 1560.4 1876.4 1562.25 Q1878.47 1564.07 1882 1564.07 Q1886.87 1564.07 1889.8 1560.63 Q1892.76 1557.16 1892.76 1551.43 L1892.76 1550.12 L1886.94 1550.12 M1898.62 1547.71 L1898.62 1568.04 L1892.76 1568.04 L1892.76 1562.63 Q1890.76 1565.88 1887.77 1567.44 Q1884.77 1568.97 1880.44 1568.97 Q1874.97 1568.97 1871.72 1565.91 Q1868.51 1562.82 1868.51 1557.67 Q1868.51 1551.65 1872.52 1548.6 Q1876.56 1545.54 1884.55 1545.54 L1892.76 1545.54 L1892.76 1544.97 Q1892.76 1540.93 1890.09 1538.73 Q1887.45 1536.5 1882.64 1536.5 Q1879.59 1536.5 1876.69 1537.23 Q1873.79 1537.97 1871.12 1539.43 L1871.12 1534.02 Q1874.33 1532.78 1877.36 1532.17 Q1880.38 1531.54 1883.25 1531.54 Q1890.98 1531.54 1894.8 1535.55 Q1898.62 1539.56 1898.62 1547.71 Z\" fill=\"#000000\" fill-rule=\"evenodd\" fill-opacity=\"1\" /><path clip-path=\"url(#clip260)\" d=\"M1916.47 1522.27 L1916.47 1532.4 L1928.54 1532.4 L1928.54 1536.95 L1916.47 1536.95 L1916.47 1556.3 Q1916.47 1560.66 1917.65 1561.9 Q1918.86 1563.14 1922.52 1563.14 L1928.54 1563.14 L1928.54 1568.04 L1922.52 1568.04 Q1915.74 1568.04 1913.16 1565.53 Q1910.59 1562.98 1910.59 1556.3 L1910.59 1536.95 L1906.29 1536.95 L1906.29 1532.4 L1910.59 1532.4 L1910.59 1522.27 L1916.47 1522.27 Z\" fill=\"#000000\" fill-rule=\"evenodd\" fill-opacity=\"1\" /><path clip-path=\"url(#clip260)\" d=\"M1966.73 1548.76 L1966.73 1551.62 L1939.8 1551.62 Q1940.19 1557.67 1943.43 1560.85 Q1946.71 1564 1952.54 1564 Q1955.91 1564 1959.06 1563.17 Q1962.24 1562.35 1965.36 1560.69 L1965.36 1566.23 Q1962.21 1567.57 1958.9 1568.27 Q1955.59 1568.97 1952.19 1568.97 Q1943.66 1568.97 1938.66 1564 Q1933.69 1559.04 1933.69 1550.57 Q1933.69 1541.82 1938.4 1536.69 Q1943.15 1531.54 1951.17 1531.54 Q1958.36 1531.54 1962.53 1536.18 Q1966.73 1540.8 1966.73 1548.76 M1960.88 1547.04 Q1960.81 1542.23 1958.17 1539.37 Q1955.56 1536.5 1951.23 1536.5 Q1946.33 1536.5 1943.37 1539.27 Q1940.44 1542.04 1940 1547.07 L1960.88 1547.04 Z\" fill=\"#000000\" fill-rule=\"evenodd\" fill-opacity=\"1\" /><polyline clip-path=\"url(#clip263)\" style=\"stroke:#000000; stroke-linecap:butt; stroke-linejoin:round; stroke-width:2; stroke-opacity:0.1; fill:none\" points=\"\n",
                            "  1457.69,1391.09 2352.76,1391.09 \n",
                            "  \"/>\n",
                            "<polyline clip-path=\"url(#clip263)\" style=\"stroke:#000000; stroke-linecap:butt; stroke-linejoin:round; stroke-width:2; stroke-opacity:0.1; fill:none\" points=\"\n",
                            "  1457.69,1156.59 2352.76,1156.59 \n",
                            "  \"/>\n",
                            "<polyline clip-path=\"url(#clip263)\" style=\"stroke:#000000; stroke-linecap:butt; stroke-linejoin:round; stroke-width:2; stroke-opacity:0.1; fill:none\" points=\"\n",
                            "  1457.69,922.086 2352.76,922.086 \n",
                            "  \"/>\n",
                            "<polyline clip-path=\"url(#clip263)\" style=\"stroke:#000000; stroke-linecap:butt; stroke-linejoin:round; stroke-width:2; stroke-opacity:0.1; fill:none\" points=\"\n",
                            "  1457.69,687.585 2352.76,687.585 \n",
                            "  \"/>\n",
                            "<polyline clip-path=\"url(#clip263)\" style=\"stroke:#000000; stroke-linecap:butt; stroke-linejoin:round; stroke-width:2; stroke-opacity:0.1; fill:none\" points=\"\n",
                            "  1457.69,453.084 2352.76,453.084 \n",
                            "  \"/>\n",
                            "<polyline clip-path=\"url(#clip263)\" style=\"stroke:#000000; stroke-linecap:butt; stroke-linejoin:round; stroke-width:2; stroke-opacity:0.1; fill:none\" points=\"\n",
                            "  1457.69,218.583 2352.76,218.583 \n",
                            "  \"/>\n",
                            "<polyline clip-path=\"url(#clip260)\" style=\"stroke:#000000; stroke-linecap:butt; stroke-linejoin:round; stroke-width:4; stroke-opacity:1; fill:none\" points=\"\n",
                            "  1457.69,1423.18 1457.69,47.2441 \n",
                            "  \"/>\n",
                            "<polyline clip-path=\"url(#clip260)\" style=\"stroke:#000000; stroke-linecap:butt; stroke-linejoin:round; stroke-width:4; stroke-opacity:1; fill:none\" points=\"\n",
                            "  1457.69,1391.09 1476.59,1391.09 \n",
                            "  \"/>\n",
                            "<polyline clip-path=\"url(#clip260)\" style=\"stroke:#000000; stroke-linecap:butt; stroke-linejoin:round; stroke-width:4; stroke-opacity:1; fill:none\" points=\"\n",
                            "  1457.69,1156.59 1476.59,1156.59 \n",
                            "  \"/>\n",
                            "<polyline clip-path=\"url(#clip260)\" style=\"stroke:#000000; stroke-linecap:butt; stroke-linejoin:round; stroke-width:4; stroke-opacity:1; fill:none\" points=\"\n",
                            "  1457.69,922.086 1476.59,922.086 \n",
                            "  \"/>\n",
                            "<polyline clip-path=\"url(#clip260)\" style=\"stroke:#000000; stroke-linecap:butt; stroke-linejoin:round; stroke-width:4; stroke-opacity:1; fill:none\" points=\"\n",
                            "  1457.69,687.585 1476.59,687.585 \n",
                            "  \"/>\n",
                            "<polyline clip-path=\"url(#clip260)\" style=\"stroke:#000000; stroke-linecap:butt; stroke-linejoin:round; stroke-width:4; stroke-opacity:1; fill:none\" points=\"\n",
                            "  1457.69,453.084 1476.59,453.084 \n",
                            "  \"/>\n",
                            "<polyline clip-path=\"url(#clip260)\" style=\"stroke:#000000; stroke-linecap:butt; stroke-linejoin:round; stroke-width:4; stroke-opacity:1; fill:none\" points=\"\n",
                            "  1457.69,218.583 1476.59,218.583 \n",
                            "  \"/>\n",
                            "<path clip-path=\"url(#clip260)\" d=\"M1315.65 1391.54 L1345.32 1391.54 L1345.32 1395.47 L1315.65 1395.47 L1315.65 1391.54 Z\" fill=\"#000000\" fill-rule=\"evenodd\" fill-opacity=\"1\" /><path clip-path=\"url(#clip260)\" d=\"M1365.42 1376.89 Q1361.81 1376.89 1359.98 1380.45 Q1358.17 1383.99 1358.17 1391.12 Q1358.17 1398.23 1359.98 1401.79 Q1361.81 1405.34 1365.42 1405.34 Q1369.05 1405.34 1370.86 1401.79 Q1372.69 1398.23 1372.69 1391.12 Q1372.69 1383.99 1370.86 1380.45 Q1369.05 1376.89 1365.42 1376.89 M1365.42 1373.18 Q1371.23 1373.18 1374.28 1377.79 Q1377.36 1382.37 1377.36 1391.12 Q1377.36 1399.85 1374.28 1404.46 Q1371.23 1409.04 1365.42 1409.04 Q1359.61 1409.04 1356.53 1404.46 Q1353.47 1399.85 1353.47 1391.12 Q1353.47 1382.37 1356.53 1377.79 Q1359.61 1373.18 1365.42 1373.18 Z\" fill=\"#000000\" fill-rule=\"evenodd\" fill-opacity=\"1\" /><path clip-path=\"url(#clip260)\" d=\"M1385.58 1402.49 L1390.46 1402.49 L1390.46 1408.37 L1385.58 1408.37 L1385.58 1402.49 Z\" fill=\"#000000\" fill-rule=\"evenodd\" fill-opacity=\"1\" /><path clip-path=\"url(#clip260)\" d=\"M1399.47 1373.81 L1421.69 1373.81 L1421.69 1375.8 L1409.14 1408.37 L1404.26 1408.37 L1416.07 1377.74 L1399.47 1377.74 L1399.47 1373.81 Z\" fill=\"#000000\" fill-rule=\"evenodd\" fill-opacity=\"1\" /><path clip-path=\"url(#clip260)\" d=\"M1314.58 1157.04 L1344.26 1157.04 L1344.26 1160.97 L1314.58 1160.97 L1314.58 1157.04 Z\" fill=\"#000000\" fill-rule=\"evenodd\" fill-opacity=\"1\" /><path clip-path=\"url(#clip260)\" d=\"M1364.35 1142.39 Q1360.74 1142.39 1358.91 1145.95 Q1357.11 1149.49 1357.11 1156.62 Q1357.11 1163.73 1358.91 1167.29 Q1360.74 1170.83 1364.35 1170.83 Q1367.99 1170.83 1369.79 1167.29 Q1371.62 1163.73 1371.62 1156.62 Q1371.62 1149.49 1369.79 1145.95 Q1367.99 1142.39 1364.35 1142.39 M1364.35 1138.68 Q1370.16 1138.68 1373.22 1143.29 Q1376.3 1147.87 1376.3 1156.62 Q1376.3 1165.35 1373.22 1169.95 Q1370.16 1174.54 1364.35 1174.54 Q1358.54 1174.54 1355.46 1169.95 Q1352.41 1165.35 1352.41 1156.62 Q1352.41 1147.87 1355.46 1143.29 Q1358.54 1138.68 1364.35 1138.68 Z\" fill=\"#000000\" fill-rule=\"evenodd\" fill-opacity=\"1\" /><path clip-path=\"url(#clip260)\" d=\"M1384.51 1167.99 L1389.4 1167.99 L1389.4 1173.87 L1384.51 1173.87 L1384.51 1167.99 Z\" fill=\"#000000\" fill-rule=\"evenodd\" fill-opacity=\"1\" /><path clip-path=\"url(#clip260)\" d=\"M1410.16 1154.72 Q1407.01 1154.72 1405.16 1156.88 Q1403.33 1159.03 1403.33 1162.78 Q1403.33 1166.51 1405.16 1168.68 Q1407.01 1170.83 1410.16 1170.83 Q1413.31 1170.83 1415.14 1168.68 Q1416.99 1166.51 1416.99 1162.78 Q1416.99 1159.03 1415.14 1156.88 Q1413.31 1154.72 1410.16 1154.72 M1419.44 1140.07 L1419.44 1144.33 Q1417.69 1143.5 1415.88 1143.06 Q1414.1 1142.62 1412.34 1142.62 Q1407.71 1142.62 1405.26 1145.74 Q1402.82 1148.87 1402.48 1155.19 Q1403.84 1153.17 1405.9 1152.11 Q1407.96 1151.02 1410.44 1151.02 Q1415.65 1151.02 1418.66 1154.19 Q1421.69 1157.34 1421.69 1162.78 Q1421.69 1168.1 1418.54 1171.32 Q1415.39 1174.54 1410.16 1174.54 Q1404.17 1174.54 1401 1169.95 Q1397.82 1165.35 1397.82 1156.62 Q1397.82 1148.43 1401.71 1143.57 Q1405.6 1138.68 1412.15 1138.68 Q1413.91 1138.68 1415.69 1139.03 Q1417.5 1139.38 1419.44 1140.07 Z\" fill=\"#000000\" fill-rule=\"evenodd\" fill-opacity=\"1\" /><path clip-path=\"url(#clip260)\" d=\"M1315.74 922.537 L1345.42 922.537 L1345.42 926.473 L1315.74 926.473 L1315.74 922.537 Z\" fill=\"#000000\" fill-rule=\"evenodd\" fill-opacity=\"1\" /><path clip-path=\"url(#clip260)\" d=\"M1365.51 907.885 Q1361.9 907.885 1360.07 911.449 Q1358.26 914.991 1358.26 922.121 Q1358.26 929.227 1360.07 932.792 Q1361.9 936.334 1365.51 936.334 Q1369.14 936.334 1370.95 932.792 Q1372.78 929.227 1372.78 922.121 Q1372.78 914.991 1370.95 911.449 Q1369.14 907.885 1365.51 907.885 M1365.51 904.181 Q1371.32 904.181 1374.38 908.787 Q1377.45 913.371 1377.45 922.121 Q1377.45 930.848 1374.38 935.454 Q1371.32 940.037 1365.51 940.037 Q1359.7 940.037 1356.62 935.454 Q1353.57 930.848 1353.57 922.121 Q1353.57 913.371 1356.62 908.787 Q1359.7 904.181 1365.51 904.181 Z\" fill=\"#000000\" fill-rule=\"evenodd\" fill-opacity=\"1\" /><path clip-path=\"url(#clip260)\" d=\"M1385.67 933.486 L1390.56 933.486 L1390.56 939.366 L1385.67 939.366 L1385.67 933.486 Z\" fill=\"#000000\" fill-rule=\"evenodd\" fill-opacity=\"1\" /><path clip-path=\"url(#clip260)\" d=\"M1400.79 904.806 L1419.14 904.806 L1419.14 908.741 L1405.07 908.741 L1405.07 917.213 Q1406.09 916.866 1407.11 916.704 Q1408.13 916.519 1409.14 916.519 Q1414.93 916.519 1418.31 919.69 Q1421.69 922.861 1421.69 928.278 Q1421.69 933.857 1418.22 936.959 Q1414.75 940.037 1408.43 940.037 Q1406.25 940.037 1403.98 939.667 Q1401.74 939.297 1399.33 938.556 L1399.33 933.857 Q1401.41 934.991 1403.63 935.547 Q1405.86 936.102 1408.33 936.102 Q1412.34 936.102 1414.68 933.996 Q1417.01 931.889 1417.01 928.278 Q1417.01 924.667 1414.68 922.561 Q1412.34 920.454 1408.33 920.454 Q1406.46 920.454 1404.58 920.871 Q1402.73 921.287 1400.79 922.167 L1400.79 904.806 Z\" fill=\"#000000\" fill-rule=\"evenodd\" fill-opacity=\"1\" /><path clip-path=\"url(#clip260)\" d=\"M1314.26 688.036 L1343.94 688.036 L1343.94 691.972 L1314.26 691.972 L1314.26 688.036 Z\" fill=\"#000000\" fill-rule=\"evenodd\" fill-opacity=\"1\" /><path clip-path=\"url(#clip260)\" d=\"M1364.03 673.384 Q1360.42 673.384 1358.59 676.949 Q1356.78 680.49 1356.78 687.62 Q1356.78 694.726 1358.59 698.291 Q1360.42 701.833 1364.03 701.833 Q1367.66 701.833 1369.47 698.291 Q1371.3 694.726 1371.3 687.62 Q1371.3 680.49 1369.47 676.949 Q1367.66 673.384 1364.03 673.384 M1364.03 669.68 Q1369.84 669.68 1372.89 674.287 Q1375.97 678.87 1375.97 687.62 Q1375.97 696.347 1372.89 700.953 Q1369.84 705.536 1364.03 705.536 Q1358.22 705.536 1355.14 700.953 Q1352.08 696.347 1352.08 687.62 Q1352.08 678.87 1355.14 674.287 Q1358.22 669.68 1364.03 669.68 Z\" fill=\"#000000\" fill-rule=\"evenodd\" fill-opacity=\"1\" /><path clip-path=\"url(#clip260)\" d=\"M1384.19 698.985 L1389.07 698.985 L1389.07 704.865 L1384.19 704.865 L1384.19 698.985 Z\" fill=\"#000000\" fill-rule=\"evenodd\" fill-opacity=\"1\" /><path clip-path=\"url(#clip260)\" d=\"M1412.11 674.379 L1400.3 692.828 L1412.11 692.828 L1412.11 674.379 M1410.88 670.305 L1416.76 670.305 L1416.76 692.828 L1421.69 692.828 L1421.69 696.717 L1416.76 696.717 L1416.76 704.865 L1412.11 704.865 L1412.11 696.717 L1396.51 696.717 L1396.51 692.203 L1410.88 670.305 Z\" fill=\"#000000\" fill-rule=\"evenodd\" fill-opacity=\"1\" /><path clip-path=\"url(#clip260)\" d=\"M1315.39 453.536 L1345.07 453.536 L1345.07 457.471 L1315.39 457.471 L1315.39 453.536 Z\" fill=\"#000000\" fill-rule=\"evenodd\" fill-opacity=\"1\" /><path clip-path=\"url(#clip260)\" d=\"M1365.16 438.883 Q1361.55 438.883 1359.72 442.448 Q1357.92 445.989 1357.92 453.119 Q1357.92 460.225 1359.72 463.79 Q1361.55 467.332 1365.16 467.332 Q1368.8 467.332 1370.6 463.79 Q1372.43 460.225 1372.43 453.119 Q1372.43 445.989 1370.6 442.448 Q1368.8 438.883 1365.16 438.883 M1365.16 435.179 Q1370.97 435.179 1374.03 439.786 Q1377.11 444.369 1377.11 453.119 Q1377.11 461.846 1374.03 466.452 Q1370.97 471.035 1365.16 471.035 Q1359.35 471.035 1356.27 466.452 Q1353.22 461.846 1353.22 453.119 Q1353.22 444.369 1356.27 439.786 Q1359.35 435.179 1365.16 435.179 Z\" fill=\"#000000\" fill-rule=\"evenodd\" fill-opacity=\"1\" /><path clip-path=\"url(#clip260)\" d=\"M1385.32 464.485 L1390.21 464.485 L1390.21 470.364 L1385.32 470.364 L1385.32 464.485 Z\" fill=\"#000000\" fill-rule=\"evenodd\" fill-opacity=\"1\" /><path clip-path=\"url(#clip260)\" d=\"M1414.56 451.73 Q1417.92 452.448 1419.79 454.716 Q1421.69 456.985 1421.69 460.318 Q1421.69 465.434 1418.17 468.235 Q1414.65 471.035 1408.17 471.035 Q1406 471.035 1403.68 470.596 Q1401.39 470.179 1398.94 469.323 L1398.94 464.809 Q1400.88 465.943 1403.19 466.522 Q1405.51 467.1 1408.03 467.1 Q1412.43 467.1 1414.72 465.364 Q1417.04 463.628 1417.04 460.318 Q1417.04 457.262 1414.88 455.549 Q1412.76 453.813 1408.94 453.813 L1404.91 453.813 L1404.91 449.971 L1409.12 449.971 Q1412.57 449.971 1414.4 448.605 Q1416.23 447.216 1416.23 444.624 Q1416.23 441.962 1414.33 440.55 Q1412.45 439.114 1408.94 439.114 Q1407.01 439.114 1404.82 439.531 Q1402.62 439.948 1399.98 440.827 L1399.98 436.661 Q1402.64 435.92 1404.95 435.55 Q1407.29 435.179 1409.35 435.179 Q1414.68 435.179 1417.78 437.61 Q1420.88 440.017 1420.88 444.137 Q1420.88 447.008 1419.24 448.999 Q1417.59 450.966 1414.56 451.73 Z\" fill=\"#000000\" fill-rule=\"evenodd\" fill-opacity=\"1\" /><path clip-path=\"url(#clip260)\" d=\"M1316.34 219.035 L1346.02 219.035 L1346.02 222.97 L1316.34 222.97 L1316.34 219.035 Z\" fill=\"#000000\" fill-rule=\"evenodd\" fill-opacity=\"1\" /><path clip-path=\"url(#clip260)\" d=\"M1366.11 204.382 Q1362.5 204.382 1360.67 207.947 Q1358.87 211.488 1358.87 218.618 Q1358.87 225.724 1360.67 229.289 Q1362.5 232.831 1366.11 232.831 Q1369.75 232.831 1371.55 229.289 Q1373.38 225.724 1373.38 218.618 Q1373.38 211.488 1371.55 207.947 Q1369.75 204.382 1366.11 204.382 M1366.11 200.678 Q1371.92 200.678 1374.98 205.285 Q1378.06 209.868 1378.06 218.618 Q1378.06 227.345 1374.98 231.951 Q1371.92 236.535 1366.11 236.535 Q1360.3 236.535 1357.22 231.951 Q1354.17 227.345 1354.17 218.618 Q1354.17 209.868 1357.22 205.285 Q1360.3 200.678 1366.11 200.678 Z\" fill=\"#000000\" fill-rule=\"evenodd\" fill-opacity=\"1\" /><path clip-path=\"url(#clip260)\" d=\"M1386.27 229.984 L1391.16 229.984 L1391.16 235.863 L1386.27 235.863 L1386.27 229.984 Z\" fill=\"#000000\" fill-rule=\"evenodd\" fill-opacity=\"1\" /><path clip-path=\"url(#clip260)\" d=\"M1405.37 231.928 L1421.69 231.928 L1421.69 235.863 L1399.75 235.863 L1399.75 231.928 Q1402.41 229.174 1406.99 224.544 Q1411.6 219.891 1412.78 218.549 Q1415.02 216.025 1415.9 214.289 Q1416.81 212.53 1416.81 210.84 Q1416.81 208.086 1414.86 206.35 Q1412.94 204.613 1409.84 204.613 Q1407.64 204.613 1405.19 205.377 Q1402.76 206.141 1399.98 207.692 L1399.98 202.97 Q1402.8 201.836 1405.26 201.257 Q1407.71 200.678 1409.75 200.678 Q1415.12 200.678 1418.31 203.363 Q1421.5 206.049 1421.5 210.539 Q1421.5 212.669 1420.69 214.59 Q1419.91 216.488 1417.8 219.081 Q1417.22 219.752 1414.12 222.97 Q1411.02 226.164 1405.37 231.928 Z\" fill=\"#000000\" fill-rule=\"evenodd\" fill-opacity=\"1\" /><path clip-path=\"url(#clip260)\" d=\"M1216.48 968.292 L1216.48 940.983 L1221.9 940.983 L1221.9 961.863 L1235.9 961.863 L1235.9 943.02 L1241.31 943.02 L1241.31 961.863 L1264 961.863 L1264 968.292 L1216.48 968.292 Z\" fill=\"#000000\" fill-rule=\"evenodd\" fill-opacity=\"1\" /><path clip-path=\"url(#clip260)\" d=\"M1249.94 935.222 L1228.36 935.222 L1228.36 929.366 L1249.71 929.366 Q1254.77 929.366 1257.32 927.393 Q1259.83 925.419 1259.83 921.473 Q1259.83 916.73 1256.81 913.993 Q1253.79 911.224 1248.57 911.224 L1228.36 911.224 L1228.36 905.367 L1264 905.367 L1264 911.224 L1258.53 911.224 Q1261.78 913.356 1263.37 916.189 Q1264.93 918.99 1264.93 922.714 Q1264.93 928.857 1261.11 932.04 Q1257.29 935.222 1249.94 935.222 M1227.5 920.486 L1227.5 920.486 Z\" fill=\"#000000\" fill-rule=\"evenodd\" fill-opacity=\"1\" /><path clip-path=\"url(#clip260)\" d=\"M1242.49 863.672 L1264 863.672 L1264 869.528 L1242.68 869.528 Q1237.62 869.528 1235.1 871.502 Q1232.59 873.475 1232.59 877.422 Q1232.59 882.164 1235.61 884.902 Q1238.64 887.639 1243.86 887.639 L1264 887.639 L1264 893.527 L1228.36 893.527 L1228.36 887.639 L1233.89 887.639 Q1230.68 885.538 1229.09 882.705 Q1227.5 879.841 1227.5 876.117 Q1227.5 869.974 1231.32 866.823 Q1235.1 863.672 1242.49 863.672 Z\" fill=\"#000000\" fill-rule=\"evenodd\" fill-opacity=\"1\" /><path clip-path=\"url(#clip260)\" d=\"M1229.72 826.337 L1235.2 826.337 Q1233.83 828.82 1233.16 831.334 Q1232.46 833.817 1232.46 836.363 Q1232.46 842.06 1236.09 845.211 Q1239.69 848.362 1246.21 848.362 Q1252.74 848.362 1256.37 845.211 Q1259.96 842.06 1259.96 836.363 Q1259.96 833.817 1259.29 831.334 Q1258.59 828.82 1257.22 826.337 L1262.64 826.337 Q1263.78 828.788 1264.35 831.43 Q1264.93 834.04 1264.93 837 Q1264.93 845.052 1259.87 849.795 Q1254.81 854.537 1246.21 854.537 Q1237.49 854.537 1232.49 849.763 Q1227.5 844.957 1227.5 836.618 Q1227.5 833.912 1228.07 831.334 Q1228.61 828.756 1229.72 826.337 Z\" fill=\"#000000\" fill-rule=\"evenodd\" fill-opacity=\"1\" /><path clip-path=\"url(#clip260)\" d=\"M1218.23 810.359 L1228.36 810.359 L1228.36 798.296 L1232.91 798.296 L1232.91 810.359 L1252.26 810.359 Q1256.62 810.359 1257.86 809.181 Q1259.1 807.972 1259.1 804.312 L1259.1 798.296 L1264 798.296 L1264 804.312 Q1264 811.091 1261.49 813.669 Q1258.94 816.247 1252.26 816.247 L1232.91 816.247 L1232.91 820.544 L1228.36 820.544 L1228.36 816.247 L1218.23 816.247 L1218.23 810.359 Z\" fill=\"#000000\" fill-rule=\"evenodd\" fill-opacity=\"1\" /><path clip-path=\"url(#clip260)\" d=\"M1228.36 790.594 L1228.36 784.737 L1264 784.737 L1264 790.594 L1228.36 790.594 M1214.48 790.594 L1214.48 784.737 L1221.9 784.737 L1221.9 790.594 L1214.48 790.594 Z\" fill=\"#000000\" fill-rule=\"evenodd\" fill-opacity=\"1\" /><path clip-path=\"url(#clip260)\" d=\"M1232.46 758.67 Q1232.46 763.38 1236.15 766.117 Q1239.81 768.855 1246.21 768.855 Q1252.61 768.855 1256.3 766.149 Q1259.96 763.412 1259.96 758.67 Q1259.96 753.991 1256.27 751.254 Q1252.58 748.516 1246.21 748.516 Q1239.88 748.516 1236.19 751.254 Q1232.46 753.991 1232.46 758.67 M1227.5 758.67 Q1227.5 751.031 1232.46 746.67 Q1237.43 742.31 1246.21 742.31 Q1254.96 742.31 1259.96 746.67 Q1264.93 751.031 1264.93 758.67 Q1264.93 766.34 1259.96 770.701 Q1254.96 775.029 1246.21 775.029 Q1237.43 775.029 1232.46 770.701 Q1227.5 766.34 1227.5 758.67 Z\" fill=\"#000000\" fill-rule=\"evenodd\" fill-opacity=\"1\" /><path clip-path=\"url(#clip260)\" d=\"M1242.49 702.97 L1264 702.97 L1264 708.826 L1242.68 708.826 Q1237.62 708.826 1235.1 710.799 Q1232.59 712.773 1232.59 716.72 Q1232.59 721.462 1235.61 724.199 Q1238.64 726.937 1243.86 726.937 L1264 726.937 L1264 732.825 L1228.36 732.825 L1228.36 726.937 L1233.89 726.937 Q1230.68 724.836 1229.09 722.003 Q1227.5 719.139 1227.5 715.415 Q1227.5 709.272 1231.32 706.121 Q1235.1 702.97 1242.49 702.97 Z\" fill=\"#000000\" fill-rule=\"evenodd\" fill-opacity=\"1\" /><path clip-path=\"url(#clip260)\" d=\"M1228.36 674.77 L1228.36 668.563 L1258.28 657.423 L1228.36 646.283 L1228.36 640.076 L1264 653.444 L1264 661.402 L1228.36 674.77 Z\" fill=\"#000000\" fill-rule=\"evenodd\" fill-opacity=\"1\" /><path clip-path=\"url(#clip260)\" d=\"M1246.08 615.791 Q1246.08 622.889 1247.71 625.626 Q1249.33 628.364 1253.25 628.364 Q1256.37 628.364 1258.21 626.327 Q1260.03 624.258 1260.03 620.725 Q1260.03 615.855 1256.59 612.927 Q1253.12 609.967 1247.39 609.967 L1246.08 609.967 L1246.08 615.791 M1243.67 604.11 L1264 604.11 L1264 609.967 L1258.59 609.967 Q1261.84 611.972 1263.4 614.964 Q1264.93 617.956 1264.93 622.284 Q1264.93 627.759 1261.87 631.005 Q1258.78 634.22 1253.63 634.22 Q1247.61 634.22 1244.56 630.21 Q1241.5 626.167 1241.5 618.178 L1241.5 609.967 L1240.93 609.967 Q1236.89 609.967 1234.69 612.64 Q1232.46 615.282 1232.46 620.088 Q1232.46 623.144 1233.19 626.04 Q1233.93 628.936 1235.39 631.61 L1229.98 631.61 Q1228.74 628.395 1228.13 625.372 Q1227.5 622.348 1227.5 619.483 Q1227.5 611.749 1231.51 607.93 Q1235.52 604.11 1243.67 604.11 Z\" fill=\"#000000\" fill-rule=\"evenodd\" fill-opacity=\"1\" /><path clip-path=\"url(#clip260)\" d=\"M1214.48 592.047 L1214.48 586.191 L1264 586.191 L1264 592.047 L1214.48 592.047 Z\" fill=\"#000000\" fill-rule=\"evenodd\" fill-opacity=\"1\" /><path clip-path=\"url(#clip260)\" d=\"M1249.94 574.542 L1228.36 574.542 L1228.36 568.685 L1249.71 568.685 Q1254.77 568.685 1257.32 566.712 Q1259.83 564.738 1259.83 560.792 Q1259.83 556.049 1256.81 553.312 Q1253.79 550.543 1248.57 550.543 L1228.36 550.543 L1228.36 544.686 L1264 544.686 L1264 550.543 L1258.53 550.543 Q1261.78 552.675 1263.37 555.508 Q1264.93 558.309 1264.93 562.033 Q1264.93 568.176 1261.11 571.359 Q1257.29 574.542 1249.94 574.542 M1227.5 559.805 L1227.5 559.805 Z\" fill=\"#000000\" fill-rule=\"evenodd\" fill-opacity=\"1\" /><path clip-path=\"url(#clip260)\" d=\"M1244.72 502.132 L1247.58 502.132 L1247.58 529.059 Q1253.63 528.677 1256.81 525.43 Q1259.96 522.152 1259.96 516.327 Q1259.96 512.953 1259.13 509.802 Q1258.31 506.619 1256.65 503.5 L1262.19 503.5 Q1263.53 506.651 1264.23 509.961 Q1264.93 513.272 1264.93 516.677 Q1264.93 525.207 1259.96 530.204 Q1255 535.17 1246.53 535.17 Q1237.78 535.17 1232.65 530.459 Q1227.5 525.717 1227.5 517.696 Q1227.5 510.503 1232.14 506.333 Q1236.76 502.132 1244.72 502.132 M1243 507.988 Q1238.19 508.052 1235.33 510.693 Q1232.46 513.303 1232.46 517.632 Q1232.46 522.534 1235.23 525.494 Q1238 528.422 1243.03 528.868 L1243 507.988 Z\" fill=\"#000000\" fill-rule=\"evenodd\" fill-opacity=\"1\" /><circle clip-path=\"url(#clip263)\" cx=\"1483.02\" cy=\"792.291\" r=\"14.4\" fill=\"#009af9\" fill-rule=\"evenodd\" fill-opacity=\"1\" stroke=\"#000000\" stroke-opacity=\"1\" stroke-width=\"3.2\"/>\n",
                            "<circle clip-path=\"url(#clip263)\" cx=\"1576.84\" cy=\"1110.41\" r=\"14.4\" fill=\"#009af9\" fill-rule=\"evenodd\" fill-opacity=\"1\" stroke=\"#000000\" stroke-opacity=\"1\" stroke-width=\"3.2\"/>\n",
                            "<circle clip-path=\"url(#clip263)\" cx=\"1670.67\" cy=\"1221.23\" r=\"14.4\" fill=\"#009af9\" fill-rule=\"evenodd\" fill-opacity=\"1\" stroke=\"#000000\" stroke-opacity=\"1\" stroke-width=\"3.2\"/>\n",
                            "<circle clip-path=\"url(#clip263)\" cx=\"1764.49\" cy=\"1384.24\" r=\"14.4\" fill=\"#009af9\" fill-rule=\"evenodd\" fill-opacity=\"1\" stroke=\"#000000\" stroke-opacity=\"1\" stroke-width=\"3.2\"/>\n",
                            "<circle clip-path=\"url(#clip263)\" cx=\"1858.31\" cy=\"764.376\" r=\"14.4\" fill=\"#009af9\" fill-rule=\"evenodd\" fill-opacity=\"1\" stroke=\"#000000\" stroke-opacity=\"1\" stroke-width=\"3.2\"/>\n",
                            "<circle clip-path=\"url(#clip263)\" cx=\"1952.13\" cy=\"831.202\" r=\"14.4\" fill=\"#009af9\" fill-rule=\"evenodd\" fill-opacity=\"1\" stroke=\"#000000\" stroke-opacity=\"1\" stroke-width=\"3.2\"/>\n",
                            "<circle clip-path=\"url(#clip263)\" cx=\"2045.96\" cy=\"86.1857\" r=\"14.4\" fill=\"#009af9\" fill-rule=\"evenodd\" fill-opacity=\"1\" stroke=\"#000000\" stroke-opacity=\"1\" stroke-width=\"3.2\"/>\n",
                            "<circle clip-path=\"url(#clip263)\" cx=\"2139.78\" cy=\"1001.7\" r=\"14.4\" fill=\"#009af9\" fill-rule=\"evenodd\" fill-opacity=\"1\" stroke=\"#000000\" stroke-opacity=\"1\" stroke-width=\"3.2\"/>\n",
                            "<circle clip-path=\"url(#clip263)\" cx=\"2233.6\" cy=\"1007.81\" r=\"14.4\" fill=\"#009af9\" fill-rule=\"evenodd\" fill-opacity=\"1\" stroke=\"#000000\" stroke-opacity=\"1\" stroke-width=\"3.2\"/>\n",
                            "<circle clip-path=\"url(#clip263)\" cx=\"2327.42\" cy=\"824.473\" r=\"14.4\" fill=\"#009af9\" fill-rule=\"evenodd\" fill-opacity=\"1\" stroke=\"#000000\" stroke-opacity=\"1\" stroke-width=\"3.2\"/>\n",
                            "</svg>\n"
                        ],
                        "text/html": [
                            "<?xml version=\"1.0\" encoding=\"utf-8\"?>\n",
                            "<svg xmlns=\"http://www.w3.org/2000/svg\" xmlns:xlink=\"http://www.w3.org/1999/xlink\" width=\"600\" height=\"400\" viewBox=\"0 0 2400 1600\">\n",
                            "<defs>\n",
                            "  <clipPath id=\"clip310\">\n",
                            "    <rect x=\"0\" y=\"0\" width=\"2400\" height=\"1600\"/>\n",
                            "  </clipPath>\n",
                            "</defs>\n",
                            "<path clip-path=\"url(#clip310)\" d=\"\n",
                            "M0 1600 L2400 1600 L2400 0 L0 0  Z\n",
                            "  \" fill=\"#ffffff\" fill-rule=\"evenodd\" fill-opacity=\"1\"/>\n",
                            "<defs>\n",
                            "  <clipPath id=\"clip311\">\n",
                            "    <rect x=\"480\" y=\"0\" width=\"1681\" height=\"1600\"/>\n",
                            "  </clipPath>\n",
                            "</defs>\n",
                            "<path clip-path=\"url(#clip310)\" d=\"\n",
                            "M257.69 1423.18 L1152.76 1423.18 L1152.76 47.2441 L257.69 47.2441  Z\n",
                            "  \" fill=\"#ffffff\" fill-rule=\"evenodd\" fill-opacity=\"1\"/>\n",
                            "<defs>\n",
                            "  <clipPath id=\"clip312\">\n",
                            "    <rect x=\"257\" y=\"47\" width=\"896\" height=\"1377\"/>\n",
                            "  </clipPath>\n",
                            "</defs>\n",
                            "<polyline clip-path=\"url(#clip312)\" style=\"stroke:#000000; stroke-linecap:butt; stroke-linejoin:round; stroke-width:2; stroke-opacity:0.1; fill:none\" points=\"\n",
                            "  376.845,1423.18 376.845,47.2441 \n",
                            "  \"/>\n",
                            "<polyline clip-path=\"url(#clip312)\" style=\"stroke:#000000; stroke-linecap:butt; stroke-linejoin:round; stroke-width:2; stroke-opacity:0.1; fill:none\" points=\"\n",
                            "  564.489,1423.18 564.489,47.2441 \n",
                            "  \"/>\n",
                            "<polyline clip-path=\"url(#clip312)\" style=\"stroke:#000000; stroke-linecap:butt; stroke-linejoin:round; stroke-width:2; stroke-opacity:0.1; fill:none\" points=\"\n",
                            "  752.134,1423.18 752.134,47.2441 \n",
                            "  \"/>\n",
                            "<polyline clip-path=\"url(#clip312)\" style=\"stroke:#000000; stroke-linecap:butt; stroke-linejoin:round; stroke-width:2; stroke-opacity:0.1; fill:none\" points=\"\n",
                            "  939.779,1423.18 939.779,47.2441 \n",
                            "  \"/>\n",
                            "<polyline clip-path=\"url(#clip312)\" style=\"stroke:#000000; stroke-linecap:butt; stroke-linejoin:round; stroke-width:2; stroke-opacity:0.1; fill:none\" points=\"\n",
                            "  1127.42,1423.18 1127.42,47.2441 \n",
                            "  \"/>\n",
                            "<polyline clip-path=\"url(#clip310)\" style=\"stroke:#000000; stroke-linecap:butt; stroke-linejoin:round; stroke-width:4; stroke-opacity:1; fill:none\" points=\"\n",
                            "  257.69,1423.18 1152.76,1423.18 \n",
                            "  \"/>\n",
                            "<polyline clip-path=\"url(#clip310)\" style=\"stroke:#000000; stroke-linecap:butt; stroke-linejoin:round; stroke-width:4; stroke-opacity:1; fill:none\" points=\"\n",
                            "  376.845,1423.18 376.845,1404.28 \n",
                            "  \"/>\n",
                            "<polyline clip-path=\"url(#clip310)\" style=\"stroke:#000000; stroke-linecap:butt; stroke-linejoin:round; stroke-width:4; stroke-opacity:1; fill:none\" points=\"\n",
                            "  564.489,1423.18 564.489,1404.28 \n",
                            "  \"/>\n",
                            "<polyline clip-path=\"url(#clip310)\" style=\"stroke:#000000; stroke-linecap:butt; stroke-linejoin:round; stroke-width:4; stroke-opacity:1; fill:none\" points=\"\n",
                            "  752.134,1423.18 752.134,1404.28 \n",
                            "  \"/>\n",
                            "<polyline clip-path=\"url(#clip310)\" style=\"stroke:#000000; stroke-linecap:butt; stroke-linejoin:round; stroke-width:4; stroke-opacity:1; fill:none\" points=\"\n",
                            "  939.779,1423.18 939.779,1404.28 \n",
                            "  \"/>\n",
                            "<polyline clip-path=\"url(#clip310)\" style=\"stroke:#000000; stroke-linecap:butt; stroke-linejoin:round; stroke-width:4; stroke-opacity:1; fill:none\" points=\"\n",
                            "  1127.42,1423.18 1127.42,1404.28 \n",
                            "  \"/>\n",
                            "<path clip-path=\"url(#clip310)\" d=\"M351.451 1481.64 L359.09 1481.64 L359.09 1455.28 L350.78 1456.95 L350.78 1452.69 L359.044 1451.02 L363.72 1451.02 L363.72 1481.64 L371.359 1481.64 L371.359 1485.58 L351.451 1485.58 L351.451 1481.64 Z\" fill=\"#000000\" fill-rule=\"evenodd\" fill-opacity=\"1\" /><path clip-path=\"url(#clip310)\" d=\"M391.382 1466.44 Q388.233 1466.44 386.382 1468.59 Q384.553 1470.74 384.553 1474.49 Q384.553 1478.22 386.382 1480.39 Q388.233 1482.55 391.382 1482.55 Q394.53 1482.55 396.358 1480.39 Q398.21 1478.22 398.21 1474.49 Q398.21 1470.74 396.358 1468.59 Q394.53 1466.44 391.382 1466.44 M400.664 1451.78 L400.664 1456.04 Q398.905 1455.21 397.099 1454.77 Q395.317 1454.33 393.557 1454.33 Q388.928 1454.33 386.474 1457.45 Q384.044 1460.58 383.696 1466.9 Q385.062 1464.89 387.122 1463.82 Q389.182 1462.73 391.659 1462.73 Q396.868 1462.73 399.877 1465.9 Q402.909 1469.05 402.909 1474.49 Q402.909 1479.82 399.761 1483.03 Q396.613 1486.25 391.382 1486.25 Q385.386 1486.25 382.215 1481.67 Q379.044 1477.06 379.044 1468.33 Q379.044 1460.14 382.933 1455.28 Q386.821 1450.39 393.372 1450.39 Q395.132 1450.39 396.914 1450.74 Q398.719 1451.09 400.664 1451.78 Z\" fill=\"#000000\" fill-rule=\"evenodd\" fill-opacity=\"1\" /><path clip-path=\"url(#clip310)\" d=\"M539.223 1481.64 L546.862 1481.64 L546.862 1455.28 L538.552 1456.95 L538.552 1452.69 L546.816 1451.02 L551.492 1451.02 L551.492 1481.64 L559.131 1481.64 L559.131 1485.58 L539.223 1485.58 L539.223 1481.64 Z\" fill=\"#000000\" fill-rule=\"evenodd\" fill-opacity=\"1\" /><path clip-path=\"url(#clip310)\" d=\"M578.575 1469.17 Q575.242 1469.17 573.32 1470.95 Q571.422 1472.73 571.422 1475.86 Q571.422 1478.98 573.32 1480.77 Q575.242 1482.55 578.575 1482.55 Q581.908 1482.55 583.83 1480.77 Q585.751 1478.96 585.751 1475.86 Q585.751 1472.73 583.83 1470.95 Q581.931 1469.17 578.575 1469.17 M573.899 1467.18 Q570.89 1466.44 569.2 1464.38 Q567.533 1462.32 567.533 1459.35 Q567.533 1455.21 570.473 1452.8 Q573.436 1450.39 578.575 1450.39 Q583.737 1450.39 586.677 1452.8 Q589.617 1455.21 589.617 1459.35 Q589.617 1462.32 587.927 1464.38 Q586.26 1466.44 583.274 1467.18 Q586.654 1467.96 588.529 1470.26 Q590.427 1472.55 590.427 1475.86 Q590.427 1480.88 587.348 1483.57 Q584.293 1486.25 578.575 1486.25 Q572.857 1486.25 569.779 1483.57 Q566.723 1480.88 566.723 1475.86 Q566.723 1472.55 568.621 1470.26 Q570.519 1467.96 573.899 1467.18 M572.186 1459.79 Q572.186 1462.48 573.853 1463.98 Q575.543 1465.49 578.575 1465.49 Q581.584 1465.49 583.274 1463.98 Q584.987 1462.48 584.987 1459.79 Q584.987 1457.11 583.274 1455.6 Q581.584 1454.1 578.575 1454.1 Q575.543 1454.1 573.853 1455.6 Q572.186 1457.11 572.186 1459.79 Z\" fill=\"#000000\" fill-rule=\"evenodd\" fill-opacity=\"1\" /><path clip-path=\"url(#clip310)\" d=\"M730.907 1481.64 L747.227 1481.64 L747.227 1485.58 L725.283 1485.58 L725.283 1481.64 Q727.945 1478.89 732.528 1474.26 Q737.134 1469.61 738.315 1468.27 Q740.56 1465.74 741.44 1464.01 Q742.343 1462.25 742.343 1460.56 Q742.343 1457.8 740.398 1456.07 Q738.477 1454.33 735.375 1454.33 Q733.176 1454.33 730.722 1455.09 Q728.292 1455.86 725.514 1457.41 L725.514 1452.69 Q728.338 1451.55 730.792 1450.97 Q733.245 1450.39 735.282 1450.39 Q740.653 1450.39 743.847 1453.08 Q747.042 1455.77 747.042 1460.26 Q747.042 1462.39 746.231 1464.31 Q745.444 1466.2 743.338 1468.8 Q742.759 1469.47 739.657 1472.69 Q736.556 1475.88 730.907 1481.64 Z\" fill=\"#000000\" fill-rule=\"evenodd\" fill-opacity=\"1\" /><path clip-path=\"url(#clip310)\" d=\"M767.042 1454.1 Q763.43 1454.1 761.602 1457.66 Q759.796 1461.2 759.796 1468.33 Q759.796 1475.44 761.602 1479.01 Q763.43 1482.55 767.042 1482.55 Q770.676 1482.55 772.481 1479.01 Q774.31 1475.44 774.31 1468.33 Q774.31 1461.2 772.481 1457.66 Q770.676 1454.1 767.042 1454.1 M767.042 1450.39 Q772.852 1450.39 775.907 1455 Q778.986 1459.58 778.986 1468.33 Q778.986 1477.06 775.907 1481.67 Q772.852 1486.25 767.042 1486.25 Q761.231 1486.25 758.153 1481.67 Q755.097 1477.06 755.097 1468.33 Q755.097 1459.58 758.153 1455 Q761.231 1450.39 767.042 1450.39 Z\" fill=\"#000000\" fill-rule=\"evenodd\" fill-opacity=\"1\" /><path clip-path=\"url(#clip310)\" d=\"M919.351 1481.64 L935.67 1481.64 L935.67 1485.58 L913.726 1485.58 L913.726 1481.64 Q916.388 1478.89 920.971 1474.26 Q925.578 1469.61 926.758 1468.27 Q929.004 1465.74 929.883 1464.01 Q930.786 1462.25 930.786 1460.56 Q930.786 1457.8 928.842 1456.07 Q926.92 1454.33 923.818 1454.33 Q921.619 1454.33 919.166 1455.09 Q916.735 1455.86 913.957 1457.41 L913.957 1452.69 Q916.781 1451.55 919.235 1450.97 Q921.689 1450.39 923.726 1450.39 Q929.096 1450.39 932.291 1453.08 Q935.485 1455.77 935.485 1460.26 Q935.485 1462.39 934.675 1464.31 Q933.888 1466.2 931.781 1468.8 Q931.203 1469.47 928.101 1472.69 Q924.999 1475.88 919.351 1481.64 Z\" fill=\"#000000\" fill-rule=\"evenodd\" fill-opacity=\"1\" /><path clip-path=\"url(#clip310)\" d=\"M949.513 1481.64 L965.832 1481.64 L965.832 1485.58 L943.888 1485.58 L943.888 1481.64 Q946.55 1478.89 951.133 1474.26 Q955.74 1469.61 956.92 1468.27 Q959.166 1465.74 960.045 1464.01 Q960.948 1462.25 960.948 1460.56 Q960.948 1457.8 959.003 1456.07 Q957.082 1454.33 953.98 1454.33 Q951.781 1454.33 949.328 1455.09 Q946.897 1455.86 944.119 1457.41 L944.119 1452.69 Q946.943 1451.55 949.397 1450.97 Q951.851 1450.39 953.888 1450.39 Q959.258 1450.39 962.453 1453.08 Q965.647 1455.77 965.647 1460.26 Q965.647 1462.39 964.837 1464.31 Q964.05 1466.2 961.943 1468.8 Q961.365 1469.47 958.263 1472.69 Q955.161 1475.88 949.513 1481.64 Z\" fill=\"#000000\" fill-rule=\"evenodd\" fill-opacity=\"1\" /><path clip-path=\"url(#clip310)\" d=\"M1105.95 1481.64 L1122.27 1481.64 L1122.27 1485.58 L1100.33 1485.58 L1100.33 1481.64 Q1102.99 1478.89 1107.57 1474.26 Q1112.18 1469.61 1113.36 1468.27 Q1115.61 1465.74 1116.49 1464.01 Q1117.39 1462.25 1117.39 1460.56 Q1117.39 1457.8 1115.44 1456.07 Q1113.52 1454.33 1110.42 1454.33 Q1108.22 1454.33 1105.77 1455.09 Q1103.34 1455.86 1100.56 1457.41 L1100.56 1452.69 Q1103.38 1451.55 1105.84 1450.97 Q1108.29 1450.39 1110.33 1450.39 Q1115.7 1450.39 1118.89 1453.08 Q1122.09 1455.77 1122.09 1460.26 Q1122.09 1462.39 1121.28 1464.31 Q1120.49 1466.2 1118.38 1468.8 Q1117.81 1469.47 1114.7 1472.69 Q1111.6 1475.88 1105.95 1481.64 Z\" fill=\"#000000\" fill-rule=\"evenodd\" fill-opacity=\"1\" /><path clip-path=\"url(#clip310)\" d=\"M1144.94 1455.09 L1133.13 1473.54 L1144.94 1473.54 L1144.94 1455.09 M1143.71 1451.02 L1149.59 1451.02 L1149.59 1473.54 L1154.52 1473.54 L1154.52 1477.43 L1149.59 1477.43 L1149.59 1485.58 L1144.94 1485.58 L1144.94 1477.43 L1129.33 1477.43 L1129.33 1472.92 L1143.71 1451.02 Z\" fill=\"#000000\" fill-rule=\"evenodd\" fill-opacity=\"1\" /><path clip-path=\"url(#clip310)\" d=\"M646.436 1533.45 L646.436 1538.98 Q643.953 1537.71 641.279 1537.07 Q638.606 1536.44 635.741 1536.44 Q631.381 1536.44 629.185 1537.77 Q627.02 1539.11 627.02 1541.79 Q627.02 1543.82 628.58 1545 Q630.14 1546.15 634.85 1547.2 L636.855 1547.64 Q643.094 1548.98 645.704 1551.43 Q648.345 1553.85 648.345 1558.21 Q648.345 1563.17 644.399 1566.07 Q640.484 1568.97 633.609 1568.97 Q630.744 1568.97 627.625 1568.39 Q624.538 1567.85 621.1 1566.74 L621.1 1560.69 Q624.347 1562.38 627.498 1563.24 Q630.649 1564.07 633.736 1564.07 Q637.874 1564.07 640.102 1562.66 Q642.33 1561.23 642.33 1558.65 Q642.33 1556.27 640.707 1554.99 Q639.115 1553.72 633.672 1552.54 L631.635 1552.07 Q626.193 1550.92 623.774 1548.56 Q621.355 1546.18 621.355 1542.04 Q621.355 1537.01 624.92 1534.27 Q628.484 1531.54 635.041 1531.54 Q638.288 1531.54 641.152 1532.01 Q644.017 1532.49 646.436 1533.45 Z\" fill=\"#000000\" fill-rule=\"evenodd\" fill-opacity=\"1\" /><path clip-path=\"url(#clip310)\" d=\"M663.464 1522.27 L663.464 1532.4 L675.527 1532.4 L675.527 1536.95 L663.464 1536.95 L663.464 1556.3 Q663.464 1560.66 664.642 1561.9 Q665.851 1563.14 669.511 1563.14 L675.527 1563.14 L675.527 1568.04 L669.511 1568.04 Q662.732 1568.04 660.154 1565.53 Q657.576 1562.98 657.576 1556.3 L657.576 1536.95 L653.279 1536.95 L653.279 1532.4 L657.576 1532.4 L657.576 1522.27 L663.464 1522.27 Z\" fill=\"#000000\" fill-rule=\"evenodd\" fill-opacity=\"1\" /><path clip-path=\"url(#clip310)\" d=\"M713.721 1548.76 L713.721 1551.62 L686.794 1551.62 Q687.176 1557.67 690.423 1560.85 Q693.701 1564 699.526 1564 Q702.9 1564 706.051 1563.17 Q709.233 1562.35 712.353 1560.69 L712.353 1566.23 Q709.202 1567.57 705.891 1568.27 Q702.581 1568.97 699.176 1568.97 Q690.646 1568.97 685.648 1564 Q680.683 1559.04 680.683 1550.57 Q680.683 1541.82 685.394 1536.69 Q690.136 1531.54 698.157 1531.54 Q705.35 1531.54 709.52 1536.18 Q713.721 1540.8 713.721 1548.76 M707.865 1547.04 Q707.801 1542.23 705.159 1539.37 Q702.549 1536.5 698.221 1536.5 Q693.319 1536.5 690.359 1539.27 Q687.431 1542.04 686.985 1547.07 L707.865 1547.04 Z\" fill=\"#000000\" fill-rule=\"evenodd\" fill-opacity=\"1\" /><path clip-path=\"url(#clip310)\" d=\"M728.999 1562.7 L728.999 1581.6 L723.111 1581.6 L723.111 1532.4 L728.999 1532.4 L728.999 1537.81 Q730.845 1534.62 733.646 1533.1 Q736.479 1531.54 740.394 1531.54 Q746.887 1531.54 750.929 1536.69 Q755.003 1541.85 755.003 1550.25 Q755.003 1558.65 750.929 1563.81 Q746.887 1568.97 740.394 1568.97 Q736.479 1568.97 733.646 1567.44 Q730.845 1565.88 728.999 1562.7 M748.924 1550.25 Q748.924 1543.79 746.25 1540.13 Q743.608 1536.44 738.961 1536.44 Q734.314 1536.44 731.641 1540.13 Q728.999 1543.79 728.999 1550.25 Q728.999 1556.71 731.641 1560.4 Q734.314 1564.07 738.961 1564.07 Q743.608 1564.07 746.25 1560.4 Q748.924 1556.71 748.924 1550.25 Z\" fill=\"#000000\" fill-rule=\"evenodd\" fill-opacity=\"1\" /><path clip-path=\"url(#clip310)\" d=\"M787.436 1533.45 L787.436 1538.98 Q784.953 1537.71 782.28 1537.07 Q779.606 1536.44 776.742 1536.44 Q772.381 1536.44 770.185 1537.77 Q768.021 1539.11 768.021 1541.79 Q768.021 1543.82 769.58 1545 Q771.14 1546.15 775.851 1547.2 L777.856 1547.64 Q784.094 1548.98 786.704 1551.43 Q789.346 1553.85 789.346 1558.21 Q789.346 1563.17 785.399 1566.07 Q781.484 1568.97 774.609 1568.97 Q771.745 1568.97 768.625 1568.39 Q765.538 1567.85 762.101 1566.74 L762.101 1560.69 Q765.347 1562.38 768.498 1563.24 Q771.649 1564.07 774.737 1564.07 Q778.874 1564.07 781.102 1562.66 Q783.33 1561.23 783.33 1558.65 Q783.33 1556.27 781.707 1554.99 Q780.116 1553.72 774.673 1552.54 L772.636 1552.07 Q767.193 1550.92 764.774 1548.56 Q762.355 1546.18 762.355 1542.04 Q762.355 1537.01 765.92 1534.27 Q769.485 1531.54 776.042 1531.54 Q779.288 1531.54 782.153 1532.01 Q785.017 1532.49 787.436 1533.45 Z\" fill=\"#000000\" fill-rule=\"evenodd\" fill-opacity=\"1\" /><polyline clip-path=\"url(#clip312)\" style=\"stroke:#000000; stroke-linecap:butt; stroke-linejoin:round; stroke-width:2; stroke-opacity:0.1; fill:none\" points=\"\n",
                            "  257.69,1391.09 1152.76,1391.09 \n",
                            "  \"/>\n",
                            "<polyline clip-path=\"url(#clip312)\" style=\"stroke:#000000; stroke-linecap:butt; stroke-linejoin:round; stroke-width:2; stroke-opacity:0.1; fill:none\" points=\"\n",
                            "  257.69,1156.59 1152.76,1156.59 \n",
                            "  \"/>\n",
                            "<polyline clip-path=\"url(#clip312)\" style=\"stroke:#000000; stroke-linecap:butt; stroke-linejoin:round; stroke-width:2; stroke-opacity:0.1; fill:none\" points=\"\n",
                            "  257.69,922.086 1152.76,922.086 \n",
                            "  \"/>\n",
                            "<polyline clip-path=\"url(#clip312)\" style=\"stroke:#000000; stroke-linecap:butt; stroke-linejoin:round; stroke-width:2; stroke-opacity:0.1; fill:none\" points=\"\n",
                            "  257.69,687.585 1152.76,687.585 \n",
                            "  \"/>\n",
                            "<polyline clip-path=\"url(#clip312)\" style=\"stroke:#000000; stroke-linecap:butt; stroke-linejoin:round; stroke-width:2; stroke-opacity:0.1; fill:none\" points=\"\n",
                            "  257.69,453.084 1152.76,453.084 \n",
                            "  \"/>\n",
                            "<polyline clip-path=\"url(#clip312)\" style=\"stroke:#000000; stroke-linecap:butt; stroke-linejoin:round; stroke-width:2; stroke-opacity:0.1; fill:none\" points=\"\n",
                            "  257.69,218.583 1152.76,218.583 \n",
                            "  \"/>\n",
                            "<polyline clip-path=\"url(#clip310)\" style=\"stroke:#000000; stroke-linecap:butt; stroke-linejoin:round; stroke-width:4; stroke-opacity:1; fill:none\" points=\"\n",
                            "  257.69,1423.18 257.69,47.2441 \n",
                            "  \"/>\n",
                            "<polyline clip-path=\"url(#clip310)\" style=\"stroke:#000000; stroke-linecap:butt; stroke-linejoin:round; stroke-width:4; stroke-opacity:1; fill:none\" points=\"\n",
                            "  257.69,1391.09 276.588,1391.09 \n",
                            "  \"/>\n",
                            "<polyline clip-path=\"url(#clip310)\" style=\"stroke:#000000; stroke-linecap:butt; stroke-linejoin:round; stroke-width:4; stroke-opacity:1; fill:none\" points=\"\n",
                            "  257.69,1156.59 276.588,1156.59 \n",
                            "  \"/>\n",
                            "<polyline clip-path=\"url(#clip310)\" style=\"stroke:#000000; stroke-linecap:butt; stroke-linejoin:round; stroke-width:4; stroke-opacity:1; fill:none\" points=\"\n",
                            "  257.69,922.086 276.588,922.086 \n",
                            "  \"/>\n",
                            "<polyline clip-path=\"url(#clip310)\" style=\"stroke:#000000; stroke-linecap:butt; stroke-linejoin:round; stroke-width:4; stroke-opacity:1; fill:none\" points=\"\n",
                            "  257.69,687.585 276.588,687.585 \n",
                            "  \"/>\n",
                            "<polyline clip-path=\"url(#clip310)\" style=\"stroke:#000000; stroke-linecap:butt; stroke-linejoin:round; stroke-width:4; stroke-opacity:1; fill:none\" points=\"\n",
                            "  257.69,453.084 276.588,453.084 \n",
                            "  \"/>\n",
                            "<polyline clip-path=\"url(#clip310)\" style=\"stroke:#000000; stroke-linecap:butt; stroke-linejoin:round; stroke-width:4; stroke-opacity:1; fill:none\" points=\"\n",
                            "  257.69,218.583 276.588,218.583 \n",
                            "  \"/>\n",
                            "<path clip-path=\"url(#clip310)\" d=\"M115.649 1391.54 L145.325 1391.54 L145.325 1395.47 L115.649 1395.47 L115.649 1391.54 Z\" fill=\"#000000\" fill-rule=\"evenodd\" fill-opacity=\"1\" /><path clip-path=\"url(#clip310)\" d=\"M165.417 1376.89 Q161.806 1376.89 159.978 1380.45 Q158.172 1383.99 158.172 1391.12 Q158.172 1398.23 159.978 1401.79 Q161.806 1405.34 165.417 1405.34 Q169.052 1405.34 170.857 1401.79 Q172.686 1398.23 172.686 1391.12 Q172.686 1383.99 170.857 1380.45 Q169.052 1376.89 165.417 1376.89 M165.417 1373.18 Q171.227 1373.18 174.283 1377.79 Q177.362 1382.37 177.362 1391.12 Q177.362 1399.85 174.283 1404.46 Q171.227 1409.04 165.417 1409.04 Q159.607 1409.04 156.528 1404.46 Q153.473 1399.85 153.473 1391.12 Q153.473 1382.37 156.528 1377.79 Q159.607 1373.18 165.417 1373.18 Z\" fill=\"#000000\" fill-rule=\"evenodd\" fill-opacity=\"1\" /><path clip-path=\"url(#clip310)\" d=\"M185.579 1402.49 L190.463 1402.49 L190.463 1408.37 L185.579 1408.37 L185.579 1402.49 Z\" fill=\"#000000\" fill-rule=\"evenodd\" fill-opacity=\"1\" /><path clip-path=\"url(#clip310)\" d=\"M199.468 1373.81 L221.69 1373.81 L221.69 1375.8 L209.144 1408.37 L204.26 1408.37 L216.065 1377.74 L199.468 1377.74 L199.468 1373.81 Z\" fill=\"#000000\" fill-rule=\"evenodd\" fill-opacity=\"1\" /><path clip-path=\"url(#clip310)\" d=\"M114.584 1157.04 L144.26 1157.04 L144.26 1160.97 L114.584 1160.97 L114.584 1157.04 Z\" fill=\"#000000\" fill-rule=\"evenodd\" fill-opacity=\"1\" /><path clip-path=\"url(#clip310)\" d=\"M164.352 1142.39 Q160.741 1142.39 158.913 1145.95 Q157.107 1149.49 157.107 1156.62 Q157.107 1163.73 158.913 1167.29 Q160.741 1170.83 164.352 1170.83 Q167.987 1170.83 169.792 1167.29 Q171.621 1163.73 171.621 1156.62 Q171.621 1149.49 169.792 1145.95 Q167.987 1142.39 164.352 1142.39 M164.352 1138.68 Q170.163 1138.68 173.218 1143.29 Q176.297 1147.87 176.297 1156.62 Q176.297 1165.35 173.218 1169.95 Q170.163 1174.54 164.352 1174.54 Q158.542 1174.54 155.464 1169.95 Q152.408 1165.35 152.408 1156.62 Q152.408 1147.87 155.464 1143.29 Q158.542 1138.68 164.352 1138.68 Z\" fill=\"#000000\" fill-rule=\"evenodd\" fill-opacity=\"1\" /><path clip-path=\"url(#clip310)\" d=\"M184.514 1167.99 L189.399 1167.99 L189.399 1173.87 L184.514 1173.87 L184.514 1167.99 Z\" fill=\"#000000\" fill-rule=\"evenodd\" fill-opacity=\"1\" /><path clip-path=\"url(#clip310)\" d=\"M210.162 1154.72 Q207.014 1154.72 205.162 1156.88 Q203.334 1159.03 203.334 1162.78 Q203.334 1166.51 205.162 1168.68 Q207.014 1170.83 210.162 1170.83 Q213.311 1170.83 215.139 1168.68 Q216.991 1166.51 216.991 1162.78 Q216.991 1159.03 215.139 1156.88 Q213.311 1154.72 210.162 1154.72 M219.445 1140.07 L219.445 1144.33 Q217.686 1143.5 215.88 1143.06 Q214.098 1142.62 212.338 1142.62 Q207.709 1142.62 205.255 1145.74 Q202.824 1148.87 202.477 1155.19 Q203.843 1153.17 205.903 1152.11 Q207.963 1151.02 210.44 1151.02 Q215.649 1151.02 218.658 1154.19 Q221.69 1157.34 221.69 1162.78 Q221.69 1168.1 218.542 1171.32 Q215.394 1174.54 210.162 1174.54 Q204.167 1174.54 200.996 1169.95 Q197.825 1165.35 197.825 1156.62 Q197.825 1148.43 201.713 1143.57 Q205.602 1138.68 212.153 1138.68 Q213.912 1138.68 215.695 1139.03 Q217.5 1139.38 219.445 1140.07 Z\" fill=\"#000000\" fill-rule=\"evenodd\" fill-opacity=\"1\" /><path clip-path=\"url(#clip310)\" d=\"M115.742 922.537 L145.417 922.537 L145.417 926.473 L115.742 926.473 L115.742 922.537 Z\" fill=\"#000000\" fill-rule=\"evenodd\" fill-opacity=\"1\" /><path clip-path=\"url(#clip310)\" d=\"M165.51 907.885 Q161.899 907.885 160.07 911.449 Q158.265 914.991 158.265 922.121 Q158.265 929.227 160.07 932.792 Q161.899 936.334 165.51 936.334 Q169.144 936.334 170.95 932.792 Q172.778 929.227 172.778 922.121 Q172.778 914.991 170.95 911.449 Q169.144 907.885 165.51 907.885 M165.51 904.181 Q171.32 904.181 174.376 908.787 Q177.454 913.371 177.454 922.121 Q177.454 930.848 174.376 935.454 Q171.32 940.037 165.51 940.037 Q159.7 940.037 156.621 935.454 Q153.566 930.848 153.566 922.121 Q153.566 913.371 156.621 908.787 Q159.7 904.181 165.51 904.181 Z\" fill=\"#000000\" fill-rule=\"evenodd\" fill-opacity=\"1\" /><path clip-path=\"url(#clip310)\" d=\"M185.672 933.486 L190.556 933.486 L190.556 939.366 L185.672 939.366 L185.672 933.486 Z\" fill=\"#000000\" fill-rule=\"evenodd\" fill-opacity=\"1\" /><path clip-path=\"url(#clip310)\" d=\"M200.787 904.806 L219.144 904.806 L219.144 908.741 L205.07 908.741 L205.07 917.213 Q206.088 916.866 207.107 916.704 Q208.125 916.519 209.144 916.519 Q214.931 916.519 218.311 919.69 Q221.69 922.861 221.69 928.278 Q221.69 933.857 218.218 936.959 Q214.746 940.037 208.426 940.037 Q206.25 940.037 203.982 939.667 Q201.737 939.297 199.329 938.556 L199.329 933.857 Q201.412 934.991 203.635 935.547 Q205.857 936.102 208.334 936.102 Q212.338 936.102 214.676 933.996 Q217.014 931.889 217.014 928.278 Q217.014 924.667 214.676 922.561 Q212.338 920.454 208.334 920.454 Q206.459 920.454 204.584 920.871 Q202.732 921.287 200.787 922.167 L200.787 904.806 Z\" fill=\"#000000\" fill-rule=\"evenodd\" fill-opacity=\"1\" /><path clip-path=\"url(#clip310)\" d=\"M114.26 688.036 L143.936 688.036 L143.936 691.972 L114.26 691.972 L114.26 688.036 Z\" fill=\"#000000\" fill-rule=\"evenodd\" fill-opacity=\"1\" /><path clip-path=\"url(#clip310)\" d=\"M164.028 673.384 Q160.417 673.384 158.589 676.949 Q156.783 680.49 156.783 687.62 Q156.783 694.726 158.589 698.291 Q160.417 701.833 164.028 701.833 Q167.663 701.833 169.468 698.291 Q171.297 694.726 171.297 687.62 Q171.297 680.49 169.468 676.949 Q167.663 673.384 164.028 673.384 M164.028 669.68 Q169.839 669.68 172.894 674.287 Q175.973 678.87 175.973 687.62 Q175.973 696.347 172.894 700.953 Q169.839 705.536 164.028 705.536 Q158.218 705.536 155.14 700.953 Q152.084 696.347 152.084 687.62 Q152.084 678.87 155.14 674.287 Q158.218 669.68 164.028 669.68 Z\" fill=\"#000000\" fill-rule=\"evenodd\" fill-opacity=\"1\" /><path clip-path=\"url(#clip310)\" d=\"M184.19 698.985 L189.075 698.985 L189.075 704.865 L184.19 704.865 L184.19 698.985 Z\" fill=\"#000000\" fill-rule=\"evenodd\" fill-opacity=\"1\" /><path clip-path=\"url(#clip310)\" d=\"M212.107 674.379 L200.301 692.828 L212.107 692.828 L212.107 674.379 M210.88 670.305 L216.76 670.305 L216.76 692.828 L221.69 692.828 L221.69 696.717 L216.76 696.717 L216.76 704.865 L212.107 704.865 L212.107 696.717 L196.505 696.717 L196.505 692.203 L210.88 670.305 Z\" fill=\"#000000\" fill-rule=\"evenodd\" fill-opacity=\"1\" /><path clip-path=\"url(#clip310)\" d=\"M115.394 453.536 L145.07 453.536 L145.07 457.471 L115.394 457.471 L115.394 453.536 Z\" fill=\"#000000\" fill-rule=\"evenodd\" fill-opacity=\"1\" /><path clip-path=\"url(#clip310)\" d=\"M165.163 438.883 Q161.552 438.883 159.723 442.448 Q157.917 445.989 157.917 453.119 Q157.917 460.225 159.723 463.79 Q161.552 467.332 165.163 467.332 Q168.797 467.332 170.602 463.79 Q172.431 460.225 172.431 453.119 Q172.431 445.989 170.602 442.448 Q168.797 438.883 165.163 438.883 M165.163 435.179 Q170.973 435.179 174.028 439.786 Q177.107 444.369 177.107 453.119 Q177.107 461.846 174.028 466.452 Q170.973 471.035 165.163 471.035 Q159.353 471.035 156.274 466.452 Q153.218 461.846 153.218 453.119 Q153.218 444.369 156.274 439.786 Q159.353 435.179 165.163 435.179 Z\" fill=\"#000000\" fill-rule=\"evenodd\" fill-opacity=\"1\" /><path clip-path=\"url(#clip310)\" d=\"M185.325 464.485 L190.209 464.485 L190.209 470.364 L185.325 470.364 L185.325 464.485 Z\" fill=\"#000000\" fill-rule=\"evenodd\" fill-opacity=\"1\" /><path clip-path=\"url(#clip310)\" d=\"M214.561 451.73 Q217.917 452.448 219.792 454.716 Q221.69 456.985 221.69 460.318 Q221.69 465.434 218.172 468.235 Q214.653 471.035 208.172 471.035 Q205.996 471.035 203.681 470.596 Q201.389 470.179 198.936 469.323 L198.936 464.809 Q200.88 465.943 203.195 466.522 Q205.51 467.1 208.033 467.1 Q212.431 467.1 214.723 465.364 Q217.037 463.628 217.037 460.318 Q217.037 457.262 214.885 455.549 Q212.755 453.813 208.936 453.813 L204.908 453.813 L204.908 449.971 L209.121 449.971 Q212.57 449.971 214.399 448.605 Q216.227 447.216 216.227 444.624 Q216.227 441.962 214.329 440.55 Q212.454 439.114 208.936 439.114 Q207.014 439.114 204.815 439.531 Q202.616 439.948 199.977 440.827 L199.977 436.661 Q202.639 435.92 204.954 435.55 Q207.292 435.179 209.352 435.179 Q214.676 435.179 217.778 437.61 Q220.88 440.017 220.88 444.137 Q220.88 447.008 219.236 448.999 Q217.593 450.966 214.561 451.73 Z\" fill=\"#000000\" fill-rule=\"evenodd\" fill-opacity=\"1\" /><path clip-path=\"url(#clip310)\" d=\"M116.343 219.035 L146.019 219.035 L146.019 222.97 L116.343 222.97 L116.343 219.035 Z\" fill=\"#000000\" fill-rule=\"evenodd\" fill-opacity=\"1\" /><path clip-path=\"url(#clip310)\" d=\"M166.112 204.382 Q162.501 204.382 160.672 207.947 Q158.866 211.488 158.866 218.618 Q158.866 225.724 160.672 229.289 Q162.501 232.831 166.112 232.831 Q169.746 232.831 171.552 229.289 Q173.38 225.724 173.38 218.618 Q173.38 211.488 171.552 207.947 Q169.746 204.382 166.112 204.382 M166.112 200.678 Q171.922 200.678 174.977 205.285 Q178.056 209.868 178.056 218.618 Q178.056 227.345 174.977 231.951 Q171.922 236.535 166.112 236.535 Q160.302 236.535 157.223 231.951 Q154.167 227.345 154.167 218.618 Q154.167 209.868 157.223 205.285 Q160.302 200.678 166.112 200.678 Z\" fill=\"#000000\" fill-rule=\"evenodd\" fill-opacity=\"1\" /><path clip-path=\"url(#clip310)\" d=\"M186.274 229.984 L191.158 229.984 L191.158 235.863 L186.274 235.863 L186.274 229.984 Z\" fill=\"#000000\" fill-rule=\"evenodd\" fill-opacity=\"1\" /><path clip-path=\"url(#clip310)\" d=\"M205.371 231.928 L221.69 231.928 L221.69 235.863 L199.746 235.863 L199.746 231.928 Q202.408 229.174 206.991 224.544 Q211.598 219.891 212.778 218.549 Q215.024 216.025 215.903 214.289 Q216.806 212.53 216.806 210.84 Q216.806 208.086 214.861 206.35 Q212.94 204.613 209.838 204.613 Q207.639 204.613 205.186 205.377 Q202.755 206.141 199.977 207.692 L199.977 202.97 Q202.801 201.836 205.255 201.257 Q207.709 200.678 209.746 200.678 Q215.116 200.678 218.311 203.363 Q221.505 206.049 221.505 210.539 Q221.505 212.669 220.695 214.59 Q219.908 216.488 217.801 219.081 Q217.223 219.752 214.121 222.97 Q211.019 226.164 205.371 231.928 Z\" fill=\"#000000\" fill-rule=\"evenodd\" fill-opacity=\"1\" /><path clip-path=\"url(#clip310)\" d=\"M16.4842 968.292 L16.4842 940.983 L21.895 940.983 L21.895 961.863 L35.8996 961.863 L35.8996 943.02 L41.3104 943.02 L41.3104 961.863 L64.0042 961.863 L64.0042 968.292 L16.4842 968.292 Z\" fill=\"#000000\" fill-rule=\"evenodd\" fill-opacity=\"1\" /><path clip-path=\"url(#clip310)\" d=\"M49.9359 935.222 L28.3562 935.222 L28.3562 929.366 L49.7131 929.366 Q54.7739 929.366 57.3202 927.393 Q59.8346 925.419 59.8346 921.473 Q59.8346 916.73 56.8109 913.993 Q53.7872 911.224 48.5673 911.224 L28.3562 911.224 L28.3562 905.367 L64.0042 905.367 L64.0042 911.224 L58.5296 911.224 Q61.7762 913.356 63.3676 916.189 Q64.9272 918.99 64.9272 922.714 Q64.9272 928.857 61.1078 932.04 Q57.2883 935.222 49.9359 935.222 M27.4968 920.486 L27.4968 920.486 Z\" fill=\"#000000\" fill-rule=\"evenodd\" fill-opacity=\"1\" /><path clip-path=\"url(#clip310)\" d=\"M42.4881 863.672 L64.0042 863.672 L64.0042 869.528 L42.679 869.528 Q37.6183 869.528 35.1038 871.502 Q32.5894 873.475 32.5894 877.422 Q32.5894 882.164 35.6131 884.902 Q38.6368 887.639 43.8567 887.639 L64.0042 887.639 L64.0042 893.527 L28.3562 893.527 L28.3562 887.639 L33.8944 887.639 Q30.6797 885.538 29.0883 882.705 Q27.4968 879.841 27.4968 876.117 Q27.4968 869.974 31.3163 866.823 Q35.1038 863.672 42.4881 863.672 Z\" fill=\"#000000\" fill-rule=\"evenodd\" fill-opacity=\"1\" /><path clip-path=\"url(#clip310)\" d=\"M29.7248 826.337 L35.1993 826.337 Q33.8307 828.82 33.1623 831.334 Q32.4621 833.817 32.4621 836.363 Q32.4621 842.06 36.0905 845.211 Q39.6872 848.362 46.212 848.362 Q52.7369 848.362 56.3653 845.211 Q59.9619 842.06 59.9619 836.363 Q59.9619 833.817 59.2935 831.334 Q58.5933 828.82 57.2247 826.337 L62.6355 826.337 Q63.7814 828.788 64.3543 831.43 Q64.9272 834.04 64.9272 837 Q64.9272 845.052 59.8664 849.795 Q54.8057 854.537 46.212 854.537 Q37.491 854.537 32.4939 849.763 Q27.4968 844.957 27.4968 836.618 Q27.4968 833.912 28.0697 831.334 Q28.6108 828.756 29.7248 826.337 Z\" fill=\"#000000\" fill-rule=\"evenodd\" fill-opacity=\"1\" /><path clip-path=\"url(#clip310)\" d=\"M18.2347 810.359 L28.3562 810.359 L28.3562 798.296 L32.9077 798.296 L32.9077 810.359 L52.2594 810.359 Q56.6199 810.359 57.8613 809.181 Q59.1026 807.972 59.1026 804.312 L59.1026 798.296 L64.0042 798.296 L64.0042 804.312 Q64.0042 811.091 61.4897 813.669 Q58.9434 816.247 52.2594 816.247 L32.9077 816.247 L32.9077 820.544 L28.3562 820.544 L28.3562 816.247 L18.2347 816.247 L18.2347 810.359 Z\" fill=\"#000000\" fill-rule=\"evenodd\" fill-opacity=\"1\" /><path clip-path=\"url(#clip310)\" d=\"M28.3562 790.594 L28.3562 784.737 L64.0042 784.737 L64.0042 790.594 L28.3562 790.594 M14.479 790.594 L14.479 784.737 L21.895 784.737 L21.895 790.594 L14.479 790.594 Z\" fill=\"#000000\" fill-rule=\"evenodd\" fill-opacity=\"1\" /><path clip-path=\"url(#clip310)\" d=\"M32.4621 758.67 Q32.4621 763.38 36.1542 766.117 Q39.8145 768.855 46.212 768.855 Q52.6095 768.855 56.3017 766.149 Q59.9619 763.412 59.9619 758.67 Q59.9619 753.991 56.2698 751.254 Q52.5777 748.516 46.212 748.516 Q39.8781 748.516 36.186 751.254 Q32.4621 753.991 32.4621 758.67 M27.4968 758.67 Q27.4968 751.031 32.4621 746.67 Q37.4273 742.31 46.212 742.31 Q54.9649 742.31 59.9619 746.67 Q64.9272 751.031 64.9272 758.67 Q64.9272 766.34 59.9619 770.701 Q54.9649 775.029 46.212 775.029 Q37.4273 775.029 32.4621 770.701 Q27.4968 766.34 27.4968 758.67 Z\" fill=\"#000000\" fill-rule=\"evenodd\" fill-opacity=\"1\" /><path clip-path=\"url(#clip310)\" d=\"M42.4881 702.97 L64.0042 702.97 L64.0042 708.826 L42.679 708.826 Q37.6183 708.826 35.1038 710.799 Q32.5894 712.773 32.5894 716.72 Q32.5894 721.462 35.6131 724.199 Q38.6368 726.937 43.8567 726.937 L64.0042 726.937 L64.0042 732.825 L28.3562 732.825 L28.3562 726.937 L33.8944 726.937 Q30.6797 724.836 29.0883 722.003 Q27.4968 719.139 27.4968 715.415 Q27.4968 709.272 31.3163 706.121 Q35.1038 702.97 42.4881 702.97 Z\" fill=\"#000000\" fill-rule=\"evenodd\" fill-opacity=\"1\" /><path clip-path=\"url(#clip310)\" d=\"M28.3562 674.77 L28.3562 668.563 L58.275 657.423 L28.3562 646.283 L28.3562 640.076 L64.0042 653.444 L64.0042 661.402 L28.3562 674.77 Z\" fill=\"#000000\" fill-rule=\"evenodd\" fill-opacity=\"1\" /><path clip-path=\"url(#clip310)\" d=\"M46.0847 615.791 Q46.0847 622.889 47.7079 625.626 Q49.3312 628.364 53.2461 628.364 Q56.3653 628.364 58.2114 626.327 Q60.0256 624.258 60.0256 620.725 Q60.0256 615.855 56.5881 612.927 Q53.1188 609.967 47.3897 609.967 L46.0847 609.967 L46.0847 615.791 M43.6657 604.11 L64.0042 604.11 L64.0042 609.967 L58.5933 609.967 Q61.8398 611.972 63.3994 614.964 Q64.9272 617.956 64.9272 622.284 Q64.9272 627.759 61.8716 631.005 Q58.7843 634.22 53.6281 634.22 Q47.6125 634.22 44.5569 630.21 Q41.5014 626.167 41.5014 618.178 L41.5014 609.967 L40.9285 609.967 Q36.8862 609.967 34.6901 612.64 Q32.4621 615.282 32.4621 620.088 Q32.4621 623.144 33.1941 626.04 Q33.9262 628.936 35.3903 631.61 L29.9795 631.61 Q28.7381 628.395 28.1334 625.372 Q27.4968 622.348 27.4968 619.483 Q27.4968 611.749 31.5072 607.93 Q35.5176 604.11 43.6657 604.11 Z\" fill=\"#000000\" fill-rule=\"evenodd\" fill-opacity=\"1\" /><path clip-path=\"url(#clip310)\" d=\"M14.479 592.047 L14.479 586.191 L64.0042 586.191 L64.0042 592.047 L14.479 592.047 Z\" fill=\"#000000\" fill-rule=\"evenodd\" fill-opacity=\"1\" /><path clip-path=\"url(#clip310)\" d=\"M49.9359 574.542 L28.3562 574.542 L28.3562 568.685 L49.7131 568.685 Q54.7739 568.685 57.3202 566.712 Q59.8346 564.738 59.8346 560.792 Q59.8346 556.049 56.8109 553.312 Q53.7872 550.543 48.5673 550.543 L28.3562 550.543 L28.3562 544.686 L64.0042 544.686 L64.0042 550.543 L58.5296 550.543 Q61.7762 552.675 63.3676 555.508 Q64.9272 558.309 64.9272 562.033 Q64.9272 568.176 61.1078 571.359 Q57.2883 574.542 49.9359 574.542 M27.4968 559.805 L27.4968 559.805 Z\" fill=\"#000000\" fill-rule=\"evenodd\" fill-opacity=\"1\" /><path clip-path=\"url(#clip310)\" d=\"M44.7161 502.132 L47.5806 502.132 L47.5806 529.059 Q53.6281 528.677 56.8109 525.43 Q59.9619 522.152 59.9619 516.327 Q59.9619 512.953 59.1344 509.802 Q58.3069 506.619 56.6518 503.5 L62.1899 503.5 Q63.5267 506.651 64.227 509.961 Q64.9272 513.272 64.9272 516.677 Q64.9272 525.207 59.9619 530.204 Q54.9967 535.17 46.5303 535.17 Q37.7774 535.17 32.6531 530.459 Q27.4968 525.717 27.4968 517.696 Q27.4968 510.503 32.1438 506.333 Q36.7589 502.132 44.7161 502.132 M42.9973 507.988 Q38.1912 508.052 35.3266 510.693 Q32.4621 513.303 32.4621 517.632 Q32.4621 522.534 35.2312 525.494 Q38.0002 528.422 43.0292 528.868 L42.9973 507.988 Z\" fill=\"#000000\" fill-rule=\"evenodd\" fill-opacity=\"1\" /><circle clip-path=\"url(#clip312)\" cx=\"283.022\" cy=\"1221.23\" r=\"14.4\" fill=\"#009af9\" fill-rule=\"evenodd\" fill-opacity=\"1\" stroke=\"#000000\" stroke-opacity=\"1\" stroke-width=\"3.2\"/>\n",
                            "<circle clip-path=\"url(#clip312)\" cx=\"376.845\" cy=\"831.202\" r=\"14.4\" fill=\"#009af9\" fill-rule=\"evenodd\" fill-opacity=\"1\" stroke=\"#000000\" stroke-opacity=\"1\" stroke-width=\"3.2\"/>\n",
                            "<circle clip-path=\"url(#clip312)\" cx=\"470.667\" cy=\"1007.81\" r=\"14.4\" fill=\"#009af9\" fill-rule=\"evenodd\" fill-opacity=\"1\" stroke=\"#000000\" stroke-opacity=\"1\" stroke-width=\"3.2\"/>\n",
                            "<circle clip-path=\"url(#clip312)\" cx=\"564.489\" cy=\"792.291\" r=\"14.4\" fill=\"#009af9\" fill-rule=\"evenodd\" fill-opacity=\"1\" stroke=\"#000000\" stroke-opacity=\"1\" stroke-width=\"3.2\"/>\n",
                            "<circle clip-path=\"url(#clip312)\" cx=\"658.312\" cy=\"1384.24\" r=\"14.4\" fill=\"#009af9\" fill-rule=\"evenodd\" fill-opacity=\"1\" stroke=\"#000000\" stroke-opacity=\"1\" stroke-width=\"3.2\"/>\n",
                            "<circle clip-path=\"url(#clip312)\" cx=\"752.134\" cy=\"86.1857\" r=\"14.4\" fill=\"#009af9\" fill-rule=\"evenodd\" fill-opacity=\"1\" stroke=\"#000000\" stroke-opacity=\"1\" stroke-width=\"3.2\"/>\n",
                            "<circle clip-path=\"url(#clip312)\" cx=\"845.957\" cy=\"824.473\" r=\"14.4\" fill=\"#009af9\" fill-rule=\"evenodd\" fill-opacity=\"1\" stroke=\"#000000\" stroke-opacity=\"1\" stroke-width=\"3.2\"/>\n",
                            "<circle clip-path=\"url(#clip312)\" cx=\"939.779\" cy=\"1110.41\" r=\"14.4\" fill=\"#009af9\" fill-rule=\"evenodd\" fill-opacity=\"1\" stroke=\"#000000\" stroke-opacity=\"1\" stroke-width=\"3.2\"/>\n",
                            "<circle clip-path=\"url(#clip312)\" cx=\"1033.6\" cy=\"764.376\" r=\"14.4\" fill=\"#009af9\" fill-rule=\"evenodd\" fill-opacity=\"1\" stroke=\"#000000\" stroke-opacity=\"1\" stroke-width=\"3.2\"/>\n",
                            "<circle clip-path=\"url(#clip312)\" cx=\"1127.42\" cy=\"1001.7\" r=\"14.4\" fill=\"#009af9\" fill-rule=\"evenodd\" fill-opacity=\"1\" stroke=\"#000000\" stroke-opacity=\"1\" stroke-width=\"3.2\"/>\n",
                            "<path clip-path=\"url(#clip310)\" d=\"\n",
                            "M1457.69 1423.18 L2352.76 1423.18 L2352.76 47.2441 L1457.69 47.2441  Z\n",
                            "  \" fill=\"#ffffff\" fill-rule=\"evenodd\" fill-opacity=\"1\"/>\n",
                            "<defs>\n",
                            "  <clipPath id=\"clip313\">\n",
                            "    <rect x=\"1457\" y=\"47\" width=\"896\" height=\"1377\"/>\n",
                            "  </clipPath>\n",
                            "</defs>\n",
                            "<polyline clip-path=\"url(#clip313)\" style=\"stroke:#000000; stroke-linecap:butt; stroke-linejoin:round; stroke-width:2; stroke-opacity:0.1; fill:none\" points=\"\n",
                            "  1576.84,1423.18 1576.84,47.2441 \n",
                            "  \"/>\n",
                            "<polyline clip-path=\"url(#clip313)\" style=\"stroke:#000000; stroke-linecap:butt; stroke-linejoin:round; stroke-width:2; stroke-opacity:0.1; fill:none\" points=\"\n",
                            "  1764.49,1423.18 1764.49,47.2441 \n",
                            "  \"/>\n",
                            "<polyline clip-path=\"url(#clip313)\" style=\"stroke:#000000; stroke-linecap:butt; stroke-linejoin:round; stroke-width:2; stroke-opacity:0.1; fill:none\" points=\"\n",
                            "  1952.13,1423.18 1952.13,47.2441 \n",
                            "  \"/>\n",
                            "<polyline clip-path=\"url(#clip313)\" style=\"stroke:#000000; stroke-linecap:butt; stroke-linejoin:round; stroke-width:2; stroke-opacity:0.1; fill:none\" points=\"\n",
                            "  2139.78,1423.18 2139.78,47.2441 \n",
                            "  \"/>\n",
                            "<polyline clip-path=\"url(#clip313)\" style=\"stroke:#000000; stroke-linecap:butt; stroke-linejoin:round; stroke-width:2; stroke-opacity:0.1; fill:none\" points=\"\n",
                            "  2327.42,1423.18 2327.42,47.2441 \n",
                            "  \"/>\n",
                            "<polyline clip-path=\"url(#clip310)\" style=\"stroke:#000000; stroke-linecap:butt; stroke-linejoin:round; stroke-width:4; stroke-opacity:1; fill:none\" points=\"\n",
                            "  1457.69,1423.18 2352.76,1423.18 \n",
                            "  \"/>\n",
                            "<polyline clip-path=\"url(#clip310)\" style=\"stroke:#000000; stroke-linecap:butt; stroke-linejoin:round; stroke-width:4; stroke-opacity:1; fill:none\" points=\"\n",
                            "  1576.84,1423.18 1576.84,1404.28 \n",
                            "  \"/>\n",
                            "<polyline clip-path=\"url(#clip310)\" style=\"stroke:#000000; stroke-linecap:butt; stroke-linejoin:round; stroke-width:4; stroke-opacity:1; fill:none\" points=\"\n",
                            "  1764.49,1423.18 1764.49,1404.28 \n",
                            "  \"/>\n",
                            "<polyline clip-path=\"url(#clip310)\" style=\"stroke:#000000; stroke-linecap:butt; stroke-linejoin:round; stroke-width:4; stroke-opacity:1; fill:none\" points=\"\n",
                            "  1952.13,1423.18 1952.13,1404.28 \n",
                            "  \"/>\n",
                            "<polyline clip-path=\"url(#clip310)\" style=\"stroke:#000000; stroke-linecap:butt; stroke-linejoin:round; stroke-width:4; stroke-opacity:1; fill:none\" points=\"\n",
                            "  2139.78,1423.18 2139.78,1404.28 \n",
                            "  \"/>\n",
                            "<polyline clip-path=\"url(#clip310)\" style=\"stroke:#000000; stroke-linecap:butt; stroke-linejoin:round; stroke-width:4; stroke-opacity:1; fill:none\" points=\"\n",
                            "  2327.42,1423.18 2327.42,1404.28 \n",
                            "  \"/>\n",
                            "<path clip-path=\"url(#clip310)\" d=\"M1539.95 1454.1 Q1536.34 1454.1 1534.51 1457.66 Q1532.7 1461.2 1532.7 1468.33 Q1532.7 1475.44 1534.51 1479.01 Q1536.34 1482.55 1539.95 1482.55 Q1543.58 1482.55 1545.39 1479.01 Q1547.22 1475.44 1547.22 1468.33 Q1547.22 1461.2 1545.39 1457.66 Q1543.58 1454.1 1539.95 1454.1 M1539.95 1450.39 Q1545.76 1450.39 1548.81 1455 Q1551.89 1459.58 1551.89 1468.33 Q1551.89 1477.06 1548.81 1481.67 Q1545.76 1486.25 1539.95 1486.25 Q1534.14 1486.25 1531.06 1481.67 Q1528 1477.06 1528 1468.33 Q1528 1459.58 1531.06 1455 Q1534.14 1450.39 1539.95 1450.39 Z\" fill=\"#000000\" fill-rule=\"evenodd\" fill-opacity=\"1\" /><path clip-path=\"url(#clip310)\" d=\"M1560.11 1479.7 L1564.99 1479.7 L1564.99 1485.58 L1560.11 1485.58 L1560.11 1479.7 Z\" fill=\"#000000\" fill-rule=\"evenodd\" fill-opacity=\"1\" /><path clip-path=\"url(#clip310)\" d=\"M1585.18 1454.1 Q1581.57 1454.1 1579.74 1457.66 Q1577.93 1461.2 1577.93 1468.33 Q1577.93 1475.44 1579.74 1479.01 Q1581.57 1482.55 1585.18 1482.55 Q1588.81 1482.55 1590.62 1479.01 Q1592.45 1475.44 1592.45 1468.33 Q1592.45 1461.2 1590.62 1457.66 Q1588.81 1454.1 1585.18 1454.1 M1585.18 1450.39 Q1590.99 1450.39 1594.04 1455 Q1597.12 1459.58 1597.12 1468.33 Q1597.12 1477.06 1594.04 1481.67 Q1590.99 1486.25 1585.18 1486.25 Q1579.37 1486.25 1576.29 1481.67 Q1573.23 1477.06 1573.23 1468.33 Q1573.23 1459.58 1576.29 1455 Q1579.37 1450.39 1585.18 1450.39 Z\" fill=\"#000000\" fill-rule=\"evenodd\" fill-opacity=\"1\" /><path clip-path=\"url(#clip310)\" d=\"M1609.37 1481.64 L1625.69 1481.64 L1625.69 1485.58 L1603.74 1485.58 L1603.74 1481.64 Q1606.4 1478.89 1610.99 1474.26 Q1615.59 1469.61 1616.77 1468.27 Q1619.02 1465.74 1619.9 1464.01 Q1620.8 1462.25 1620.8 1460.56 Q1620.8 1457.8 1618.86 1456.07 Q1616.94 1454.33 1613.84 1454.33 Q1611.64 1454.33 1609.18 1455.09 Q1606.75 1455.86 1603.97 1457.41 L1603.97 1452.69 Q1606.8 1451.55 1609.25 1450.97 Q1611.71 1450.39 1613.74 1450.39 Q1619.11 1450.39 1622.31 1453.08 Q1625.5 1455.77 1625.5 1460.26 Q1625.5 1462.39 1624.69 1464.31 Q1623.9 1466.2 1621.8 1468.8 Q1621.22 1469.47 1618.12 1472.69 Q1615.02 1475.88 1609.37 1481.64 Z\" fill=\"#000000\" fill-rule=\"evenodd\" fill-opacity=\"1\" /><path clip-path=\"url(#clip310)\" d=\"M1726.55 1454.1 Q1722.94 1454.1 1721.11 1457.66 Q1719.3 1461.2 1719.3 1468.33 Q1719.3 1475.44 1721.11 1479.01 Q1722.94 1482.55 1726.55 1482.55 Q1730.18 1482.55 1731.99 1479.01 Q1733.82 1475.44 1733.82 1468.33 Q1733.82 1461.2 1731.99 1457.66 Q1730.18 1454.1 1726.55 1454.1 M1726.55 1450.39 Q1732.36 1450.39 1735.42 1455 Q1738.49 1459.58 1738.49 1468.33 Q1738.49 1477.06 1735.42 1481.67 Q1732.36 1486.25 1726.55 1486.25 Q1720.74 1486.25 1717.66 1481.67 Q1714.61 1477.06 1714.61 1468.33 Q1714.61 1459.58 1717.66 1455 Q1720.74 1450.39 1726.55 1450.39 Z\" fill=\"#000000\" fill-rule=\"evenodd\" fill-opacity=\"1\" /><path clip-path=\"url(#clip310)\" d=\"M1746.71 1479.7 L1751.6 1479.7 L1751.6 1485.58 L1746.71 1485.58 L1746.71 1479.7 Z\" fill=\"#000000\" fill-rule=\"evenodd\" fill-opacity=\"1\" /><path clip-path=\"url(#clip310)\" d=\"M1771.78 1454.1 Q1768.17 1454.1 1766.34 1457.66 Q1764.54 1461.2 1764.54 1468.33 Q1764.54 1475.44 1766.34 1479.01 Q1768.17 1482.55 1771.78 1482.55 Q1775.42 1482.55 1777.22 1479.01 Q1779.05 1475.44 1779.05 1468.33 Q1779.05 1461.2 1777.22 1457.66 Q1775.42 1454.1 1771.78 1454.1 M1771.78 1450.39 Q1777.59 1450.39 1780.65 1455 Q1783.73 1459.58 1783.73 1468.33 Q1783.73 1477.06 1780.65 1481.67 Q1777.59 1486.25 1771.78 1486.25 Q1765.97 1486.25 1762.89 1481.67 Q1759.84 1477.06 1759.84 1468.33 Q1759.84 1459.58 1762.89 1455 Q1765.97 1450.39 1771.78 1450.39 Z\" fill=\"#000000\" fill-rule=\"evenodd\" fill-opacity=\"1\" /><path clip-path=\"url(#clip310)\" d=\"M1804.79 1455.09 L1792.98 1473.54 L1804.79 1473.54 L1804.79 1455.09 M1803.56 1451.02 L1809.44 1451.02 L1809.44 1473.54 L1814.37 1473.54 L1814.37 1477.43 L1809.44 1477.43 L1809.44 1485.58 L1804.79 1485.58 L1804.79 1477.43 L1789.19 1477.43 L1789.19 1472.92 L1803.56 1451.02 Z\" fill=\"#000000\" fill-rule=\"evenodd\" fill-opacity=\"1\" /><path clip-path=\"url(#clip310)\" d=\"M1914.36 1454.1 Q1910.75 1454.1 1908.92 1457.66 Q1907.11 1461.2 1907.11 1468.33 Q1907.11 1475.44 1908.92 1479.01 Q1910.75 1482.55 1914.36 1482.55 Q1917.99 1482.55 1919.8 1479.01 Q1921.63 1475.44 1921.63 1468.33 Q1921.63 1461.2 1919.8 1457.66 Q1917.99 1454.1 1914.36 1454.1 M1914.36 1450.39 Q1920.17 1450.39 1923.22 1455 Q1926.3 1459.58 1926.3 1468.33 Q1926.3 1477.06 1923.22 1481.67 Q1920.17 1486.25 1914.36 1486.25 Q1908.55 1486.25 1905.47 1481.67 Q1902.41 1477.06 1902.41 1468.33 Q1902.41 1459.58 1905.47 1455 Q1908.55 1450.39 1914.36 1450.39 Z\" fill=\"#000000\" fill-rule=\"evenodd\" fill-opacity=\"1\" /><path clip-path=\"url(#clip310)\" d=\"M1934.52 1479.7 L1939.4 1479.7 L1939.4 1485.58 L1934.52 1485.58 L1934.52 1479.7 Z\" fill=\"#000000\" fill-rule=\"evenodd\" fill-opacity=\"1\" /><path clip-path=\"url(#clip310)\" d=\"M1959.59 1454.1 Q1955.98 1454.1 1954.15 1457.66 Q1952.34 1461.2 1952.34 1468.33 Q1952.34 1475.44 1954.15 1479.01 Q1955.98 1482.55 1959.59 1482.55 Q1963.22 1482.55 1965.03 1479.01 Q1966.86 1475.44 1966.86 1468.33 Q1966.86 1461.2 1965.03 1457.66 Q1963.22 1454.1 1959.59 1454.1 M1959.59 1450.39 Q1965.4 1450.39 1968.45 1455 Q1971.53 1459.58 1971.53 1468.33 Q1971.53 1477.06 1968.45 1481.67 Q1965.4 1486.25 1959.59 1486.25 Q1953.78 1486.25 1950.7 1481.67 Q1947.64 1477.06 1947.64 1468.33 Q1947.64 1459.58 1950.7 1455 Q1953.78 1450.39 1959.59 1450.39 Z\" fill=\"#000000\" fill-rule=\"evenodd\" fill-opacity=\"1\" /><path clip-path=\"url(#clip310)\" d=\"M1990.33 1466.44 Q1987.18 1466.44 1985.33 1468.59 Q1983.5 1470.74 1983.5 1474.49 Q1983.5 1478.22 1985.33 1480.39 Q1987.18 1482.55 1990.33 1482.55 Q1993.48 1482.55 1995.31 1480.39 Q1997.16 1478.22 1997.16 1474.49 Q1997.16 1470.74 1995.31 1468.59 Q1993.48 1466.44 1990.33 1466.44 M1999.61 1451.78 L1999.61 1456.04 Q1997.85 1455.21 1996.05 1454.77 Q1994.26 1454.33 1992.5 1454.33 Q1987.87 1454.33 1985.42 1457.45 Q1982.99 1460.58 1982.64 1466.9 Q1984.01 1464.89 1986.07 1463.82 Q1988.13 1462.73 1990.61 1462.73 Q1995.81 1462.73 1998.82 1465.9 Q2001.86 1469.05 2001.86 1474.49 Q2001.86 1479.82 1998.71 1483.03 Q1995.56 1486.25 1990.33 1486.25 Q1984.33 1486.25 1981.16 1481.67 Q1977.99 1477.06 1977.99 1468.33 Q1977.99 1460.14 1981.88 1455.28 Q1985.77 1450.39 1992.32 1450.39 Q1994.08 1450.39 1995.86 1450.74 Q1997.67 1451.09 1999.61 1451.78 Z\" fill=\"#000000\" fill-rule=\"evenodd\" fill-opacity=\"1\" /><path clip-path=\"url(#clip310)\" d=\"M2102.13 1454.1 Q2098.52 1454.1 2096.69 1457.66 Q2094.88 1461.2 2094.88 1468.33 Q2094.88 1475.44 2096.69 1479.01 Q2098.52 1482.55 2102.13 1482.55 Q2105.76 1482.55 2107.57 1479.01 Q2109.4 1475.44 2109.4 1468.33 Q2109.4 1461.2 2107.57 1457.66 Q2105.76 1454.1 2102.13 1454.1 M2102.13 1450.39 Q2107.94 1450.39 2110.99 1455 Q2114.07 1459.58 2114.07 1468.33 Q2114.07 1477.06 2110.99 1481.67 Q2107.94 1486.25 2102.13 1486.25 Q2096.32 1486.25 2093.24 1481.67 Q2090.18 1477.06 2090.18 1468.33 Q2090.18 1459.58 2093.24 1455 Q2096.32 1450.39 2102.13 1450.39 Z\" fill=\"#000000\" fill-rule=\"evenodd\" fill-opacity=\"1\" /><path clip-path=\"url(#clip310)\" d=\"M2122.29 1479.7 L2127.17 1479.7 L2127.17 1485.58 L2122.29 1485.58 L2122.29 1479.7 Z\" fill=\"#000000\" fill-rule=\"evenodd\" fill-opacity=\"1\" /><path clip-path=\"url(#clip310)\" d=\"M2147.36 1454.1 Q2143.75 1454.1 2141.92 1457.66 Q2140.11 1461.2 2140.11 1468.33 Q2140.11 1475.44 2141.92 1479.01 Q2143.75 1482.55 2147.36 1482.55 Q2150.99 1482.55 2152.8 1479.01 Q2154.63 1475.44 2154.63 1468.33 Q2154.63 1461.2 2152.8 1457.66 Q2150.99 1454.1 2147.36 1454.1 M2147.36 1450.39 Q2153.17 1450.39 2156.23 1455 Q2159.3 1459.58 2159.3 1468.33 Q2159.3 1477.06 2156.23 1481.67 Q2153.17 1486.25 2147.36 1486.25 Q2141.55 1486.25 2138.47 1481.67 Q2135.42 1477.06 2135.42 1468.33 Q2135.42 1459.58 2138.47 1455 Q2141.55 1450.39 2147.36 1450.39 Z\" fill=\"#000000\" fill-rule=\"evenodd\" fill-opacity=\"1\" /><path clip-path=\"url(#clip310)\" d=\"M2177.52 1469.17 Q2174.19 1469.17 2172.27 1470.95 Q2170.37 1472.73 2170.37 1475.86 Q2170.37 1478.98 2172.27 1480.77 Q2174.19 1482.55 2177.52 1482.55 Q2180.86 1482.55 2182.78 1480.77 Q2184.7 1478.96 2184.7 1475.86 Q2184.7 1472.73 2182.78 1470.95 Q2180.88 1469.17 2177.52 1469.17 M2172.85 1467.18 Q2169.84 1466.44 2168.15 1464.38 Q2166.48 1462.32 2166.48 1459.35 Q2166.48 1455.21 2169.42 1452.8 Q2172.38 1450.39 2177.52 1450.39 Q2182.68 1450.39 2185.62 1452.8 Q2188.56 1455.21 2188.56 1459.35 Q2188.56 1462.32 2186.87 1464.38 Q2185.21 1466.44 2182.22 1467.18 Q2185.6 1467.96 2187.48 1470.26 Q2189.37 1472.55 2189.37 1475.86 Q2189.37 1480.88 2186.29 1483.57 Q2183.24 1486.25 2177.52 1486.25 Q2171.8 1486.25 2168.73 1483.57 Q2165.67 1480.88 2165.67 1475.86 Q2165.67 1472.55 2167.57 1470.26 Q2169.47 1467.96 2172.85 1467.18 M2171.13 1459.79 Q2171.13 1462.48 2172.8 1463.98 Q2174.49 1465.49 2177.52 1465.49 Q2180.53 1465.49 2182.22 1463.98 Q2183.93 1462.48 2183.93 1459.79 Q2183.93 1457.11 2182.22 1455.6 Q2180.53 1454.1 2177.52 1454.1 Q2174.49 1454.1 2172.8 1455.6 Q2171.13 1457.11 2171.13 1459.79 Z\" fill=\"#000000\" fill-rule=\"evenodd\" fill-opacity=\"1\" /><path clip-path=\"url(#clip310)\" d=\"M2289.73 1454.1 Q2286.12 1454.1 2284.29 1457.66 Q2282.48 1461.2 2282.48 1468.33 Q2282.48 1475.44 2284.29 1479.01 Q2286.12 1482.55 2289.73 1482.55 Q2293.36 1482.55 2295.17 1479.01 Q2297 1475.44 2297 1468.33 Q2297 1461.2 2295.17 1457.66 Q2293.36 1454.1 2289.73 1454.1 M2289.73 1450.39 Q2295.54 1450.39 2298.59 1455 Q2301.67 1459.58 2301.67 1468.33 Q2301.67 1477.06 2298.59 1481.67 Q2295.54 1486.25 2289.73 1486.25 Q2283.92 1486.25 2280.84 1481.67 Q2277.78 1477.06 2277.78 1468.33 Q2277.78 1459.58 2280.84 1455 Q2283.92 1450.39 2289.73 1450.39 Z\" fill=\"#000000\" fill-rule=\"evenodd\" fill-opacity=\"1\" /><path clip-path=\"url(#clip310)\" d=\"M2309.89 1479.7 L2314.77 1479.7 L2314.77 1485.58 L2309.89 1485.58 L2309.89 1479.7 Z\" fill=\"#000000\" fill-rule=\"evenodd\" fill-opacity=\"1\" /><path clip-path=\"url(#clip310)\" d=\"M2325.77 1481.64 L2333.41 1481.64 L2333.41 1455.28 L2325.1 1456.95 L2325.1 1452.69 L2333.36 1451.02 L2338.04 1451.02 L2338.04 1481.64 L2345.68 1481.64 L2345.68 1485.58 L2325.77 1485.58 L2325.77 1481.64 Z\" fill=\"#000000\" fill-rule=\"evenodd\" fill-opacity=\"1\" /><path clip-path=\"url(#clip310)\" d=\"M2365.12 1454.1 Q2361.51 1454.1 2359.68 1457.66 Q2357.88 1461.2 2357.88 1468.33 Q2357.88 1475.44 2359.68 1479.01 Q2361.51 1482.55 2365.12 1482.55 Q2368.75 1482.55 2370.56 1479.01 Q2372.39 1475.44 2372.39 1468.33 Q2372.39 1461.2 2370.56 1457.66 Q2368.75 1454.1 2365.12 1454.1 M2365.12 1450.39 Q2370.93 1450.39 2373.99 1455 Q2377.06 1459.58 2377.06 1468.33 Q2377.06 1477.06 2373.99 1481.67 Q2370.93 1486.25 2365.12 1486.25 Q2359.31 1486.25 2356.23 1481.67 Q2353.18 1477.06 2353.18 1468.33 Q2353.18 1459.58 2356.23 1455 Q2359.31 1450.39 2365.12 1450.39 Z\" fill=\"#000000\" fill-rule=\"evenodd\" fill-opacity=\"1\" /><path clip-path=\"url(#clip310)\" d=\"M1864.59 1537.87 Q1863.61 1537.3 1862.43 1537.04 Q1861.28 1536.76 1859.88 1536.76 Q1854.92 1536.76 1852.24 1540 Q1849.6 1543.22 1849.6 1549.27 L1849.6 1568.04 L1843.71 1568.04 L1843.71 1532.4 L1849.6 1532.4 L1849.6 1537.93 Q1851.45 1534.69 1854.41 1533.13 Q1857.37 1531.54 1861.6 1531.54 Q1862.21 1531.54 1862.94 1531.63 Q1863.67 1531.7 1864.56 1531.85 L1864.59 1537.87 Z\" fill=\"#000000\" fill-rule=\"evenodd\" fill-opacity=\"1\" /><path clip-path=\"url(#clip310)\" d=\"M1886.94 1550.12 Q1879.84 1550.12 1877.1 1551.75 Q1874.37 1553.37 1874.37 1557.29 Q1874.37 1560.4 1876.4 1562.25 Q1878.47 1564.07 1882 1564.07 Q1886.87 1564.07 1889.8 1560.63 Q1892.76 1557.16 1892.76 1551.43 L1892.76 1550.12 L1886.94 1550.12 M1898.62 1547.71 L1898.62 1568.04 L1892.76 1568.04 L1892.76 1562.63 Q1890.76 1565.88 1887.77 1567.44 Q1884.77 1568.97 1880.44 1568.97 Q1874.97 1568.97 1871.72 1565.91 Q1868.51 1562.82 1868.51 1557.67 Q1868.51 1551.65 1872.52 1548.6 Q1876.56 1545.54 1884.55 1545.54 L1892.76 1545.54 L1892.76 1544.97 Q1892.76 1540.93 1890.09 1538.73 Q1887.45 1536.5 1882.64 1536.5 Q1879.59 1536.5 1876.69 1537.23 Q1873.79 1537.97 1871.12 1539.43 L1871.12 1534.02 Q1874.33 1532.78 1877.36 1532.17 Q1880.38 1531.54 1883.25 1531.54 Q1890.98 1531.54 1894.8 1535.55 Q1898.62 1539.56 1898.62 1547.71 Z\" fill=\"#000000\" fill-rule=\"evenodd\" fill-opacity=\"1\" /><path clip-path=\"url(#clip310)\" d=\"M1916.47 1522.27 L1916.47 1532.4 L1928.54 1532.4 L1928.54 1536.95 L1916.47 1536.95 L1916.47 1556.3 Q1916.47 1560.66 1917.65 1561.9 Q1918.86 1563.14 1922.52 1563.14 L1928.54 1563.14 L1928.54 1568.04 L1922.52 1568.04 Q1915.74 1568.04 1913.16 1565.53 Q1910.59 1562.98 1910.59 1556.3 L1910.59 1536.95 L1906.29 1536.95 L1906.29 1532.4 L1910.59 1532.4 L1910.59 1522.27 L1916.47 1522.27 Z\" fill=\"#000000\" fill-rule=\"evenodd\" fill-opacity=\"1\" /><path clip-path=\"url(#clip310)\" d=\"M1966.73 1548.76 L1966.73 1551.62 L1939.8 1551.62 Q1940.19 1557.67 1943.43 1560.85 Q1946.71 1564 1952.54 1564 Q1955.91 1564 1959.06 1563.17 Q1962.24 1562.35 1965.36 1560.69 L1965.36 1566.23 Q1962.21 1567.57 1958.9 1568.27 Q1955.59 1568.97 1952.19 1568.97 Q1943.66 1568.97 1938.66 1564 Q1933.69 1559.04 1933.69 1550.57 Q1933.69 1541.82 1938.4 1536.69 Q1943.15 1531.54 1951.17 1531.54 Q1958.36 1531.54 1962.53 1536.18 Q1966.73 1540.8 1966.73 1548.76 M1960.88 1547.04 Q1960.81 1542.23 1958.17 1539.37 Q1955.56 1536.5 1951.23 1536.5 Q1946.33 1536.5 1943.37 1539.27 Q1940.44 1542.04 1940 1547.07 L1960.88 1547.04 Z\" fill=\"#000000\" fill-rule=\"evenodd\" fill-opacity=\"1\" /><polyline clip-path=\"url(#clip313)\" style=\"stroke:#000000; stroke-linecap:butt; stroke-linejoin:round; stroke-width:2; stroke-opacity:0.1; fill:none\" points=\"\n",
                            "  1457.69,1391.09 2352.76,1391.09 \n",
                            "  \"/>\n",
                            "<polyline clip-path=\"url(#clip313)\" style=\"stroke:#000000; stroke-linecap:butt; stroke-linejoin:round; stroke-width:2; stroke-opacity:0.1; fill:none\" points=\"\n",
                            "  1457.69,1156.59 2352.76,1156.59 \n",
                            "  \"/>\n",
                            "<polyline clip-path=\"url(#clip313)\" style=\"stroke:#000000; stroke-linecap:butt; stroke-linejoin:round; stroke-width:2; stroke-opacity:0.1; fill:none\" points=\"\n",
                            "  1457.69,922.086 2352.76,922.086 \n",
                            "  \"/>\n",
                            "<polyline clip-path=\"url(#clip313)\" style=\"stroke:#000000; stroke-linecap:butt; stroke-linejoin:round; stroke-width:2; stroke-opacity:0.1; fill:none\" points=\"\n",
                            "  1457.69,687.585 2352.76,687.585 \n",
                            "  \"/>\n",
                            "<polyline clip-path=\"url(#clip313)\" style=\"stroke:#000000; stroke-linecap:butt; stroke-linejoin:round; stroke-width:2; stroke-opacity:0.1; fill:none\" points=\"\n",
                            "  1457.69,453.084 2352.76,453.084 \n",
                            "  \"/>\n",
                            "<polyline clip-path=\"url(#clip313)\" style=\"stroke:#000000; stroke-linecap:butt; stroke-linejoin:round; stroke-width:2; stroke-opacity:0.1; fill:none\" points=\"\n",
                            "  1457.69,218.583 2352.76,218.583 \n",
                            "  \"/>\n",
                            "<polyline clip-path=\"url(#clip310)\" style=\"stroke:#000000; stroke-linecap:butt; stroke-linejoin:round; stroke-width:4; stroke-opacity:1; fill:none\" points=\"\n",
                            "  1457.69,1423.18 1457.69,47.2441 \n",
                            "  \"/>\n",
                            "<polyline clip-path=\"url(#clip310)\" style=\"stroke:#000000; stroke-linecap:butt; stroke-linejoin:round; stroke-width:4; stroke-opacity:1; fill:none\" points=\"\n",
                            "  1457.69,1391.09 1476.59,1391.09 \n",
                            "  \"/>\n",
                            "<polyline clip-path=\"url(#clip310)\" style=\"stroke:#000000; stroke-linecap:butt; stroke-linejoin:round; stroke-width:4; stroke-opacity:1; fill:none\" points=\"\n",
                            "  1457.69,1156.59 1476.59,1156.59 \n",
                            "  \"/>\n",
                            "<polyline clip-path=\"url(#clip310)\" style=\"stroke:#000000; stroke-linecap:butt; stroke-linejoin:round; stroke-width:4; stroke-opacity:1; fill:none\" points=\"\n",
                            "  1457.69,922.086 1476.59,922.086 \n",
                            "  \"/>\n",
                            "<polyline clip-path=\"url(#clip310)\" style=\"stroke:#000000; stroke-linecap:butt; stroke-linejoin:round; stroke-width:4; stroke-opacity:1; fill:none\" points=\"\n",
                            "  1457.69,687.585 1476.59,687.585 \n",
                            "  \"/>\n",
                            "<polyline clip-path=\"url(#clip310)\" style=\"stroke:#000000; stroke-linecap:butt; stroke-linejoin:round; stroke-width:4; stroke-opacity:1; fill:none\" points=\"\n",
                            "  1457.69,453.084 1476.59,453.084 \n",
                            "  \"/>\n",
                            "<polyline clip-path=\"url(#clip310)\" style=\"stroke:#000000; stroke-linecap:butt; stroke-linejoin:round; stroke-width:4; stroke-opacity:1; fill:none\" points=\"\n",
                            "  1457.69,218.583 1476.59,218.583 \n",
                            "  \"/>\n",
                            "<path clip-path=\"url(#clip310)\" d=\"M1315.65 1391.54 L1345.32 1391.54 L1345.32 1395.47 L1315.65 1395.47 L1315.65 1391.54 Z\" fill=\"#000000\" fill-rule=\"evenodd\" fill-opacity=\"1\" /><path clip-path=\"url(#clip310)\" d=\"M1365.42 1376.89 Q1361.81 1376.89 1359.98 1380.45 Q1358.17 1383.99 1358.17 1391.12 Q1358.17 1398.23 1359.98 1401.79 Q1361.81 1405.34 1365.42 1405.34 Q1369.05 1405.34 1370.86 1401.79 Q1372.69 1398.23 1372.69 1391.12 Q1372.69 1383.99 1370.86 1380.45 Q1369.05 1376.89 1365.42 1376.89 M1365.42 1373.18 Q1371.23 1373.18 1374.28 1377.79 Q1377.36 1382.37 1377.36 1391.12 Q1377.36 1399.85 1374.28 1404.46 Q1371.23 1409.04 1365.42 1409.04 Q1359.61 1409.04 1356.53 1404.46 Q1353.47 1399.85 1353.47 1391.12 Q1353.47 1382.37 1356.53 1377.79 Q1359.61 1373.18 1365.42 1373.18 Z\" fill=\"#000000\" fill-rule=\"evenodd\" fill-opacity=\"1\" /><path clip-path=\"url(#clip310)\" d=\"M1385.58 1402.49 L1390.46 1402.49 L1390.46 1408.37 L1385.58 1408.37 L1385.58 1402.49 Z\" fill=\"#000000\" fill-rule=\"evenodd\" fill-opacity=\"1\" /><path clip-path=\"url(#clip310)\" d=\"M1399.47 1373.81 L1421.69 1373.81 L1421.69 1375.8 L1409.14 1408.37 L1404.26 1408.37 L1416.07 1377.74 L1399.47 1377.74 L1399.47 1373.81 Z\" fill=\"#000000\" fill-rule=\"evenodd\" fill-opacity=\"1\" /><path clip-path=\"url(#clip310)\" d=\"M1314.58 1157.04 L1344.26 1157.04 L1344.26 1160.97 L1314.58 1160.97 L1314.58 1157.04 Z\" fill=\"#000000\" fill-rule=\"evenodd\" fill-opacity=\"1\" /><path clip-path=\"url(#clip310)\" d=\"M1364.35 1142.39 Q1360.74 1142.39 1358.91 1145.95 Q1357.11 1149.49 1357.11 1156.62 Q1357.11 1163.73 1358.91 1167.29 Q1360.74 1170.83 1364.35 1170.83 Q1367.99 1170.83 1369.79 1167.29 Q1371.62 1163.73 1371.62 1156.62 Q1371.62 1149.49 1369.79 1145.95 Q1367.99 1142.39 1364.35 1142.39 M1364.35 1138.68 Q1370.16 1138.68 1373.22 1143.29 Q1376.3 1147.87 1376.3 1156.62 Q1376.3 1165.35 1373.22 1169.95 Q1370.16 1174.54 1364.35 1174.54 Q1358.54 1174.54 1355.46 1169.95 Q1352.41 1165.35 1352.41 1156.62 Q1352.41 1147.87 1355.46 1143.29 Q1358.54 1138.68 1364.35 1138.68 Z\" fill=\"#000000\" fill-rule=\"evenodd\" fill-opacity=\"1\" /><path clip-path=\"url(#clip310)\" d=\"M1384.51 1167.99 L1389.4 1167.99 L1389.4 1173.87 L1384.51 1173.87 L1384.51 1167.99 Z\" fill=\"#000000\" fill-rule=\"evenodd\" fill-opacity=\"1\" /><path clip-path=\"url(#clip310)\" d=\"M1410.16 1154.72 Q1407.01 1154.72 1405.16 1156.88 Q1403.33 1159.03 1403.33 1162.78 Q1403.33 1166.51 1405.16 1168.68 Q1407.01 1170.83 1410.16 1170.83 Q1413.31 1170.83 1415.14 1168.68 Q1416.99 1166.51 1416.99 1162.78 Q1416.99 1159.03 1415.14 1156.88 Q1413.31 1154.72 1410.16 1154.72 M1419.44 1140.07 L1419.44 1144.33 Q1417.69 1143.5 1415.88 1143.06 Q1414.1 1142.62 1412.34 1142.62 Q1407.71 1142.62 1405.26 1145.74 Q1402.82 1148.87 1402.48 1155.19 Q1403.84 1153.17 1405.9 1152.11 Q1407.96 1151.02 1410.44 1151.02 Q1415.65 1151.02 1418.66 1154.19 Q1421.69 1157.34 1421.69 1162.78 Q1421.69 1168.1 1418.54 1171.32 Q1415.39 1174.54 1410.16 1174.54 Q1404.17 1174.54 1401 1169.95 Q1397.82 1165.35 1397.82 1156.62 Q1397.82 1148.43 1401.71 1143.57 Q1405.6 1138.68 1412.15 1138.68 Q1413.91 1138.68 1415.69 1139.03 Q1417.5 1139.38 1419.44 1140.07 Z\" fill=\"#000000\" fill-rule=\"evenodd\" fill-opacity=\"1\" /><path clip-path=\"url(#clip310)\" d=\"M1315.74 922.537 L1345.42 922.537 L1345.42 926.473 L1315.74 926.473 L1315.74 922.537 Z\" fill=\"#000000\" fill-rule=\"evenodd\" fill-opacity=\"1\" /><path clip-path=\"url(#clip310)\" d=\"M1365.51 907.885 Q1361.9 907.885 1360.07 911.449 Q1358.26 914.991 1358.26 922.121 Q1358.26 929.227 1360.07 932.792 Q1361.9 936.334 1365.51 936.334 Q1369.14 936.334 1370.95 932.792 Q1372.78 929.227 1372.78 922.121 Q1372.78 914.991 1370.95 911.449 Q1369.14 907.885 1365.51 907.885 M1365.51 904.181 Q1371.32 904.181 1374.38 908.787 Q1377.45 913.371 1377.45 922.121 Q1377.45 930.848 1374.38 935.454 Q1371.32 940.037 1365.51 940.037 Q1359.7 940.037 1356.62 935.454 Q1353.57 930.848 1353.57 922.121 Q1353.57 913.371 1356.62 908.787 Q1359.7 904.181 1365.51 904.181 Z\" fill=\"#000000\" fill-rule=\"evenodd\" fill-opacity=\"1\" /><path clip-path=\"url(#clip310)\" d=\"M1385.67 933.486 L1390.56 933.486 L1390.56 939.366 L1385.67 939.366 L1385.67 933.486 Z\" fill=\"#000000\" fill-rule=\"evenodd\" fill-opacity=\"1\" /><path clip-path=\"url(#clip310)\" d=\"M1400.79 904.806 L1419.14 904.806 L1419.14 908.741 L1405.07 908.741 L1405.07 917.213 Q1406.09 916.866 1407.11 916.704 Q1408.13 916.519 1409.14 916.519 Q1414.93 916.519 1418.31 919.69 Q1421.69 922.861 1421.69 928.278 Q1421.69 933.857 1418.22 936.959 Q1414.75 940.037 1408.43 940.037 Q1406.25 940.037 1403.98 939.667 Q1401.74 939.297 1399.33 938.556 L1399.33 933.857 Q1401.41 934.991 1403.63 935.547 Q1405.86 936.102 1408.33 936.102 Q1412.34 936.102 1414.68 933.996 Q1417.01 931.889 1417.01 928.278 Q1417.01 924.667 1414.68 922.561 Q1412.34 920.454 1408.33 920.454 Q1406.46 920.454 1404.58 920.871 Q1402.73 921.287 1400.79 922.167 L1400.79 904.806 Z\" fill=\"#000000\" fill-rule=\"evenodd\" fill-opacity=\"1\" /><path clip-path=\"url(#clip310)\" d=\"M1314.26 688.036 L1343.94 688.036 L1343.94 691.972 L1314.26 691.972 L1314.26 688.036 Z\" fill=\"#000000\" fill-rule=\"evenodd\" fill-opacity=\"1\" /><path clip-path=\"url(#clip310)\" d=\"M1364.03 673.384 Q1360.42 673.384 1358.59 676.949 Q1356.78 680.49 1356.78 687.62 Q1356.78 694.726 1358.59 698.291 Q1360.42 701.833 1364.03 701.833 Q1367.66 701.833 1369.47 698.291 Q1371.3 694.726 1371.3 687.62 Q1371.3 680.49 1369.47 676.949 Q1367.66 673.384 1364.03 673.384 M1364.03 669.68 Q1369.84 669.68 1372.89 674.287 Q1375.97 678.87 1375.97 687.62 Q1375.97 696.347 1372.89 700.953 Q1369.84 705.536 1364.03 705.536 Q1358.22 705.536 1355.14 700.953 Q1352.08 696.347 1352.08 687.62 Q1352.08 678.87 1355.14 674.287 Q1358.22 669.68 1364.03 669.68 Z\" fill=\"#000000\" fill-rule=\"evenodd\" fill-opacity=\"1\" /><path clip-path=\"url(#clip310)\" d=\"M1384.19 698.985 L1389.07 698.985 L1389.07 704.865 L1384.19 704.865 L1384.19 698.985 Z\" fill=\"#000000\" fill-rule=\"evenodd\" fill-opacity=\"1\" /><path clip-path=\"url(#clip310)\" d=\"M1412.11 674.379 L1400.3 692.828 L1412.11 692.828 L1412.11 674.379 M1410.88 670.305 L1416.76 670.305 L1416.76 692.828 L1421.69 692.828 L1421.69 696.717 L1416.76 696.717 L1416.76 704.865 L1412.11 704.865 L1412.11 696.717 L1396.51 696.717 L1396.51 692.203 L1410.88 670.305 Z\" fill=\"#000000\" fill-rule=\"evenodd\" fill-opacity=\"1\" /><path clip-path=\"url(#clip310)\" d=\"M1315.39 453.536 L1345.07 453.536 L1345.07 457.471 L1315.39 457.471 L1315.39 453.536 Z\" fill=\"#000000\" fill-rule=\"evenodd\" fill-opacity=\"1\" /><path clip-path=\"url(#clip310)\" d=\"M1365.16 438.883 Q1361.55 438.883 1359.72 442.448 Q1357.92 445.989 1357.92 453.119 Q1357.92 460.225 1359.72 463.79 Q1361.55 467.332 1365.16 467.332 Q1368.8 467.332 1370.6 463.79 Q1372.43 460.225 1372.43 453.119 Q1372.43 445.989 1370.6 442.448 Q1368.8 438.883 1365.16 438.883 M1365.16 435.179 Q1370.97 435.179 1374.03 439.786 Q1377.11 444.369 1377.11 453.119 Q1377.11 461.846 1374.03 466.452 Q1370.97 471.035 1365.16 471.035 Q1359.35 471.035 1356.27 466.452 Q1353.22 461.846 1353.22 453.119 Q1353.22 444.369 1356.27 439.786 Q1359.35 435.179 1365.16 435.179 Z\" fill=\"#000000\" fill-rule=\"evenodd\" fill-opacity=\"1\" /><path clip-path=\"url(#clip310)\" d=\"M1385.32 464.485 L1390.21 464.485 L1390.21 470.364 L1385.32 470.364 L1385.32 464.485 Z\" fill=\"#000000\" fill-rule=\"evenodd\" fill-opacity=\"1\" /><path clip-path=\"url(#clip310)\" d=\"M1414.56 451.73 Q1417.92 452.448 1419.79 454.716 Q1421.69 456.985 1421.69 460.318 Q1421.69 465.434 1418.17 468.235 Q1414.65 471.035 1408.17 471.035 Q1406 471.035 1403.68 470.596 Q1401.39 470.179 1398.94 469.323 L1398.94 464.809 Q1400.88 465.943 1403.19 466.522 Q1405.51 467.1 1408.03 467.1 Q1412.43 467.1 1414.72 465.364 Q1417.04 463.628 1417.04 460.318 Q1417.04 457.262 1414.88 455.549 Q1412.76 453.813 1408.94 453.813 L1404.91 453.813 L1404.91 449.971 L1409.12 449.971 Q1412.57 449.971 1414.4 448.605 Q1416.23 447.216 1416.23 444.624 Q1416.23 441.962 1414.33 440.55 Q1412.45 439.114 1408.94 439.114 Q1407.01 439.114 1404.82 439.531 Q1402.62 439.948 1399.98 440.827 L1399.98 436.661 Q1402.64 435.92 1404.95 435.55 Q1407.29 435.179 1409.35 435.179 Q1414.68 435.179 1417.78 437.61 Q1420.88 440.017 1420.88 444.137 Q1420.88 447.008 1419.24 448.999 Q1417.59 450.966 1414.56 451.73 Z\" fill=\"#000000\" fill-rule=\"evenodd\" fill-opacity=\"1\" /><path clip-path=\"url(#clip310)\" d=\"M1316.34 219.035 L1346.02 219.035 L1346.02 222.97 L1316.34 222.97 L1316.34 219.035 Z\" fill=\"#000000\" fill-rule=\"evenodd\" fill-opacity=\"1\" /><path clip-path=\"url(#clip310)\" d=\"M1366.11 204.382 Q1362.5 204.382 1360.67 207.947 Q1358.87 211.488 1358.87 218.618 Q1358.87 225.724 1360.67 229.289 Q1362.5 232.831 1366.11 232.831 Q1369.75 232.831 1371.55 229.289 Q1373.38 225.724 1373.38 218.618 Q1373.38 211.488 1371.55 207.947 Q1369.75 204.382 1366.11 204.382 M1366.11 200.678 Q1371.92 200.678 1374.98 205.285 Q1378.06 209.868 1378.06 218.618 Q1378.06 227.345 1374.98 231.951 Q1371.92 236.535 1366.11 236.535 Q1360.3 236.535 1357.22 231.951 Q1354.17 227.345 1354.17 218.618 Q1354.17 209.868 1357.22 205.285 Q1360.3 200.678 1366.11 200.678 Z\" fill=\"#000000\" fill-rule=\"evenodd\" fill-opacity=\"1\" /><path clip-path=\"url(#clip310)\" d=\"M1386.27 229.984 L1391.16 229.984 L1391.16 235.863 L1386.27 235.863 L1386.27 229.984 Z\" fill=\"#000000\" fill-rule=\"evenodd\" fill-opacity=\"1\" /><path clip-path=\"url(#clip310)\" d=\"M1405.37 231.928 L1421.69 231.928 L1421.69 235.863 L1399.75 235.863 L1399.75 231.928 Q1402.41 229.174 1406.99 224.544 Q1411.6 219.891 1412.78 218.549 Q1415.02 216.025 1415.9 214.289 Q1416.81 212.53 1416.81 210.84 Q1416.81 208.086 1414.86 206.35 Q1412.94 204.613 1409.84 204.613 Q1407.64 204.613 1405.19 205.377 Q1402.76 206.141 1399.98 207.692 L1399.98 202.97 Q1402.8 201.836 1405.26 201.257 Q1407.71 200.678 1409.75 200.678 Q1415.12 200.678 1418.31 203.363 Q1421.5 206.049 1421.5 210.539 Q1421.5 212.669 1420.69 214.59 Q1419.91 216.488 1417.8 219.081 Q1417.22 219.752 1414.12 222.97 Q1411.02 226.164 1405.37 231.928 Z\" fill=\"#000000\" fill-rule=\"evenodd\" fill-opacity=\"1\" /><path clip-path=\"url(#clip310)\" d=\"M1216.48 968.292 L1216.48 940.983 L1221.9 940.983 L1221.9 961.863 L1235.9 961.863 L1235.9 943.02 L1241.31 943.02 L1241.31 961.863 L1264 961.863 L1264 968.292 L1216.48 968.292 Z\" fill=\"#000000\" fill-rule=\"evenodd\" fill-opacity=\"1\" /><path clip-path=\"url(#clip310)\" d=\"M1249.94 935.222 L1228.36 935.222 L1228.36 929.366 L1249.71 929.366 Q1254.77 929.366 1257.32 927.393 Q1259.83 925.419 1259.83 921.473 Q1259.83 916.73 1256.81 913.993 Q1253.79 911.224 1248.57 911.224 L1228.36 911.224 L1228.36 905.367 L1264 905.367 L1264 911.224 L1258.53 911.224 Q1261.78 913.356 1263.37 916.189 Q1264.93 918.99 1264.93 922.714 Q1264.93 928.857 1261.11 932.04 Q1257.29 935.222 1249.94 935.222 M1227.5 920.486 L1227.5 920.486 Z\" fill=\"#000000\" fill-rule=\"evenodd\" fill-opacity=\"1\" /><path clip-path=\"url(#clip310)\" d=\"M1242.49 863.672 L1264 863.672 L1264 869.528 L1242.68 869.528 Q1237.62 869.528 1235.1 871.502 Q1232.59 873.475 1232.59 877.422 Q1232.59 882.164 1235.61 884.902 Q1238.64 887.639 1243.86 887.639 L1264 887.639 L1264 893.527 L1228.36 893.527 L1228.36 887.639 L1233.89 887.639 Q1230.68 885.538 1229.09 882.705 Q1227.5 879.841 1227.5 876.117 Q1227.5 869.974 1231.32 866.823 Q1235.1 863.672 1242.49 863.672 Z\" fill=\"#000000\" fill-rule=\"evenodd\" fill-opacity=\"1\" /><path clip-path=\"url(#clip310)\" d=\"M1229.72 826.337 L1235.2 826.337 Q1233.83 828.82 1233.16 831.334 Q1232.46 833.817 1232.46 836.363 Q1232.46 842.06 1236.09 845.211 Q1239.69 848.362 1246.21 848.362 Q1252.74 848.362 1256.37 845.211 Q1259.96 842.06 1259.96 836.363 Q1259.96 833.817 1259.29 831.334 Q1258.59 828.82 1257.22 826.337 L1262.64 826.337 Q1263.78 828.788 1264.35 831.43 Q1264.93 834.04 1264.93 837 Q1264.93 845.052 1259.87 849.795 Q1254.81 854.537 1246.21 854.537 Q1237.49 854.537 1232.49 849.763 Q1227.5 844.957 1227.5 836.618 Q1227.5 833.912 1228.07 831.334 Q1228.61 828.756 1229.72 826.337 Z\" fill=\"#000000\" fill-rule=\"evenodd\" fill-opacity=\"1\" /><path clip-path=\"url(#clip310)\" d=\"M1218.23 810.359 L1228.36 810.359 L1228.36 798.296 L1232.91 798.296 L1232.91 810.359 L1252.26 810.359 Q1256.62 810.359 1257.86 809.181 Q1259.1 807.972 1259.1 804.312 L1259.1 798.296 L1264 798.296 L1264 804.312 Q1264 811.091 1261.49 813.669 Q1258.94 816.247 1252.26 816.247 L1232.91 816.247 L1232.91 820.544 L1228.36 820.544 L1228.36 816.247 L1218.23 816.247 L1218.23 810.359 Z\" fill=\"#000000\" fill-rule=\"evenodd\" fill-opacity=\"1\" /><path clip-path=\"url(#clip310)\" d=\"M1228.36 790.594 L1228.36 784.737 L1264 784.737 L1264 790.594 L1228.36 790.594 M1214.48 790.594 L1214.48 784.737 L1221.9 784.737 L1221.9 790.594 L1214.48 790.594 Z\" fill=\"#000000\" fill-rule=\"evenodd\" fill-opacity=\"1\" /><path clip-path=\"url(#clip310)\" d=\"M1232.46 758.67 Q1232.46 763.38 1236.15 766.117 Q1239.81 768.855 1246.21 768.855 Q1252.61 768.855 1256.3 766.149 Q1259.96 763.412 1259.96 758.67 Q1259.96 753.991 1256.27 751.254 Q1252.58 748.516 1246.21 748.516 Q1239.88 748.516 1236.19 751.254 Q1232.46 753.991 1232.46 758.67 M1227.5 758.67 Q1227.5 751.031 1232.46 746.67 Q1237.43 742.31 1246.21 742.31 Q1254.96 742.31 1259.96 746.67 Q1264.93 751.031 1264.93 758.67 Q1264.93 766.34 1259.96 770.701 Q1254.96 775.029 1246.21 775.029 Q1237.43 775.029 1232.46 770.701 Q1227.5 766.34 1227.5 758.67 Z\" fill=\"#000000\" fill-rule=\"evenodd\" fill-opacity=\"1\" /><path clip-path=\"url(#clip310)\" d=\"M1242.49 702.97 L1264 702.97 L1264 708.826 L1242.68 708.826 Q1237.62 708.826 1235.1 710.799 Q1232.59 712.773 1232.59 716.72 Q1232.59 721.462 1235.61 724.199 Q1238.64 726.937 1243.86 726.937 L1264 726.937 L1264 732.825 L1228.36 732.825 L1228.36 726.937 L1233.89 726.937 Q1230.68 724.836 1229.09 722.003 Q1227.5 719.139 1227.5 715.415 Q1227.5 709.272 1231.32 706.121 Q1235.1 702.97 1242.49 702.97 Z\" fill=\"#000000\" fill-rule=\"evenodd\" fill-opacity=\"1\" /><path clip-path=\"url(#clip310)\" d=\"M1228.36 674.77 L1228.36 668.563 L1258.28 657.423 L1228.36 646.283 L1228.36 640.076 L1264 653.444 L1264 661.402 L1228.36 674.77 Z\" fill=\"#000000\" fill-rule=\"evenodd\" fill-opacity=\"1\" /><path clip-path=\"url(#clip310)\" d=\"M1246.08 615.791 Q1246.08 622.889 1247.71 625.626 Q1249.33 628.364 1253.25 628.364 Q1256.37 628.364 1258.21 626.327 Q1260.03 624.258 1260.03 620.725 Q1260.03 615.855 1256.59 612.927 Q1253.12 609.967 1247.39 609.967 L1246.08 609.967 L1246.08 615.791 M1243.67 604.11 L1264 604.11 L1264 609.967 L1258.59 609.967 Q1261.84 611.972 1263.4 614.964 Q1264.93 617.956 1264.93 622.284 Q1264.93 627.759 1261.87 631.005 Q1258.78 634.22 1253.63 634.22 Q1247.61 634.22 1244.56 630.21 Q1241.5 626.167 1241.5 618.178 L1241.5 609.967 L1240.93 609.967 Q1236.89 609.967 1234.69 612.64 Q1232.46 615.282 1232.46 620.088 Q1232.46 623.144 1233.19 626.04 Q1233.93 628.936 1235.39 631.61 L1229.98 631.61 Q1228.74 628.395 1228.13 625.372 Q1227.5 622.348 1227.5 619.483 Q1227.5 611.749 1231.51 607.93 Q1235.52 604.11 1243.67 604.11 Z\" fill=\"#000000\" fill-rule=\"evenodd\" fill-opacity=\"1\" /><path clip-path=\"url(#clip310)\" d=\"M1214.48 592.047 L1214.48 586.191 L1264 586.191 L1264 592.047 L1214.48 592.047 Z\" fill=\"#000000\" fill-rule=\"evenodd\" fill-opacity=\"1\" /><path clip-path=\"url(#clip310)\" d=\"M1249.94 574.542 L1228.36 574.542 L1228.36 568.685 L1249.71 568.685 Q1254.77 568.685 1257.32 566.712 Q1259.83 564.738 1259.83 560.792 Q1259.83 556.049 1256.81 553.312 Q1253.79 550.543 1248.57 550.543 L1228.36 550.543 L1228.36 544.686 L1264 544.686 L1264 550.543 L1258.53 550.543 Q1261.78 552.675 1263.37 555.508 Q1264.93 558.309 1264.93 562.033 Q1264.93 568.176 1261.11 571.359 Q1257.29 574.542 1249.94 574.542 M1227.5 559.805 L1227.5 559.805 Z\" fill=\"#000000\" fill-rule=\"evenodd\" fill-opacity=\"1\" /><path clip-path=\"url(#clip310)\" d=\"M1244.72 502.132 L1247.58 502.132 L1247.58 529.059 Q1253.63 528.677 1256.81 525.43 Q1259.96 522.152 1259.96 516.327 Q1259.96 512.953 1259.13 509.802 Q1258.31 506.619 1256.65 503.5 L1262.19 503.5 Q1263.53 506.651 1264.23 509.961 Q1264.93 513.272 1264.93 516.677 Q1264.93 525.207 1259.96 530.204 Q1255 535.17 1246.53 535.17 Q1237.78 535.17 1232.65 530.459 Q1227.5 525.717 1227.5 517.696 Q1227.5 510.503 1232.14 506.333 Q1236.76 502.132 1244.72 502.132 M1243 507.988 Q1238.19 508.052 1235.33 510.693 Q1232.46 513.303 1232.46 517.632 Q1232.46 522.534 1235.23 525.494 Q1238 528.422 1243.03 528.868 L1243 507.988 Z\" fill=\"#000000\" fill-rule=\"evenodd\" fill-opacity=\"1\" /><circle clip-path=\"url(#clip313)\" cx=\"1483.02\" cy=\"792.291\" r=\"14.4\" fill=\"#009af9\" fill-rule=\"evenodd\" fill-opacity=\"1\" stroke=\"#000000\" stroke-opacity=\"1\" stroke-width=\"3.2\"/>\n",
                            "<circle clip-path=\"url(#clip313)\" cx=\"1576.84\" cy=\"1110.41\" r=\"14.4\" fill=\"#009af9\" fill-rule=\"evenodd\" fill-opacity=\"1\" stroke=\"#000000\" stroke-opacity=\"1\" stroke-width=\"3.2\"/>\n",
                            "<circle clip-path=\"url(#clip313)\" cx=\"1670.67\" cy=\"1221.23\" r=\"14.4\" fill=\"#009af9\" fill-rule=\"evenodd\" fill-opacity=\"1\" stroke=\"#000000\" stroke-opacity=\"1\" stroke-width=\"3.2\"/>\n",
                            "<circle clip-path=\"url(#clip313)\" cx=\"1764.49\" cy=\"1384.24\" r=\"14.4\" fill=\"#009af9\" fill-rule=\"evenodd\" fill-opacity=\"1\" stroke=\"#000000\" stroke-opacity=\"1\" stroke-width=\"3.2\"/>\n",
                            "<circle clip-path=\"url(#clip313)\" cx=\"1858.31\" cy=\"764.376\" r=\"14.4\" fill=\"#009af9\" fill-rule=\"evenodd\" fill-opacity=\"1\" stroke=\"#000000\" stroke-opacity=\"1\" stroke-width=\"3.2\"/>\n",
                            "<circle clip-path=\"url(#clip313)\" cx=\"1952.13\" cy=\"831.202\" r=\"14.4\" fill=\"#009af9\" fill-rule=\"evenodd\" fill-opacity=\"1\" stroke=\"#000000\" stroke-opacity=\"1\" stroke-width=\"3.2\"/>\n",
                            "<circle clip-path=\"url(#clip313)\" cx=\"2045.96\" cy=\"86.1857\" r=\"14.4\" fill=\"#009af9\" fill-rule=\"evenodd\" fill-opacity=\"1\" stroke=\"#000000\" stroke-opacity=\"1\" stroke-width=\"3.2\"/>\n",
                            "<circle clip-path=\"url(#clip313)\" cx=\"2139.78\" cy=\"1001.7\" r=\"14.4\" fill=\"#009af9\" fill-rule=\"evenodd\" fill-opacity=\"1\" stroke=\"#000000\" stroke-opacity=\"1\" stroke-width=\"3.2\"/>\n",
                            "<circle clip-path=\"url(#clip313)\" cx=\"2233.6\" cy=\"1007.81\" r=\"14.4\" fill=\"#009af9\" fill-rule=\"evenodd\" fill-opacity=\"1\" stroke=\"#000000\" stroke-opacity=\"1\" stroke-width=\"3.2\"/>\n",
                            "<circle clip-path=\"url(#clip313)\" cx=\"2327.42\" cy=\"824.473\" r=\"14.4\" fill=\"#009af9\" fill-rule=\"evenodd\" fill-opacity=\"1\" stroke=\"#000000\" stroke-opacity=\"1\" stroke-width=\"3.2\"/>\n",
                            "</svg>\n"
                        ]
                    },
                    "metadata": {},
                    "output_type": "display_data"
                }
            ],
            "source": [
                "using Plots\n",
                "plot(hob)"
            ]
        },
        {
            "cell_type": "markdown",
            "metadata": {},
            "source": [
                "# Flux.jl\n",
                "First we need to iterate through data load it into Hdf5 and collect the sizes - sizes will be needed as neural network expect uniform sizes of all training and test cases so we will need to get biggest image and pad others accordingly\n",
                "code is based on https://github.com/Dale-Black/MedicalTutorials.jl/tree/master/src/3D_Segmentation/Heart"
            ]
        },
        {
            "cell_type": "code",
            "execution_count": 42,
            "metadata": {},
            "outputs": [
                {
                    "name": "stdout",
                    "output_type": "stream",
                    "text": [
                        "increase number of available threads look into https://docs.julialang.org/en/v1/manual/multi-threading/  or modify for example in vs code extension\n",
                        "Dict{Symbol, Any}(:gl_version => v\"4.6.0\", :gl_renderer => \"NVIDIA GeForce RTX 3080/PCIe/SSE2\", :glsl_version => v\"4.60.0\", :gl_vendor => \"NVIDIA Corporation\")\n",
                        "Dict{Symbol, Any}(:gl_version => v\"4.6.0\", :gl_renderer => \"NVIDIA GeForce RTX 3080/PCIe/SSE2\", :glsl_version => v\"4.60.0\", :gl_vendor => \"NVIDIA Corporation\")\n"
                    ]
                },
                {
                    "data": {
                        "text/plain": [
                            "MedEye3d.DataStructs.FullScrollableDat\n",
                            "  dataToScrollDims: MedEye3d.DataStructs.DataToScrollDims\n",
                            "  dimensionToScroll: Int64 3\n",
                            "  dataToScroll: Array{MedEye3d.DataStructs.ThreeDimRawDat}((3,))\n",
                            "  mainTextToDisp: Array{MedEye3d.DataStructs.SimpleLineTextStruct}((1,))\n",
                            "  sliceTextToDisp: Array{Vector{MedEye3d.DataStructs.SimpleLineTextStruct}}((137,))\n",
                            "  segmMetr: MedEye3d.BasicStructs.ResultMetrics\n",
                            "  segmMetrs: Array{MedEye3d.BasicStructs.ResultMetrics}((0,))\n",
                            "  nameIndexes: Dictionaries.Dictionary{String, Int64}\n",
                            "  slicesNumber: Int32 137\n"
                        ]
                    },
                    "metadata": {},
                    "output_type": "display_data"
                }
            ],
            "source": [
                "pathToHDF55=\"D:\\\\projects\\\\bigDataSet.hdf5\"\n",
                "listOfColorUsed= falses(18)\n",
                "toSaveKey=\"506\"\n",
                "fid = h5open(pathToHDF55, \"r+\")\n",
                "#manual Modification array\n",
                "algoVisualization = MedEye3d.ForDisplayStructs.TextureSpec{Float32}(\n",
                "    name = \"algoOutput\",\n",
                "    # we point out that we will supply multiple colors\n",
                "    isContinuusMask=true,\n",
                "    colorSet = [getSomeColor(listOfColorUsed),getSomeColor(listOfColorUsed)]\n",
                "    ,minAndMaxValue= Float32.([0,1])# values between 0 and 1 as this represent probabilities\n",
                "   )\n",
                "\n",
                "    addTextSpecs=Vector{MedEye3d.ForDisplayStructs.TextureSpec}(undef,1)\n",
                "    addTextSpecs[1]=algoVisualization\n",
                "\n",
                "mainScrollDat= loadFromHdf5Prim(fid,toSaveKey,addTextSpecs,listOfColorUsed)"
            ]
        },
        {
            "cell_type": "code",
            "execution_count": 44,
            "metadata": {},
            "outputs": [
                {
                    "data": {
                        "text/plain": [
                            "false"
                        ]
                    },
                    "metadata": {},
                    "output_type": "display_data"
                }
            ],
            "source": [
                "mainScrollDat.mainTextToDisp=[]\n",
                "copyto!(algoOutputGPU,algoOutput)\n",
                "liverGold= getArrByName(\"labelSet\" ,mainScrollDat)\n",
                "\n",
                "@cuda threads=threads blocks=blocks tresholdingKernel(size(liverGold),algoOutputGPU)\n",
                "\n",
                "conf= ConfigurtationStruct(md=true, dice=true)\n",
                "numberToLookFor = 1.0\n",
                "CUDAGold=CuArray(liverGold)\n",
                "preparedDict=MedEval3D.MainAbstractions.prepareMetrics(conf)\n",
                "res= calcMetricGlobal(preparedDict,conf,CUDAGold,algoOutputGPU,numberToLookFor)\n",
                "calculateAndDisplay(preparedDict,mainScrollDat, conf, numberToLookFor,CuArray(liverGold),algoOutputGPU )\n",
                "\n",
                "\n",
                "visualizationFromHdf5.refresh(MedEye3d.SegmentationDisplay.mainActor) "
            ]
        }
    ],
    "metadata": {
        "kernelspec": {
            "display_name": "Julia 1.7.2",
            "language": "julia",
            "name": "julia-1.7"
        },
        "language_info": {
            "file_extension": ".jl",
            "mimetype": "application/julia",
            "name": "julia",
            "version": "1.7.3"
        }
    },
    "nbformat": 4,
    "nbformat_minor": 2
}