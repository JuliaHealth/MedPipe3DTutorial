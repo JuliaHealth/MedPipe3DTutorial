{
 "cells": [
  {
   "cell_type": "code",
   "execution_count": 1,
   "metadata": {},
   "outputs": [
    {
     "name": "stderr",
     "output_type": "stream",
     "text": [
      "\u001b[32m\u001b[1m    Updating\u001b[22m\u001b[39m git-repo `https://github.com/jakubMitura14/MedPipe3D.jl.git`\n"
     ]
    },
    {
     "name": "stderr",
     "output_type": "stream",
     "text": [
      "\u001b[32m\u001b[1m    Updating\u001b[22m\u001b[39m "
     ]
    },
    {
     "name": "stderr",
     "output_type": "stream",
     "text": [
      "registry at `~/.julia/registries/General`\n"
     ]
    },
    {
     "name": "stderr",
     "output_type": "stream",
     "text": [
      "\u001b[32m\u001b[1m   Resolving\u001b[22m\u001b[39m package versions...\n"
     ]
    },
    {
     "name": "stderr",
     "output_type": "stream",
     "text": [
      "\u001b[32m\u001b[1m  No Changes\u001b[22m\u001b[39m to `~/.julia/environments/v1.6/Project.toml`\n",
      "\u001b[32m\u001b[1m  No Changes\u001b[22m\u001b[39m to `~/.julia/environments/v1.6/Manifest.toml`\n"
     ]
    }
   ],
   "source": [
    "using Pkg\n",
    "#Pkg.add(url=\"https://github.com/jakubMitura14/MedPipe3D.jl.git\")\n",
    "Pkg.add(url=\"https://github.com/jakubMitura14/MedPipe3D.jl.git\")\n",
    "import BSON,MedPipe3D\n",
    "using BSON: @save\n",
    "using BSON: @load\n",
    "using MedEye3d\n",
    "using Distributions\n",
    "using Clustering\n",
    "using IrrationalConstants\n",
    "using ParallelStencil\n",
    "using MedPipe3D.LoadFromMonai, MedPipe3D.HDF5saveUtils,MedPipe3D.visualizationFromHdf5, MedPipe3D.distinctColorsSaved\n",
    "using CUDA\n",
    "using HDF5,Colors\n",
    "using ParallelStencil\n",
    "using ParallelStencil.FiniteDifferences3D\n",
    "using MedEval3D\n",
    "using MedEval3D.BasicStructs\n",
    "using MedEval3D.MainAbstractions\n",
    "using MedEval3D\n",
    "using MedEval3D.BasicStructs\n",
    "using MedEval3D.MainAbstractions\n",
    "using UNet\n",
    "using Hyperopt,Plots\n",
    "using MedPipe3D.LoadFromMonai\n",
    "using Flux,FastAI,DataAugmentation,DLPipelines,MLDataPattern,ImageCore\n",
    "using DataAugmentation: OneHot, Image\n",
    "#]add ProgressMeter StaticArrays DataLoaders MLDataPattern BSON DataAugmentation MLUtils Distributed FastAI Flux Hyperopt Plots UNet MedEye3d Distributions Clustering IrrationalConstants ParallelStencil CUDA HDF5 MedEval3D MedPipe3D Colors\n",
    "CUDA.allowscalar(true)"
   ]
  },
  {
   "cell_type": "markdown",
   "metadata": {},
   "source": [
    "Some usefull constants"
   ]
  },
  {
   "cell_type": "code",
   "execution_count": 2,
   "metadata": {},
   "outputs": [
    {
     "data": {
      "text/plain": [
       "true"
      ]
     },
     "metadata": {},
     "output_type": "display_data"
    }
   ],
   "source": [
    "\n",
    "#directory where we want to store our HDF5 that we will use\n",
    "pathToHDF5=\"/media/jakub/NewVolume/projects/smallDataSet.hdf5\"\n",
    "# data downloaded from http://medicaldecathlon.com/   (task 9 spleen)\n",
    "#directory of folder with files in this directory all of the image files should be in subfolder volumes 0-49 and labels labels if one ill use lines below\n",
    "data_dir = \"/media/jakub/NewVolume/forJuliaData/spleenData/Task09_Spleen/Task09_Spleen/Task09_Spleen/\"\n",
    "fid = h5open(pathToHDF5, \"w\")\n",
    "#representing number that is the patient id in this dataset\n",
    "patentNum = 12#6\n",
    "patienGroupName=string(patentNum)\n",
    "z=8# how big is the area from which we collect data to construct probability distributions\n",
    "klusterNumb = 5# number of clusters - number of probability distributions we will use\n",
    "#******************for display\n",
    "#just needed so we will not have 2 same colors for two diffrent informations\n",
    "listOfColorUsed= falses(18)\n",
    "const USE_GPU = true\n"
   ]
  },
  {
   "cell_type": "markdown",
   "metadata": {},
   "source": [
    "Below we define path to the example files"
   ]
  },
  {
   "cell_type": "code",
   "execution_count": 3,
   "metadata": {},
   "outputs": [
    {
     "data": {
      "text/plain": [
       "(Float32[-1024.0 -1024.0 … -1024.0 -1024.0; -1024.0 -1024.0 … -1024.0 -1024.0; … ; -1024.0 -1024.0 … -1024.0 -1024.0; -1024.0 -1024.0 … -1024.0 -1024.0]\n",
       "\n",
       "Float32[-1024.0 -1024.0 … -1024.0 -1024.0; -1024.0 -1024.0 … -1024.0 -1024.0; … ; -1024.0 -1024.0 … -1024.0 -1024.0; -1024.0 -1024.0 … -1024.0 -1024.0]\n",
       "\n",
       "Float32[-1024.0 -1024.0 … -1024.0 -1024.0; -1024.0 -1024.0 … -1024.0 -1024.0; … ; -1024.0 -1024.0 … -1024.0 -1024.0; -1024.0 -1024.0 … -1024.0 -1024.0]\n",
       "\n",
       "...\n",
       "\n",
       "Float32[-1024.0 -1024.0 … -1024.0 -1024.0; -1024.0 -1024.0 … -1024.0 -1024.0; … ; -1024.0 -1024.0 … -1024.0 -1024.0; -1024.0 -1024.0 … -1024.0 -1024.0]\n",
       "\n",
       "Float32[-1024.0 -1024.0 … -1024.0 -1024.0; -1024.0 -1024.0 … -1024.0 -1024.0; … ; -1024.0 -1024.0 … -1024.0 -1024.0; -1024.0 -1024.0 … -1024.0 -1024.0]\n",
       "\n",
       "Float32[-1024.0 -1024.0 … -1024.0 -1024.0; -1024.0 -1024.0 … -1024.0 -1024.0; … ; -1024.0 -1024.0 … -1024.0 -1024.0; -1024.0 -1024.0 … -1024.0 -1024.0], UInt8[0x00 0x00 … 0x00 0x00; 0x00 0x00 … 0x00 0x00; … ; 0x00 0x00 … 0x00 0x00; 0x00 0x00 … 0x00 0x00]\n",
       "\n",
       "UInt8[0x00 0x00 … 0x00 0x00; 0x00 0x00 … 0x00 0x00; … ; 0x00 0x00 … 0x00 0x00; 0x00 0x00 … 0x00 0x00]\n",
       "\n",
       "UInt8[0x00 0x00 … 0x00 0x00; 0x00 0x00 … 0x00 0x00; … ; 0x00 0x00 … 0x00 0x00; 0x00 0x00 … 0x00 0x00]\n",
       "\n",
       "...\n",
       "\n",
       "UInt8[0x00 0x00 … 0x00 0x00; 0x00 0x00 … 0x00 0x00; … ; 0x00 0x00 … 0x00 0x00; 0x00 0x00 … 0x00 0x00]\n",
       "\n",
       "UInt8[0x00 0x00 … 0x00 0x00; 0x00 0x00 … 0x00 0x00; … ; 0x00 0x00 … 0x00 0x00; 0x00 0x00 … 0x00 0x00]\n",
       "\n",
       "UInt8[0x00 0x00 … 0x00 0x00; 0x00 0x00 … 0x00 0x00; … ; 0x00 0x00 … 0x00 0x00; 0x00 0x00 … 0x00 0x00], <py (496, 496, 222)>, <py (496, 496, 222)>, <py (496, 496, 222)>)"
      ]
     },
     "metadata": {},
     "output_type": "display_data"
    }
   ],
   "source": [
    "data_dir = \"/media/jakub/NewVolume/forJuliaData/spleenData/Task09_Spleen/Task09_Spleen/Task09_Spleen/\"\n",
    "\n",
    "train_labels = map(fileEntry-> joinpath(data_dir,\"labelsTr\",fileEntry),readdir(joinpath(data_dir,\"labelsTr\"); sort=true))\n",
    "train_images = map(fileEntry-> joinpath(data_dir,\"imagesTr\",fileEntry),readdir(joinpath(data_dir,\"imagesTr\"); sort=true))\n",
    "#zipping so we will have tuples with image and label names\n",
    "zipped= collect(zip(train_images,train_labels))\n",
    "# the paths are for some reasons reading incorrectly\n",
    "zipped=map(tupl -> (replace(tupl[1], \"._\" => \"\"), replace(tupl[2], \"._\" => \"\")),zipped)\n",
    "\n",
    "tupl=zipped[patentNum]\n",
    "#proper loading using some utility function\n",
    "targetSpacing=(1,1,1)\n",
    "\n",
    "loaded = LoadFromMonai.loadBySitkromImageAndLabelPaths(tupl[1],tupl[2],targetSpacing)\n",
    "# loaded = LoadFromMonai.LoadFromMonai.loadandPad(\n",
    "#     tupl[1],tupl[2]\n",
    "#     ,targetSpacing\n",
    "#     ,(800,800,800))"
   ]
  },
  {
   "cell_type": "code",
   "execution_count": 4,
   "metadata": {},
   "outputs": [
    {
     "data": {
      "text/plain": [
       "(496, 496, 222)"
      ]
     },
     "metadata": {},
     "output_type": "display_data"
    }
   ],
   "source": [
    "size(loaded[1])"
   ]
  },
  {
   "cell_type": "markdown",
   "metadata": {},
   "source": [
    "Managing HDF5 database"
   ]
  },
  {
   "cell_type": "code",
   "execution_count": 5,
   "metadata": {},
   "outputs": [],
   "source": [
    "#!!!!!!!!!! important if you are just creating the hdf5 file  do it with \"w\" option otherwise do it with \"r+\"\n",
    "#fid = h5open(pathToHDF5, \"r+\") \n",
    "gr= getGroupOrCreate(fid, patienGroupName)\n",
    "\n",
    "labelArr=map(entry-> UInt32(entry),loaded[2])\n",
    "#we save loaded and trnsformed data into HDF5 to avoid doing preprocessing every time\n",
    "saveMaskBeforeVisualization(fid,patienGroupName,loaded[1],\"image\", \"CT\" )\n",
    "saveMaskBeforeVisualization(fid,patienGroupName,labelArr,\"labelSet\", \"boolLabel\" )\n",
    "\n",
    "# here we did default transformations so voxel dimension is set to 1,1,1 in any other case one need to set spacing attribute manually to proper value\n",
    "# spacing can be found in metadata dictionary that is third entry in loadByMonaiFromImageAndLabelPaths output\n",
    "# here metadata = loaded[3]\n",
    "writeGroupAttribute(fid,patienGroupName, \"spacing\", [1,1,1])"
   ]
  },
  {
   "cell_type": "markdown",
   "metadata": {},
   "source": [
    "Simple Display Configuration automatically we choose the colors to be some contrassting ones"
   ]
  },
  {
   "cell_type": "code",
   "execution_count": 6,
   "metadata": {},
   "outputs": [
    {
     "data": {
      "text/plain": [
       "MedEye3d.ForDisplayStructs.TextureSpec{Float32}\n",
       "  name: String \"algoOutput\"\n",
       "  numb: Int32 -1\n",
       "  whichCreated: Int32 -1\n",
       "  isMainImage: Bool false\n",
       "  isNuclearMask: Bool false\n",
       "  isContinuusMask: Bool true\n",
       "  color: RGB{Float64}\n",
       "  colorSet: Array{RGB}((2,))\n",
       "  strokeWidth: Int32 3\n",
       "  isEditable: Bool false\n",
       "  GL_Rtype: UInt32 0x00000000\n",
       "  OpGlType: UInt32 0x00000000\n",
       "  actTextrureNumb: UInt32 0x00000000\n",
       "  associatedActiveNumer: Int64 0\n",
       "  ID: Base.RefValue{UInt32}\n",
       "  isVisible: Bool true\n",
       "  uniforms: MedEye3d.ForDisplayStructs.MaskTextureUniforms\n",
       "  minAndMaxValue: Array{Float32}((2,)) Float32[0.0, 1.0]\n",
       "  maskContribution: Float32 1.0f0\n"
      ]
     },
     "metadata": {},
     "output_type": "display_data"
    }
   ],
   "source": [
    "\n",
    "##below we define additional arrays that are not present in original data but will be needed for annotations and storing algorithm output \n",
    "\n",
    "#manual Modification array\n",
    "manualModif = MedEye3d.ForDisplayStructs.TextureSpec{UInt32}(# choosing number type manually to reduce memory usage\n",
    "    name = \"manualModif\",\n",
    "    color = getSomeColor(listOfColorUsed)# automatically choosing some contrasting color\n",
    "    ,minAndMaxValue= UInt32.([0,1]) #important to keep the same number type as chosen at the bagining\n",
    "    ,isEditable = true ) # we will be able to manually modify this array in a viewer\n",
    "\n",
    "algoVisualization = MedEye3d.ForDisplayStructs.TextureSpec{Float32}(\n",
    "    name = \"algoOutput\",\n",
    "    # we point out that we will supply multiple colors\n",
    "    isContinuusMask=true,\n",
    "    colorSet = [getSomeColor(listOfColorUsed),getSomeColor(listOfColorUsed)]\n",
    "    ,minAndMaxValue= Float32.([0,1])# values between 0 and 1 as this represent probabilities\n",
    "   )\n",
    "\n",
    "    addTextSpecs=Vector{MedEye3d.ForDisplayStructs.TextureSpec}(undef,2)\n",
    "    addTextSpecs[1]=manualModif\n",
    "    addTextSpecs[2]=algoVisualization\n",
    "\n"
   ]
  },
  {
   "cell_type": "markdown",
   "metadata": {},
   "source": [
    "Command to Display"
   ]
  },
  {
   "cell_type": "code",
   "execution_count": 7,
   "metadata": {},
   "outputs": [
    {
     "name": "stdout",
     "output_type": "stream",
     "text": [
      "increase number of available threads look into https://docs.julialang.org/en/v1/manual/multi-threading/  or modify for example in vs code extension\n"
     ]
    },
    {
     "name": "stdout",
     "output_type": "stream",
     "text": [
      "Dict{Symbol, Any}("
     ]
    },
    {
     "name": "stdout",
     "output_type": "stream",
     "text": [
      ":gl_version => v\"4.6.0\", :gl_renderer => \"NVIDIA GeForce RTX 3080/PCIe/SSE2\", :glsl_version => v\"4.60.0\", :gl_vendor => \"NVIDIA Corporation\")\n",
      "Dict{Symbol, Any}(:gl_version => v\"4.6.0\", :gl_renderer => \"NVIDIA GeForce RTX 3080/PCIe/SSE2\", :glsl_version => v\"4.60.0\", :gl_vendor => \"NVIDIA Corporation\")\n"
     ]
    },
    {
     "data": {
      "text/plain": [
       "MedEye3d.DataStructs.FullScrollableDat\n",
       "  dataToScrollDims: MedEye3d.DataStructs.DataToScrollDims\n",
       "  dimensionToScroll: Int64 3\n",
       "  dataToScroll: Array{MedEye3d.DataStructs.ThreeDimRawDat}((4,))\n",
       "  mainTextToDisp: Array{MedEye3d.DataStructs.SimpleLineTextStruct}((1,))\n",
       "  sliceTextToDisp: Array{Vector{MedEye3d.DataStructs.SimpleLineTextStruct}}((222,))\n",
       "  segmMetr: MedEye3d.BasicStructs.ResultMetrics\n",
       "  segmMetrs: Array{MedEye3d.BasicStructs.ResultMetrics}((0,))\n",
       "  nameIndexes: Dictionaries.Dictionary{String, Int64}\n",
       "  slicesNumber: Int32 222\n"
      ]
     },
     "metadata": {},
     "output_type": "display_data"
    }
   ],
   "source": [
    "mainScrollDat= loadFromHdf5Prim(fid,patienGroupName,addTextSpecs,listOfColorUsed)\n"
   ]
  },
  {
   "cell_type": "markdown",
   "metadata": {},
   "source": [
    "Here we will modify primary display  by changing the color of displayed label"
   ]
  },
  {
   "cell_type": "code",
   "execution_count": 15,
   "metadata": {},
   "outputs": [
    {
     "name": "stdout",
     "output_type": "stream",
     "text": [
      "increase number of available threads look into https://docs.julialang.org/en/v1/manual/multi-threading/  or modify for example in vs code extension\n"
     ]
    },
    {
     "name": "stdout",
     "output_type": "stream",
     "text": [
      "Dict{Symbol, Any}(:gl_version => v\"4.6.0\", :gl_renderer => \"NVIDIA GeForce RTX 3080/PCIe/SSE2\", :glsl_version => v\"4.60.0\", :gl_vendor => \"NVIDIA Corporation\")\n",
      "Dict{Symbol, Any}(:gl_version => v\"4.6.0\", :gl_renderer => \"NVIDIA GeForce RTX 3080/PCIe/SSE2\", :glsl_version => v\"4.60.0\", :gl_vendor => \"NVIDIA Corporation\")\n"
     ]
    },
    {
     "data": {
      "text/plain": [
       "4-element Vector{MedEye3d.DataStructs.ThreeDimRawDat}:\n",
       " MedEye3d.DataStructs.ThreeDimRawDat{Float32}(Float32, \"image\", Float32[-1024.0 -1024.0 … -1024.0 -1024.0; -1024.0 -1024.0 … -1024.0 -1024.0; … ; -1024.0 -1024.0 … -1024.0 -1024.0; -1024.0 -1024.0 … -1024.0 -1024.0]\n",
       "\n",
       "Float32[-1024.0 -1024.0 … -1024.0 -1024.0; -1024.0 -1024.0 … -1024.0 -1024.0; … ; -1024.0 -1024.0 … -1024.0 -1024.0; -1024.0 -1024.0 … -1024.0 -1024.0]\n",
       "\n",
       "Float32[-1024.0 -1024.0 … -1024.0 -1024.0; -1024.0 -1024.0 … -1024.0 -1024.0; … ; -1024.0 -1024.0 … -1024.0 -1024.0; -1024.0 -1024.0 … -1024.0 -1024.0]\n",
       "\n",
       "...\n",
       "\n",
       "Float32[-1024.0 -1024.0 … -1024.0 -1024.0; -1024.0 -1024.0 … -1024.0 -1024.0; … ; -1024.0 -1024.0 … -1024.0 -1024.0; -1024.0 -1024.0 … -1024.0 -1024.0]\n",
       "\n",
       "Float32[-1024.0 -1024.0 … -1024.0 -1024.0; -1024.0 -1024.0 … -1024.0 -1024.0; … ; -1024.0 -1024.0 … -1024.0 -1024.0; -1024.0 -1024.0 … -1024.0 -1024.0]\n",
       "\n",
       "Float32[-1024.0 -1024.0 … -1024.0 -1024.0; -1024.0 -1024.0 … -1024.0 -1024.0; … ; -1024.0 -1024.0 … -1024.0 -1024.0; -1024.0 -1024.0 … -1024.0 -1024.0])\n",
       " MedEye3d.DataStructs.ThreeDimRawDat{UInt32}(UInt32, \"labelSet\", UInt32[0x00000000 0x00000000 … 0x00000000 0x00000000; 0x00000000 0x00000000 … 0x00000000 0x00000000; … ; 0x00000000 0x00000000 … 0x00000000 0x00000000; 0x00000000 0x00000000 … 0x00000000 0x00000000]\n",
       "\n",
       "UInt32[0x00000000 0x00000000 … 0x00000000 0x00000000; 0x00000000 0x00000000 … 0x00000000 0x00000000; … ; 0x00000000 0x00000000 … 0x00000000 0x00000000; 0x00000000 0x00000000 … 0x00000000 0x00000000]\n",
       "\n",
       "UInt32[0x00000000 0x00000000 … 0x00000000 0x00000000; 0x00000000 0x00000000 … 0x00000000 0x00000000; … ; 0x00000000 0x00000000 … 0x00000000 0x00000000; 0x00000000 0x00000000 … 0x00000000 0x00000000]\n",
       "\n",
       "...\n",
       "\n",
       "UInt32[0x00000000 0x00000000 … 0x00000000 0x00000000; 0x00000000 0x00000000 … 0x00000000 0x00000000; … ; 0x00000000 0x00000000 … 0x00000000 0x00000000; 0x00000000 0x00000000 … 0x00000000 0x00000000]\n",
       "\n",
       "UInt32[0x00000000 0x00000000 … 0x00000000 0x00000000; 0x00000000 0x00000000 … 0x00000000 0x00000000; … ; 0x00000000 0x00000000 … 0x00000000 0x00000000; 0x00000000 0x00000000 … 0x00000000 0x00000000]\n",
       "\n",
       "UInt32[0x00000000 0x00000000 … 0x00000000 0x00000000; 0x00000000 0x00000000 … 0x00000000 0x00000000; … ; 0x00000000 0x00000000 … 0x00000000 0x00000000; 0x00000000 0x00000000 … 0x00000000 0x00000000])\n",
       " MedEye3d.DataStructs.ThreeDimRawDat{UInt32}(UInt32, \"manualModif\", UInt32[0x00000000 0x00000000 … 0x00000000 0x00000000; 0x00000000 0x00000000 … 0x00000000 0x00000000; … ; 0x00000000 0x00000000 … 0x00000000 0x00000000; 0x00000000 0x00000000 … 0x00000000 0x00000000]\n",
       "\n",
       "UInt32[0x00000000 0x00000000 … 0x00000000 0x00000000; 0x00000000 0x00000000 … 0x00000000 0x00000000; … ; 0x00000000 0x00000000 … 0x00000000 0x00000000; 0x00000000 0x00000000 … 0x00000000 0x00000000]\n",
       "\n",
       "UInt32[0x00000000 0x00000000 … 0x00000000 0x00000000; 0x00000000 0x00000000 … 0x00000000 0x00000000; … ; 0x00000000 0x00000000 … 0x00000000 0x00000000; 0x00000000 0x00000000 … 0x00000000 0x00000000]\n",
       "\n",
       "...\n",
       "\n",
       "UInt32[0x00000000 0x00000000 … 0x00000000 0x00000000; 0x00000000 0x00000000 … 0x00000000 0x00000000; … ; 0x00000000 0x00000000 … 0x00000000 0x00000000; 0x00000000 0x00000000 … 0x00000000 0x00000000]\n",
       "\n",
       "UInt32[0x00000000 0x00000000 … 0x00000000 0x00000000; 0x00000000 0x00000000 … 0x00000000 0x00000000; … ; 0x00000000 0x00000000 … 0x00000000 0x00000000; 0x00000000 0x00000000 … 0x00000000 0x00000000]\n",
       "\n",
       "UInt32[0x00000000 0x00000000 … 0x00000000 0x00000000; 0x00000000 0x00000000 … 0x00000000 0x00000000; … ; 0x00000000 0x00000000 … 0x00000000 0x00000000; 0x00000000 0x00000000 … 0x00000000 0x00000000])\n",
       " MedEye3d.DataStructs.ThreeDimRawDat{Float32}(Float32, \"algoOutput\", Float32[0.0 0.0 … 0.0 0.0; 0.0 0.0 … 0.0 0.0; … ; 0.0 0.0 … 0.0 0.0; 0.0 0.0 … 0.0 0.0]\n",
       "\n",
       "Float32[0.0 0.0 … 0.0 0.0; 0.0 0.0 … 0.0 0.0; … ; 0.0 0.0 … 0.0 0.0; 0.0 0.0 … 0.0 0.0]\n",
       "\n",
       "Float32[0.0 0.0 … 0.0 0.0; 0.0 0.0 … 0.0 0.0; … ; 0.0 0.0 … 0.0 0.0; 0.0 0.0 … 0.0 0.0]\n",
       "\n",
       "...\n",
       "\n",
       "Float32[0.0 0.0 … 0.0 0.0; 0.0 0.0 … 0.0 0.0; … ; 0.0 0.0 … 0.0 0.0; 0.0 0.0 … 0.0 0.0]\n",
       "\n",
       "Float32[0.0 0.0 … 0.0 0.0; 0.0 0.0 … 0.0 0.0; … ; 0.0 0.0 … 0.0 0.0; 0.0 0.0 … 0.0 0.0]\n",
       "\n",
       "Float32[0.0 0.0 … 0.0 0.0; 0.0 0.0 … 0.0 0.0; … ; 0.0 0.0 … 0.0 0.0; 0.0 0.0 … 0.0 0.0])"
      ]
     },
     "metadata": {},
     "output_type": "display_data"
    }
   ],
   "source": [
    "#manual Modification array\n",
    "manualModif = MedEye3d.ForDisplayStructs.TextureSpec{UInt32}(# choosing number type manually to reduce memory usage\n",
    "    name = \"manualModif\",\n",
    "    color = RGB(0.2,0.5,0.2) #getSomeColor(listOfColorUsed)# automatically choosing some contrasting color\n",
    "    ,minAndMaxValue= UInt32.([0,1]) #important to keep the same number type as chosen at the bagining\n",
    "    ,isEditable = true ) # we will be able to manually modify this array in a viewer\n",
    "\n",
    "labelSet = MedEye3d.ForDisplayStructs.TextureSpec{UInt32}(\n",
    "    name = \"labelSet\",\n",
    "    # we point out that we will supply multiple colors\n",
    "    isContinuusMask=true,\n",
    "    colorSet = [RGB(1.0,0.0,0.0),RGB(1.0,0.0,0.0),RGB(1.0,1.0,0.0)]\n",
    "    ,minAndMaxValue= UInt32.([0,2])# values between 0 and 1 as this represent probabilities\n",
    "   )   \n",
    "    addTextSpecs=Vector{MedEye3d.ForDisplayStructs.TextureSpec}(undef,3)\n",
    "    addTextSpecs[1]=manualModif\n",
    "    addTextSpecs[2]=algoVisualization\n",
    "    addTextSpecs[3]=labelSet\n",
    "\n",
    "\n",
    "#2) primary display of chosen image \n",
    "mainScrollDat= loadFromHdf5Prim(fid,patienGroupName,addTextSpecs,listOfColorUsed)\n",
    "mainScrollDat.dataToScroll\n"
   ]
  },
  {
   "cell_type": "code",
   "execution_count": 9,
   "metadata": {},
   "outputs": [],
   "source": [
    "group = fid[patienGroupName]\n",
    "attrName=\"spacing\"\n",
    "\n",
    "value=HDF5.read_attribute(group, attrName)\n",
    "delete_attribute(group,attrName)\n",
    "write_attribute(group, attrName, value)\n",
    "\n"
   ]
  },
  {
   "cell_type": "markdown",
   "metadata": {},
   "source": [
    "now we will observe what would happen if we would provie incorrect spacing in display"
   ]
  },
  {
   "cell_type": "code",
   "execution_count": 10,
   "metadata": {},
   "outputs": [
    {
     "name": "stdout",
     "output_type": "stream",
     "text": [
      "increase number of available threads look into https://docs.julialang.org/en/v1/manual/multi-threading/  or modify for example in vs code extension\n"
     ]
    },
    {
     "name": "stdout",
     "output_type": "stream",
     "text": [
      "Dict{Symbol, Any}(:gl_version => v\"4.6.0\", :gl_renderer => \"NVIDIA GeForce RTX 3080/PCIe/SSE2\", :glsl_version => v\"4.60.0\", :gl_vendor => \"NVIDIA Corporation\")\n",
      "Dict{Symbol, Any}(:gl_version => v\"4.6.0\", :gl_renderer => \"NVIDIA GeForce RTX 3080/PCIe/SSE2\", :glsl_version => v\"4.60.0\", :gl_vendor => \"NVIDIA Corporation\")\n"
     ]
    },
    {
     "data": {
      "text/plain": [
       "4-element Vector{MedEye3d.DataStructs.ThreeDimRawDat}:\n",
       " MedEye3d.DataStructs.ThreeDimRawDat{Float32}(Float32, \"image\", Float32[-1024.0 -1024.0 … -1024.0 -1024.0; -1024.0 -1024.0 … -1024.0 -1024.0; … ; -1024.0 -1024.0 … -1024.0 -1024.0; -1024.0 -1024.0 … -1024.0 -1024.0]\n",
       "\n",
       "Float32[-1024.0 -1024.0 … -1024.0 -1024.0; -1024.0 -1024.0 … -1024.0 -1024.0; … ; -1024.0 -1024.0 … -1024.0 -1024.0; -1024.0 -1024.0 … -1024.0 -1024.0]\n",
       "\n",
       "Float32[-1024.0 -1024.0 … -1024.0 -1024.0; -1024.0 -1024.0 … -1024.0 -1024.0; … ; -1024.0 -1024.0 … -1024.0 -1024.0; -1024.0 -1024.0 … -1024.0 -1024.0]\n",
       "\n",
       "...\n",
       "\n",
       "Float32[-1024.0 -1024.0 … -1024.0 -1024.0; -1024.0 -1024.0 … -1024.0 -1024.0; … ; -1024.0 -1024.0 … -1024.0 -1024.0; -1024.0 -1024.0 … -1024.0 -1024.0]\n",
       "\n",
       "Float32[8.0 8.0 … 8.0 8.0; 8.0 8.0 … 8.0 8.0; … ; 8.0 8.0 … 8.0 8.0; 8.0 8.0 … 8.0 8.0]\n",
       "\n",
       "Float32[8.0 8.0 … 8.0 8.0; 8.0 8.0 … 8.0 8.0; … ; 8.0 8.0 … 8.0 8.0; 8.0 8.0 … 8.0 8.0])\n",
       " MedEye3d.DataStructs.ThreeDimRawDat{UInt32}(UInt32, \"labelSet\", UInt32[0x00000000 0x00000000 … 0x00000000 0x00000000; 0x00000000 0x00000000 … 0x00000000 0x00000000; … ; 0x00000000 0x00000000 … 0x00000000 0x00000000; 0x00000000 0x00000000 … 0x00000000 0x00000000]\n",
       "\n",
       "UInt32[0x00000000 0x00000000 … 0x00000000 0x00000000; 0x00000000 0x00000000 … 0x00000000 0x00000000; … ; 0x00000000 0x00000000 … 0x00000000 0x00000000; 0x00000000 0x00000000 … 0x00000000 0x00000000]\n",
       "\n",
       "UInt32[0x00000000 0x00000000 … 0x00000000 0x00000000; 0x00000000 0x00000000 … 0x00000000 0x00000000; … ; 0x00000000 0x00000000 … 0x00000000 0x00000000; 0x00000000 0x00000000 … 0x00000000 0x00000000]\n",
       "\n",
       "...\n",
       "\n",
       "UInt32[0x00000000 0x00000000 … 0x00000000 0x00000000; 0x00000000 0x00000000 … 0x00000000 0x00000000; … ; 0x00000000 0x00000000 … 0x00000000 0x00000000; 0x00000000 0x00000000 … 0x00000000 0x00000000]\n",
       "\n",
       "UInt32[0x00000001 0x00000001 … 0x00000001 0x00000001; 0x00000001 0x00000001 … 0x00000001 0x00000001; … ; 0x00000001 0x00000001 … 0x00000001 0x00000001; 0x00000001 0x00000001 … 0x00000001 0x00000001]\n",
       "\n",
       "UInt32[0x00000001 0x00000001 … 0x00000001 0x00000001; 0x00000001 0x00000001 … 0x00000001 0x00000001; … ; 0x00000001 0x00000001 … 0x00000001 0x00000001; 0x00000001 0x00000001 … 0x00000001 0x00000001])\n",
       " MedEye3d.DataStructs.ThreeDimRawDat{UInt32}(UInt32, \"manualModif\", UInt32[0x00000000 0x00000000 … 0x00000000 0x00000000; 0x00000000 0x00000000 … 0x00000000 0x00000000; … ; 0x00000000 0x00000000 … 0x00000000 0x00000000; 0x00000000 0x00000000 … 0x00000000 0x00000000]\n",
       "\n",
       "UInt32[0x00000000 0x00000000 … 0x00000000 0x00000000; 0x00000000 0x00000000 … 0x00000000 0x00000000; … ; 0x00000000 0x00000000 … 0x00000000 0x00000000; 0x00000000 0x00000000 … 0x00000000 0x00000000]\n",
       "\n",
       "UInt32[0x00000000 0x00000000 … 0x00000000 0x00000000; 0x00000000 0x00000000 … 0x00000000 0x00000000; … ; 0x00000000 0x00000000 … 0x00000000 0x00000000; 0x00000000 0x00000000 … 0x00000000 0x00000000]\n",
       "\n",
       "...\n",
       "\n",
       "UInt32[0x00000000 0x00000000 … 0x00000000 0x00000000; 0x00000000 0x00000000 … 0x00000000 0x00000000; … ; 0x00000000 0x00000000 … 0x00000000 0x00000000; 0x00000000 0x00000000 … 0x00000000 0x00000000]\n",
       "\n",
       "UInt32[0x00000000 0x00000000 … 0x00000000 0x00000000; 0x00000000 0x00000000 … 0x00000000 0x00000000; … ; 0x00000000 0x00000000 … 0x00000000 0x00000000; 0x00000000 0x00000000 … 0x00000000 0x00000000]\n",
       "\n",
       "UInt32[0x00000000 0x00000000 … 0x00000000 0x00000000; 0x00000000 0x00000000 … 0x00000000 0x00000000; … ; 0x00000000 0x00000000 … 0x00000000 0x00000000; 0x00000000 0x00000000 … 0x00000000 0x00000000])\n",
       " MedEye3d.DataStructs.ThreeDimRawDat{Float32}(Float32, \"algoOutput\", Float32[0.0 0.0 … 0.0 0.0; 0.0 0.0 … 0.0 0.0; … ; 0.0 0.0 … 0.0 0.0; 0.0 0.0 … 0.0 0.0]\n",
       "\n",
       "Float32[0.0 0.0 … 0.0 0.0; 0.0 0.0 … 0.0 0.0; … ; 0.0 0.0 … 0.0 0.0; 0.0 0.0 … 0.0 0.0]\n",
       "\n",
       "Float32[0.0 0.0 … 0.0 0.0; 0.0 0.0 … 0.0 0.0; … ; 0.0 0.0 … 0.0 0.0; 0.0 0.0 … 0.0 0.0]\n",
       "\n",
       "...\n",
       "\n",
       "Float32[0.0 0.0 … 0.0 0.0; 0.0 0.0 … 0.0 0.0; … ; 0.0 0.0 … 0.0 0.0; 0.0 0.0 … 0.0 0.0]\n",
       "\n",
       "Float32[0.0 0.0 … 0.0 0.0; 0.0 0.0 … 0.0 0.0; … ; 0.0 0.0 … 0.0 0.0; 0.0 0.0 … 0.0 0.0]\n",
       "\n",
       "Float32[0.0 0.0 … 0.0 0.0; 0.0 0.0 … 0.0 0.0; … ; 0.0 0.0 … 0.0 0.0; 0.0 0.0 … 0.0 0.0])"
      ]
     },
     "metadata": {},
     "output_type": "display_data"
    }
   ],
   "source": [
    "delete_attribute(group,\"spacing\")\n",
    "writeGroupAttribute(fid,patienGroupName, \"spacing\", [1,1,1])\n",
    "mainScrollDat= loadFromHdf5Prim(fid,patienGroupName,addTextSpecs,listOfColorUsed)\n",
    "mainScrollDat.dataToScroll\n"
   ]
  },
  {
   "cell_type": "markdown",
   "metadata": {},
   "source": [
    "### remember to manually mark points of interest"
   ]
  },
  {
   "cell_type": "markdown",
   "metadata": {},
   "source": [
    "# Constructing probability distribution"
   ]
  },
  {
   "cell_type": "markdown",
   "metadata": {},
   "source": [
    "Some utility functions"
   ]
  },
  {
   "cell_type": "code",
   "execution_count": 11,
   "metadata": {},
   "outputs": [
    {
     "data": {
      "text/plain": [
       "calculatePatchStatistics"
      ]
     },
     "metadata": {},
     "output_type": "display_data"
    }
   ],
   "source": [
    "\n",
    "\"\"\"\n",
    "works only for 3d cartesian coordinates\n",
    "  cart - cartesian coordinates of point where we will add the dimensions ...\n",
    "\"\"\"\n",
    "function cartesianTolinear(pointCart::CartesianIndex{3}) :: Int16\n",
    "   abs(pointCart[1])+ abs(pointCart[2])+abs(pointCart[3])\n",
    "end\n",
    "\n",
    "\n",
    "\"\"\"\n",
    "point - cartesian coordinates of point around which we want the cartesian coordeinates\n",
    "return set of cartetian coordinates of given distance -patchSize from a point\n",
    "\"\"\"\n",
    "function cartesianCoordAroundPoint(pointCart::CartesianIndex{3}, patchSize ::Int)\n",
    "ones = CartesianIndex(patchSize,patchSize,patchSize) # cartesian 3 dimensional index used for calculations to get range of the cartesian indicis to analyze\n",
    "out = Array{CartesianIndex{3}}(UndefInitializer(), 6+2*patchSize^4)\n",
    "index =0\n",
    "for J in (pointCart-ones):(pointCart+ones)\n",
    "  diff = J - pointCart # diffrence between dimensions relative to point of origin\n",
    "    if cartesianTolinear(diff) <= patchSize\n",
    "      index+=1\n",
    "      out[index] = J\n",
    "    end\n",
    "    end\n",
    "return out[1:index]\n",
    "end\n",
    "\n",
    "\n",
    "\"\"\"\n",
    "By iteratively  searching through the mask M array cartesian coordinates of all entries with value 7 will be returned.\n",
    "Important the number 7 is completely arbitrary - and need to agree with the number set in the annotator\n",
    "\"\"\"\n",
    "function getCoordinatesOfMarkings(::Type{ImageNumb}, ::Type{maskNumb}, M, I )  ::Vector{CartesianIndex{3}} where{ImageNumb,maskNumb}\n",
    "    return filter((index)->M[index]>0 ,CartesianIndices(M))\n",
    "end\n",
    "\n",
    "\"\"\"\n",
    "We need to define the patch Ω using getCartesianAroundPoint around each seed point - we will list of coordinates set  \n",
    "markings - calculated  earlier in getCoordinatesOfMarkings  z is the size of the patch - it is one of the hyperparameters\n",
    "return the patch of pixels around each marked point\n",
    "\"\"\"\n",
    "function getPatchAroundMarks(markings ::Vector{CartesianIndex{3}}, z::Int) \n",
    "    return [cartesianCoordAroundPoint(x,z) for x in markings]\n",
    "end    \n",
    "\n",
    "\"\"\"\n",
    "6.Now we apply analogical operation to each point coordinates of each patch  to get set of sets of sets where the nested sub patch will be referred to as Ω_ij\n",
    "markingsPatches is just the output of getPatchAroundMarks \n",
    "z is the size of the patch - it is one of the hyperparameters\n",
    "return nested patches so we have patch around each voxel from primary patch\n",
    "\"\"\"\n",
    "function allNeededCoord(markingsPatches ,z::Int ) ::Vector{Vector{Vector{CartesianIndex{3}}}}\n",
    "    return [getPatchAroundMarks(x,z) for x in markingsPatches]\n",
    "end  \n",
    "\n",
    "\n",
    "\n",
    "\"\"\"\n",
    "We define function that give set of cartesian coordinates  returns the vector where first entry is a sample mean and second one sample standard deviation \n",
    " of values in image I in given coordinates\n",
    " first type is specyfing the type of number in image array second in the output - so we can controll what type of float it would be\n",
    "getSampleMeanAndStd(points,I)\n",
    "\"\"\"\n",
    "function  getSampleMeanAndStd(a ::Type{Numb},b ::Type{myFloat}, coords::Vector{CartesianIndex{3}} , I  ) ::Vector{myFloat} where{Numb, myFloat}\n",
    "\n",
    "  sizz = size(I)  \n",
    "  arr= I[filter(c-> c[1]>0 && c[2]>0 && c[3]>0 \n",
    "                && c[1]<sizz[1]&& c[2]<sizz[2] && c[3]<sizz[3]  ,coords)]\n",
    "                \n",
    "    return [mean(arr), std(arr)]   \n",
    "end\n",
    "\n",
    "\"\"\"\n",
    "Next we reduce each of the sub patch omega using getSampleMeanAndStd function and store result in patchStats\n",
    "calculatePatchStatistics(allNeededCoord,I\n",
    "\"\"\"\n",
    "function calculatePatchStatistics(a ::Type{Numb},b ::Type{myFloat},allNeededCoord ,I )  where{Numb, myFloat}\n",
    "    return [ [getSampleMeanAndStd(a,b, x,I) for x in outer ] for outer in  allNeededCoord]\n",
    "end\n"
   ]
  },
  {
   "cell_type": "markdown",
   "metadata": {},
   "source": [
    "Define Gaussian distributions summarizing data about neighbeirhood of marked points"
   ]
  },
  {
   "cell_type": "code",
   "execution_count": 12,
   "metadata": {},
   "outputs": [
    {
     "data": {
      "text/plain": [
       "176-element Vector{FullNormal}:\n",
       " FullNormal(\n",
       "dim: 2\n",
       "μ: [106.76311208992874, 20.10628948005594]\n",
       "Σ: [2.3041872554091567 -0.5966027837385526; -0.5966027837385526 1.0604046146052486]\n",
       ")\n",
       "\n",
       " FullNormal(\n",
       "dim: 2\n",
       "μ: [106.86646605969048, 20.002243914380937]\n",
       "Σ: [2.1302410368189335 -0.5480924241476786; -0.5480924241476786 0.9996500192496869]\n",
       ")\n",
       "\n",
       " FullNormal(\n",
       "dim: 2\n",
       "μ: [106.3328837363803, 20.078162936317106]\n",
       "Σ: [2.921311239965973 -0.4428620310970046; -0.4428620310970046 1.014610087865536]\n",
       ")\n",
       "\n",
       " FullNormal(\n",
       "dim: 2\n",
       "μ: [106.51030232954999, 19.953495969005278]\n",
       "Σ: [2.649510304057448 -0.3633838610767697; -0.3633838610767697 0.9014882389716421]\n",
       ")\n",
       "\n",
       " FullNormal(\n",
       "dim: 2\n",
       "μ: [106.60746588369234, 19.87732421994066]\n",
       "Σ: [2.4483939734987086 -0.3480080152311247; -0.3480080152311247 0.8265523394343894]\n",
       ")\n",
       "\n",
       " FullNormal(\n",
       "dim: 2\n",
       "μ: [106.60386031243551, 19.84843018017754]\n",
       "Σ: [2.4388113129481197 -0.43738312795675055; -0.43738312795675055 0.8447396673398961]\n",
       ")\n",
       "\n",
       " FullNormal(\n",
       "dim: 2\n",
       "μ: [105.81925682260209, 20.053169774837425]\n",
       "Σ: [3.3499967795566175 -0.38223688351674034; -0.38223688351674034 1.0209704378430615]\n",
       ")\n",
       "\n",
       " FullNormal(\n",
       "dim: 2\n",
       "μ: [106.03824381009728, 19.908509035785944]\n",
       "Σ: [3.292268229276398 -0.27867127839256156; -0.27867127839256156 0.8897242718895725]\n",
       ")\n",
       "\n",
       " FullNormal(\n",
       "dim: 2\n",
       "μ: [106.21598020006343, 19.808288981791446]\n",
       "Σ: [3.075071825930434 -0.22579014309055195; -0.22579014309055195 0.7626713393201912]\n",
       ")\n",
       "\n",
       " FullNormal(\n",
       "dim: 2\n",
       "μ: [106.32029442025834, 19.756155959698333]\n",
       "Σ: [2.8760259722022474 -0.2426057228095219; -0.2426057228095219 0.6941345577986384]\n",
       ")\n",
       "\n",
       " ⋮\n",
       " FullNormal(\n",
       "dim: 2\n",
       "μ: [93.00067610013672, 32.72801115074936]\n",
       "Σ: [314.52375138398935 -271.1862476536458; -271.1862476536458 249.20023313706386]\n",
       ")\n",
       "\n",
       " FullNormal(\n",
       "dim: 2\n",
       "μ: [97.5959111370531, 28.61023548442204]\n",
       "Σ: [172.30626786856394 -160.61949163412103; -160.61949163412103 157.56520516064035]\n",
       ")\n",
       "\n",
       " FullNormal(\n",
       "dim: 2\n",
       "μ: [100.91804884948364, 25.498006229927274]\n",
       "Σ: [88.82585277723501 -85.7003979767621; -85.7003979767621 87.73198535823174]\n",
       ")\n",
       "\n",
       " FullNormal(\n",
       "dim: 2\n",
       "μ: [74.72523854910827, 46.216856000517886]\n",
       "Σ: [1022.174875934125 -614.7985746066174; -614.7985746066174 442.3515731018754]\n",
       ")\n",
       "\n",
       " FullNormal(\n",
       "dim: 2\n",
       "μ: [83.62863956307736, 40.2793486550504]\n",
       "Σ: [671.7942541658739 -473.43376168771715; -473.43376168771715 376.5108006179002]\n",
       ")\n",
       "\n",
       " FullNormal(\n",
       "dim: 2\n",
       "μ: [90.59901874205646, 34.91973824289237]\n",
       "Σ: [410.3580199061946 -328.55253146075165; -328.55253146075165 285.77297107185603]\n",
       ")\n",
       "\n",
       " FullNormal(\n",
       "dim: 2\n",
       "μ: [95.84672120324417, 30.418474385145903]\n",
       "Σ: [233.7374405322052 -206.230786667597; -206.230786667597 193.2055249874131]\n",
       ")\n",
       "\n",
       " FullNormal(\n",
       "dim: 2\n",
       "μ: [80.35171418394647, 42.62045803963065]\n",
       "Σ: [818.2109921924776 -522.8938111905006; -522.8938111905006 391.4081716661525]\n",
       ")\n",
       "\n",
       " FullNormal(\n",
       "dim: 2\n",
       "μ: [88.09229368465144, 37.03924723118007]\n",
       "Σ: [518.6545620012672 -382.7272533643123; -382.7272533643123 314.71002193366854]\n",
       ")\n"
      ]
     },
     "metadata": {},
     "output_type": "display_data"
    }
   ],
   "source": [
    "\n",
    "#we load image from displayed object\n",
    "image= getArrByName(\"image\" ,mainScrollDat)\n",
    "manualModif= getArrByName(\"manualModif\" ,mainScrollDat)\n",
    "manualModifPrim=deepcopy(manualModif)\n",
    "maximum(manualModif) # it should be greater than 0 if you marked anything in array\n",
    "##coordinates of manually set points\n",
    "coordsss= getCoordinatesOfMarkings(eltype(image),eltype(manualModif),  manualModif, image) |>\n",
    "    (seedsCoords) ->getPatchAroundMarks(seedsCoords,z ) |>\n",
    "    (patchCoords) ->allNeededCoord(patchCoords,z )\n",
    "\n",
    "#getting patch statistics - mean and covariance\n",
    "patchStats = calculatePatchStatistics(eltype(image),Float64, coordsss, image)\n",
    "\n",
    "#separate distribution for each marked point\n",
    "distribs = map(patchStat-> fit(MvNormal, reduce(hcat,(patchStat)))  , patchStats  )\n"
   ]
  },
  {
   "cell_type": "markdown",
   "metadata": {},
   "source": [
    "in order to reduce computational complexity  we will reduce the number of used distributions using kl divergence"
   ]
  },
  {
   "cell_type": "code",
   "execution_count": 13,
   "metadata": {},
   "outputs": [
    {
     "name": "stdout",
     "output_type": "stream",
     "text": [
      "  Iters               objv        objv-change | affected \n",
      "-------------------------------------------------------------\n",
      "      0       1.527605e+07\n"
     ]
    },
    {
     "name": "stdout",
     "output_type": "stream",
     "text": [
      "      1       1.097828e+07      -4.297768e+06 |        0\n",
      "      2       1.097828e+07       0.000000e+00 |        0\n",
      "K-means converged with 2 iterations (objv = 1.0978282247322295e7)\n"
     ]
    },
    {
     "data": {
      "text/plain": [
       "5-element Vector{FullNormal}:\n",
       " FullNormal(\n",
       "dim: 2\n",
       "μ: [88.09229368465144, 37.03924723118007]\n",
       "Σ: [518.6545620012672 -382.7272533643123; -382.7272533643123 314.71002193366854]\n",
       ")\n",
       "\n",
       " FullNormal(\n",
       "dim: 2\n",
       "μ: [100.91804884948364, 25.498006229927274]\n",
       "Σ: [88.82585277723501 -85.7003979767621; -85.7003979767621 87.73198535823174]\n",
       ")\n",
       "\n",
       " FullNormal(\n",
       "dim: 2\n",
       "μ: [74.72523854910827, 46.216856000517886]\n",
       "Σ: [1022.174875934125 -614.7985746066174; -614.7985746066174 442.3515731018754]\n",
       ")\n",
       "\n",
       " FullNormal(\n",
       "dim: 2\n",
       "μ: [80.35171418394647, 42.62045803963065]\n",
       "Σ: [818.2109921924776 -522.8938111905006; -522.8938111905006 391.4081716661525]\n",
       ")\n",
       "\n",
       " FullNormal(\n",
       "dim: 2\n",
       "μ: [95.84672120324417, 30.418474385145903]\n",
       "Σ: [233.7374405322052 -206.230786667597; -206.230786667597 193.2055249874131]\n",
       ")\n"
      ]
     },
     "metadata": {},
     "output_type": "display_data"
    }
   ],
   "source": [
    "\n",
    "#we are comparing all distributions \n",
    "klDivs =map(outerDist->    map(dist->kldivergence( outerDist  ,dist), distribs  ), distribs  )\n",
    "klDivsInMatrix = reduce(hcat,(klDivs))\n",
    "#clustering with kmeans\n",
    "R = kmeans(klDivsInMatrix, klusterNumb; maxiter=200, display=:iter)\n",
    "\n",
    "#now identify indexes for some example distributions from each cluster\n",
    "indicies = zeros(Int64,klusterNumb )\n",
    "a = assignments(R) # get the assignments of points to clusters\n",
    "for i in 1:klusterNumb\n",
    "    for j in 1:length(distribs)\n",
    "        if(a[j] == i)\n",
    "            indicies[i]=j\n",
    "        end\n",
    "    end    \n",
    "end\n",
    "indicies\n",
    "\n",
    "#ditributions from diffrent clusters\n",
    "chosenDistribs = map(ind->distribs[ind] ,indicies)"
   ]
  },
  {
   "cell_type": "markdown",
   "metadata": {},
   "source": [
    "## applying  probability distributions to image "
   ]
  },
  {
   "cell_type": "code",
   "execution_count": 14,
   "metadata": {},
   "outputs": [
    {
     "data": {
      "text/plain": [
       "7×5 Matrix{Float64}:\n",
       " -6.70082     -4.89062   -7.44502     -7.21509    -5.77491\n",
       " 88.0923     100.918     74.7252      80.3517     95.8467\n",
       " 37.0392      25.498     46.2169      42.6205     30.4185\n",
       "  0.0187936    0.195695   0.00596295   0.0083569   0.0735117\n",
       "  0.0228553    0.191163   0.00828755   0.0111642   0.0784676\n",
       "  0.0228553    0.191163   0.00828755   0.0111642   0.0784676\n",
       "  0.0309725    0.198135   0.013779     0.0174695   0.0889335"
      ]
     },
     "metadata": {},
     "output_type": "display_data"
    }
   ],
   "source": [
    "\n",
    "### getting constants from distributions\n",
    "\n",
    "\"\"\"\n",
    "calculate log normalization constant from distribution\n",
    "\"\"\"\n",
    "function mvnormal_c0(d::AbstractMvNormal)\n",
    "    ldcd = logdetcov(d)\n",
    "    return - (length(d) * oftype(ldcd, log2π) + ldcd) / 2\n",
    "end\n",
    "\n",
    "\"\"\"\n",
    "get constants needed for applying probability distributions\n",
    " return vector   1) logConst 2) mu1 3) mu2 4) invcov00 5)invcov01 6)invcov10 7)invcov11 \n",
    "\"\"\"\n",
    "function getDistrConstants(exampleDistr)\n",
    "    c0= mvnormal_c0(exampleDistr)\n",
    "    invCov= inv(exampleDistr.Σ)\n",
    "    return [c0,exampleDistr.μ[1],exampleDistr.μ[2],invCov[1,1],invCov[1,2],invCov[2,1],invCov[2,2]  ]\n",
    "end#getDistrConstants\n",
    "\n",
    "\n",
    "# creating matrix from constants\n",
    "allConstants = map(distr-> getDistrConstants(distr)  , chosenDistribs) |>\n",
    "               (vectOfvects)-> reduce(hcat, vectOfvects)\n"
   ]
  },
  {
   "cell_type": "markdown",
   "metadata": {},
   "source": [
    "defining CUDA kernel"
   ]
  },
  {
   "cell_type": "code",
   "execution_count": 15,
   "metadata": {},
   "outputs": [
    {
     "data": {
      "text/plain": [
       "@iterAround"
      ]
     },
     "metadata": {},
     "output_type": "display_data"
    }
   ],
   "source": [
    "\n",
    "\"\"\"\n",
    "utility macro to iterate in given range around given voxel\n",
    "\"\"\"\n",
    "macro iterAround(ex   )\n",
    "    return esc(quote\n",
    "        for xAdd in -r:r\n",
    "            x= (threadIdx().x+ ((blockIdx().x -1)*CUDA.blockDim_x()))+xAdd\n",
    "            if(x>0 && x<=mainArrSize[1])\n",
    "                for yAdd in -r:r\n",
    "                    y= (threadIdx().y+ ((blockIdx().y -1)*CUDA.blockDim_y()))+yAdd\n",
    "                    if(y>0 && y<=mainArrSize[2])\n",
    "                        for zAdd in -r:r\n",
    "                            z= (threadIdx().z+ ((blockIdx().z -1)*CUDA.blockDim_z()))+zAdd\n",
    "                            if(z>0 && z<=mainArrSize[3])\n",
    "                                if((abs(xAdd)+abs(yAdd)+abs(zAdd)) <=r)\n",
    "                                    $ex\n",
    "                                end \n",
    "                            end\n",
    "                        end\n",
    "                    end    \n",
    "                end    \n",
    "            end\n",
    "        end    \n",
    "    end)\n",
    "end\n",
    "      "
   ]
  },
  {
   "cell_type": "code",
   "execution_count": 16,
   "metadata": {},
   "outputs": [
    {
     "data": {
      "text/plain": [
       "(63, 125, 35)"
      ]
     },
     "metadata": {},
     "output_type": "display_data"
    }
   ],
   "source": [
    "\n",
    "\"\"\"\n",
    "con - matrix of precalculated constants\n",
    "image - main image here computer tomography image\n",
    "mainArrSize - dimensions of image\n",
    "output - where we want to save the calculations\n",
    "r - size of the evaluated patch\n",
    "klusterNumb- number of clusters - number of probability distributions we will use\n",
    "\"\"\"\n",
    "function applyGaussKernel(con,image,mainArrSize,output, r::Int,klusterNumb::Int)\n",
    "    for probDist in 1:klusterNumb\n",
    "        summ=0.0\n",
    "        sumCentered=0.0\n",
    "        lenn= UInt8(0)\n",
    "        #get mean\n",
    "        @iterAround begin \n",
    "            lenn=lenn+1\n",
    "            summ+=image[x,y,z]    \n",
    "        end\n",
    "        summ=summ/lenn\n",
    "        #get standard deviation\n",
    "        @iterAround sumCentered+= ((image[x,y,z]-summ )^2)\n",
    "\n",
    "        #here we have standard deviation\n",
    "        sumCentered= sqrt(sumCentered/(lenn-1))\n",
    "        #centering - subtracting means...\n",
    "        summ=summ-con[2,probDist]\n",
    "        sumCentered=sumCentered-con[3,probDist]\n",
    "        #saving output\n",
    "        x= (threadIdx().x+ ((blockIdx().x -1)*CUDA.blockDim_x()))\n",
    "        y= (threadIdx().y+ ((blockIdx().y -1)*CUDA.blockDim_y()))\n",
    "        z= (threadIdx().z+ ((blockIdx().z -1)*CUDA.blockDim_z()))\n",
    "        if(x>0 && x<=mainArrSize[1] && y>0 && y<=mainArrSize[2] &&z>0 && z<=mainArrSize[3] )\n",
    "            output[x,y,z]=  max(exp(con[1,probDist]-( ((summ*con[4,probDist]+sumCentered*con[6,probDist])*summ+(summ*con[5,probDist]+sumCentered*con[7,probDist])*sumCentered)/2 ) ),output[x,y,z]  )\n",
    "        end  \n",
    "    end#for\n",
    "    return\n",
    "end#main kernel\n",
    "\n",
    "mainArrSize= size(image)\n",
    "# for simplicity not using the occupancy API - in production one rather should\n",
    "threads=(8,4,8)\n",
    "blocks = (cld(mainArrSize[1],threads[1]), cld(mainArrSize[2],threads[2])  , cld(mainArrSize[3],threads[3]))\n"
   ]
  },
  {
   "cell_type": "markdown",
   "metadata": {},
   "source": [
    "Executing kernel"
   ]
  },
  {
   "cell_type": "code",
   "execution_count": 17,
   "metadata": {},
   "outputs": [
    {
     "data": {
      "text/plain": [
       "3467.0947f0"
      ]
     },
     "metadata": {},
     "output_type": "display_data"
    }
   ],
   "source": [
    "algoOutput= getArrByName(\"algoOutput\" ,mainScrollDat)\n",
    "mainArrSize= size(image)\n",
    "\n",
    "algoOutputGPU=CuArray(algoOutput)\n",
    "imageGPU=CuArray(image)\n",
    "conGPU = CuArray(allConstants)\n",
    "@cuda threads=threads blocks=blocks applyGaussKernel(conGPU,imageGPU,mainArrSize,algoOutputGPU, 5,klusterNumb)\n",
    "copyto!(algoOutput,algoOutputGPU)\n",
    "sum(algoOutput)# just to check is anything copied\n"
   ]
  },
  {
   "cell_type": "code",
   "execution_count": 18,
   "metadata": {},
   "outputs": [
    {
     "data": {
      "text/plain": [
       "false"
      ]
     },
     "metadata": {},
     "output_type": "display_data"
    }
   ],
   "source": [
    "# copyto!(algoOutput,algoOutputGPU)\n",
    "algoOutputB= getArrByName(\"algoOutput\" ,mainScrollDat)\n",
    "maxEl = maximum(algoOutputGPU)\n",
    "algoOutputB[:,:,:]=algoOutput./maxEl\n",
    "algoOutputGPU=algoOutputGPU./maxEl\n",
    "visualizationFromHdf5.refresh(MedEye3d.SegmentationDisplay.mainActor) "
   ]
  },
  {
   "cell_type": "markdown",
   "metadata": {},
   "source": [
    "copy and divide by max so will be easier to visualize"
   ]
  },
  {
   "cell_type": "markdown",
   "metadata": {},
   "source": [
    "## relaxation labelling"
   ]
  },
  {
   "cell_type": "markdown",
   "metadata": {},
   "source": [
    "Relaxation labelling will be executed using parallel stencil"
   ]
  },
  {
   "cell_type": "code",
   "execution_count": 19,
   "metadata": {},
   "outputs": [
    {
     "data": {
      "text/plain": [
       "2.1718078f6"
      ]
     },
     "metadata": {},
     "output_type": "display_data"
    }
   ],
   "source": [
    "@init_parallel_stencil(CUDA, Float64, 3);\n",
    "\n",
    "\n",
    "#cutoff set manually to rate\n",
    "@parallel_indices (ix,iy,iz) function relaxationLabellKern(In, rate)\n",
    "    # 7-point Neuman stencil\n",
    "    if (ix>1 && iy>1 && iz>1 &&      ix<(size(In,1))&& iy<(size(In,2)) && iz<(size(In,3)))\n",
    "        In[ix,iy,iz] = ( (In[ix-1,iy  ,iz  ] >rate)+\n",
    "                          (In[ix-1,iy  ,iz  ]>rate)+ (In[ix+1,iy  ,iz  ]>rate) +\n",
    "                          (In[ix  ,iy-1,iz  ]>rate) + (In[ix  ,iy+1,iz  ]>rate) +\n",
    "                          (In[ix  ,iy  ,iz-1]>rate) + (In[ix  ,iy  ,iz+1]>rate) )/7.0\n",
    "\n",
    "     \n",
    "    end\n",
    "    return\n",
    "end\n",
    "\n",
    "@views function relaxLabels(In, iterNumb,rate)\n",
    "    # Calculation\n",
    "    for i in 1:iterNumb\n",
    "        innerRate=rate + ((i/iterNumb)/3)\n",
    "        @parallel relaxationLabellKern(In,innerRate)\n",
    "    end#for    \n",
    "    return\n",
    "end\n",
    "\n",
    "#rate=mean(algoOutputB)\n",
    "rate=0.03\n",
    "relaxLabels(algoOutputGPU,4,rate)\n",
    "copyto!(algoOutput,algoOutputGPU)\n",
    "sum(algoOutput)# just to check is anythink copied"
   ]
  },
  {
   "cell_type": "code",
   "execution_count": 20,
   "metadata": {},
   "outputs": [
    {
     "data": {
      "text/plain": [
       "false"
      ]
     },
     "metadata": {},
     "output_type": "display_data"
    }
   ],
   "source": [
    "algoOutputB= getArrByName(\"algoOutput\" ,mainScrollDat)\n",
    "algoOutputB[:,:,:]=algoOutput\n",
    "visualizationFromHdf5.refresh(MedEye3d.SegmentationDisplay.mainActor) \n",
    "\n",
    "\n"
   ]
  },
  {
   "cell_type": "markdown",
   "metadata": {},
   "source": [
    "##  displaying performance metrics"
   ]
  },
  {
   "cell_type": "markdown",
   "metadata": {},
   "source": [
    "tresholding using CUDA.jl"
   ]
  },
  {
   "cell_type": "code",
   "execution_count": 21,
   "metadata": {},
   "outputs": [
    {
     "data": {
      "text/plain": [
       "CUDA.HostKernel{typeof(tresholdingKernel), Tuple{Tuple{Int64, Int64, Int64}, CuDeviceArray{Float32, 3, 1}}}(tresholdingKernel, CuFunction(Ptr{Nothing} @0x00000000366d1520, CuModule(Ptr{Nothing} @0x00007ff6a1035820, CuContext(0x00007ff72f47c240, instance 5a88c8601af47a1a))), CUDA.KernelState(Ptr{Nothing} @0x00007ff665800000))"
      ]
     },
     "metadata": {},
     "output_type": "display_data"
    }
   ],
   "source": [
    "function tresholdingKernel(mainArrSize,output)\n",
    "  \n",
    "    x= (threadIdx().x+ ((blockIdx().x -1)*CUDA.blockDim_x()))\n",
    "    y= (threadIdx().y+ ((blockIdx().y -1)*CUDA.blockDim_y()))\n",
    "    z= (threadIdx().z+ ((blockIdx().z -1)*CUDA.blockDim_z()))\n",
    "    if(x>0 && x<=mainArrSize[1] && y>0 && y<=mainArrSize[2] &&z>0 && z<=mainArrSize[3] )\n",
    "        output[x,y,z]=  (output[x,y,z]>0.5)\n",
    "    end  \n",
    "return\n",
    "end#main kernel\n",
    "\n",
    "# for simplicity not using the occupancy API - in production one rather should\n",
    "threads=(8,8,8)\n",
    "blocks = (cld(mainArrSize[1],threads[1]), cld(mainArrSize[2],threads[2])  , cld(mainArrSize[3],threads[3]))\n",
    "@cuda threads=threads blocks=blocks tresholdingKernel(mainArrSize,algoOutputGPU)"
   ]
  },
  {
   "cell_type": "code",
   "execution_count": 22,
   "metadata": {},
   "outputs": [
    {
     "data": {
      "text/plain": [
       "false"
      ]
     },
     "metadata": {},
     "output_type": "display_data"
    }
   ],
   "source": [
    "algoOutputB= getArrByName(\"algoOutput\" ,mainScrollDat)\n",
    "maxEl = maximum(algoOutputGPU)\n",
    "algoOutputB[:,:,:]=algoOutput\n",
    "visualizationFromHdf5.refresh(MedEye3d.SegmentationDisplay.mainActor) "
   ]
  },
  {
   "cell_type": "code",
   "execution_count": 23,
   "metadata": {},
   "outputs": [
    {
     "data": {
      "text/plain": [
       "false"
      ]
     },
     "metadata": {},
     "output_type": "display_data"
    }
   ],
   "source": [
    "conf= ConfigurtationStruct(md=true, dice=true)\n",
    "numberToLookFor = 1.0\n",
    "liverGold= getArrByName(\"labelSet\" ,mainScrollDat)\n",
    "preparedDict=MedEval3D.MainAbstractions.prepareMetrics(conf)\n",
    "calculateAndDisplay(preparedDict,mainScrollDat, conf, numberToLookFor,CuArray(liverGold),algoOutputGPU )\n",
    "\n",
    "\n",
    "# algoOutputB= getArrByName(\"algoOutput\" ,mainScrollDat)\n",
    "# maxEl = maximum(algoOutputGPU)\n",
    "# algoOutputB[:,:,:]=algoOutput./maxEl\n",
    "visualizationFromHdf5.refresh(MedEye3d.SegmentationDisplay.mainActor) \n"
   ]
  },
  {
   "cell_type": "code",
   "execution_count": 21,
   "metadata": {},
   "outputs": [],
   "source": [
    "saveManualModif(fid,patienGroupName , mainScrollDat)\n",
    "\n",
    "close(fid)"
   ]
  },
  {
   "cell_type": "markdown",
   "metadata": {},
   "source": [
    "## Hyperparameter tuning\n",
    "In our simple algorithm we have two parameters rate and steps that are controlling relaxation labelling we can use another usefull Julia library for optimising those hyperparameters"
   ]
  },
  {
   "cell_type": "code",
   "execution_count": 24,
   "metadata": {},
   "outputs": [
    {
     "data": {
      "text/plain": [
       "ResultMetrics\n",
       "  dice: Float64 0.05850797202005041\n",
       "  jaccard: Float64 0.0\n",
       "  gce: Float64 0.0\n",
       "  vol: Float64 0.0\n",
       "  randInd: Float64 0.0\n",
       "  ic: Float64 -1.0\n",
       "  kc: Float64 0.0\n",
       "  mi: Float64 0.0\n",
       "  vi: Float64 0.0\n",
       "  md: Float64 1.7070716619491577\n",
       "  hd: Float64 -1.0\n"
      ]
     },
     "metadata": {},
     "output_type": "display_data"
    }
   ],
   "source": [
    "conf= ConfigurtationStruct(md=true, dice=true)\n",
    "numberToLookFor = 1.0\n",
    "liverGold= getArrByName(\"labelSet\" ,mainScrollDat)\n",
    "CUDAGold=CuArray(liverGold)\n",
    "preparedDict=MedEval3D.MainAbstractions.prepareMetrics(conf)\n",
    "res= calcMetricGlobal(preparedDict,conf,CUDAGold,algoOutputGPU,numberToLookFor)\n",
    "res"
   ]
  },
  {
   "cell_type": "code",
   "execution_count": 25,
   "metadata": {},
   "outputs": [
    {
     "data": {
      "text/plain": [
       "0.681813501107309"
      ]
     },
     "metadata": {},
     "output_type": "display_data"
    }
   ],
   "source": [
    "#manualModifPrim=deepcopy(manualModif)\n",
    "\n",
    "# algoOutput= getArrByName(\"algoOutput\" ,mainScrollDat)\n",
    "\n",
    "# algoOutputGPU=CuArray(algoOutput)\n",
    "rate=0.04\n",
    "steps=5\n",
    "\n",
    "function evaluateOnHyperParams(rate,steps)\n",
    "    @cuda threads=threads blocks=blocks applyGaussKernel(conGPU,imageGPU,mainArrSize,algoOutputGPU, 5,klusterNumb)\n",
    "    maxEl = maximum(algoOutputGPU)\n",
    "    algoOutputGPU[:,:,:]=algoOutputGPU./maxEl\n",
    "    #rate=mean(algoOutputB)\n",
    "    relaxLabels(algoOutputGPU,steps,rate)\n",
    "    @cuda threads=threads blocks=blocks tresholdingKernel(mainArrSize,algoOutputGPU)\n",
    "    res= calcMetricGlobal(preparedDict,conf,CUDAGold,algoOutputGPU,numberToLookFor)\n",
    "    return res.dice\n",
    "end\n",
    "\n",
    "evaluateOnHyperParams(rate,steps)\n"
   ]
  },
  {
   "cell_type": "code",
   "execution_count": 28,
   "metadata": {},
   "outputs": [
    {
     "name": "stderr",
     "output_type": "stream",
     "text": [
      "\r\u001b[32mHyperoptimizing  20%|███████▎                            |  ETA: 0:00:48\u001b[39m\u001b[K"
     ]
    },
    {
     "name": "stderr",
     "output_type": "stream",
     "text": [
      "\r\u001b[32mHyperoptimizing  30%|██████████▊                         |  ETA: 0:00:42\u001b[39m\u001b[K"
     ]
    },
    {
     "name": "stderr",
     "output_type": "stream",
     "text": [
      "\r\u001b[32mHyperoptimizing  40%|██████████████▍                     |  ETA: 0:00:36\u001b[39m\u001b[K"
     ]
    },
    {
     "name": "stderr",
     "output_type": "stream",
     "text": [
      "\r\u001b[32mHyperoptimizing  50%|██████████████████                  |  ETA: 0:00:30\u001b[39m\u001b[K"
     ]
    },
    {
     "name": "stderr",
     "output_type": "stream",
     "text": [
      "\r\u001b[32mHyperoptimizing  60%|█████████████████████▋              |  ETA: 0:00:24\u001b[39m\u001b[K"
     ]
    },
    {
     "name": "stderr",
     "output_type": "stream",
     "text": [
      "\r\u001b[32mHyperoptimizing  70%|█████████████████████████▎          |  ETA: 0:00:18\u001b[39m\u001b[K"
     ]
    },
    {
     "name": "stderr",
     "output_type": "stream",
     "text": [
      "\r\u001b[32mHyperoptimizing  80%|████████████████████████████▊       |  ETA: 0:00:12\u001b[39m\u001b[K"
     ]
    },
    {
     "name": "stderr",
     "output_type": "stream",
     "text": [
      "\r\u001b[32mHyperoptimizing  90%|████████████████████████████████▍   |  ETA: 0:00:06\u001b[39m\u001b[K"
     ]
    },
    {
     "name": "stderr",
     "output_type": "stream",
     "text": [
      "\r\u001b[32mHyperoptimizing 100%|████████████████████████████████████| Time: 0:01:00\u001b[39m\u001b[K\n"
     ]
    },
    {
     "data": {
      "text/plain": [
       "Hyperoptimizer with\n",
       "  1 length: 10\n",
       "  2 length: 10\n",
       "  minimum / maximum: (-0.7234828211597608, -0.09648276985608768)\n",
       "  minimizer:\n",
       "    steps      rate \n",
       "        4   0.01778 "
      ]
     },
     "metadata": {},
     "output_type": "display_data"
    },
    {
     "name": "stdout",
     "output_type": "stream",
     "text": [
      "\n"
     ]
    }
   ],
   "source": [
    "using Hyperopt,Random, Distributed, Statistics\n",
    "\n",
    "\n",
    "hob = @hyperopt for i=10,\n",
    "    sampler=CLHSampler(dims=[ Hyperopt.Categorical(10), Hyperopt.Continuous()]),\n",
    "    steps =[1,2,3,4,5,6,7,8,9,10], rate = LinRange(0.01,0.08,10)\n",
    "    (-1)*evaluateOnHyperParams(rate,steps)\n",
    "end\n",
    "hob\n",
    "\n"
   ]
  },
  {
   "cell_type": "code",
   "execution_count": 29,
   "metadata": {},
   "outputs": [
    {
     "data": {
      "text/plain": [
       "false"
      ]
     },
     "metadata": {},
     "output_type": "display_data"
    }
   ],
   "source": [
    "steps=4\n",
    "rate=0.01778\n",
    "@cuda threads=threads blocks=blocks applyGaussKernel(conGPU,imageGPU,mainArrSize,algoOutputGPU, 5,klusterNumb)\n",
    "maxEl = maximum(algoOutputGPU)\n",
    "algoOutputGPU[:,:,:]=algoOutputGPU./maxEl\n",
    "#rate=mean(algoOutputB)\n",
    "relaxLabels(algoOutputGPU,steps,rate)\n",
    "@cuda threads=threads blocks=blocks tresholdingKernel(mainArrSize,algoOutputGPU)\n",
    "\n",
    "algoOutputB= getArrByName(\"algoOutput\" ,mainScrollDat)\n",
    "maxEl = maximum(algoOutputGPU)\n",
    "algoOutputB[:,:,:]=algoOutput\n",
    "visualizationFromHdf5.refresh(MedEye3d.SegmentationDisplay.mainActor) \n"
   ]
  },
  {
   "cell_type": "code",
   "execution_count": 30,
   "metadata": {},
   "outputs": [
    {
     "data": {
      "image/png": "[encoded data removed]",
      "image/svg+xml": "<?xml version=\"1.0\" encoding=\"utf-8\"?>\n<svg xmlns=\"http://www.w3.org/2000/svg\" xmlns:xlink=\"http://www.w3.org/1999/xlink\" width=\"600\" height=\"400\" viewBox=\"0 0 2400 1600\">\n<defs>\n  <clipPath id=\"clip920\">\n    <rect x=\"0\" y=\"0\" width=\"2400\" height=\"1600\"/>\n  </clipPath>\n</defs>\n<path clip-path=\"url(#clip920)\" d=\"\nM0 1600 L2400 1600 L2400 0 L0 0  Z\n  \" fill=\"#ffffff\" fill-rule=\"evenodd\" fill-opacity=\"1\"/>\n<defs>\n  <clipPath id=\"clip921\">\n    <rect x=\"480\" y=\"0\" width=\"1681\" height=\"1600\"/>\n  </clipPath>\n</defs>\n<path clip-path=\"url(#clip920)\" d=\"\nM257.69 1423.18 L1152.76 1423.18 L1152.76 47.2441 L257.69 47.2441  Z\n  \" fill=\"#ffffff\" fill-rule=\"evenodd\" fill-opacity=\"1\"/>\n<defs>\n  <clipPath id=\"clip922\">\n    <rect x=\"257\" y=\"47\" width=\"896\" height=\"1377\"/>\n  </clipPath>\n</defs>\n<polyline clip-path=\"url(#clip922)\" style=\"stroke:#000000; stroke-linecap:butt; stroke-linejoin:round; stroke-width:2; stroke-opacity:0.1; fill:none\" points=\"\n  376.845,1423.18 376.845,47.2441 \n  \"/>\n<polyline clip-path=\"url(#clip922)\" style=\"stroke:#000000; stroke-linecap:butt; stroke-linejoin:round; stroke-width:2; stroke-opacity:0.1; fill:none\" points=\"\n  564.489,1423.18 564.489,47.2441 \n  \"/>\n<polyline clip-path=\"url(#clip922)\" style=\"stroke:#000000; stroke-linecap:butt; stroke-linejoin:round; stroke-width:2; stroke-opacity:0.1; fill:none\" points=\"\n  752.134,1423.18 752.134,47.2441 \n  \"/>\n<polyline clip-path=\"url(#clip922)\" style=\"stroke:#000000; stroke-linecap:butt; stroke-linejoin:round; stroke-width:2; stroke-opacity:0.1; fill:none\" points=\"\n  939.779,1423.18 939.779,47.2441 \n  \"/>\n<polyline clip-path=\"url(#clip922)\" style=\"stroke:#000000; stroke-linecap:butt; stroke-linejoin:round; stroke-width:2; stroke-opacity:0.1; fill:none\" points=\"\n  1127.42,1423.18 1127.42,47.2441 \n  \"/>\n<polyline clip-path=\"url(#clip920)\" style=\"stroke:#000000; stroke-linecap:butt; stroke-linejoin:round; stroke-width:4; stroke-opacity:1; fill:none\" points=\"\n  257.69,1423.18 1152.76,1423.18 \n  \"/>\n<polyline clip-path=\"url(#clip920)\" style=\"stroke:#000000; stroke-linecap:butt; stroke-linejoin:round; stroke-width:4; stroke-opacity:1; fill:none\" points=\"\n  376.845,1423.18 376.845,1404.28 \n  \"/>\n<polyline clip-path=\"url(#clip920)\" style=\"stroke:#000000; stroke-linecap:butt; stroke-linejoin:round; stroke-width:4; stroke-opacity:1; fill:none\" points=\"\n  564.489,1423.18 564.489,1404.28 \n  \"/>\n<polyline clip-path=\"url(#clip920)\" style=\"stroke:#000000; stroke-linecap:butt; stroke-linejoin:round; stroke-width:4; stroke-opacity:1; fill:none\" points=\"\n  752.134,1423.18 752.134,1404.28 \n  \"/>\n<polyline clip-path=\"url(#clip920)\" style=\"stroke:#000000; stroke-linecap:butt; stroke-linejoin:round; stroke-width:4; stroke-opacity:1; fill:none\" points=\"\n  939.779,1423.18 939.779,1404.28 \n  \"/>\n<polyline clip-path=\"url(#clip920)\" style=\"stroke:#000000; stroke-linecap:butt; stroke-linejoin:round; stroke-width:4; stroke-opacity:1; fill:none\" points=\"\n  1127.42,1423.18 1127.42,1404.28 \n  \"/>\n<path clip-path=\"url(#clip920)\" d=\"M371.497 1481.64 L387.817 1481.64 L387.817 1485.58 L365.872 1485.58 L365.872 1481.64 Q368.534 1478.89 373.118 1474.26 Q377.724 1469.61 378.905 1468.27 Q381.15 1465.74 382.03 1464.01 Q382.933 1462.25 382.933 1460.56 Q382.933 1457.8 380.988 1456.07 Q379.067 1454.33 375.965 1454.33 Q373.766 1454.33 371.312 1455.09 Q368.882 1455.86 366.104 1457.41 L366.104 1452.69 Q368.928 1451.55 371.382 1450.97 Q373.835 1450.39 375.872 1450.39 Q381.243 1450.39 384.437 1453.08 Q387.632 1455.77 387.632 1460.26 Q387.632 1462.39 386.821 1464.31 Q386.034 1466.2 383.928 1468.8 Q383.349 1469.47 380.247 1472.69 Q377.146 1475.88 371.497 1481.64 Z\" fill=\"#000000\" fill-rule=\"evenodd\" fill-opacity=\"1\" /><path clip-path=\"url(#clip920)\" d=\"M567.499 1455.09 L555.693 1473.54 L567.499 1473.54 L567.499 1455.09 M566.272 1451.02 L572.151 1451.02 L572.151 1473.54 L577.082 1473.54 L577.082 1477.43 L572.151 1477.43 L572.151 1485.58 L567.499 1485.58 L567.499 1477.43 L551.897 1477.43 L551.897 1472.92 L566.272 1451.02 Z\" fill=\"#000000\" fill-rule=\"evenodd\" fill-opacity=\"1\" /><path clip-path=\"url(#clip920)\" d=\"M752.539 1466.44 Q749.391 1466.44 747.539 1468.59 Q745.711 1470.74 745.711 1474.49 Q745.711 1478.22 747.539 1480.39 Q749.391 1482.55 752.539 1482.55 Q755.687 1482.55 757.516 1480.39 Q759.368 1478.22 759.368 1474.49 Q759.368 1470.74 757.516 1468.59 Q755.687 1466.44 752.539 1466.44 M761.822 1451.78 L761.822 1456.04 Q760.062 1455.21 758.257 1454.77 Q756.474 1454.33 754.715 1454.33 Q750.086 1454.33 747.632 1457.45 Q745.201 1460.58 744.854 1466.9 Q746.22 1464.89 748.28 1463.82 Q750.34 1462.73 752.817 1462.73 Q758.025 1462.73 761.035 1465.9 Q764.067 1469.05 764.067 1474.49 Q764.067 1479.82 760.919 1483.03 Q757.771 1486.25 752.539 1486.25 Q746.544 1486.25 743.373 1481.67 Q740.201 1477.06 740.201 1468.33 Q740.201 1460.14 744.09 1455.28 Q747.979 1450.39 754.53 1450.39 Q756.289 1450.39 758.072 1450.74 Q759.877 1451.09 761.822 1451.78 Z\" fill=\"#000000\" fill-rule=\"evenodd\" fill-opacity=\"1\" /><path clip-path=\"url(#clip920)\" d=\"M939.779 1469.17 Q936.446 1469.17 934.524 1470.95 Q932.626 1472.73 932.626 1475.86 Q932.626 1478.98 934.524 1480.77 Q936.446 1482.55 939.779 1482.55 Q943.112 1482.55 945.034 1480.77 Q946.955 1478.96 946.955 1475.86 Q946.955 1472.73 945.034 1470.95 Q943.136 1469.17 939.779 1469.17 M935.103 1467.18 Q932.094 1466.44 930.404 1464.38 Q928.737 1462.32 928.737 1459.35 Q928.737 1455.21 931.677 1452.8 Q934.64 1450.39 939.779 1450.39 Q944.941 1450.39 947.881 1452.8 Q950.821 1455.21 950.821 1459.35 Q950.821 1462.32 949.131 1464.38 Q947.464 1466.44 944.478 1467.18 Q947.858 1467.96 949.733 1470.26 Q951.631 1472.55 951.631 1475.86 Q951.631 1480.88 948.552 1483.57 Q945.497 1486.25 939.779 1486.25 Q934.061 1486.25 930.983 1483.57 Q927.927 1480.88 927.927 1475.86 Q927.927 1472.55 929.825 1470.26 Q931.724 1467.96 935.103 1467.18 M933.39 1459.79 Q933.39 1462.48 935.057 1463.98 Q936.747 1465.49 939.779 1465.49 Q942.788 1465.49 944.478 1463.98 Q946.191 1462.48 946.191 1459.79 Q946.191 1457.11 944.478 1455.6 Q942.788 1454.1 939.779 1454.1 Q936.747 1454.1 935.057 1455.6 Q933.39 1457.11 933.39 1459.79 Z\" fill=\"#000000\" fill-rule=\"evenodd\" fill-opacity=\"1\" /><path clip-path=\"url(#clip920)\" d=\"M1102.11 1481.64 L1109.75 1481.64 L1109.75 1455.28 L1101.44 1456.95 L1101.44 1452.69 L1109.7 1451.02 L1114.38 1451.02 L1114.38 1481.64 L1122.02 1481.64 L1122.02 1485.58 L1102.11 1485.58 L1102.11 1481.64 Z\" fill=\"#000000\" fill-rule=\"evenodd\" fill-opacity=\"1\" /><path clip-path=\"url(#clip920)\" d=\"M1141.46 1454.1 Q1137.85 1454.1 1136.02 1457.66 Q1134.22 1461.2 1134.22 1468.33 Q1134.22 1475.44 1136.02 1479.01 Q1137.85 1482.55 1141.46 1482.55 Q1145.1 1482.55 1146.9 1479.01 Q1148.73 1475.44 1148.73 1468.33 Q1148.73 1461.2 1146.9 1457.66 Q1145.1 1454.1 1141.46 1454.1 M1141.46 1450.39 Q1147.27 1450.39 1150.33 1455 Q1153.41 1459.58 1153.41 1468.33 Q1153.41 1477.06 1150.33 1481.67 Q1147.27 1486.25 1141.46 1486.25 Q1135.65 1486.25 1132.57 1481.67 Q1129.52 1477.06 1129.52 1468.33 Q1129.52 1459.58 1132.57 1455 Q1135.65 1450.39 1141.46 1450.39 Z\" fill=\"#000000\" fill-rule=\"evenodd\" fill-opacity=\"1\" /><path clip-path=\"url(#clip920)\" d=\"M646.436 1533.45 L646.436 1538.98 Q643.953 1537.71 641.279 1537.07 Q638.606 1536.44 635.741 1536.44 Q631.381 1536.44 629.185 1537.77 Q627.02 1539.11 627.02 1541.79 Q627.02 1543.82 628.58 1545 Q630.14 1546.15 634.85 1547.2 L636.855 1547.64 Q643.094 1548.98 645.704 1551.43 Q648.345 1553.85 648.345 1558.21 Q648.345 1563.17 644.399 1566.07 Q640.484 1568.97 633.609 1568.97 Q630.744 1568.97 627.625 1568.39 Q624.538 1567.85 621.1 1566.74 L621.1 1560.69 Q624.347 1562.38 627.498 1563.24 Q630.649 1564.07 633.736 1564.07 Q637.874 1564.07 640.102 1562.66 Q642.33 1561.23 642.33 1558.65 Q642.33 1556.27 640.707 1554.99 Q639.115 1553.72 633.672 1552.54 L631.635 1552.07 Q626.193 1550.92 623.774 1548.56 Q621.355 1546.18 621.355 1542.04 Q621.355 1537.01 624.92 1534.27 Q628.484 1531.54 635.041 1531.54 Q638.288 1531.54 641.152 1532.01 Q644.017 1532.49 646.436 1533.45 Z\" fill=\"#000000\" fill-rule=\"evenodd\" fill-opacity=\"1\" /><path clip-path=\"url(#clip920)\" d=\"M663.464 1522.27 L663.464 1532.4 L675.527 1532.4 L675.527 1536.95 L663.464 1536.95 L663.464 1556.3 Q663.464 1560.66 664.642 1561.9 Q665.851 1563.14 669.511 1563.14 L675.527 1563.14 L675.527 1568.04 L669.511 1568.04 Q662.732 1568.04 660.154 1565.53 Q657.576 1562.98 657.576 1556.3 L657.576 1536.95 L653.279 1536.95 L653.279 1532.4 L657.576 1532.4 L657.576 1522.27 L663.464 1522.27 Z\" fill=\"#000000\" fill-rule=\"evenodd\" fill-opacity=\"1\" /><path clip-path=\"url(#clip920)\" d=\"M713.721 1548.76 L713.721 1551.62 L686.794 1551.62 Q687.176 1557.67 690.423 1560.85 Q693.701 1564 699.526 1564 Q702.9 1564 706.051 1563.17 Q709.233 1562.35 712.353 1560.69 L712.353 1566.23 Q709.202 1567.57 705.891 1568.27 Q702.581 1568.97 699.176 1568.97 Q690.646 1568.97 685.648 1564 Q680.683 1559.04 680.683 1550.57 Q680.683 1541.82 685.394 1536.69 Q690.136 1531.54 698.157 1531.54 Q705.35 1531.54 709.52 1536.18 Q713.721 1540.8 713.721 1548.76 M707.865 1547.04 Q707.801 1542.23 705.159 1539.37 Q702.549 1536.5 698.221 1536.5 Q693.319 1536.5 690.359 1539.27 Q687.431 1542.04 686.985 1547.07 L707.865 1547.04 Z\" fill=\"#000000\" fill-rule=\"evenodd\" fill-opacity=\"1\" /><path clip-path=\"url(#clip920)\" d=\"M728.999 1562.7 L728.999 1581.6 L723.111 1581.6 L723.111 1532.4 L728.999 1532.4 L728.999 1537.81 Q730.845 1534.62 733.646 1533.1 Q736.479 1531.54 740.394 1531.54 Q746.887 1531.54 750.929 1536.69 Q755.003 1541.85 755.003 1550.25 Q755.003 1558.65 750.929 1563.81 Q746.887 1568.97 740.394 1568.97 Q736.479 1568.97 733.646 1567.44 Q730.845 1565.88 728.999 1562.7 M748.924 1550.25 Q748.924 1543.79 746.25 1540.13 Q743.608 1536.44 738.961 1536.44 Q734.314 1536.44 731.641 1540.13 Q728.999 1543.79 728.999 1550.25 Q728.999 1556.71 731.641 1560.4 Q734.314 1564.07 738.961 1564.07 Q743.608 1564.07 746.25 1560.4 Q748.924 1556.71 748.924 1550.25 Z\" fill=\"#000000\" fill-rule=\"evenodd\" fill-opacity=\"1\" /><path clip-path=\"url(#clip920)\" d=\"M787.436 1533.45 L787.436 1538.98 Q784.953 1537.71 782.28 1537.07 Q779.606 1536.44 776.742 1536.44 Q772.381 1536.44 770.185 1537.77 Q768.021 1539.11 768.021 1541.79 Q768.021 1543.82 769.58 1545 Q771.14 1546.15 775.851 1547.2 L777.856 1547.64 Q784.094 1548.98 786.704 1551.43 Q789.346 1553.85 789.346 1558.21 Q789.346 1563.17 785.399 1566.07 Q781.484 1568.97 774.609 1568.97 Q771.745 1568.97 768.625 1568.39 Q765.538 1567.85 762.101 1566.74 L762.101 1560.69 Q765.347 1562.38 768.498 1563.24 Q771.649 1564.07 774.737 1564.07 Q778.874 1564.07 781.102 1562.66 Q783.33 1561.23 783.33 1558.65 Q783.33 1556.27 781.707 1554.99 Q780.116 1553.72 774.673 1552.54 L772.636 1552.07 Q767.193 1550.92 764.774 1548.56 Q762.355 1546.18 762.355 1542.04 Q762.355 1537.01 765.92 1534.27 Q769.485 1531.54 776.042 1531.54 Q779.288 1531.54 782.153 1532.01 Q785.017 1532.49 787.436 1533.45 Z\" fill=\"#000000\" fill-rule=\"evenodd\" fill-opacity=\"1\" /><polyline clip-path=\"url(#clip922)\" style=\"stroke:#000000; stroke-linecap:butt; stroke-linejoin:round; stroke-width:2; stroke-opacity:0.1; fill:none\" points=\"\n  257.69,1335.62 1152.76,1335.62 \n  \"/>\n<polyline clip-path=\"url(#clip922)\" style=\"stroke:#000000; stroke-linecap:butt; stroke-linejoin:round; stroke-width:2; stroke-opacity:0.1; fill:none\" points=\"\n  257.69,1128.6 1152.76,1128.6 \n  \"/>\n<polyline clip-path=\"url(#clip922)\" style=\"stroke:#000000; stroke-linecap:butt; stroke-linejoin:round; stroke-width:2; stroke-opacity:0.1; fill:none\" points=\"\n  257.69,921.571 1152.76,921.571 \n  \"/>\n<polyline clip-path=\"url(#clip922)\" style=\"stroke:#000000; stroke-linecap:butt; stroke-linejoin:round; stroke-width:2; stroke-opacity:0.1; fill:none\" points=\"\n  257.69,714.545 1152.76,714.545 \n  \"/>\n<polyline clip-path=\"url(#clip922)\" style=\"stroke:#000000; stroke-linecap:butt; stroke-linejoin:round; stroke-width:2; stroke-opacity:0.1; fill:none\" points=\"\n  257.69,507.519 1152.76,507.519 \n  \"/>\n<polyline clip-path=\"url(#clip922)\" style=\"stroke:#000000; stroke-linecap:butt; stroke-linejoin:round; stroke-width:2; stroke-opacity:0.1; fill:none\" points=\"\n  257.69,300.493 1152.76,300.493 \n  \"/>\n<polyline clip-path=\"url(#clip922)\" style=\"stroke:#000000; stroke-linecap:butt; stroke-linejoin:round; stroke-width:2; stroke-opacity:0.1; fill:none\" points=\"\n  257.69,93.4673 1152.76,93.4673 \n  \"/>\n<polyline clip-path=\"url(#clip920)\" style=\"stroke:#000000; stroke-linecap:butt; stroke-linejoin:round; stroke-width:4; stroke-opacity:1; fill:none\" points=\"\n  257.69,1423.18 257.69,47.2441 \n  \"/>\n<polyline clip-path=\"url(#clip920)\" style=\"stroke:#000000; stroke-linecap:butt; stroke-linejoin:round; stroke-width:4; stroke-opacity:1; fill:none\" points=\"\n  257.69,1335.62 276.588,1335.62 \n  \"/>\n<polyline clip-path=\"url(#clip920)\" style=\"stroke:#000000; stroke-linecap:butt; stroke-linejoin:round; stroke-width:4; stroke-opacity:1; fill:none\" points=\"\n  257.69,1128.6 276.588,1128.6 \n  \"/>\n<polyline clip-path=\"url(#clip920)\" style=\"stroke:#000000; stroke-linecap:butt; stroke-linejoin:round; stroke-width:4; stroke-opacity:1; fill:none\" points=\"\n  257.69,921.571 276.588,921.571 \n  \"/>\n<polyline clip-path=\"url(#clip920)\" style=\"stroke:#000000; stroke-linecap:butt; stroke-linejoin:round; stroke-width:4; stroke-opacity:1; fill:none\" points=\"\n  257.69,714.545 276.588,714.545 \n  \"/>\n<polyline clip-path=\"url(#clip920)\" style=\"stroke:#000000; stroke-linecap:butt; stroke-linejoin:round; stroke-width:4; stroke-opacity:1; fill:none\" points=\"\n  257.69,507.519 276.588,507.519 \n  \"/>\n<polyline clip-path=\"url(#clip920)\" style=\"stroke:#000000; stroke-linecap:butt; stroke-linejoin:round; stroke-width:4; stroke-opacity:1; fill:none\" points=\"\n  257.69,300.493 276.588,300.493 \n  \"/>\n<polyline clip-path=\"url(#clip920)\" style=\"stroke:#000000; stroke-linecap:butt; stroke-linejoin:round; stroke-width:4; stroke-opacity:1; fill:none\" points=\"\n  257.69,93.4673 276.588,93.4673 \n  \"/>\n<path clip-path=\"url(#clip920)\" d=\"M115.649 1336.07 L145.325 1336.07 L145.325 1340.01 L115.649 1340.01 L115.649 1336.07 Z\" fill=\"#000000\" fill-rule=\"evenodd\" fill-opacity=\"1\" /><path clip-path=\"url(#clip920)\" d=\"M165.417 1321.42 Q161.806 1321.42 159.978 1324.99 Q158.172 1328.53 158.172 1335.66 Q158.172 1342.76 159.978 1346.33 Q161.806 1349.87 165.417 1349.87 Q169.052 1349.87 170.857 1346.33 Q172.686 1342.76 172.686 1335.66 Q172.686 1328.53 170.857 1324.99 Q169.052 1321.42 165.417 1321.42 M165.417 1317.72 Q171.227 1317.72 174.283 1322.32 Q177.362 1326.91 177.362 1335.66 Q177.362 1344.38 174.283 1348.99 Q171.227 1353.57 165.417 1353.57 Q159.607 1353.57 156.528 1348.99 Q153.473 1344.38 153.473 1335.66 Q153.473 1326.91 156.528 1322.32 Q159.607 1317.72 165.417 1317.72 Z\" fill=\"#000000\" fill-rule=\"evenodd\" fill-opacity=\"1\" /><path clip-path=\"url(#clip920)\" d=\"M185.579 1347.02 L190.463 1347.02 L190.463 1352.9 L185.579 1352.9 L185.579 1347.02 Z\" fill=\"#000000\" fill-rule=\"evenodd\" fill-opacity=\"1\" /><path clip-path=\"url(#clip920)\" d=\"M199.468 1318.34 L221.69 1318.34 L221.69 1320.33 L209.144 1352.9 L204.26 1352.9 L216.065 1322.28 L199.468 1322.28 L199.468 1318.34 Z\" fill=\"#000000\" fill-rule=\"evenodd\" fill-opacity=\"1\" /><path clip-path=\"url(#clip920)\" d=\"M114.584 1129.05 L144.26 1129.05 L144.26 1132.98 L114.584 1132.98 L114.584 1129.05 Z\" fill=\"#000000\" fill-rule=\"evenodd\" fill-opacity=\"1\" /><path clip-path=\"url(#clip920)\" d=\"M164.352 1114.4 Q160.741 1114.4 158.913 1117.96 Q157.107 1121.5 157.107 1128.63 Q157.107 1135.74 158.913 1139.3 Q160.741 1142.84 164.352 1142.84 Q167.987 1142.84 169.792 1139.3 Q171.621 1135.74 171.621 1128.63 Q171.621 1121.5 169.792 1117.96 Q167.987 1114.4 164.352 1114.4 M164.352 1110.69 Q170.163 1110.69 173.218 1115.3 Q176.297 1119.88 176.297 1128.63 Q176.297 1137.36 173.218 1141.96 Q170.163 1146.55 164.352 1146.55 Q158.542 1146.55 155.464 1141.96 Q152.408 1137.36 152.408 1128.63 Q152.408 1119.88 155.464 1115.3 Q158.542 1110.69 164.352 1110.69 Z\" fill=\"#000000\" fill-rule=\"evenodd\" fill-opacity=\"1\" /><path clip-path=\"url(#clip920)\" d=\"M184.514 1140 L189.399 1140 L189.399 1145.88 L184.514 1145.88 L184.514 1140 Z\" fill=\"#000000\" fill-rule=\"evenodd\" fill-opacity=\"1\" /><path clip-path=\"url(#clip920)\" d=\"M210.162 1126.73 Q207.014 1126.73 205.162 1128.89 Q203.334 1131.04 203.334 1134.79 Q203.334 1138.52 205.162 1140.69 Q207.014 1142.84 210.162 1142.84 Q213.311 1142.84 215.139 1140.69 Q216.991 1138.52 216.991 1134.79 Q216.991 1131.04 215.139 1128.89 Q213.311 1126.73 210.162 1126.73 M219.445 1112.08 L219.445 1116.34 Q217.686 1115.51 215.88 1115.07 Q214.098 1114.63 212.338 1114.63 Q207.709 1114.63 205.255 1117.75 Q202.824 1120.88 202.477 1127.2 Q203.843 1125.18 205.903 1124.12 Q207.963 1123.03 210.44 1123.03 Q215.649 1123.03 218.658 1126.2 Q221.69 1129.35 221.69 1134.79 Q221.69 1140.11 218.542 1143.33 Q215.394 1146.55 210.162 1146.55 Q204.167 1146.55 200.996 1141.96 Q197.825 1137.36 197.825 1128.63 Q197.825 1120.44 201.713 1115.58 Q205.602 1110.69 212.153 1110.69 Q213.912 1110.69 215.695 1111.04 Q217.5 1111.39 219.445 1112.08 Z\" fill=\"#000000\" fill-rule=\"evenodd\" fill-opacity=\"1\" /><path clip-path=\"url(#clip920)\" d=\"M115.742 922.022 L145.417 922.022 L145.417 925.957 L115.742 925.957 L115.742 922.022 Z\" fill=\"#000000\" fill-rule=\"evenodd\" fill-opacity=\"1\" /><path clip-path=\"url(#clip920)\" d=\"M165.51 907.37 Q161.899 907.37 160.07 910.934 Q158.265 914.476 158.265 921.606 Q158.265 928.712 160.07 932.277 Q161.899 935.819 165.51 935.819 Q169.144 935.819 170.95 932.277 Q172.778 928.712 172.778 921.606 Q172.778 914.476 170.95 910.934 Q169.144 907.37 165.51 907.37 M165.51 903.666 Q171.32 903.666 174.376 908.272 Q177.454 912.856 177.454 921.606 Q177.454 930.332 174.376 934.939 Q171.32 939.522 165.51 939.522 Q159.7 939.522 156.621 934.939 Q153.566 930.332 153.566 921.606 Q153.566 912.856 156.621 908.272 Q159.7 903.666 165.51 903.666 Z\" fill=\"#000000\" fill-rule=\"evenodd\" fill-opacity=\"1\" /><path clip-path=\"url(#clip920)\" d=\"M185.672 932.971 L190.556 932.971 L190.556 938.851 L185.672 938.851 L185.672 932.971 Z\" fill=\"#000000\" fill-rule=\"evenodd\" fill-opacity=\"1\" /><path clip-path=\"url(#clip920)\" d=\"M200.787 904.291 L219.144 904.291 L219.144 908.226 L205.07 908.226 L205.07 916.698 Q206.088 916.351 207.107 916.189 Q208.125 916.004 209.144 916.004 Q214.931 916.004 218.311 919.175 Q221.69 922.346 221.69 927.763 Q221.69 933.342 218.218 936.444 Q214.746 939.522 208.426 939.522 Q206.25 939.522 203.982 939.152 Q201.737 938.781 199.329 938.041 L199.329 933.342 Q201.412 934.476 203.635 935.031 Q205.857 935.587 208.334 935.587 Q212.338 935.587 214.676 933.481 Q217.014 931.374 217.014 927.763 Q217.014 924.152 214.676 922.045 Q212.338 919.939 208.334 919.939 Q206.459 919.939 204.584 920.356 Q202.732 920.772 200.787 921.652 L200.787 904.291 Z\" fill=\"#000000\" fill-rule=\"evenodd\" fill-opacity=\"1\" /><path clip-path=\"url(#clip920)\" d=\"M114.26 714.996 L143.936 714.996 L143.936 718.932 L114.26 718.932 L114.26 714.996 Z\" fill=\"#000000\" fill-rule=\"evenodd\" fill-opacity=\"1\" /><path clip-path=\"url(#clip920)\" d=\"M164.028 700.344 Q160.417 700.344 158.589 703.908 Q156.783 707.45 156.783 714.58 Q156.783 721.686 158.589 725.251 Q160.417 728.793 164.028 728.793 Q167.663 728.793 169.468 725.251 Q171.297 721.686 171.297 714.58 Q171.297 707.45 169.468 703.908 Q167.663 700.344 164.028 700.344 M164.028 696.64 Q169.839 696.64 172.894 701.246 Q175.973 705.83 175.973 714.58 Q175.973 723.307 172.894 727.913 Q169.839 732.496 164.028 732.496 Q158.218 732.496 155.14 727.913 Q152.084 723.307 152.084 714.58 Q152.084 705.83 155.14 701.246 Q158.218 696.64 164.028 696.64 Z\" fill=\"#000000\" fill-rule=\"evenodd\" fill-opacity=\"1\" /><path clip-path=\"url(#clip920)\" d=\"M184.19 725.945 L189.075 725.945 L189.075 731.825 L184.19 731.825 L184.19 725.945 Z\" fill=\"#000000\" fill-rule=\"evenodd\" fill-opacity=\"1\" /><path clip-path=\"url(#clip920)\" d=\"M212.107 701.339 L200.301 719.788 L212.107 719.788 L212.107 701.339 M210.88 697.265 L216.76 697.265 L216.76 719.788 L221.69 719.788 L221.69 723.677 L216.76 723.677 L216.76 731.825 L212.107 731.825 L212.107 723.677 L196.505 723.677 L196.505 719.163 L210.88 697.265 Z\" fill=\"#000000\" fill-rule=\"evenodd\" fill-opacity=\"1\" /><path clip-path=\"url(#clip920)\" d=\"M115.394 507.97 L145.07 507.97 L145.07 511.906 L115.394 511.906 L115.394 507.97 Z\" fill=\"#000000\" fill-rule=\"evenodd\" fill-opacity=\"1\" /><path clip-path=\"url(#clip920)\" d=\"M165.163 493.318 Q161.552 493.318 159.723 496.883 Q157.917 500.424 157.917 507.554 Q157.917 514.66 159.723 518.225 Q161.552 521.767 165.163 521.767 Q168.797 521.767 170.602 518.225 Q172.431 514.66 172.431 507.554 Q172.431 500.424 170.602 496.883 Q168.797 493.318 165.163 493.318 M165.163 489.614 Q170.973 489.614 174.028 494.221 Q177.107 498.804 177.107 507.554 Q177.107 516.281 174.028 520.887 Q170.973 525.47 165.163 525.47 Q159.353 525.47 156.274 520.887 Q153.218 516.281 153.218 507.554 Q153.218 498.804 156.274 494.221 Q159.353 489.614 165.163 489.614 Z\" fill=\"#000000\" fill-rule=\"evenodd\" fill-opacity=\"1\" /><path clip-path=\"url(#clip920)\" d=\"M185.325 518.919 L190.209 518.919 L190.209 524.799 L185.325 524.799 L185.325 518.919 Z\" fill=\"#000000\" fill-rule=\"evenodd\" fill-opacity=\"1\" /><path clip-path=\"url(#clip920)\" d=\"M214.561 506.165 Q217.917 506.883 219.792 509.151 Q221.69 511.42 221.69 514.753 Q221.69 519.869 218.172 522.669 Q214.653 525.47 208.172 525.47 Q205.996 525.47 203.681 525.031 Q201.389 524.614 198.936 523.757 L198.936 519.244 Q200.88 520.378 203.195 520.957 Q205.51 521.535 208.033 521.535 Q212.431 521.535 214.723 519.799 Q217.037 518.063 217.037 514.753 Q217.037 511.697 214.885 509.984 Q212.755 508.248 208.936 508.248 L204.908 508.248 L204.908 504.406 L209.121 504.406 Q212.57 504.406 214.399 503.04 Q216.227 501.651 216.227 499.058 Q216.227 496.396 214.329 494.984 Q212.454 493.549 208.936 493.549 Q207.014 493.549 204.815 493.966 Q202.616 494.383 199.977 495.262 L199.977 491.096 Q202.639 490.355 204.954 489.984 Q207.292 489.614 209.352 489.614 Q214.676 489.614 217.778 492.045 Q220.88 494.452 220.88 498.572 Q220.88 501.443 219.236 503.433 Q217.593 505.401 214.561 506.165 Z\" fill=\"#000000\" fill-rule=\"evenodd\" fill-opacity=\"1\" /><path clip-path=\"url(#clip920)\" d=\"M116.343 300.945 L146.019 300.945 L146.019 304.88 L116.343 304.88 L116.343 300.945 Z\" fill=\"#000000\" fill-rule=\"evenodd\" fill-opacity=\"1\" /><path clip-path=\"url(#clip920)\" d=\"M166.112 286.292 Q162.501 286.292 160.672 289.857 Q158.866 293.398 158.866 300.528 Q158.866 307.634 160.672 311.199 Q162.501 314.741 166.112 314.741 Q169.746 314.741 171.552 311.199 Q173.38 307.634 173.38 300.528 Q173.38 293.398 171.552 289.857 Q169.746 286.292 166.112 286.292 M166.112 282.588 Q171.922 282.588 174.977 287.195 Q178.056 291.778 178.056 300.528 Q178.056 309.255 174.977 313.861 Q171.922 318.444 166.112 318.444 Q160.302 318.444 157.223 313.861 Q154.167 309.255 154.167 300.528 Q154.167 291.778 157.223 287.195 Q160.302 282.588 166.112 282.588 Z\" fill=\"#000000\" fill-rule=\"evenodd\" fill-opacity=\"1\" /><path clip-path=\"url(#clip920)\" d=\"M186.274 311.894 L191.158 311.894 L191.158 317.773 L186.274 317.773 L186.274 311.894 Z\" fill=\"#000000\" fill-rule=\"evenodd\" fill-opacity=\"1\" /><path clip-path=\"url(#clip920)\" d=\"M205.371 313.838 L221.69 313.838 L221.69 317.773 L199.746 317.773 L199.746 313.838 Q202.408 311.083 206.991 306.454 Q211.598 301.801 212.778 300.458 Q215.024 297.935 215.903 296.199 Q216.806 294.44 216.806 292.75 Q216.806 289.996 214.861 288.259 Q212.94 286.523 209.838 286.523 Q207.639 286.523 205.186 287.287 Q202.755 288.051 199.977 289.602 L199.977 284.88 Q202.801 283.746 205.255 283.167 Q207.709 282.588 209.746 282.588 Q215.116 282.588 218.311 285.273 Q221.505 287.959 221.505 292.449 Q221.505 294.579 220.695 296.5 Q219.908 298.398 217.801 300.991 Q217.223 301.662 214.121 304.88 Q211.019 308.074 205.371 313.838 Z\" fill=\"#000000\" fill-rule=\"evenodd\" fill-opacity=\"1\" /><path clip-path=\"url(#clip920)\" d=\"M115.973 93.9186 L145.649 93.9186 L145.649 97.8538 L115.973 97.8538 L115.973 93.9186 Z\" fill=\"#000000\" fill-rule=\"evenodd\" fill-opacity=\"1\" /><path clip-path=\"url(#clip920)\" d=\"M165.741 79.2659 Q162.13 79.2659 160.302 82.8307 Q158.496 86.3724 158.496 93.502 Q158.496 100.608 160.302 104.173 Q162.13 107.715 165.741 107.715 Q169.376 107.715 171.181 104.173 Q173.01 100.608 173.01 93.502 Q173.01 86.3724 171.181 82.8307 Q169.376 79.2659 165.741 79.2659 M165.741 75.5623 Q171.552 75.5623 174.607 80.1687 Q177.686 84.752 177.686 93.502 Q177.686 102.229 174.607 106.835 Q171.552 111.419 165.741 111.419 Q159.931 111.419 156.853 106.835 Q153.797 102.229 153.797 93.502 Q153.797 84.752 156.853 80.1687 Q159.931 75.5623 165.741 75.5623 Z\" fill=\"#000000\" fill-rule=\"evenodd\" fill-opacity=\"1\" /><path clip-path=\"url(#clip920)\" d=\"M185.903 104.868 L190.788 104.868 L190.788 110.747 L185.903 110.747 L185.903 104.868 Z\" fill=\"#000000\" fill-rule=\"evenodd\" fill-opacity=\"1\" /><path clip-path=\"url(#clip920)\" d=\"M201.783 106.812 L209.422 106.812 L209.422 80.4465 L201.112 82.1131 L201.112 77.8539 L209.375 76.1873 L214.051 76.1873 L214.051 106.812 L221.69 106.812 L221.69 110.747 L201.783 110.747 L201.783 106.812 Z\" fill=\"#000000\" fill-rule=\"evenodd\" fill-opacity=\"1\" /><path clip-path=\"url(#clip920)\" d=\"M16.4842 968.292 L16.4842 940.983 L21.895 940.983 L21.895 961.863 L35.8996 961.863 L35.8996 943.02 L41.3104 943.02 L41.3104 961.863 L64.0042 961.863 L64.0042 968.292 L16.4842 968.292 Z\" fill=\"#000000\" fill-rule=\"evenodd\" fill-opacity=\"1\" /><path clip-path=\"url(#clip920)\" d=\"M49.9359 935.222 L28.3562 935.222 L28.3562 929.366 L49.7131 929.366 Q54.7739 929.366 57.3202 927.393 Q59.8346 925.419 59.8346 921.473 Q59.8346 916.73 56.8109 913.993 Q53.7872 911.224 48.5673 911.224 L28.3562 911.224 L28.3562 905.367 L64.0042 905.367 L64.0042 911.224 L58.5296 911.224 Q61.7762 913.356 63.3676 916.189 Q64.9272 918.99 64.9272 922.714 Q64.9272 928.857 61.1078 932.04 Q57.2883 935.222 49.9359 935.222 M27.4968 920.486 L27.4968 920.486 Z\" fill=\"#000000\" fill-rule=\"evenodd\" fill-opacity=\"1\" /><path clip-path=\"url(#clip920)\" d=\"M42.4881 863.672 L64.0042 863.672 L64.0042 869.528 L42.679 869.528 Q37.6183 869.528 35.1038 871.502 Q32.5894 873.475 32.5894 877.422 Q32.5894 882.164 35.6131 884.902 Q38.6368 887.639 43.8567 887.639 L64.0042 887.639 L64.0042 893.527 L28.3562 893.527 L28.3562 887.639 L33.8944 887.639 Q30.6797 885.538 29.0883 882.705 Q27.4968 879.841 27.4968 876.117 Q27.4968 869.974 31.3163 866.823 Q35.1038 863.672 42.4881 863.672 Z\" fill=\"#000000\" fill-rule=\"evenodd\" fill-opacity=\"1\" /><path clip-path=\"url(#clip920)\" d=\"M29.7248 826.337 L35.1993 826.337 Q33.8307 828.82 33.1623 831.334 Q32.4621 833.817 32.4621 836.363 Q32.4621 842.06 36.0905 845.211 Q39.6872 848.362 46.212 848.362 Q52.7369 848.362 56.3653 845.211 Q59.9619 842.06 59.9619 836.363 Q59.9619 833.817 59.2935 831.334 Q58.5933 828.82 57.2247 826.337 L62.6355 826.337 Q63.7814 828.788 64.3543 831.43 Q64.9272 834.04 64.9272 837 Q64.9272 845.052 59.8664 849.795 Q54.8057 854.537 46.212 854.537 Q37.491 854.537 32.4939 849.763 Q27.4968 844.957 27.4968 836.618 Q27.4968 833.912 28.0697 831.334 Q28.6108 828.756 29.7248 826.337 Z\" fill=\"#000000\" fill-rule=\"evenodd\" fill-opacity=\"1\" /><path clip-path=\"url(#clip920)\" d=\"M18.2347 810.359 L28.3562 810.359 L28.3562 798.296 L32.9077 798.296 L32.9077 810.359 L52.2594 810.359 Q56.6199 810.359 57.8613 809.181 Q59.1026 807.972 59.1026 804.312 L59.1026 798.296 L64.0042 798.296 L64.0042 804.312 Q64.0042 811.091 61.4897 813.669 Q58.9434 816.247 52.2594 816.247 L32.9077 816.247 L32.9077 820.544 L28.3562 820.544 L28.3562 816.247 L18.2347 816.247 L18.2347 810.359 Z\" fill=\"#000000\" fill-rule=\"evenodd\" fill-opacity=\"1\" /><path clip-path=\"url(#clip920)\" d=\"M28.3562 790.594 L28.3562 784.737 L64.0042 784.737 L64.0042 790.594 L28.3562 790.594 M14.479 790.594 L14.479 784.737 L21.895 784.737 L21.895 790.594 L14.479 790.594 Z\" fill=\"#000000\" fill-rule=\"evenodd\" fill-opacity=\"1\" /><path clip-path=\"url(#clip920)\" d=\"M32.4621 758.67 Q32.4621 763.38 36.1542 766.117 Q39.8145 768.855 46.212 768.855 Q52.6095 768.855 56.3017 766.149 Q59.9619 763.412 59.9619 758.67 Q59.9619 753.991 56.2698 751.254 Q52.5777 748.516 46.212 748.516 Q39.8781 748.516 36.186 751.254 Q32.4621 753.991 32.4621 758.67 M27.4968 758.67 Q27.4968 751.031 32.4621 746.67 Q37.4273 742.31 46.212 742.31 Q54.9649 742.31 59.9619 746.67 Q64.9272 751.031 64.9272 758.67 Q64.9272 766.34 59.9619 770.701 Q54.9649 775.029 46.212 775.029 Q37.4273 775.029 32.4621 770.701 Q27.4968 766.34 27.4968 758.67 Z\" fill=\"#000000\" fill-rule=\"evenodd\" fill-opacity=\"1\" /><path clip-path=\"url(#clip920)\" d=\"M42.4881 702.97 L64.0042 702.97 L64.0042 708.826 L42.679 708.826 Q37.6183 708.826 35.1038 710.799 Q32.5894 712.773 32.5894 716.72 Q32.5894 721.462 35.6131 724.199 Q38.6368 726.937 43.8567 726.937 L64.0042 726.937 L64.0042 732.825 L28.3562 732.825 L28.3562 726.937 L33.8944 726.937 Q30.6797 724.836 29.0883 722.003 Q27.4968 719.139 27.4968 715.415 Q27.4968 709.272 31.3163 706.121 Q35.1038 702.97 42.4881 702.97 Z\" fill=\"#000000\" fill-rule=\"evenodd\" fill-opacity=\"1\" /><path clip-path=\"url(#clip920)\" d=\"M28.3562 674.77 L28.3562 668.563 L58.275 657.423 L28.3562 646.283 L28.3562 640.076 L64.0042 653.444 L64.0042 661.402 L28.3562 674.77 Z\" fill=\"#000000\" fill-rule=\"evenodd\" fill-opacity=\"1\" /><path clip-path=\"url(#clip920)\" d=\"M46.0847 615.791 Q46.0847 622.889 47.7079 625.626 Q49.3312 628.364 53.2461 628.364 Q56.3653 628.364 58.2114 626.327 Q60.0256 624.258 60.0256 620.725 Q60.0256 615.855 56.5881 612.927 Q53.1188 609.967 47.3897 609.967 L46.0847 609.967 L46.0847 615.791 M43.6657 604.11 L64.0042 604.11 L64.0042 609.967 L58.5933 609.967 Q61.8398 611.972 63.3994 614.964 Q64.9272 617.956 64.9272 622.284 Q64.9272 627.759 61.8716 631.005 Q58.7843 634.22 53.6281 634.22 Q47.6125 634.22 44.5569 630.21 Q41.5014 626.167 41.5014 618.178 L41.5014 609.967 L40.9285 609.967 Q36.8862 609.967 34.6901 612.64 Q32.4621 615.282 32.4621 620.088 Q32.4621 623.144 33.1941 626.04 Q33.9262 628.936 35.3903 631.61 L29.9795 631.61 Q28.7381 628.395 28.1334 625.372 Q27.4968 622.348 27.4968 619.483 Q27.4968 611.749 31.5072 607.93 Q35.5176 604.11 43.6657 604.11 Z\" fill=\"#000000\" fill-rule=\"evenodd\" fill-opacity=\"1\" /><path clip-path=\"url(#clip920)\" d=\"M14.479 592.047 L14.479 586.191 L64.0042 586.191 L64.0042 592.047 L14.479 592.047 Z\" fill=\"#000000\" fill-rule=\"evenodd\" fill-opacity=\"1\" /><path clip-path=\"url(#clip920)\" d=\"M49.9359 574.542 L28.3562 574.542 L28.3562 568.685 L49.7131 568.685 Q54.7739 568.685 57.3202 566.712 Q59.8346 564.738 59.8346 560.792 Q59.8346 556.049 56.8109 553.312 Q53.7872 550.543 48.5673 550.543 L28.3562 550.543 L28.3562 544.686 L64.0042 544.686 L64.0042 550.543 L58.5296 550.543 Q61.7762 552.675 63.3676 555.508 Q64.9272 558.309 64.9272 562.033 Q64.9272 568.176 61.1078 571.359 Q57.2883 574.542 49.9359 574.542 M27.4968 559.805 L27.4968 559.805 Z\" fill=\"#000000\" fill-rule=\"evenodd\" fill-opacity=\"1\" /><path clip-path=\"url(#clip920)\" d=\"M44.7161 502.132 L47.5806 502.132 L47.5806 529.059 Q53.6281 528.677 56.8109 525.43 Q59.9619 522.152 59.9619 516.327 Q59.9619 512.953 59.1344 509.802 Q58.3069 506.619 56.6518 503.5 L62.1899 503.5 Q63.5267 506.651 64.227 509.961 Q64.9272 513.272 64.9272 516.677 Q64.9272 525.207 59.9619 530.204 Q54.9967 535.17 46.5303 535.17 Q37.7774 535.17 32.6531 530.459 Q27.4968 525.717 27.4968 517.696 Q27.4968 510.503 32.1438 506.333 Q36.7589 502.132 44.7161 502.132 M42.9973 507.988 Q38.1912 508.052 35.3266 510.693 Q32.4621 513.303 32.4621 517.632 Q32.4621 522.534 35.2312 525.494 Q38.0002 528.422 43.0292 528.868 L42.9973 507.988 Z\" fill=\"#000000\" fill-rule=\"evenodd\" fill-opacity=\"1\" /><circle clip-path=\"url(#clip922)\" cx=\"283.022\" cy=\"86.1857\" r=\"14.4\" fill=\"#009af9\" fill-rule=\"evenodd\" fill-opacity=\"1\" stroke=\"#000000\" stroke-opacity=\"1\" stroke-width=\"3.2\"/>\n<circle clip-path=\"url(#clip922)\" cx=\"376.845\" cy=\"1141.94\" r=\"14.4\" fill=\"#009af9\" fill-rule=\"evenodd\" fill-opacity=\"1\" stroke=\"#000000\" stroke-opacity=\"1\" stroke-width=\"3.2\"/>\n<circle clip-path=\"url(#clip922)\" cx=\"470.667\" cy=\"988.775\" r=\"14.4\" fill=\"#009af9\" fill-rule=\"evenodd\" fill-opacity=\"1\" stroke=\"#000000\" stroke-opacity=\"1\" stroke-width=\"3.2\"/>\n<circle clip-path=\"url(#clip922)\" cx=\"564.489\" cy=\"1384.24\" r=\"14.4\" fill=\"#009af9\" fill-rule=\"evenodd\" fill-opacity=\"1\" stroke=\"#000000\" stroke-opacity=\"1\" stroke-width=\"3.2\"/>\n<circle clip-path=\"url(#clip922)\" cx=\"658.312\" cy=\"637.807\" r=\"14.4\" fill=\"#009af9\" fill-rule=\"evenodd\" fill-opacity=\"1\" stroke=\"#000000\" stroke-opacity=\"1\" stroke-width=\"3.2\"/>\n<circle clip-path=\"url(#clip922)\" cx=\"752.134\" cy=\"589.396\" r=\"14.4\" fill=\"#009af9\" fill-rule=\"evenodd\" fill-opacity=\"1\" stroke=\"#000000\" stroke-opacity=\"1\" stroke-width=\"3.2\"/>\n<circle clip-path=\"url(#clip922)\" cx=\"845.957\" cy=\"679.05\" r=\"14.4\" fill=\"#009af9\" fill-rule=\"evenodd\" fill-opacity=\"1\" stroke=\"#000000\" stroke-opacity=\"1\" stroke-width=\"3.2\"/>\n<circle clip-path=\"url(#clip922)\" cx=\"939.779\" cy=\"708.327\" r=\"14.4\" fill=\"#009af9\" fill-rule=\"evenodd\" fill-opacity=\"1\" stroke=\"#000000\" stroke-opacity=\"1\" stroke-width=\"3.2\"/>\n<circle clip-path=\"url(#clip922)\" cx=\"1033.6\" cy=\"966.047\" r=\"14.4\" fill=\"#009af9\" fill-rule=\"evenodd\" fill-opacity=\"1\" stroke=\"#000000\" stroke-opacity=\"1\" stroke-width=\"3.2\"/>\n<circle clip-path=\"url(#clip922)\" cx=\"1127.42\" cy=\"732.845\" r=\"14.4\" fill=\"#009af9\" fill-rule=\"evenodd\" fill-opacity=\"1\" stroke=\"#000000\" stroke-opacity=\"1\" stroke-width=\"3.2\"/>\n<path clip-path=\"url(#clip920)\" d=\"\nM1457.69 1423.18 L2352.76 1423.18 L2352.76 47.2441 L1457.69 47.2441  Z\n  \" fill=\"#ffffff\" fill-rule=\"evenodd\" fill-opacity=\"1\"/>\n<defs>\n  <clipPath id=\"clip923\">\n    <rect x=\"1457\" y=\"47\" width=\"896\" height=\"1377\"/>\n  </clipPath>\n</defs>\n<polyline clip-path=\"url(#clip923)\" style=\"stroke:#000000; stroke-linecap:butt; stroke-linejoin:round; stroke-width:2; stroke-opacity:0.1; fill:none\" points=\"\n  1603.65,1423.18 1603.65,47.2441 \n  \"/>\n<polyline clip-path=\"url(#clip923)\" style=\"stroke:#000000; stroke-linecap:butt; stroke-linejoin:round; stroke-width:2; stroke-opacity:0.1; fill:none\" points=\"\n  1844.91,1423.18 1844.91,47.2441 \n  \"/>\n<polyline clip-path=\"url(#clip923)\" style=\"stroke:#000000; stroke-linecap:butt; stroke-linejoin:round; stroke-width:2; stroke-opacity:0.1; fill:none\" points=\"\n  2086.17,1423.18 2086.17,47.2441 \n  \"/>\n<polyline clip-path=\"url(#clip923)\" style=\"stroke:#000000; stroke-linecap:butt; stroke-linejoin:round; stroke-width:2; stroke-opacity:0.1; fill:none\" points=\"\n  2327.42,1423.18 2327.42,47.2441 \n  \"/>\n<polyline clip-path=\"url(#clip920)\" style=\"stroke:#000000; stroke-linecap:butt; stroke-linejoin:round; stroke-width:4; stroke-opacity:1; fill:none\" points=\"\n  1457.69,1423.18 2352.76,1423.18 \n  \"/>\n<polyline clip-path=\"url(#clip920)\" style=\"stroke:#000000; stroke-linecap:butt; stroke-linejoin:round; stroke-width:4; stroke-opacity:1; fill:none\" points=\"\n  1603.65,1423.18 1603.65,1404.28 \n  \"/>\n<polyline clip-path=\"url(#clip920)\" style=\"stroke:#000000; stroke-linecap:butt; stroke-linejoin:round; stroke-width:4; stroke-opacity:1; fill:none\" points=\"\n  1844.91,1423.18 1844.91,1404.28 \n  \"/>\n<polyline clip-path=\"url(#clip920)\" style=\"stroke:#000000; stroke-linecap:butt; stroke-linejoin:round; stroke-width:4; stroke-opacity:1; fill:none\" points=\"\n  2086.17,1423.18 2086.17,1404.28 \n  \"/>\n<polyline clip-path=\"url(#clip920)\" style=\"stroke:#000000; stroke-linecap:butt; stroke-linejoin:round; stroke-width:4; stroke-opacity:1; fill:none\" points=\"\n  2327.42,1423.18 2327.42,1404.28 \n  \"/>\n<path clip-path=\"url(#clip920)\" d=\"M1566.75 1454.1 Q1563.14 1454.1 1561.31 1457.66 Q1559.51 1461.2 1559.51 1468.33 Q1559.51 1475.44 1561.31 1479.01 Q1563.14 1482.55 1566.75 1482.55 Q1570.39 1482.55 1572.19 1479.01 Q1574.02 1475.44 1574.02 1468.33 Q1574.02 1461.2 1572.19 1457.66 Q1570.39 1454.1 1566.75 1454.1 M1566.75 1450.39 Q1572.56 1450.39 1575.62 1455 Q1578.7 1459.58 1578.7 1468.33 Q1578.7 1477.06 1575.62 1481.67 Q1572.56 1486.25 1566.75 1486.25 Q1560.94 1486.25 1557.86 1481.67 Q1554.81 1477.06 1554.81 1468.33 Q1554.81 1459.58 1557.86 1455 Q1560.94 1450.39 1566.75 1450.39 Z\" fill=\"#000000\" fill-rule=\"evenodd\" fill-opacity=\"1\" /><path clip-path=\"url(#clip920)\" d=\"M1586.91 1479.7 L1591.8 1479.7 L1591.8 1485.58 L1586.91 1485.58 L1586.91 1479.7 Z\" fill=\"#000000\" fill-rule=\"evenodd\" fill-opacity=\"1\" /><path clip-path=\"url(#clip920)\" d=\"M1611.98 1454.1 Q1608.37 1454.1 1606.54 1457.66 Q1604.74 1461.2 1604.74 1468.33 Q1604.74 1475.44 1606.54 1479.01 Q1608.37 1482.55 1611.98 1482.55 Q1615.62 1482.55 1617.42 1479.01 Q1619.25 1475.44 1619.25 1468.33 Q1619.25 1461.2 1617.42 1457.66 Q1615.62 1454.1 1611.98 1454.1 M1611.98 1450.39 Q1617.79 1450.39 1620.85 1455 Q1623.93 1459.58 1623.93 1468.33 Q1623.93 1477.06 1620.85 1481.67 Q1617.79 1486.25 1611.98 1486.25 Q1606.17 1486.25 1603.1 1481.67 Q1600.04 1477.06 1600.04 1468.33 Q1600.04 1459.58 1603.1 1455 Q1606.17 1450.39 1611.98 1450.39 Z\" fill=\"#000000\" fill-rule=\"evenodd\" fill-opacity=\"1\" /><path clip-path=\"url(#clip920)\" d=\"M1636.17 1481.64 L1652.49 1481.64 L1652.49 1485.58 L1630.55 1485.58 L1630.55 1481.64 Q1633.21 1478.89 1637.79 1474.26 Q1642.4 1469.61 1643.58 1468.27 Q1645.83 1465.74 1646.71 1464.01 Q1647.61 1462.25 1647.61 1460.56 Q1647.61 1457.8 1645.66 1456.07 Q1643.74 1454.33 1640.64 1454.33 Q1638.44 1454.33 1635.99 1455.09 Q1633.56 1455.86 1630.78 1457.41 L1630.78 1452.69 Q1633.6 1451.55 1636.06 1450.97 Q1638.51 1450.39 1640.55 1450.39 Q1645.92 1450.39 1649.11 1453.08 Q1652.31 1455.77 1652.31 1460.26 Q1652.31 1462.39 1651.5 1464.31 Q1650.71 1466.2 1648.6 1468.8 Q1648.03 1469.47 1644.92 1472.69 Q1641.82 1475.88 1636.17 1481.64 Z\" fill=\"#000000\" fill-rule=\"evenodd\" fill-opacity=\"1\" /><path clip-path=\"url(#clip920)\" d=\"M1806.97 1454.1 Q1803.36 1454.1 1801.53 1457.66 Q1799.72 1461.2 1799.72 1468.33 Q1799.72 1475.44 1801.53 1479.01 Q1803.36 1482.55 1806.97 1482.55 Q1810.6 1482.55 1812.41 1479.01 Q1814.24 1475.44 1814.24 1468.33 Q1814.24 1461.2 1812.41 1457.66 Q1810.6 1454.1 1806.97 1454.1 M1806.97 1450.39 Q1812.78 1450.39 1815.83 1455 Q1818.91 1459.58 1818.91 1468.33 Q1818.91 1477.06 1815.83 1481.67 Q1812.78 1486.25 1806.97 1486.25 Q1801.16 1486.25 1798.08 1481.67 Q1795.02 1477.06 1795.02 1468.33 Q1795.02 1459.58 1798.08 1455 Q1801.16 1450.39 1806.97 1450.39 Z\" fill=\"#000000\" fill-rule=\"evenodd\" fill-opacity=\"1\" /><path clip-path=\"url(#clip920)\" d=\"M1827.13 1479.7 L1832.02 1479.7 L1832.02 1485.58 L1827.13 1485.58 L1827.13 1479.7 Z\" fill=\"#000000\" fill-rule=\"evenodd\" fill-opacity=\"1\" /><path clip-path=\"url(#clip920)\" d=\"M1852.2 1454.1 Q1848.59 1454.1 1846.76 1457.66 Q1844.95 1461.2 1844.95 1468.33 Q1844.95 1475.44 1846.76 1479.01 Q1848.59 1482.55 1852.2 1482.55 Q1855.83 1482.55 1857.64 1479.01 Q1859.47 1475.44 1859.47 1468.33 Q1859.47 1461.2 1857.64 1457.66 Q1855.83 1454.1 1852.2 1454.1 M1852.2 1450.39 Q1858.01 1450.39 1861.07 1455 Q1864.14 1459.58 1864.14 1468.33 Q1864.14 1477.06 1861.07 1481.67 Q1858.01 1486.25 1852.2 1486.25 Q1846.39 1486.25 1843.31 1481.67 Q1840.26 1477.06 1840.26 1468.33 Q1840.26 1459.58 1843.31 1455 Q1846.39 1450.39 1852.2 1450.39 Z\" fill=\"#000000\" fill-rule=\"evenodd\" fill-opacity=\"1\" /><path clip-path=\"url(#clip920)\" d=\"M1885.21 1455.09 L1873.4 1473.54 L1885.21 1473.54 L1885.21 1455.09 M1883.98 1451.02 L1889.86 1451.02 L1889.86 1473.54 L1894.79 1473.54 L1894.79 1477.43 L1889.86 1477.43 L1889.86 1485.58 L1885.21 1485.58 L1885.21 1477.43 L1869.61 1477.43 L1869.61 1472.92 L1883.98 1451.02 Z\" fill=\"#000000\" fill-rule=\"evenodd\" fill-opacity=\"1\" /><path clip-path=\"url(#clip920)\" d=\"M2048.39 1454.1 Q2044.78 1454.1 2042.95 1457.66 Q2041.14 1461.2 2041.14 1468.33 Q2041.14 1475.44 2042.95 1479.01 Q2044.78 1482.55 2048.39 1482.55 Q2052.02 1482.55 2053.83 1479.01 Q2055.66 1475.44 2055.66 1468.33 Q2055.66 1461.2 2053.83 1457.66 Q2052.02 1454.1 2048.39 1454.1 M2048.39 1450.39 Q2054.2 1450.39 2057.25 1455 Q2060.33 1459.58 2060.33 1468.33 Q2060.33 1477.06 2057.25 1481.67 Q2054.2 1486.25 2048.39 1486.25 Q2042.58 1486.25 2039.5 1481.67 Q2036.44 1477.06 2036.44 1468.33 Q2036.44 1459.58 2039.5 1455 Q2042.58 1450.39 2048.39 1450.39 Z\" fill=\"#000000\" fill-rule=\"evenodd\" fill-opacity=\"1\" /><path clip-path=\"url(#clip920)\" d=\"M2068.55 1479.7 L2073.43 1479.7 L2073.43 1485.58 L2068.55 1485.58 L2068.55 1479.7 Z\" fill=\"#000000\" fill-rule=\"evenodd\" fill-opacity=\"1\" /><path clip-path=\"url(#clip920)\" d=\"M2093.62 1454.1 Q2090.01 1454.1 2088.18 1457.66 Q2086.37 1461.2 2086.37 1468.33 Q2086.37 1475.44 2088.18 1479.01 Q2090.01 1482.55 2093.62 1482.55 Q2097.25 1482.55 2099.06 1479.01 Q2100.89 1475.44 2100.89 1468.33 Q2100.89 1461.2 2099.06 1457.66 Q2097.25 1454.1 2093.62 1454.1 M2093.62 1450.39 Q2099.43 1450.39 2102.49 1455 Q2105.56 1459.58 2105.56 1468.33 Q2105.56 1477.06 2102.49 1481.67 Q2099.43 1486.25 2093.62 1486.25 Q2087.81 1486.25 2084.73 1481.67 Q2081.68 1477.06 2081.68 1468.33 Q2081.68 1459.58 2084.73 1455 Q2087.81 1450.39 2093.62 1450.39 Z\" fill=\"#000000\" fill-rule=\"evenodd\" fill-opacity=\"1\" /><path clip-path=\"url(#clip920)\" d=\"M2124.36 1466.44 Q2121.21 1466.44 2119.36 1468.59 Q2117.53 1470.74 2117.53 1474.49 Q2117.53 1478.22 2119.36 1480.39 Q2121.21 1482.55 2124.36 1482.55 Q2127.51 1482.55 2129.34 1480.39 Q2131.19 1478.22 2131.19 1474.49 Q2131.19 1470.74 2129.34 1468.59 Q2127.51 1466.44 2124.36 1466.44 M2133.64 1451.78 L2133.64 1456.04 Q2131.88 1455.21 2130.08 1454.77 Q2128.3 1454.33 2126.54 1454.33 Q2121.91 1454.33 2119.45 1457.45 Q2117.02 1460.58 2116.68 1466.9 Q2118.04 1464.89 2120.1 1463.82 Q2122.16 1462.73 2124.64 1462.73 Q2129.85 1462.73 2132.86 1465.9 Q2135.89 1469.05 2135.89 1474.49 Q2135.89 1479.82 2132.74 1483.03 Q2129.59 1486.25 2124.36 1486.25 Q2118.37 1486.25 2115.19 1481.67 Q2112.02 1477.06 2112.02 1468.33 Q2112.02 1460.14 2115.91 1455.28 Q2119.8 1450.39 2126.35 1450.39 Q2128.11 1450.39 2129.89 1450.74 Q2131.7 1451.09 2133.64 1451.78 Z\" fill=\"#000000\" fill-rule=\"evenodd\" fill-opacity=\"1\" /><path clip-path=\"url(#clip920)\" d=\"M2289.77 1454.1 Q2286.16 1454.1 2284.33 1457.66 Q2282.53 1461.2 2282.53 1468.33 Q2282.53 1475.44 2284.33 1479.01 Q2286.16 1482.55 2289.77 1482.55 Q2293.41 1482.55 2295.21 1479.01 Q2297.04 1475.44 2297.04 1468.33 Q2297.04 1461.2 2295.21 1457.66 Q2293.41 1454.1 2289.77 1454.1 M2289.77 1450.39 Q2295.58 1450.39 2298.64 1455 Q2301.72 1459.58 2301.72 1468.33 Q2301.72 1477.06 2298.64 1481.67 Q2295.58 1486.25 2289.77 1486.25 Q2283.96 1486.25 2280.88 1481.67 Q2277.83 1477.06 2277.83 1468.33 Q2277.83 1459.58 2280.88 1455 Q2283.96 1450.39 2289.77 1450.39 Z\" fill=\"#000000\" fill-rule=\"evenodd\" fill-opacity=\"1\" /><path clip-path=\"url(#clip920)\" d=\"M2309.94 1479.7 L2314.82 1479.7 L2314.82 1485.58 L2309.94 1485.58 L2309.94 1479.7 Z\" fill=\"#000000\" fill-rule=\"evenodd\" fill-opacity=\"1\" /><path clip-path=\"url(#clip920)\" d=\"M2335 1454.1 Q2331.39 1454.1 2329.57 1457.66 Q2327.76 1461.2 2327.76 1468.33 Q2327.76 1475.44 2329.57 1479.01 Q2331.39 1482.55 2335 1482.55 Q2338.64 1482.55 2340.44 1479.01 Q2342.27 1475.44 2342.27 1468.33 Q2342.27 1461.2 2340.44 1457.66 Q2338.64 1454.1 2335 1454.1 M2335 1450.39 Q2340.81 1450.39 2343.87 1455 Q2346.95 1459.58 2346.95 1468.33 Q2346.95 1477.06 2343.87 1481.67 Q2340.81 1486.25 2335 1486.25 Q2329.19 1486.25 2326.12 1481.67 Q2323.06 1477.06 2323.06 1468.33 Q2323.06 1459.58 2326.12 1455 Q2329.19 1450.39 2335 1450.39 Z\" fill=\"#000000\" fill-rule=\"evenodd\" fill-opacity=\"1\" /><path clip-path=\"url(#clip920)\" d=\"M2365.17 1469.17 Q2361.83 1469.17 2359.91 1470.95 Q2358.01 1472.73 2358.01 1475.86 Q2358.01 1478.98 2359.91 1480.77 Q2361.83 1482.55 2365.17 1482.55 Q2368.5 1482.55 2370.42 1480.77 Q2372.34 1478.96 2372.34 1475.86 Q2372.34 1472.73 2370.42 1470.95 Q2368.52 1469.17 2365.17 1469.17 M2360.49 1467.18 Q2357.48 1466.44 2355.79 1464.38 Q2354.13 1462.32 2354.13 1459.35 Q2354.13 1455.21 2357.06 1452.8 Q2360.03 1450.39 2365.17 1450.39 Q2370.33 1450.39 2373.27 1452.8 Q2376.21 1455.21 2376.21 1459.35 Q2376.21 1462.32 2374.52 1464.38 Q2372.85 1466.44 2369.87 1467.18 Q2373.25 1467.96 2375.12 1470.26 Q2377.02 1472.55 2377.02 1475.86 Q2377.02 1480.88 2373.94 1483.57 Q2370.88 1486.25 2365.17 1486.25 Q2359.45 1486.25 2356.37 1483.57 Q2353.31 1480.88 2353.31 1475.86 Q2353.31 1472.55 2355.21 1470.26 Q2357.11 1467.96 2360.49 1467.18 M2358.78 1459.79 Q2358.78 1462.48 2360.44 1463.98 Q2362.13 1465.49 2365.17 1465.49 Q2368.18 1465.49 2369.87 1463.98 Q2371.58 1462.48 2371.58 1459.79 Q2371.58 1457.11 2369.87 1455.6 Q2368.18 1454.1 2365.17 1454.1 Q2362.13 1454.1 2360.44 1455.6 Q2358.78 1457.11 2358.78 1459.79 Z\" fill=\"#000000\" fill-rule=\"evenodd\" fill-opacity=\"1\" /><path clip-path=\"url(#clip920)\" d=\"M1864.59 1537.87 Q1863.61 1537.3 1862.43 1537.04 Q1861.28 1536.76 1859.88 1536.76 Q1854.92 1536.76 1852.24 1540 Q1849.6 1543.22 1849.6 1549.27 L1849.6 1568.04 L1843.71 1568.04 L1843.71 1532.4 L1849.6 1532.4 L1849.6 1537.93 Q1851.45 1534.69 1854.41 1533.13 Q1857.37 1531.54 1861.6 1531.54 Q1862.21 1531.54 1862.94 1531.63 Q1863.67 1531.7 1864.56 1531.85 L1864.59 1537.87 Z\" fill=\"#000000\" fill-rule=\"evenodd\" fill-opacity=\"1\" /><path clip-path=\"url(#clip920)\" d=\"M1886.94 1550.12 Q1879.84 1550.12 1877.1 1551.75 Q1874.37 1553.37 1874.37 1557.29 Q1874.37 1560.4 1876.4 1562.25 Q1878.47 1564.07 1882 1564.07 Q1886.87 1564.07 1889.8 1560.63 Q1892.76 1557.16 1892.76 1551.43 L1892.76 1550.12 L1886.94 1550.12 M1898.62 1547.71 L1898.62 1568.04 L1892.76 1568.04 L1892.76 1562.63 Q1890.76 1565.88 1887.77 1567.44 Q1884.77 1568.97 1880.44 1568.97 Q1874.97 1568.97 1871.72 1565.91 Q1868.51 1562.82 1868.51 1557.67 Q1868.51 1551.65 1872.52 1548.6 Q1876.56 1545.54 1884.55 1545.54 L1892.76 1545.54 L1892.76 1544.97 Q1892.76 1540.93 1890.09 1538.73 Q1887.45 1536.5 1882.64 1536.5 Q1879.59 1536.5 1876.69 1537.23 Q1873.79 1537.97 1871.12 1539.43 L1871.12 1534.02 Q1874.33 1532.78 1877.36 1532.17 Q1880.38 1531.54 1883.25 1531.54 Q1890.98 1531.54 1894.8 1535.55 Q1898.62 1539.56 1898.62 1547.71 Z\" fill=\"#000000\" fill-rule=\"evenodd\" fill-opacity=\"1\" /><path clip-path=\"url(#clip920)\" d=\"M1916.47 1522.27 L1916.47 1532.4 L1928.54 1532.4 L1928.54 1536.95 L1916.47 1536.95 L1916.47 1556.3 Q1916.47 1560.66 1917.65 1561.9 Q1918.86 1563.14 1922.52 1563.14 L1928.54 1563.14 L1928.54 1568.04 L1922.52 1568.04 Q1915.74 1568.04 1913.16 1565.53 Q1910.59 1562.98 1910.59 1556.3 L1910.59 1536.95 L1906.29 1536.95 L1906.29 1532.4 L1910.59 1532.4 L1910.59 1522.27 L1916.47 1522.27 Z\" fill=\"#000000\" fill-rule=\"evenodd\" fill-opacity=\"1\" /><path clip-path=\"url(#clip920)\" d=\"M1966.73 1548.76 L1966.73 1551.62 L1939.8 1551.62 Q1940.19 1557.67 1943.43 1560.85 Q1946.71 1564 1952.54 1564 Q1955.91 1564 1959.06 1563.17 Q1962.24 1562.35 1965.36 1560.69 L1965.36 1566.23 Q1962.21 1567.57 1958.9 1568.27 Q1955.59 1568.97 1952.19 1568.97 Q1943.66 1568.97 1938.66 1564 Q1933.69 1559.04 1933.69 1550.57 Q1933.69 1541.82 1938.4 1536.69 Q1943.15 1531.54 1951.17 1531.54 Q1958.36 1531.54 1962.53 1536.18 Q1966.73 1540.8 1966.73 1548.76 M1960.88 1547.04 Q1960.81 1542.23 1958.17 1539.37 Q1955.56 1536.5 1951.23 1536.5 Q1946.33 1536.5 1943.37 1539.27 Q1940.44 1542.04 1940 1547.07 L1960.88 1547.04 Z\" fill=\"#000000\" fill-rule=\"evenodd\" fill-opacity=\"1\" /><polyline clip-path=\"url(#clip923)\" style=\"stroke:#000000; stroke-linecap:butt; stroke-linejoin:round; stroke-width:2; stroke-opacity:0.1; fill:none\" points=\"\n  1457.69,1335.62 2352.76,1335.62 \n  \"/>\n<polyline clip-path=\"url(#clip923)\" style=\"stroke:#000000; stroke-linecap:butt; stroke-linejoin:round; stroke-width:2; stroke-opacity:0.1; fill:none\" points=\"\n  1457.69,1128.6 2352.76,1128.6 \n  \"/>\n<polyline clip-path=\"url(#clip923)\" style=\"stroke:#000000; stroke-linecap:butt; stroke-linejoin:round; stroke-width:2; stroke-opacity:0.1; fill:none\" points=\"\n  1457.69,921.571 2352.76,921.571 \n  \"/>\n<polyline clip-path=\"url(#clip923)\" style=\"stroke:#000000; stroke-linecap:butt; stroke-linejoin:round; stroke-width:2; stroke-opacity:0.1; fill:none\" points=\"\n  1457.69,714.545 2352.76,714.545 \n  \"/>\n<polyline clip-path=\"url(#clip923)\" style=\"stroke:#000000; stroke-linecap:butt; stroke-linejoin:round; stroke-width:2; stroke-opacity:0.1; fill:none\" points=\"\n  1457.69,507.519 2352.76,507.519 \n  \"/>\n<polyline clip-path=\"url(#clip923)\" style=\"stroke:#000000; stroke-linecap:butt; stroke-linejoin:round; stroke-width:2; stroke-opacity:0.1; fill:none\" points=\"\n  1457.69,300.493 2352.76,300.493 \n  \"/>\n<polyline clip-path=\"url(#clip923)\" style=\"stroke:#000000; stroke-linecap:butt; stroke-linejoin:round; stroke-width:2; stroke-opacity:0.1; fill:none\" points=\"\n  1457.69,93.4673 2352.76,93.4673 \n  \"/>\n<polyline clip-path=\"url(#clip920)\" style=\"stroke:#000000; stroke-linecap:butt; stroke-linejoin:round; stroke-width:4; stroke-opacity:1; fill:none\" points=\"\n  1457.69,1423.18 1457.69,47.2441 \n  \"/>\n<polyline clip-path=\"url(#clip920)\" style=\"stroke:#000000; stroke-linecap:butt; stroke-linejoin:round; stroke-width:4; stroke-opacity:1; fill:none\" points=\"\n  1457.69,1335.62 1476.59,1335.62 \n  \"/>\n<polyline clip-path=\"url(#clip920)\" style=\"stroke:#000000; stroke-linecap:butt; stroke-linejoin:round; stroke-width:4; stroke-opacity:1; fill:none\" points=\"\n  1457.69,1128.6 1476.59,1128.6 \n  \"/>\n<polyline clip-path=\"url(#clip920)\" style=\"stroke:#000000; stroke-linecap:butt; stroke-linejoin:round; stroke-width:4; stroke-opacity:1; fill:none\" points=\"\n  1457.69,921.571 1476.59,921.571 \n  \"/>\n<polyline clip-path=\"url(#clip920)\" style=\"stroke:#000000; stroke-linecap:butt; stroke-linejoin:round; stroke-width:4; stroke-opacity:1; fill:none\" points=\"\n  1457.69,714.545 1476.59,714.545 \n  \"/>\n<polyline clip-path=\"url(#clip920)\" style=\"stroke:#000000; stroke-linecap:butt; stroke-linejoin:round; stroke-width:4; stroke-opacity:1; fill:none\" points=\"\n  1457.69,507.519 1476.59,507.519 \n  \"/>\n<polyline clip-path=\"url(#clip920)\" style=\"stroke:#000000; stroke-linecap:butt; stroke-linejoin:round; stroke-width:4; stroke-opacity:1; fill:none\" points=\"\n  1457.69,300.493 1476.59,300.493 \n  \"/>\n<polyline clip-path=\"url(#clip920)\" style=\"stroke:#000000; stroke-linecap:butt; stroke-linejoin:round; stroke-width:4; stroke-opacity:1; fill:none\" points=\"\n  1457.69,93.4673 1476.59,93.4673 \n  \"/>\n<path clip-path=\"url(#clip920)\" d=\"M1315.65 1336.07 L1345.32 1336.07 L1345.32 1340.01 L1315.65 1340.01 L1315.65 1336.07 Z\" fill=\"#000000\" fill-rule=\"evenodd\" fill-opacity=\"1\" /><path clip-path=\"url(#clip920)\" d=\"M1365.42 1321.42 Q1361.81 1321.42 1359.98 1324.99 Q1358.17 1328.53 1358.17 1335.66 Q1358.17 1342.76 1359.98 1346.33 Q1361.81 1349.87 1365.42 1349.87 Q1369.05 1349.87 1370.86 1346.33 Q1372.69 1342.76 1372.69 1335.66 Q1372.69 1328.53 1370.86 1324.99 Q1369.05 1321.42 1365.42 1321.42 M1365.42 1317.72 Q1371.23 1317.72 1374.28 1322.32 Q1377.36 1326.91 1377.36 1335.66 Q1377.36 1344.38 1374.28 1348.99 Q1371.23 1353.57 1365.42 1353.57 Q1359.61 1353.57 1356.53 1348.99 Q1353.47 1344.38 1353.47 1335.66 Q1353.47 1326.91 1356.53 1322.32 Q1359.61 1317.72 1365.42 1317.72 Z\" fill=\"#000000\" fill-rule=\"evenodd\" fill-opacity=\"1\" /><path clip-path=\"url(#clip920)\" d=\"M1385.58 1347.02 L1390.46 1347.02 L1390.46 1352.9 L1385.58 1352.9 L1385.58 1347.02 Z\" fill=\"#000000\" fill-rule=\"evenodd\" fill-opacity=\"1\" /><path clip-path=\"url(#clip920)\" d=\"M1399.47 1318.34 L1421.69 1318.34 L1421.69 1320.33 L1409.14 1352.9 L1404.26 1352.9 L1416.07 1322.28 L1399.47 1322.28 L1399.47 1318.34 Z\" fill=\"#000000\" fill-rule=\"evenodd\" fill-opacity=\"1\" /><path clip-path=\"url(#clip920)\" d=\"M1314.58 1129.05 L1344.26 1129.05 L1344.26 1132.98 L1314.58 1132.98 L1314.58 1129.05 Z\" fill=\"#000000\" fill-rule=\"evenodd\" fill-opacity=\"1\" /><path clip-path=\"url(#clip920)\" d=\"M1364.35 1114.4 Q1360.74 1114.4 1358.91 1117.96 Q1357.11 1121.5 1357.11 1128.63 Q1357.11 1135.74 1358.91 1139.3 Q1360.74 1142.84 1364.35 1142.84 Q1367.99 1142.84 1369.79 1139.3 Q1371.62 1135.74 1371.62 1128.63 Q1371.62 1121.5 1369.79 1117.96 Q1367.99 1114.4 1364.35 1114.4 M1364.35 1110.69 Q1370.16 1110.69 1373.22 1115.3 Q1376.3 1119.88 1376.3 1128.63 Q1376.3 1137.36 1373.22 1141.96 Q1370.16 1146.55 1364.35 1146.55 Q1358.54 1146.55 1355.46 1141.96 Q1352.41 1137.36 1352.41 1128.63 Q1352.41 1119.88 1355.46 1115.3 Q1358.54 1110.69 1364.35 1110.69 Z\" fill=\"#000000\" fill-rule=\"evenodd\" fill-opacity=\"1\" /><path clip-path=\"url(#clip920)\" d=\"M1384.51 1140 L1389.4 1140 L1389.4 1145.88 L1384.51 1145.88 L1384.51 1140 Z\" fill=\"#000000\" fill-rule=\"evenodd\" fill-opacity=\"1\" /><path clip-path=\"url(#clip920)\" d=\"M1410.16 1126.73 Q1407.01 1126.73 1405.16 1128.89 Q1403.33 1131.04 1403.33 1134.79 Q1403.33 1138.52 1405.16 1140.69 Q1407.01 1142.84 1410.16 1142.84 Q1413.31 1142.84 1415.14 1140.69 Q1416.99 1138.52 1416.99 1134.79 Q1416.99 1131.04 1415.14 1128.89 Q1413.31 1126.73 1410.16 1126.73 M1419.44 1112.08 L1419.44 1116.34 Q1417.69 1115.51 1415.88 1115.07 Q1414.1 1114.63 1412.34 1114.63 Q1407.71 1114.63 1405.26 1117.75 Q1402.82 1120.88 1402.48 1127.2 Q1403.84 1125.18 1405.9 1124.12 Q1407.96 1123.03 1410.44 1123.03 Q1415.65 1123.03 1418.66 1126.2 Q1421.69 1129.35 1421.69 1134.79 Q1421.69 1140.11 1418.54 1143.33 Q1415.39 1146.55 1410.16 1146.55 Q1404.17 1146.55 1401 1141.96 Q1397.82 1137.36 1397.82 1128.63 Q1397.82 1120.44 1401.71 1115.58 Q1405.6 1110.69 1412.15 1110.69 Q1413.91 1110.69 1415.69 1111.04 Q1417.5 1111.39 1419.44 1112.08 Z\" fill=\"#000000\" fill-rule=\"evenodd\" fill-opacity=\"1\" /><path clip-path=\"url(#clip920)\" d=\"M1315.74 922.022 L1345.42 922.022 L1345.42 925.957 L1315.74 925.957 L1315.74 922.022 Z\" fill=\"#000000\" fill-rule=\"evenodd\" fill-opacity=\"1\" /><path clip-path=\"url(#clip920)\" d=\"M1365.51 907.37 Q1361.9 907.37 1360.07 910.934 Q1358.26 914.476 1358.26 921.606 Q1358.26 928.712 1360.07 932.277 Q1361.9 935.819 1365.51 935.819 Q1369.14 935.819 1370.95 932.277 Q1372.78 928.712 1372.78 921.606 Q1372.78 914.476 1370.95 910.934 Q1369.14 907.37 1365.51 907.37 M1365.51 903.666 Q1371.32 903.666 1374.38 908.272 Q1377.45 912.856 1377.45 921.606 Q1377.45 930.332 1374.38 934.939 Q1371.32 939.522 1365.51 939.522 Q1359.7 939.522 1356.62 934.939 Q1353.57 930.332 1353.57 921.606 Q1353.57 912.856 1356.62 908.272 Q1359.7 903.666 1365.51 903.666 Z\" fill=\"#000000\" fill-rule=\"evenodd\" fill-opacity=\"1\" /><path clip-path=\"url(#clip920)\" d=\"M1385.67 932.971 L1390.56 932.971 L1390.56 938.851 L1385.67 938.851 L1385.67 932.971 Z\" fill=\"#000000\" fill-rule=\"evenodd\" fill-opacity=\"1\" /><path clip-path=\"url(#clip920)\" d=\"M1400.79 904.291 L1419.14 904.291 L1419.14 908.226 L1405.07 908.226 L1405.07 916.698 Q1406.09 916.351 1407.11 916.189 Q1408.13 916.004 1409.14 916.004 Q1414.93 916.004 1418.31 919.175 Q1421.69 922.346 1421.69 927.763 Q1421.69 933.342 1418.22 936.444 Q1414.75 939.522 1408.43 939.522 Q1406.25 939.522 1403.98 939.152 Q1401.74 938.781 1399.33 938.041 L1399.33 933.342 Q1401.41 934.476 1403.63 935.031 Q1405.86 935.587 1408.33 935.587 Q1412.34 935.587 1414.68 933.481 Q1417.01 931.374 1417.01 927.763 Q1417.01 924.152 1414.68 922.045 Q1412.34 919.939 1408.33 919.939 Q1406.46 919.939 1404.58 920.356 Q1402.73 920.772 1400.79 921.652 L1400.79 904.291 Z\" fill=\"#000000\" fill-rule=\"evenodd\" fill-opacity=\"1\" /><path clip-path=\"url(#clip920)\" d=\"M1314.26 714.996 L1343.94 714.996 L1343.94 718.932 L1314.26 718.932 L1314.26 714.996 Z\" fill=\"#000000\" fill-rule=\"evenodd\" fill-opacity=\"1\" /><path clip-path=\"url(#clip920)\" d=\"M1364.03 700.344 Q1360.42 700.344 1358.59 703.908 Q1356.78 707.45 1356.78 714.58 Q1356.78 721.686 1358.59 725.251 Q1360.42 728.793 1364.03 728.793 Q1367.66 728.793 1369.47 725.251 Q1371.3 721.686 1371.3 714.58 Q1371.3 707.45 1369.47 703.908 Q1367.66 700.344 1364.03 700.344 M1364.03 696.64 Q1369.84 696.64 1372.89 701.246 Q1375.97 705.83 1375.97 714.58 Q1375.97 723.307 1372.89 727.913 Q1369.84 732.496 1364.03 732.496 Q1358.22 732.496 1355.14 727.913 Q1352.08 723.307 1352.08 714.58 Q1352.08 705.83 1355.14 701.246 Q1358.22 696.64 1364.03 696.64 Z\" fill=\"#000000\" fill-rule=\"evenodd\" fill-opacity=\"1\" /><path clip-path=\"url(#clip920)\" d=\"M1384.19 725.945 L1389.07 725.945 L1389.07 731.825 L1384.19 731.825 L1384.19 725.945 Z\" fill=\"#000000\" fill-rule=\"evenodd\" fill-opacity=\"1\" /><path clip-path=\"url(#clip920)\" d=\"M1412.11 701.339 L1400.3 719.788 L1412.11 719.788 L1412.11 701.339 M1410.88 697.265 L1416.76 697.265 L1416.76 719.788 L1421.69 719.788 L1421.69 723.677 L1416.76 723.677 L1416.76 731.825 L1412.11 731.825 L1412.11 723.677 L1396.51 723.677 L1396.51 719.163 L1410.88 697.265 Z\" fill=\"#000000\" fill-rule=\"evenodd\" fill-opacity=\"1\" /><path clip-path=\"url(#clip920)\" d=\"M1315.39 507.97 L1345.07 507.97 L1345.07 511.906 L1315.39 511.906 L1315.39 507.97 Z\" fill=\"#000000\" fill-rule=\"evenodd\" fill-opacity=\"1\" /><path clip-path=\"url(#clip920)\" d=\"M1365.16 493.318 Q1361.55 493.318 1359.72 496.883 Q1357.92 500.424 1357.92 507.554 Q1357.92 514.66 1359.72 518.225 Q1361.55 521.767 1365.16 521.767 Q1368.8 521.767 1370.6 518.225 Q1372.43 514.66 1372.43 507.554 Q1372.43 500.424 1370.6 496.883 Q1368.8 493.318 1365.16 493.318 M1365.16 489.614 Q1370.97 489.614 1374.03 494.221 Q1377.11 498.804 1377.11 507.554 Q1377.11 516.281 1374.03 520.887 Q1370.97 525.47 1365.16 525.47 Q1359.35 525.47 1356.27 520.887 Q1353.22 516.281 1353.22 507.554 Q1353.22 498.804 1356.27 494.221 Q1359.35 489.614 1365.16 489.614 Z\" fill=\"#000000\" fill-rule=\"evenodd\" fill-opacity=\"1\" /><path clip-path=\"url(#clip920)\" d=\"M1385.32 518.919 L1390.21 518.919 L1390.21 524.799 L1385.32 524.799 L1385.32 518.919 Z\" fill=\"#000000\" fill-rule=\"evenodd\" fill-opacity=\"1\" /><path clip-path=\"url(#clip920)\" d=\"M1414.56 506.165 Q1417.92 506.883 1419.79 509.151 Q1421.69 511.42 1421.69 514.753 Q1421.69 519.869 1418.17 522.669 Q1414.65 525.47 1408.17 525.47 Q1406 525.47 1403.68 525.031 Q1401.39 524.614 1398.94 523.757 L1398.94 519.244 Q1400.88 520.378 1403.19 520.957 Q1405.51 521.535 1408.03 521.535 Q1412.43 521.535 1414.72 519.799 Q1417.04 518.063 1417.04 514.753 Q1417.04 511.697 1414.88 509.984 Q1412.76 508.248 1408.94 508.248 L1404.91 508.248 L1404.91 504.406 L1409.12 504.406 Q1412.57 504.406 1414.4 503.04 Q1416.23 501.651 1416.23 499.058 Q1416.23 496.396 1414.33 494.984 Q1412.45 493.549 1408.94 493.549 Q1407.01 493.549 1404.82 493.966 Q1402.62 494.383 1399.98 495.262 L1399.98 491.096 Q1402.64 490.355 1404.95 489.984 Q1407.29 489.614 1409.35 489.614 Q1414.68 489.614 1417.78 492.045 Q1420.88 494.452 1420.88 498.572 Q1420.88 501.443 1419.24 503.433 Q1417.59 505.401 1414.56 506.165 Z\" fill=\"#000000\" fill-rule=\"evenodd\" fill-opacity=\"1\" /><path clip-path=\"url(#clip920)\" d=\"M1316.34 300.945 L1346.02 300.945 L1346.02 304.88 L1316.34 304.88 L1316.34 300.945 Z\" fill=\"#000000\" fill-rule=\"evenodd\" fill-opacity=\"1\" /><path clip-path=\"url(#clip920)\" d=\"M1366.11 286.292 Q1362.5 286.292 1360.67 289.857 Q1358.87 293.398 1358.87 300.528 Q1358.87 307.634 1360.67 311.199 Q1362.5 314.741 1366.11 314.741 Q1369.75 314.741 1371.55 311.199 Q1373.38 307.634 1373.38 300.528 Q1373.38 293.398 1371.55 289.857 Q1369.75 286.292 1366.11 286.292 M1366.11 282.588 Q1371.92 282.588 1374.98 287.195 Q1378.06 291.778 1378.06 300.528 Q1378.06 309.255 1374.98 313.861 Q1371.92 318.444 1366.11 318.444 Q1360.3 318.444 1357.22 313.861 Q1354.17 309.255 1354.17 300.528 Q1354.17 291.778 1357.22 287.195 Q1360.3 282.588 1366.11 282.588 Z\" fill=\"#000000\" fill-rule=\"evenodd\" fill-opacity=\"1\" /><path clip-path=\"url(#clip920)\" d=\"M1386.27 311.894 L1391.16 311.894 L1391.16 317.773 L1386.27 317.773 L1386.27 311.894 Z\" fill=\"#000000\" fill-rule=\"evenodd\" fill-opacity=\"1\" /><path clip-path=\"url(#clip920)\" d=\"M1405.37 313.838 L1421.69 313.838 L1421.69 317.773 L1399.75 317.773 L1399.75 313.838 Q1402.41 311.083 1406.99 306.454 Q1411.6 301.801 1412.78 300.458 Q1415.02 297.935 1415.9 296.199 Q1416.81 294.44 1416.81 292.75 Q1416.81 289.996 1414.86 288.259 Q1412.94 286.523 1409.84 286.523 Q1407.64 286.523 1405.19 287.287 Q1402.76 288.051 1399.98 289.602 L1399.98 284.88 Q1402.8 283.746 1405.26 283.167 Q1407.71 282.588 1409.75 282.588 Q1415.12 282.588 1418.31 285.273 Q1421.5 287.959 1421.5 292.449 Q1421.5 294.579 1420.69 296.5 Q1419.91 298.398 1417.8 300.991 Q1417.22 301.662 1414.12 304.88 Q1411.02 308.074 1405.37 313.838 Z\" fill=\"#000000\" fill-rule=\"evenodd\" fill-opacity=\"1\" /><path clip-path=\"url(#clip920)\" d=\"M1315.97 93.9186 L1345.65 93.9186 L1345.65 97.8538 L1315.97 97.8538 L1315.97 93.9186 Z\" fill=\"#000000\" fill-rule=\"evenodd\" fill-opacity=\"1\" /><path clip-path=\"url(#clip920)\" d=\"M1365.74 79.2659 Q1362.13 79.2659 1360.3 82.8307 Q1358.5 86.3724 1358.5 93.502 Q1358.5 100.608 1360.3 104.173 Q1362.13 107.715 1365.74 107.715 Q1369.38 107.715 1371.18 104.173 Q1373.01 100.608 1373.01 93.502 Q1373.01 86.3724 1371.18 82.8307 Q1369.38 79.2659 1365.74 79.2659 M1365.74 75.5623 Q1371.55 75.5623 1374.61 80.1687 Q1377.69 84.752 1377.69 93.502 Q1377.69 102.229 1374.61 106.835 Q1371.55 111.419 1365.74 111.419 Q1359.93 111.419 1356.85 106.835 Q1353.8 102.229 1353.8 93.502 Q1353.8 84.752 1356.85 80.1687 Q1359.93 75.5623 1365.74 75.5623 Z\" fill=\"#000000\" fill-rule=\"evenodd\" fill-opacity=\"1\" /><path clip-path=\"url(#clip920)\" d=\"M1385.9 104.868 L1390.79 104.868 L1390.79 110.747 L1385.9 110.747 L1385.9 104.868 Z\" fill=\"#000000\" fill-rule=\"evenodd\" fill-opacity=\"1\" /><path clip-path=\"url(#clip920)\" d=\"M1401.78 106.812 L1409.42 106.812 L1409.42 80.4465 L1401.11 82.1131 L1401.11 77.8539 L1409.38 76.1873 L1414.05 76.1873 L1414.05 106.812 L1421.69 106.812 L1421.69 110.747 L1401.78 110.747 L1401.78 106.812 Z\" fill=\"#000000\" fill-rule=\"evenodd\" fill-opacity=\"1\" /><path clip-path=\"url(#clip920)\" d=\"M1216.48 968.292 L1216.48 940.983 L1221.9 940.983 L1221.9 961.863 L1235.9 961.863 L1235.9 943.02 L1241.31 943.02 L1241.31 961.863 L1264 961.863 L1264 968.292 L1216.48 968.292 Z\" fill=\"#000000\" fill-rule=\"evenodd\" fill-opacity=\"1\" /><path clip-path=\"url(#clip920)\" d=\"M1249.94 935.222 L1228.36 935.222 L1228.36 929.366 L1249.71 929.366 Q1254.77 929.366 1257.32 927.393 Q1259.83 925.419 1259.83 921.473 Q1259.83 916.73 1256.81 913.993 Q1253.79 911.224 1248.57 911.224 L1228.36 911.224 L1228.36 905.367 L1264 905.367 L1264 911.224 L1258.53 911.224 Q1261.78 913.356 1263.37 916.189 Q1264.93 918.99 1264.93 922.714 Q1264.93 928.857 1261.11 932.04 Q1257.29 935.222 1249.94 935.222 M1227.5 920.486 L1227.5 920.486 Z\" fill=\"#000000\" fill-rule=\"evenodd\" fill-opacity=\"1\" /><path clip-path=\"url(#clip920)\" d=\"M1242.49 863.672 L1264 863.672 L1264 869.528 L1242.68 869.528 Q1237.62 869.528 1235.1 871.502 Q1232.59 873.475 1232.59 877.422 Q1232.59 882.164 1235.61 884.902 Q1238.64 887.639 1243.86 887.639 L1264 887.639 L1264 893.527 L1228.36 893.527 L1228.36 887.639 L1233.89 887.639 Q1230.68 885.538 1229.09 882.705 Q1227.5 879.841 1227.5 876.117 Q1227.5 869.974 1231.32 866.823 Q1235.1 863.672 1242.49 863.672 Z\" fill=\"#000000\" fill-rule=\"evenodd\" fill-opacity=\"1\" /><path clip-path=\"url(#clip920)\" d=\"M1229.72 826.337 L1235.2 826.337 Q1233.83 828.82 1233.16 831.334 Q1232.46 833.817 1232.46 836.363 Q1232.46 842.06 1236.09 845.211 Q1239.69 848.362 1246.21 848.362 Q1252.74 848.362 1256.37 845.211 Q1259.96 842.06 1259.96 836.363 Q1259.96 833.817 1259.29 831.334 Q1258.59 828.82 1257.22 826.337 L1262.64 826.337 Q1263.78 828.788 1264.35 831.43 Q1264.93 834.04 1264.93 837 Q1264.93 845.052 1259.87 849.795 Q1254.81 854.537 1246.21 854.537 Q1237.49 854.537 1232.49 849.763 Q1227.5 844.957 1227.5 836.618 Q1227.5 833.912 1228.07 831.334 Q1228.61 828.756 1229.72 826.337 Z\" fill=\"#000000\" fill-rule=\"evenodd\" fill-opacity=\"1\" /><path clip-path=\"url(#clip920)\" d=\"M1218.23 810.359 L1228.36 810.359 L1228.36 798.296 L1232.91 798.296 L1232.91 810.359 L1252.26 810.359 Q1256.62 810.359 1257.86 809.181 Q1259.1 807.972 1259.1 804.312 L1259.1 798.296 L1264 798.296 L1264 804.312 Q1264 811.091 1261.49 813.669 Q1258.94 816.247 1252.26 816.247 L1232.91 816.247 L1232.91 820.544 L1228.36 820.544 L1228.36 816.247 L1218.23 816.247 L1218.23 810.359 Z\" fill=\"#000000\" fill-rule=\"evenodd\" fill-opacity=\"1\" /><path clip-path=\"url(#clip920)\" d=\"M1228.36 790.594 L1228.36 784.737 L1264 784.737 L1264 790.594 L1228.36 790.594 M1214.48 790.594 L1214.48 784.737 L1221.9 784.737 L1221.9 790.594 L1214.48 790.594 Z\" fill=\"#000000\" fill-rule=\"evenodd\" fill-opacity=\"1\" /><path clip-path=\"url(#clip920)\" d=\"M1232.46 758.67 Q1232.46 763.38 1236.15 766.117 Q1239.81 768.855 1246.21 768.855 Q1252.61 768.855 1256.3 766.149 Q1259.96 763.412 1259.96 758.67 Q1259.96 753.991 1256.27 751.254 Q1252.58 748.516 1246.21 748.516 Q1239.88 748.516 1236.19 751.254 Q1232.46 753.991 1232.46 758.67 M1227.5 758.67 Q1227.5 751.031 1232.46 746.67 Q1237.43 742.31 1246.21 742.31 Q1254.96 742.31 1259.96 746.67 Q1264.93 751.031 1264.93 758.67 Q1264.93 766.34 1259.96 770.701 Q1254.96 775.029 1246.21 775.029 Q1237.43 775.029 1232.46 770.701 Q1227.5 766.34 1227.5 758.67 Z\" fill=\"#000000\" fill-rule=\"evenodd\" fill-opacity=\"1\" /><path clip-path=\"url(#clip920)\" d=\"M1242.49 702.97 L1264 702.97 L1264 708.826 L1242.68 708.826 Q1237.62 708.826 1235.1 710.799 Q1232.59 712.773 1232.59 716.72 Q1232.59 721.462 1235.61 724.199 Q1238.64 726.937 1243.86 726.937 L1264 726.937 L1264 732.825 L1228.36 732.825 L1228.36 726.937 L1233.89 726.937 Q1230.68 724.836 1229.09 722.003 Q1227.5 719.139 1227.5 715.415 Q1227.5 709.272 1231.32 706.121 Q1235.1 702.97 1242.49 702.97 Z\" fill=\"#000000\" fill-rule=\"evenodd\" fill-opacity=\"1\" /><path clip-path=\"url(#clip920)\" d=\"M1228.36 674.77 L1228.36 668.563 L1258.28 657.423 L1228.36 646.283 L1228.36 640.076 L1264 653.444 L1264 661.402 L1228.36 674.77 Z\" fill=\"#000000\" fill-rule=\"evenodd\" fill-opacity=\"1\" /><path clip-path=\"url(#clip920)\" d=\"M1246.08 615.791 Q1246.08 622.889 1247.71 625.626 Q1249.33 628.364 1253.25 628.364 Q1256.37 628.364 1258.21 626.327 Q1260.03 624.258 1260.03 620.725 Q1260.03 615.855 1256.59 612.927 Q1253.12 609.967 1247.39 609.967 L1246.08 609.967 L1246.08 615.791 M1243.67 604.11 L1264 604.11 L1264 609.967 L1258.59 609.967 Q1261.84 611.972 1263.4 614.964 Q1264.93 617.956 1264.93 622.284 Q1264.93 627.759 1261.87 631.005 Q1258.78 634.22 1253.63 634.22 Q1247.61 634.22 1244.56 630.21 Q1241.5 626.167 1241.5 618.178 L1241.5 609.967 L1240.93 609.967 Q1236.89 609.967 1234.69 612.64 Q1232.46 615.282 1232.46 620.088 Q1232.46 623.144 1233.19 626.04 Q1233.93 628.936 1235.39 631.61 L1229.98 631.61 Q1228.74 628.395 1228.13 625.372 Q1227.5 622.348 1227.5 619.483 Q1227.5 611.749 1231.51 607.93 Q1235.52 604.11 1243.67 604.11 Z\" fill=\"#000000\" fill-rule=\"evenodd\" fill-opacity=\"1\" /><path clip-path=\"url(#clip920)\" d=\"M1214.48 592.047 L1214.48 586.191 L1264 586.191 L1264 592.047 L1214.48 592.047 Z\" fill=\"#000000\" fill-rule=\"evenodd\" fill-opacity=\"1\" /><path clip-path=\"url(#clip920)\" d=\"M1249.94 574.542 L1228.36 574.542 L1228.36 568.685 L1249.71 568.685 Q1254.77 568.685 1257.32 566.712 Q1259.83 564.738 1259.83 560.792 Q1259.83 556.049 1256.81 553.312 Q1253.79 550.543 1248.57 550.543 L1228.36 550.543 L1228.36 544.686 L1264 544.686 L1264 550.543 L1258.53 550.543 Q1261.78 552.675 1263.37 555.508 Q1264.93 558.309 1264.93 562.033 Q1264.93 568.176 1261.11 571.359 Q1257.29 574.542 1249.94 574.542 M1227.5 559.805 L1227.5 559.805 Z\" fill=\"#000000\" fill-rule=\"evenodd\" fill-opacity=\"1\" /><path clip-path=\"url(#clip920)\" d=\"M1244.72 502.132 L1247.58 502.132 L1247.58 529.059 Q1253.63 528.677 1256.81 525.43 Q1259.96 522.152 1259.96 516.327 Q1259.96 512.953 1259.13 509.802 Q1258.31 506.619 1256.65 503.5 L1262.19 503.5 Q1263.53 506.651 1264.23 509.961 Q1264.93 513.272 1264.93 516.677 Q1264.93 525.207 1259.96 530.204 Q1255 535.17 1246.53 535.17 Q1237.78 535.17 1232.65 530.459 Q1227.5 525.717 1227.5 517.696 Q1227.5 510.503 1232.14 506.333 Q1236.76 502.132 1244.72 502.132 M1243 507.988 Q1238.19 508.052 1235.33 510.693 Q1232.46 513.303 1232.46 517.632 Q1232.46 522.534 1235.23 525.494 Q1238 528.422 1243.03 528.868 L1243 507.988 Z\" fill=\"#000000\" fill-rule=\"evenodd\" fill-opacity=\"1\" /><circle clip-path=\"url(#clip923)\" cx=\"1483.02\" cy=\"679.05\" r=\"14.4\" fill=\"#009af9\" fill-rule=\"evenodd\" fill-opacity=\"1\" stroke=\"#000000\" stroke-opacity=\"1\" stroke-width=\"3.2\"/>\n<circle clip-path=\"url(#clip923)\" cx=\"1576.84\" cy=\"1384.24\" r=\"14.4\" fill=\"#009af9\" fill-rule=\"evenodd\" fill-opacity=\"1\" stroke=\"#000000\" stroke-opacity=\"1\" stroke-width=\"3.2\"/>\n<circle clip-path=\"url(#clip923)\" cx=\"1670.67\" cy=\"732.845\" r=\"14.4\" fill=\"#009af9\" fill-rule=\"evenodd\" fill-opacity=\"1\" stroke=\"#000000\" stroke-opacity=\"1\" stroke-width=\"3.2\"/>\n<circle clip-path=\"url(#clip923)\" cx=\"1764.49\" cy=\"86.1857\" r=\"14.4\" fill=\"#009af9\" fill-rule=\"evenodd\" fill-opacity=\"1\" stroke=\"#000000\" stroke-opacity=\"1\" stroke-width=\"3.2\"/>\n<circle clip-path=\"url(#clip923)\" cx=\"1858.31\" cy=\"708.327\" r=\"14.4\" fill=\"#009af9\" fill-rule=\"evenodd\" fill-opacity=\"1\" stroke=\"#000000\" stroke-opacity=\"1\" stroke-width=\"3.2\"/>\n<circle clip-path=\"url(#clip923)\" cx=\"1952.13\" cy=\"637.807\" r=\"14.4\" fill=\"#009af9\" fill-rule=\"evenodd\" fill-opacity=\"1\" stroke=\"#000000\" stroke-opacity=\"1\" stroke-width=\"3.2\"/>\n<circle clip-path=\"url(#clip923)\" cx=\"2045.96\" cy=\"1141.94\" r=\"14.4\" fill=\"#009af9\" fill-rule=\"evenodd\" fill-opacity=\"1\" stroke=\"#000000\" stroke-opacity=\"1\" stroke-width=\"3.2\"/>\n<circle clip-path=\"url(#clip923)\" cx=\"2139.78\" cy=\"966.047\" r=\"14.4\" fill=\"#009af9\" fill-rule=\"evenodd\" fill-opacity=\"1\" stroke=\"#000000\" stroke-opacity=\"1\" stroke-width=\"3.2\"/>\n<circle clip-path=\"url(#clip923)\" cx=\"2233.6\" cy=\"589.396\" r=\"14.4\" fill=\"#009af9\" fill-rule=\"evenodd\" fill-opacity=\"1\" stroke=\"#000000\" stroke-opacity=\"1\" stroke-width=\"3.2\"/>\n<circle clip-path=\"url(#clip923)\" cx=\"2327.42\" cy=\"988.775\" r=\"14.4\" fill=\"#009af9\" fill-rule=\"evenodd\" fill-opacity=\"1\" stroke=\"#000000\" stroke-opacity=\"1\" stroke-width=\"3.2\"/>\n</svg>\n",
      "text/html": [
       "<?xml version=\"1.0\" encoding=\"utf-8\"?>\n",
       "<svg xmlns=\"http://www.w3.org/2000/svg\" xmlns:xlink=\"http://www.w3.org/1999/xlink\" width=\"600\" height=\"400\" viewBox=\"0 0 2400 1600\">\n",
       "<defs>\n",
       "  <clipPath id=\"clip970\">\n",
       "    <rect x=\"0\" y=\"0\" width=\"2400\" height=\"1600\"/>\n",
       "  </clipPath>\n",
       "</defs>\n",
       "<path clip-path=\"url(#clip970)\" d=\"\n",
       "M0 1600 L2400 1600 L2400 0 L0 0  Z\n",
       "  \" fill=\"#ffffff\" fill-rule=\"evenodd\" fill-opacity=\"1\"/>\n",
       "<defs>\n",
       "  <clipPath id=\"clip971\">\n",
       "    <rect x=\"480\" y=\"0\" width=\"1681\" height=\"1600\"/>\n",
       "  </clipPath>\n",
       "</defs>\n",
       "<path clip-path=\"url(#clip970)\" d=\"\n",
       "M257.69 1423.18 L1152.76 1423.18 L1152.76 47.2441 L257.69 47.2441  Z\n",
       "  \" fill=\"#ffffff\" fill-rule=\"evenodd\" fill-opacity=\"1\"/>\n",
       "<defs>\n",
       "  <clipPath id=\"clip972\">\n",
       "    <rect x=\"257\" y=\"47\" width=\"896\" height=\"1377\"/>\n",
       "  </clipPath>\n",
       "</defs>\n",
       "<polyline clip-path=\"url(#clip972)\" style=\"stroke:#000000; stroke-linecap:butt; stroke-linejoin:round; stroke-width:2; stroke-opacity:0.1; fill:none\" points=\"\n",
       "  376.845,1423.18 376.845,47.2441 \n",
       "  \"/>\n",
       "<polyline clip-path=\"url(#clip972)\" style=\"stroke:#000000; stroke-linecap:butt; stroke-linejoin:round; stroke-width:2; stroke-opacity:0.1; fill:none\" points=\"\n",
       "  564.489,1423.18 564.489,47.2441 \n",
       "  \"/>\n",
       "<polyline clip-path=\"url(#clip972)\" style=\"stroke:#000000; stroke-linecap:butt; stroke-linejoin:round; stroke-width:2; stroke-opacity:0.1; fill:none\" points=\"\n",
       "  752.134,1423.18 752.134,47.2441 \n",
       "  \"/>\n",
       "<polyline clip-path=\"url(#clip972)\" style=\"stroke:#000000; stroke-linecap:butt; stroke-linejoin:round; stroke-width:2; stroke-opacity:0.1; fill:none\" points=\"\n",
       "  939.779,1423.18 939.779,47.2441 \n",
       "  \"/>\n",
       "<polyline clip-path=\"url(#clip972)\" style=\"stroke:#000000; stroke-linecap:butt; stroke-linejoin:round; stroke-width:2; stroke-opacity:0.1; fill:none\" points=\"\n",
       "  1127.42,1423.18 1127.42,47.2441 \n",
       "  \"/>\n",
       "<polyline clip-path=\"url(#clip970)\" style=\"stroke:#000000; stroke-linecap:butt; stroke-linejoin:round; stroke-width:4; stroke-opacity:1; fill:none\" points=\"\n",
       "  257.69,1423.18 1152.76,1423.18 \n",
       "  \"/>\n",
       "<polyline clip-path=\"url(#clip970)\" style=\"stroke:#000000; stroke-linecap:butt; stroke-linejoin:round; stroke-width:4; stroke-opacity:1; fill:none\" points=\"\n",
       "  376.845,1423.18 376.845,1404.28 \n",
       "  \"/>\n",
       "<polyline clip-path=\"url(#clip970)\" style=\"stroke:#000000; stroke-linecap:butt; stroke-linejoin:round; stroke-width:4; stroke-opacity:1; fill:none\" points=\"\n",
       "  564.489,1423.18 564.489,1404.28 \n",
       "  \"/>\n",
       "<polyline clip-path=\"url(#clip970)\" style=\"stroke:#000000; stroke-linecap:butt; stroke-linejoin:round; stroke-width:4; stroke-opacity:1; fill:none\" points=\"\n",
       "  752.134,1423.18 752.134,1404.28 \n",
       "  \"/>\n",
       "<polyline clip-path=\"url(#clip970)\" style=\"stroke:#000000; stroke-linecap:butt; stroke-linejoin:round; stroke-width:4; stroke-opacity:1; fill:none\" points=\"\n",
       "  939.779,1423.18 939.779,1404.28 \n",
       "  \"/>\n",
       "<polyline clip-path=\"url(#clip970)\" style=\"stroke:#000000; stroke-linecap:butt; stroke-linejoin:round; stroke-width:4; stroke-opacity:1; fill:none\" points=\"\n",
       "  1127.42,1423.18 1127.42,1404.28 \n",
       "  \"/>\n",
       "<path clip-path=\"url(#clip970)\" d=\"M371.497 1481.64 L387.817 1481.64 L387.817 1485.58 L365.872 1485.58 L365.872 1481.64 Q368.534 1478.89 373.118 1474.26 Q377.724 1469.61 378.905 1468.27 Q381.15 1465.74 382.03 1464.01 Q382.933 1462.25 382.933 1460.56 Q382.933 1457.8 380.988 1456.07 Q379.067 1454.33 375.965 1454.33 Q373.766 1454.33 371.312 1455.09 Q368.882 1455.86 366.104 1457.41 L366.104 1452.69 Q368.928 1451.55 371.382 1450.97 Q373.835 1450.39 375.872 1450.39 Q381.243 1450.39 384.437 1453.08 Q387.632 1455.77 387.632 1460.26 Q387.632 1462.39 386.821 1464.31 Q386.034 1466.2 383.928 1468.8 Q383.349 1469.47 380.247 1472.69 Q377.146 1475.88 371.497 1481.64 Z\" fill=\"#000000\" fill-rule=\"evenodd\" fill-opacity=\"1\" /><path clip-path=\"url(#clip970)\" d=\"M567.499 1455.09 L555.693 1473.54 L567.499 1473.54 L567.499 1455.09 M566.272 1451.02 L572.151 1451.02 L572.151 1473.54 L577.082 1473.54 L577.082 1477.43 L572.151 1477.43 L572.151 1485.58 L567.499 1485.58 L567.499 1477.43 L551.897 1477.43 L551.897 1472.92 L566.272 1451.02 Z\" fill=\"#000000\" fill-rule=\"evenodd\" fill-opacity=\"1\" /><path clip-path=\"url(#clip970)\" d=\"M752.539 1466.44 Q749.391 1466.44 747.539 1468.59 Q745.711 1470.74 745.711 1474.49 Q745.711 1478.22 747.539 1480.39 Q749.391 1482.55 752.539 1482.55 Q755.687 1482.55 757.516 1480.39 Q759.368 1478.22 759.368 1474.49 Q759.368 1470.74 757.516 1468.59 Q755.687 1466.44 752.539 1466.44 M761.822 1451.78 L761.822 1456.04 Q760.062 1455.21 758.257 1454.77 Q756.474 1454.33 754.715 1454.33 Q750.086 1454.33 747.632 1457.45 Q745.201 1460.58 744.854 1466.9 Q746.22 1464.89 748.28 1463.82 Q750.34 1462.73 752.817 1462.73 Q758.025 1462.73 761.035 1465.9 Q764.067 1469.05 764.067 1474.49 Q764.067 1479.82 760.919 1483.03 Q757.771 1486.25 752.539 1486.25 Q746.544 1486.25 743.373 1481.67 Q740.201 1477.06 740.201 1468.33 Q740.201 1460.14 744.09 1455.28 Q747.979 1450.39 754.53 1450.39 Q756.289 1450.39 758.072 1450.74 Q759.877 1451.09 761.822 1451.78 Z\" fill=\"#000000\" fill-rule=\"evenodd\" fill-opacity=\"1\" /><path clip-path=\"url(#clip970)\" d=\"M939.779 1469.17 Q936.446 1469.17 934.524 1470.95 Q932.626 1472.73 932.626 1475.86 Q932.626 1478.98 934.524 1480.77 Q936.446 1482.55 939.779 1482.55 Q943.112 1482.55 945.034 1480.77 Q946.955 1478.96 946.955 1475.86 Q946.955 1472.73 945.034 1470.95 Q943.136 1469.17 939.779 1469.17 M935.103 1467.18 Q932.094 1466.44 930.404 1464.38 Q928.737 1462.32 928.737 1459.35 Q928.737 1455.21 931.677 1452.8 Q934.64 1450.39 939.779 1450.39 Q944.941 1450.39 947.881 1452.8 Q950.821 1455.21 950.821 1459.35 Q950.821 1462.32 949.131 1464.38 Q947.464 1466.44 944.478 1467.18 Q947.858 1467.96 949.733 1470.26 Q951.631 1472.55 951.631 1475.86 Q951.631 1480.88 948.552 1483.57 Q945.497 1486.25 939.779 1486.25 Q934.061 1486.25 930.983 1483.57 Q927.927 1480.88 927.927 1475.86 Q927.927 1472.55 929.825 1470.26 Q931.724 1467.96 935.103 1467.18 M933.39 1459.79 Q933.39 1462.48 935.057 1463.98 Q936.747 1465.49 939.779 1465.49 Q942.788 1465.49 944.478 1463.98 Q946.191 1462.48 946.191 1459.79 Q946.191 1457.11 944.478 1455.6 Q942.788 1454.1 939.779 1454.1 Q936.747 1454.1 935.057 1455.6 Q933.39 1457.11 933.39 1459.79 Z\" fill=\"#000000\" fill-rule=\"evenodd\" fill-opacity=\"1\" /><path clip-path=\"url(#clip970)\" d=\"M1102.11 1481.64 L1109.75 1481.64 L1109.75 1455.28 L1101.44 1456.95 L1101.44 1452.69 L1109.7 1451.02 L1114.38 1451.02 L1114.38 1481.64 L1122.02 1481.64 L1122.02 1485.58 L1102.11 1485.58 L1102.11 1481.64 Z\" fill=\"#000000\" fill-rule=\"evenodd\" fill-opacity=\"1\" /><path clip-path=\"url(#clip970)\" d=\"M1141.46 1454.1 Q1137.85 1454.1 1136.02 1457.66 Q1134.22 1461.2 1134.22 1468.33 Q1134.22 1475.44 1136.02 1479.01 Q1137.85 1482.55 1141.46 1482.55 Q1145.1 1482.55 1146.9 1479.01 Q1148.73 1475.44 1148.73 1468.33 Q1148.73 1461.2 1146.9 1457.66 Q1145.1 1454.1 1141.46 1454.1 M1141.46 1450.39 Q1147.27 1450.39 1150.33 1455 Q1153.41 1459.58 1153.41 1468.33 Q1153.41 1477.06 1150.33 1481.67 Q1147.27 1486.25 1141.46 1486.25 Q1135.65 1486.25 1132.57 1481.67 Q1129.52 1477.06 1129.52 1468.33 Q1129.52 1459.58 1132.57 1455 Q1135.65 1450.39 1141.46 1450.39 Z\" fill=\"#000000\" fill-rule=\"evenodd\" fill-opacity=\"1\" /><path clip-path=\"url(#clip970)\" d=\"M646.436 1533.45 L646.436 1538.98 Q643.953 1537.71 641.279 1537.07 Q638.606 1536.44 635.741 1536.44 Q631.381 1536.44 629.185 1537.77 Q627.02 1539.11 627.02 1541.79 Q627.02 1543.82 628.58 1545 Q630.14 1546.15 634.85 1547.2 L636.855 1547.64 Q643.094 1548.98 645.704 1551.43 Q648.345 1553.85 648.345 1558.21 Q648.345 1563.17 644.399 1566.07 Q640.484 1568.97 633.609 1568.97 Q630.744 1568.97 627.625 1568.39 Q624.538 1567.85 621.1 1566.74 L621.1 1560.69 Q624.347 1562.38 627.498 1563.24 Q630.649 1564.07 633.736 1564.07 Q637.874 1564.07 640.102 1562.66 Q642.33 1561.23 642.33 1558.65 Q642.33 1556.27 640.707 1554.99 Q639.115 1553.72 633.672 1552.54 L631.635 1552.07 Q626.193 1550.92 623.774 1548.56 Q621.355 1546.18 621.355 1542.04 Q621.355 1537.01 624.92 1534.27 Q628.484 1531.54 635.041 1531.54 Q638.288 1531.54 641.152 1532.01 Q644.017 1532.49 646.436 1533.45 Z\" fill=\"#000000\" fill-rule=\"evenodd\" fill-opacity=\"1\" /><path clip-path=\"url(#clip970)\" d=\"M663.464 1522.27 L663.464 1532.4 L675.527 1532.4 L675.527 1536.95 L663.464 1536.95 L663.464 1556.3 Q663.464 1560.66 664.642 1561.9 Q665.851 1563.14 669.511 1563.14 L675.527 1563.14 L675.527 1568.04 L669.511 1568.04 Q662.732 1568.04 660.154 1565.53 Q657.576 1562.98 657.576 1556.3 L657.576 1536.95 L653.279 1536.95 L653.279 1532.4 L657.576 1532.4 L657.576 1522.27 L663.464 1522.27 Z\" fill=\"#000000\" fill-rule=\"evenodd\" fill-opacity=\"1\" /><path clip-path=\"url(#clip970)\" d=\"M713.721 1548.76 L713.721 1551.62 L686.794 1551.62 Q687.176 1557.67 690.423 1560.85 Q693.701 1564 699.526 1564 Q702.9 1564 706.051 1563.17 Q709.233 1562.35 712.353 1560.69 L712.353 1566.23 Q709.202 1567.57 705.891 1568.27 Q702.581 1568.97 699.176 1568.97 Q690.646 1568.97 685.648 1564 Q680.683 1559.04 680.683 1550.57 Q680.683 1541.82 685.394 1536.69 Q690.136 1531.54 698.157 1531.54 Q705.35 1531.54 709.52 1536.18 Q713.721 1540.8 713.721 1548.76 M707.865 1547.04 Q707.801 1542.23 705.159 1539.37 Q702.549 1536.5 698.221 1536.5 Q693.319 1536.5 690.359 1539.27 Q687.431 1542.04 686.985 1547.07 L707.865 1547.04 Z\" fill=\"#000000\" fill-rule=\"evenodd\" fill-opacity=\"1\" /><path clip-path=\"url(#clip970)\" d=\"M728.999 1562.7 L728.999 1581.6 L723.111 1581.6 L723.111 1532.4 L728.999 1532.4 L728.999 1537.81 Q730.845 1534.62 733.646 1533.1 Q736.479 1531.54 740.394 1531.54 Q746.887 1531.54 750.929 1536.69 Q755.003 1541.85 755.003 1550.25 Q755.003 1558.65 750.929 1563.81 Q746.887 1568.97 740.394 1568.97 Q736.479 1568.97 733.646 1567.44 Q730.845 1565.88 728.999 1562.7 M748.924 1550.25 Q748.924 1543.79 746.25 1540.13 Q743.608 1536.44 738.961 1536.44 Q734.314 1536.44 731.641 1540.13 Q728.999 1543.79 728.999 1550.25 Q728.999 1556.71 731.641 1560.4 Q734.314 1564.07 738.961 1564.07 Q743.608 1564.07 746.25 1560.4 Q748.924 1556.71 748.924 1550.25 Z\" fill=\"#000000\" fill-rule=\"evenodd\" fill-opacity=\"1\" /><path clip-path=\"url(#clip970)\" d=\"M787.436 1533.45 L787.436 1538.98 Q784.953 1537.71 782.28 1537.07 Q779.606 1536.44 776.742 1536.44 Q772.381 1536.44 770.185 1537.77 Q768.021 1539.11 768.021 1541.79 Q768.021 1543.82 769.58 1545 Q771.14 1546.15 775.851 1547.2 L777.856 1547.64 Q784.094 1548.98 786.704 1551.43 Q789.346 1553.85 789.346 1558.21 Q789.346 1563.17 785.399 1566.07 Q781.484 1568.97 774.609 1568.97 Q771.745 1568.97 768.625 1568.39 Q765.538 1567.85 762.101 1566.74 L762.101 1560.69 Q765.347 1562.38 768.498 1563.24 Q771.649 1564.07 774.737 1564.07 Q778.874 1564.07 781.102 1562.66 Q783.33 1561.23 783.33 1558.65 Q783.33 1556.27 781.707 1554.99 Q780.116 1553.72 774.673 1552.54 L772.636 1552.07 Q767.193 1550.92 764.774 1548.56 Q762.355 1546.18 762.355 1542.04 Q762.355 1537.01 765.92 1534.27 Q769.485 1531.54 776.042 1531.54 Q779.288 1531.54 782.153 1532.01 Q785.017 1532.49 787.436 1533.45 Z\" fill=\"#000000\" fill-rule=\"evenodd\" fill-opacity=\"1\" /><polyline clip-path=\"url(#clip972)\" style=\"stroke:#000000; stroke-linecap:butt; stroke-linejoin:round; stroke-width:2; stroke-opacity:0.1; fill:none\" points=\"\n",
       "  257.69,1335.62 1152.76,1335.62 \n",
       "  \"/>\n",
       "<polyline clip-path=\"url(#clip972)\" style=\"stroke:#000000; stroke-linecap:butt; stroke-linejoin:round; stroke-width:2; stroke-opacity:0.1; fill:none\" points=\"\n",
       "  257.69,1128.6 1152.76,1128.6 \n",
       "  \"/>\n",
       "<polyline clip-path=\"url(#clip972)\" style=\"stroke:#000000; stroke-linecap:butt; stroke-linejoin:round; stroke-width:2; stroke-opacity:0.1; fill:none\" points=\"\n",
       "  257.69,921.571 1152.76,921.571 \n",
       "  \"/>\n",
       "<polyline clip-path=\"url(#clip972)\" style=\"stroke:#000000; stroke-linecap:butt; stroke-linejoin:round; stroke-width:2; stroke-opacity:0.1; fill:none\" points=\"\n",
       "  257.69,714.545 1152.76,714.545 \n",
       "  \"/>\n",
       "<polyline clip-path=\"url(#clip972)\" style=\"stroke:#000000; stroke-linecap:butt; stroke-linejoin:round; stroke-width:2; stroke-opacity:0.1; fill:none\" points=\"\n",
       "  257.69,507.519 1152.76,507.519 \n",
       "  \"/>\n",
       "<polyline clip-path=\"url(#clip972)\" style=\"stroke:#000000; stroke-linecap:butt; stroke-linejoin:round; stroke-width:2; stroke-opacity:0.1; fill:none\" points=\"\n",
       "  257.69,300.493 1152.76,300.493 \n",
       "  \"/>\n",
       "<polyline clip-path=\"url(#clip972)\" style=\"stroke:#000000; stroke-linecap:butt; stroke-linejoin:round; stroke-width:2; stroke-opacity:0.1; fill:none\" points=\"\n",
       "  257.69,93.4673 1152.76,93.4673 \n",
       "  \"/>\n",
       "<polyline clip-path=\"url(#clip970)\" style=\"stroke:#000000; stroke-linecap:butt; stroke-linejoin:round; stroke-width:4; stroke-opacity:1; fill:none\" points=\"\n",
       "  257.69,1423.18 257.69,47.2441 \n",
       "  \"/>\n",
       "<polyline clip-path=\"url(#clip970)\" style=\"stroke:#000000; stroke-linecap:butt; stroke-linejoin:round; stroke-width:4; stroke-opacity:1; fill:none\" points=\"\n",
       "  257.69,1335.62 276.588,1335.62 \n",
       "  \"/>\n",
       "<polyline clip-path=\"url(#clip970)\" style=\"stroke:#000000; stroke-linecap:butt; stroke-linejoin:round; stroke-width:4; stroke-opacity:1; fill:none\" points=\"\n",
       "  257.69,1128.6 276.588,1128.6 \n",
       "  \"/>\n",
       "<polyline clip-path=\"url(#clip970)\" style=\"stroke:#000000; stroke-linecap:butt; stroke-linejoin:round; stroke-width:4; stroke-opacity:1; fill:none\" points=\"\n",
       "  257.69,921.571 276.588,921.571 \n",
       "  \"/>\n",
       "<polyline clip-path=\"url(#clip970)\" style=\"stroke:#000000; stroke-linecap:butt; stroke-linejoin:round; stroke-width:4; stroke-opacity:1; fill:none\" points=\"\n",
       "  257.69,714.545 276.588,714.545 \n",
       "  \"/>\n",
       "<polyline clip-path=\"url(#clip970)\" style=\"stroke:#000000; stroke-linecap:butt; stroke-linejoin:round; stroke-width:4; stroke-opacity:1; fill:none\" points=\"\n",
       "  257.69,507.519 276.588,507.519 \n",
       "  \"/>\n",
       "<polyline clip-path=\"url(#clip970)\" style=\"stroke:#000000; stroke-linecap:butt; stroke-linejoin:round; stroke-width:4; stroke-opacity:1; fill:none\" points=\"\n",
       "  257.69,300.493 276.588,300.493 \n",
       "  \"/>\n",
       "<polyline clip-path=\"url(#clip970)\" style=\"stroke:#000000; stroke-linecap:butt; stroke-linejoin:round; stroke-width:4; stroke-opacity:1; fill:none\" points=\"\n",
       "  257.69,93.4673 276.588,93.4673 \n",
       "  \"/>\n",
       "<path clip-path=\"url(#clip970)\" d=\"M115.649 1336.07 L145.325 1336.07 L145.325 1340.01 L115.649 1340.01 L115.649 1336.07 Z\" fill=\"#000000\" fill-rule=\"evenodd\" fill-opacity=\"1\" /><path clip-path=\"url(#clip970)\" d=\"M165.417 1321.42 Q161.806 1321.42 159.978 1324.99 Q158.172 1328.53 158.172 1335.66 Q158.172 1342.76 159.978 1346.33 Q161.806 1349.87 165.417 1349.87 Q169.052 1349.87 170.857 1346.33 Q172.686 1342.76 172.686 1335.66 Q172.686 1328.53 170.857 1324.99 Q169.052 1321.42 165.417 1321.42 M165.417 1317.72 Q171.227 1317.72 174.283 1322.32 Q177.362 1326.91 177.362 1335.66 Q177.362 1344.38 174.283 1348.99 Q171.227 1353.57 165.417 1353.57 Q159.607 1353.57 156.528 1348.99 Q153.473 1344.38 153.473 1335.66 Q153.473 1326.91 156.528 1322.32 Q159.607 1317.72 165.417 1317.72 Z\" fill=\"#000000\" fill-rule=\"evenodd\" fill-opacity=\"1\" /><path clip-path=\"url(#clip970)\" d=\"M185.579 1347.02 L190.463 1347.02 L190.463 1352.9 L185.579 1352.9 L185.579 1347.02 Z\" fill=\"#000000\" fill-rule=\"evenodd\" fill-opacity=\"1\" /><path clip-path=\"url(#clip970)\" d=\"M199.468 1318.34 L221.69 1318.34 L221.69 1320.33 L209.144 1352.9 L204.26 1352.9 L216.065 1322.28 L199.468 1322.28 L199.468 1318.34 Z\" fill=\"#000000\" fill-rule=\"evenodd\" fill-opacity=\"1\" /><path clip-path=\"url(#clip970)\" d=\"M114.584 1129.05 L144.26 1129.05 L144.26 1132.98 L114.584 1132.98 L114.584 1129.05 Z\" fill=\"#000000\" fill-rule=\"evenodd\" fill-opacity=\"1\" /><path clip-path=\"url(#clip970)\" d=\"M164.352 1114.4 Q160.741 1114.4 158.913 1117.96 Q157.107 1121.5 157.107 1128.63 Q157.107 1135.74 158.913 1139.3 Q160.741 1142.84 164.352 1142.84 Q167.987 1142.84 169.792 1139.3 Q171.621 1135.74 171.621 1128.63 Q171.621 1121.5 169.792 1117.96 Q167.987 1114.4 164.352 1114.4 M164.352 1110.69 Q170.163 1110.69 173.218 1115.3 Q176.297 1119.88 176.297 1128.63 Q176.297 1137.36 173.218 1141.96 Q170.163 1146.55 164.352 1146.55 Q158.542 1146.55 155.464 1141.96 Q152.408 1137.36 152.408 1128.63 Q152.408 1119.88 155.464 1115.3 Q158.542 1110.69 164.352 1110.69 Z\" fill=\"#000000\" fill-rule=\"evenodd\" fill-opacity=\"1\" /><path clip-path=\"url(#clip970)\" d=\"M184.514 1140 L189.399 1140 L189.399 1145.88 L184.514 1145.88 L184.514 1140 Z\" fill=\"#000000\" fill-rule=\"evenodd\" fill-opacity=\"1\" /><path clip-path=\"url(#clip970)\" d=\"M210.162 1126.73 Q207.014 1126.73 205.162 1128.89 Q203.334 1131.04 203.334 1134.79 Q203.334 1138.52 205.162 1140.69 Q207.014 1142.84 210.162 1142.84 Q213.311 1142.84 215.139 1140.69 Q216.991 1138.52 216.991 1134.79 Q216.991 1131.04 215.139 1128.89 Q213.311 1126.73 210.162 1126.73 M219.445 1112.08 L219.445 1116.34 Q217.686 1115.51 215.88 1115.07 Q214.098 1114.63 212.338 1114.63 Q207.709 1114.63 205.255 1117.75 Q202.824 1120.88 202.477 1127.2 Q203.843 1125.18 205.903 1124.12 Q207.963 1123.03 210.44 1123.03 Q215.649 1123.03 218.658 1126.2 Q221.69 1129.35 221.69 1134.79 Q221.69 1140.11 218.542 1143.33 Q215.394 1146.55 210.162 1146.55 Q204.167 1146.55 200.996 1141.96 Q197.825 1137.36 197.825 1128.63 Q197.825 1120.44 201.713 1115.58 Q205.602 1110.69 212.153 1110.69 Q213.912 1110.69 215.695 1111.04 Q217.5 1111.39 219.445 1112.08 Z\" fill=\"#000000\" fill-rule=\"evenodd\" fill-opacity=\"1\" /><path clip-path=\"url(#clip970)\" d=\"M115.742 922.022 L145.417 922.022 L145.417 925.957 L115.742 925.957 L115.742 922.022 Z\" fill=\"#000000\" fill-rule=\"evenodd\" fill-opacity=\"1\" /><path clip-path=\"url(#clip970)\" d=\"M165.51 907.37 Q161.899 907.37 160.07 910.934 Q158.265 914.476 158.265 921.606 Q158.265 928.712 160.07 932.277 Q161.899 935.819 165.51 935.819 Q169.144 935.819 170.95 932.277 Q172.778 928.712 172.778 921.606 Q172.778 914.476 170.95 910.934 Q169.144 907.37 165.51 907.37 M165.51 903.666 Q171.32 903.666 174.376 908.272 Q177.454 912.856 177.454 921.606 Q177.454 930.332 174.376 934.939 Q171.32 939.522 165.51 939.522 Q159.7 939.522 156.621 934.939 Q153.566 930.332 153.566 921.606 Q153.566 912.856 156.621 908.272 Q159.7 903.666 165.51 903.666 Z\" fill=\"#000000\" fill-rule=\"evenodd\" fill-opacity=\"1\" /><path clip-path=\"url(#clip970)\" d=\"M185.672 932.971 L190.556 932.971 L190.556 938.851 L185.672 938.851 L185.672 932.971 Z\" fill=\"#000000\" fill-rule=\"evenodd\" fill-opacity=\"1\" /><path clip-path=\"url(#clip970)\" d=\"M200.787 904.291 L219.144 904.291 L219.144 908.226 L205.07 908.226 L205.07 916.698 Q206.088 916.351 207.107 916.189 Q208.125 916.004 209.144 916.004 Q214.931 916.004 218.311 919.175 Q221.69 922.346 221.69 927.763 Q221.69 933.342 218.218 936.444 Q214.746 939.522 208.426 939.522 Q206.25 939.522 203.982 939.152 Q201.737 938.781 199.329 938.041 L199.329 933.342 Q201.412 934.476 203.635 935.031 Q205.857 935.587 208.334 935.587 Q212.338 935.587 214.676 933.481 Q217.014 931.374 217.014 927.763 Q217.014 924.152 214.676 922.045 Q212.338 919.939 208.334 919.939 Q206.459 919.939 204.584 920.356 Q202.732 920.772 200.787 921.652 L200.787 904.291 Z\" fill=\"#000000\" fill-rule=\"evenodd\" fill-opacity=\"1\" /><path clip-path=\"url(#clip970)\" d=\"M114.26 714.996 L143.936 714.996 L143.936 718.932 L114.26 718.932 L114.26 714.996 Z\" fill=\"#000000\" fill-rule=\"evenodd\" fill-opacity=\"1\" /><path clip-path=\"url(#clip970)\" d=\"M164.028 700.344 Q160.417 700.344 158.589 703.908 Q156.783 707.45 156.783 714.58 Q156.783 721.686 158.589 725.251 Q160.417 728.793 164.028 728.793 Q167.663 728.793 169.468 725.251 Q171.297 721.686 171.297 714.58 Q171.297 707.45 169.468 703.908 Q167.663 700.344 164.028 700.344 M164.028 696.64 Q169.839 696.64 172.894 701.246 Q175.973 705.83 175.973 714.58 Q175.973 723.307 172.894 727.913 Q169.839 732.496 164.028 732.496 Q158.218 732.496 155.14 727.913 Q152.084 723.307 152.084 714.58 Q152.084 705.83 155.14 701.246 Q158.218 696.64 164.028 696.64 Z\" fill=\"#000000\" fill-rule=\"evenodd\" fill-opacity=\"1\" /><path clip-path=\"url(#clip970)\" d=\"M184.19 725.945 L189.075 725.945 L189.075 731.825 L184.19 731.825 L184.19 725.945 Z\" fill=\"#000000\" fill-rule=\"evenodd\" fill-opacity=\"1\" /><path clip-path=\"url(#clip970)\" d=\"M212.107 701.339 L200.301 719.788 L212.107 719.788 L212.107 701.339 M210.88 697.265 L216.76 697.265 L216.76 719.788 L221.69 719.788 L221.69 723.677 L216.76 723.677 L216.76 731.825 L212.107 731.825 L212.107 723.677 L196.505 723.677 L196.505 719.163 L210.88 697.265 Z\" fill=\"#000000\" fill-rule=\"evenodd\" fill-opacity=\"1\" /><path clip-path=\"url(#clip970)\" d=\"M115.394 507.97 L145.07 507.97 L145.07 511.906 L115.394 511.906 L115.394 507.97 Z\" fill=\"#000000\" fill-rule=\"evenodd\" fill-opacity=\"1\" /><path clip-path=\"url(#clip970)\" d=\"M165.163 493.318 Q161.552 493.318 159.723 496.883 Q157.917 500.424 157.917 507.554 Q157.917 514.66 159.723 518.225 Q161.552 521.767 165.163 521.767 Q168.797 521.767 170.602 518.225 Q172.431 514.66 172.431 507.554 Q172.431 500.424 170.602 496.883 Q168.797 493.318 165.163 493.318 M165.163 489.614 Q170.973 489.614 174.028 494.221 Q177.107 498.804 177.107 507.554 Q177.107 516.281 174.028 520.887 Q170.973 525.47 165.163 525.47 Q159.353 525.47 156.274 520.887 Q153.218 516.281 153.218 507.554 Q153.218 498.804 156.274 494.221 Q159.353 489.614 165.163 489.614 Z\" fill=\"#000000\" fill-rule=\"evenodd\" fill-opacity=\"1\" /><path clip-path=\"url(#clip970)\" d=\"M185.325 518.919 L190.209 518.919 L190.209 524.799 L185.325 524.799 L185.325 518.919 Z\" fill=\"#000000\" fill-rule=\"evenodd\" fill-opacity=\"1\" /><path clip-path=\"url(#clip970)\" d=\"M214.561 506.165 Q217.917 506.883 219.792 509.151 Q221.69 511.42 221.69 514.753 Q221.69 519.869 218.172 522.669 Q214.653 525.47 208.172 525.47 Q205.996 525.47 203.681 525.031 Q201.389 524.614 198.936 523.757 L198.936 519.244 Q200.88 520.378 203.195 520.957 Q205.51 521.535 208.033 521.535 Q212.431 521.535 214.723 519.799 Q217.037 518.063 217.037 514.753 Q217.037 511.697 214.885 509.984 Q212.755 508.248 208.936 508.248 L204.908 508.248 L204.908 504.406 L209.121 504.406 Q212.57 504.406 214.399 503.04 Q216.227 501.651 216.227 499.058 Q216.227 496.396 214.329 494.984 Q212.454 493.549 208.936 493.549 Q207.014 493.549 204.815 493.966 Q202.616 494.383 199.977 495.262 L199.977 491.096 Q202.639 490.355 204.954 489.984 Q207.292 489.614 209.352 489.614 Q214.676 489.614 217.778 492.045 Q220.88 494.452 220.88 498.572 Q220.88 501.443 219.236 503.433 Q217.593 505.401 214.561 506.165 Z\" fill=\"#000000\" fill-rule=\"evenodd\" fill-opacity=\"1\" /><path clip-path=\"url(#clip970)\" d=\"M116.343 300.945 L146.019 300.945 L146.019 304.88 L116.343 304.88 L116.343 300.945 Z\" fill=\"#000000\" fill-rule=\"evenodd\" fill-opacity=\"1\" /><path clip-path=\"url(#clip970)\" d=\"M166.112 286.292 Q162.501 286.292 160.672 289.857 Q158.866 293.398 158.866 300.528 Q158.866 307.634 160.672 311.199 Q162.501 314.741 166.112 314.741 Q169.746 314.741 171.552 311.199 Q173.38 307.634 173.38 300.528 Q173.38 293.398 171.552 289.857 Q169.746 286.292 166.112 286.292 M166.112 282.588 Q171.922 282.588 174.977 287.195 Q178.056 291.778 178.056 300.528 Q178.056 309.255 174.977 313.861 Q171.922 318.444 166.112 318.444 Q160.302 318.444 157.223 313.861 Q154.167 309.255 154.167 300.528 Q154.167 291.778 157.223 287.195 Q160.302 282.588 166.112 282.588 Z\" fill=\"#000000\" fill-rule=\"evenodd\" fill-opacity=\"1\" /><path clip-path=\"url(#clip970)\" d=\"M186.274 311.894 L191.158 311.894 L191.158 317.773 L186.274 317.773 L186.274 311.894 Z\" fill=\"#000000\" fill-rule=\"evenodd\" fill-opacity=\"1\" /><path clip-path=\"url(#clip970)\" d=\"M205.371 313.838 L221.69 313.838 L221.69 317.773 L199.746 317.773 L199.746 313.838 Q202.408 311.083 206.991 306.454 Q211.598 301.801 212.778 300.458 Q215.024 297.935 215.903 296.199 Q216.806 294.44 216.806 292.75 Q216.806 289.996 214.861 288.259 Q212.94 286.523 209.838 286.523 Q207.639 286.523 205.186 287.287 Q202.755 288.051 199.977 289.602 L199.977 284.88 Q202.801 283.746 205.255 283.167 Q207.709 282.588 209.746 282.588 Q215.116 282.588 218.311 285.273 Q221.505 287.959 221.505 292.449 Q221.505 294.579 220.695 296.5 Q219.908 298.398 217.801 300.991 Q217.223 301.662 214.121 304.88 Q211.019 308.074 205.371 313.838 Z\" fill=\"#000000\" fill-rule=\"evenodd\" fill-opacity=\"1\" /><path clip-path=\"url(#clip970)\" d=\"M115.973 93.9186 L145.649 93.9186 L145.649 97.8538 L115.973 97.8538 L115.973 93.9186 Z\" fill=\"#000000\" fill-rule=\"evenodd\" fill-opacity=\"1\" /><path clip-path=\"url(#clip970)\" d=\"M165.741 79.2659 Q162.13 79.2659 160.302 82.8307 Q158.496 86.3724 158.496 93.502 Q158.496 100.608 160.302 104.173 Q162.13 107.715 165.741 107.715 Q169.376 107.715 171.181 104.173 Q173.01 100.608 173.01 93.502 Q173.01 86.3724 171.181 82.8307 Q169.376 79.2659 165.741 79.2659 M165.741 75.5623 Q171.552 75.5623 174.607 80.1687 Q177.686 84.752 177.686 93.502 Q177.686 102.229 174.607 106.835 Q171.552 111.419 165.741 111.419 Q159.931 111.419 156.853 106.835 Q153.797 102.229 153.797 93.502 Q153.797 84.752 156.853 80.1687 Q159.931 75.5623 165.741 75.5623 Z\" fill=\"#000000\" fill-rule=\"evenodd\" fill-opacity=\"1\" /><path clip-path=\"url(#clip970)\" d=\"M185.903 104.868 L190.788 104.868 L190.788 110.747 L185.903 110.747 L185.903 104.868 Z\" fill=\"#000000\" fill-rule=\"evenodd\" fill-opacity=\"1\" /><path clip-path=\"url(#clip970)\" d=\"M201.783 106.812 L209.422 106.812 L209.422 80.4465 L201.112 82.1131 L201.112 77.8539 L209.375 76.1873 L214.051 76.1873 L214.051 106.812 L221.69 106.812 L221.69 110.747 L201.783 110.747 L201.783 106.812 Z\" fill=\"#000000\" fill-rule=\"evenodd\" fill-opacity=\"1\" /><path clip-path=\"url(#clip970)\" d=\"M16.4842 968.292 L16.4842 940.983 L21.895 940.983 L21.895 961.863 L35.8996 961.863 L35.8996 943.02 L41.3104 943.02 L41.3104 961.863 L64.0042 961.863 L64.0042 968.292 L16.4842 968.292 Z\" fill=\"#000000\" fill-rule=\"evenodd\" fill-opacity=\"1\" /><path clip-path=\"url(#clip970)\" d=\"M49.9359 935.222 L28.3562 935.222 L28.3562 929.366 L49.7131 929.366 Q54.7739 929.366 57.3202 927.393 Q59.8346 925.419 59.8346 921.473 Q59.8346 916.73 56.8109 913.993 Q53.7872 911.224 48.5673 911.224 L28.3562 911.224 L28.3562 905.367 L64.0042 905.367 L64.0042 911.224 L58.5296 911.224 Q61.7762 913.356 63.3676 916.189 Q64.9272 918.99 64.9272 922.714 Q64.9272 928.857 61.1078 932.04 Q57.2883 935.222 49.9359 935.222 M27.4968 920.486 L27.4968 920.486 Z\" fill=\"#000000\" fill-rule=\"evenodd\" fill-opacity=\"1\" /><path clip-path=\"url(#clip970)\" d=\"M42.4881 863.672 L64.0042 863.672 L64.0042 869.528 L42.679 869.528 Q37.6183 869.528 35.1038 871.502 Q32.5894 873.475 32.5894 877.422 Q32.5894 882.164 35.6131 884.902 Q38.6368 887.639 43.8567 887.639 L64.0042 887.639 L64.0042 893.527 L28.3562 893.527 L28.3562 887.639 L33.8944 887.639 Q30.6797 885.538 29.0883 882.705 Q27.4968 879.841 27.4968 876.117 Q27.4968 869.974 31.3163 866.823 Q35.1038 863.672 42.4881 863.672 Z\" fill=\"#000000\" fill-rule=\"evenodd\" fill-opacity=\"1\" /><path clip-path=\"url(#clip970)\" d=\"M29.7248 826.337 L35.1993 826.337 Q33.8307 828.82 33.1623 831.334 Q32.4621 833.817 32.4621 836.363 Q32.4621 842.06 36.0905 845.211 Q39.6872 848.362 46.212 848.362 Q52.7369 848.362 56.3653 845.211 Q59.9619 842.06 59.9619 836.363 Q59.9619 833.817 59.2935 831.334 Q58.5933 828.82 57.2247 826.337 L62.6355 826.337 Q63.7814 828.788 64.3543 831.43 Q64.9272 834.04 64.9272 837 Q64.9272 845.052 59.8664 849.795 Q54.8057 854.537 46.212 854.537 Q37.491 854.537 32.4939 849.763 Q27.4968 844.957 27.4968 836.618 Q27.4968 833.912 28.0697 831.334 Q28.6108 828.756 29.7248 826.337 Z\" fill=\"#000000\" fill-rule=\"evenodd\" fill-opacity=\"1\" /><path clip-path=\"url(#clip970)\" d=\"M18.2347 810.359 L28.3562 810.359 L28.3562 798.296 L32.9077 798.296 L32.9077 810.359 L52.2594 810.359 Q56.6199 810.359 57.8613 809.181 Q59.1026 807.972 59.1026 804.312 L59.1026 798.296 L64.0042 798.296 L64.0042 804.312 Q64.0042 811.091 61.4897 813.669 Q58.9434 816.247 52.2594 816.247 L32.9077 816.247 L32.9077 820.544 L28.3562 820.544 L28.3562 816.247 L18.2347 816.247 L18.2347 810.359 Z\" fill=\"#000000\" fill-rule=\"evenodd\" fill-opacity=\"1\" /><path clip-path=\"url(#clip970)\" d=\"M28.3562 790.594 L28.3562 784.737 L64.0042 784.737 L64.0042 790.594 L28.3562 790.594 M14.479 790.594 L14.479 784.737 L21.895 784.737 L21.895 790.594 L14.479 790.594 Z\" fill=\"#000000\" fill-rule=\"evenodd\" fill-opacity=\"1\" /><path clip-path=\"url(#clip970)\" d=\"M32.4621 758.67 Q32.4621 763.38 36.1542 766.117 Q39.8145 768.855 46.212 768.855 Q52.6095 768.855 56.3017 766.149 Q59.9619 763.412 59.9619 758.67 Q59.9619 753.991 56.2698 751.254 Q52.5777 748.516 46.212 748.516 Q39.8781 748.516 36.186 751.254 Q32.4621 753.991 32.4621 758.67 M27.4968 758.67 Q27.4968 751.031 32.4621 746.67 Q37.4273 742.31 46.212 742.31 Q54.9649 742.31 59.9619 746.67 Q64.9272 751.031 64.9272 758.67 Q64.9272 766.34 59.9619 770.701 Q54.9649 775.029 46.212 775.029 Q37.4273 775.029 32.4621 770.701 Q27.4968 766.34 27.4968 758.67 Z\" fill=\"#000000\" fill-rule=\"evenodd\" fill-opacity=\"1\" /><path clip-path=\"url(#clip970)\" d=\"M42.4881 702.97 L64.0042 702.97 L64.0042 708.826 L42.679 708.826 Q37.6183 708.826 35.1038 710.799 Q32.5894 712.773 32.5894 716.72 Q32.5894 721.462 35.6131 724.199 Q38.6368 726.937 43.8567 726.937 L64.0042 726.937 L64.0042 732.825 L28.3562 732.825 L28.3562 726.937 L33.8944 726.937 Q30.6797 724.836 29.0883 722.003 Q27.4968 719.139 27.4968 715.415 Q27.4968 709.272 31.3163 706.121 Q35.1038 702.97 42.4881 702.97 Z\" fill=\"#000000\" fill-rule=\"evenodd\" fill-opacity=\"1\" /><path clip-path=\"url(#clip970)\" d=\"M28.3562 674.77 L28.3562 668.563 L58.275 657.423 L28.3562 646.283 L28.3562 640.076 L64.0042 653.444 L64.0042 661.402 L28.3562 674.77 Z\" fill=\"#000000\" fill-rule=\"evenodd\" fill-opacity=\"1\" /><path clip-path=\"url(#clip970)\" d=\"M46.0847 615.791 Q46.0847 622.889 47.7079 625.626 Q49.3312 628.364 53.2461 628.364 Q56.3653 628.364 58.2114 626.327 Q60.0256 624.258 60.0256 620.725 Q60.0256 615.855 56.5881 612.927 Q53.1188 609.967 47.3897 609.967 L46.0847 609.967 L46.0847 615.791 M43.6657 604.11 L64.0042 604.11 L64.0042 609.967 L58.5933 609.967 Q61.8398 611.972 63.3994 614.964 Q64.9272 617.956 64.9272 622.284 Q64.9272 627.759 61.8716 631.005 Q58.7843 634.22 53.6281 634.22 Q47.6125 634.22 44.5569 630.21 Q41.5014 626.167 41.5014 618.178 L41.5014 609.967 L40.9285 609.967 Q36.8862 609.967 34.6901 612.64 Q32.4621 615.282 32.4621 620.088 Q32.4621 623.144 33.1941 626.04 Q33.9262 628.936 35.3903 631.61 L29.9795 631.61 Q28.7381 628.395 28.1334 625.372 Q27.4968 622.348 27.4968 619.483 Q27.4968 611.749 31.5072 607.93 Q35.5176 604.11 43.6657 604.11 Z\" fill=\"#000000\" fill-rule=\"evenodd\" fill-opacity=\"1\" /><path clip-path=\"url(#clip970)\" d=\"M14.479 592.047 L14.479 586.191 L64.0042 586.191 L64.0042 592.047 L14.479 592.047 Z\" fill=\"#000000\" fill-rule=\"evenodd\" fill-opacity=\"1\" /><path clip-path=\"url(#clip970)\" d=\"M49.9359 574.542 L28.3562 574.542 L28.3562 568.685 L49.7131 568.685 Q54.7739 568.685 57.3202 566.712 Q59.8346 564.738 59.8346 560.792 Q59.8346 556.049 56.8109 553.312 Q53.7872 550.543 48.5673 550.543 L28.3562 550.543 L28.3562 544.686 L64.0042 544.686 L64.0042 550.543 L58.5296 550.543 Q61.7762 552.675 63.3676 555.508 Q64.9272 558.309 64.9272 562.033 Q64.9272 568.176 61.1078 571.359 Q57.2883 574.542 49.9359 574.542 M27.4968 559.805 L27.4968 559.805 Z\" fill=\"#000000\" fill-rule=\"evenodd\" fill-opacity=\"1\" /><path clip-path=\"url(#clip970)\" d=\"M44.7161 502.132 L47.5806 502.132 L47.5806 529.059 Q53.6281 528.677 56.8109 525.43 Q59.9619 522.152 59.9619 516.327 Q59.9619 512.953 59.1344 509.802 Q58.3069 506.619 56.6518 503.5 L62.1899 503.5 Q63.5267 506.651 64.227 509.961 Q64.9272 513.272 64.9272 516.677 Q64.9272 525.207 59.9619 530.204 Q54.9967 535.17 46.5303 535.17 Q37.7774 535.17 32.6531 530.459 Q27.4968 525.717 27.4968 517.696 Q27.4968 510.503 32.1438 506.333 Q36.7589 502.132 44.7161 502.132 M42.9973 507.988 Q38.1912 508.052 35.3266 510.693 Q32.4621 513.303 32.4621 517.632 Q32.4621 522.534 35.2312 525.494 Q38.0002 528.422 43.0292 528.868 L42.9973 507.988 Z\" fill=\"#000000\" fill-rule=\"evenodd\" fill-opacity=\"1\" /><circle clip-path=\"url(#clip972)\" cx=\"283.022\" cy=\"86.1857\" r=\"14.4\" fill=\"#009af9\" fill-rule=\"evenodd\" fill-opacity=\"1\" stroke=\"#000000\" stroke-opacity=\"1\" stroke-width=\"3.2\"/>\n",
       "<circle clip-path=\"url(#clip972)\" cx=\"376.845\" cy=\"1141.94\" r=\"14.4\" fill=\"#009af9\" fill-rule=\"evenodd\" fill-opacity=\"1\" stroke=\"#000000\" stroke-opacity=\"1\" stroke-width=\"3.2\"/>\n",
       "<circle clip-path=\"url(#clip972)\" cx=\"470.667\" cy=\"988.775\" r=\"14.4\" fill=\"#009af9\" fill-rule=\"evenodd\" fill-opacity=\"1\" stroke=\"#000000\" stroke-opacity=\"1\" stroke-width=\"3.2\"/>\n",
       "<circle clip-path=\"url(#clip972)\" cx=\"564.489\" cy=\"1384.24\" r=\"14.4\" fill=\"#009af9\" fill-rule=\"evenodd\" fill-opacity=\"1\" stroke=\"#000000\" stroke-opacity=\"1\" stroke-width=\"3.2\"/>\n",
       "<circle clip-path=\"url(#clip972)\" cx=\"658.312\" cy=\"637.807\" r=\"14.4\" fill=\"#009af9\" fill-rule=\"evenodd\" fill-opacity=\"1\" stroke=\"#000000\" stroke-opacity=\"1\" stroke-width=\"3.2\"/>\n",
       "<circle clip-path=\"url(#clip972)\" cx=\"752.134\" cy=\"589.396\" r=\"14.4\" fill=\"#009af9\" fill-rule=\"evenodd\" fill-opacity=\"1\" stroke=\"#000000\" stroke-opacity=\"1\" stroke-width=\"3.2\"/>\n",
       "<circle clip-path=\"url(#clip972)\" cx=\"845.957\" cy=\"679.05\" r=\"14.4\" fill=\"#009af9\" fill-rule=\"evenodd\" fill-opacity=\"1\" stroke=\"#000000\" stroke-opacity=\"1\" stroke-width=\"3.2\"/>\n",
       "<circle clip-path=\"url(#clip972)\" cx=\"939.779\" cy=\"708.327\" r=\"14.4\" fill=\"#009af9\" fill-rule=\"evenodd\" fill-opacity=\"1\" stroke=\"#000000\" stroke-opacity=\"1\" stroke-width=\"3.2\"/>\n",
       "<circle clip-path=\"url(#clip972)\" cx=\"1033.6\" cy=\"966.047\" r=\"14.4\" fill=\"#009af9\" fill-rule=\"evenodd\" fill-opacity=\"1\" stroke=\"#000000\" stroke-opacity=\"1\" stroke-width=\"3.2\"/>\n",
       "<circle clip-path=\"url(#clip972)\" cx=\"1127.42\" cy=\"732.845\" r=\"14.4\" fill=\"#009af9\" fill-rule=\"evenodd\" fill-opacity=\"1\" stroke=\"#000000\" stroke-opacity=\"1\" stroke-width=\"3.2\"/>\n",
       "<path clip-path=\"url(#clip970)\" d=\"\n",
       "M1457.69 1423.18 L2352.76 1423.18 L2352.76 47.2441 L1457.69 47.2441  Z\n",
       "  \" fill=\"#ffffff\" fill-rule=\"evenodd\" fill-opacity=\"1\"/>\n",
       "<defs>\n",
       "  <clipPath id=\"clip973\">\n",
       "    <rect x=\"1457\" y=\"47\" width=\"896\" height=\"1377\"/>\n",
       "  </clipPath>\n",
       "</defs>\n",
       "<polyline clip-path=\"url(#clip973)\" style=\"stroke:#000000; stroke-linecap:butt; stroke-linejoin:round; stroke-width:2; stroke-opacity:0.1; fill:none\" points=\"\n",
       "  1603.65,1423.18 1603.65,47.2441 \n",
       "  \"/>\n",
       "<polyline clip-path=\"url(#clip973)\" style=\"stroke:#000000; stroke-linecap:butt; stroke-linejoin:round; stroke-width:2; stroke-opacity:0.1; fill:none\" points=\"\n",
       "  1844.91,1423.18 1844.91,47.2441 \n",
       "  \"/>\n",
       "<polyline clip-path=\"url(#clip973)\" style=\"stroke:#000000; stroke-linecap:butt; stroke-linejoin:round; stroke-width:2; stroke-opacity:0.1; fill:none\" points=\"\n",
       "  2086.17,1423.18 2086.17,47.2441 \n",
       "  \"/>\n",
       "<polyline clip-path=\"url(#clip973)\" style=\"stroke:#000000; stroke-linecap:butt; stroke-linejoin:round; stroke-width:2; stroke-opacity:0.1; fill:none\" points=\"\n",
       "  2327.42,1423.18 2327.42,47.2441 \n",
       "  \"/>\n",
       "<polyline clip-path=\"url(#clip970)\" style=\"stroke:#000000; stroke-linecap:butt; stroke-linejoin:round; stroke-width:4; stroke-opacity:1; fill:none\" points=\"\n",
       "  1457.69,1423.18 2352.76,1423.18 \n",
       "  \"/>\n",
       "<polyline clip-path=\"url(#clip970)\" style=\"stroke:#000000; stroke-linecap:butt; stroke-linejoin:round; stroke-width:4; stroke-opacity:1; fill:none\" points=\"\n",
       "  1603.65,1423.18 1603.65,1404.28 \n",
       "  \"/>\n",
       "<polyline clip-path=\"url(#clip970)\" style=\"stroke:#000000; stroke-linecap:butt; stroke-linejoin:round; stroke-width:4; stroke-opacity:1; fill:none\" points=\"\n",
       "  1844.91,1423.18 1844.91,1404.28 \n",
       "  \"/>\n",
       "<polyline clip-path=\"url(#clip970)\" style=\"stroke:#000000; stroke-linecap:butt; stroke-linejoin:round; stroke-width:4; stroke-opacity:1; fill:none\" points=\"\n",
       "  2086.17,1423.18 2086.17,1404.28 \n",
       "  \"/>\n",
       "<polyline clip-path=\"url(#clip970)\" style=\"stroke:#000000; stroke-linecap:butt; stroke-linejoin:round; stroke-width:4; stroke-opacity:1; fill:none\" points=\"\n",
       "  2327.42,1423.18 2327.42,1404.28 \n",
       "  \"/>\n",
       "<path clip-path=\"url(#clip970)\" d=\"M1566.75 1454.1 Q1563.14 1454.1 1561.31 1457.66 Q1559.51 1461.2 1559.51 1468.33 Q1559.51 1475.44 1561.31 1479.01 Q1563.14 1482.55 1566.75 1482.55 Q1570.39 1482.55 1572.19 1479.01 Q1574.02 1475.44 1574.02 1468.33 Q1574.02 1461.2 1572.19 1457.66 Q1570.39 1454.1 1566.75 1454.1 M1566.75 1450.39 Q1572.56 1450.39 1575.62 1455 Q1578.7 1459.58 1578.7 1468.33 Q1578.7 1477.06 1575.62 1481.67 Q1572.56 1486.25 1566.75 1486.25 Q1560.94 1486.25 1557.86 1481.67 Q1554.81 1477.06 1554.81 1468.33 Q1554.81 1459.58 1557.86 1455 Q1560.94 1450.39 1566.75 1450.39 Z\" fill=\"#000000\" fill-rule=\"evenodd\" fill-opacity=\"1\" /><path clip-path=\"url(#clip970)\" d=\"M1586.91 1479.7 L1591.8 1479.7 L1591.8 1485.58 L1586.91 1485.58 L1586.91 1479.7 Z\" fill=\"#000000\" fill-rule=\"evenodd\" fill-opacity=\"1\" /><path clip-path=\"url(#clip970)\" d=\"M1611.98 1454.1 Q1608.37 1454.1 1606.54 1457.66 Q1604.74 1461.2 1604.74 1468.33 Q1604.74 1475.44 1606.54 1479.01 Q1608.37 1482.55 1611.98 1482.55 Q1615.62 1482.55 1617.42 1479.01 Q1619.25 1475.44 1619.25 1468.33 Q1619.25 1461.2 1617.42 1457.66 Q1615.62 1454.1 1611.98 1454.1 M1611.98 1450.39 Q1617.79 1450.39 1620.85 1455 Q1623.93 1459.58 1623.93 1468.33 Q1623.93 1477.06 1620.85 1481.67 Q1617.79 1486.25 1611.98 1486.25 Q1606.17 1486.25 1603.1 1481.67 Q1600.04 1477.06 1600.04 1468.33 Q1600.04 1459.58 1603.1 1455 Q1606.17 1450.39 1611.98 1450.39 Z\" fill=\"#000000\" fill-rule=\"evenodd\" fill-opacity=\"1\" /><path clip-path=\"url(#clip970)\" d=\"M1636.17 1481.64 L1652.49 1481.64 L1652.49 1485.58 L1630.55 1485.58 L1630.55 1481.64 Q1633.21 1478.89 1637.79 1474.26 Q1642.4 1469.61 1643.58 1468.27 Q1645.83 1465.74 1646.71 1464.01 Q1647.61 1462.25 1647.61 1460.56 Q1647.61 1457.8 1645.66 1456.07 Q1643.74 1454.33 1640.64 1454.33 Q1638.44 1454.33 1635.99 1455.09 Q1633.56 1455.86 1630.78 1457.41 L1630.78 1452.69 Q1633.6 1451.55 1636.06 1450.97 Q1638.51 1450.39 1640.55 1450.39 Q1645.92 1450.39 1649.11 1453.08 Q1652.31 1455.77 1652.31 1460.26 Q1652.31 1462.39 1651.5 1464.31 Q1650.71 1466.2 1648.6 1468.8 Q1648.03 1469.47 1644.92 1472.69 Q1641.82 1475.88 1636.17 1481.64 Z\" fill=\"#000000\" fill-rule=\"evenodd\" fill-opacity=\"1\" /><path clip-path=\"url(#clip970)\" d=\"M1806.97 1454.1 Q1803.36 1454.1 1801.53 1457.66 Q1799.72 1461.2 1799.72 1468.33 Q1799.72 1475.44 1801.53 1479.01 Q1803.36 1482.55 1806.97 1482.55 Q1810.6 1482.55 1812.41 1479.01 Q1814.24 1475.44 1814.24 1468.33 Q1814.24 1461.2 1812.41 1457.66 Q1810.6 1454.1 1806.97 1454.1 M1806.97 1450.39 Q1812.78 1450.39 1815.83 1455 Q1818.91 1459.58 1818.91 1468.33 Q1818.91 1477.06 1815.83 1481.67 Q1812.78 1486.25 1806.97 1486.25 Q1801.16 1486.25 1798.08 1481.67 Q1795.02 1477.06 1795.02 1468.33 Q1795.02 1459.58 1798.08 1455 Q1801.16 1450.39 1806.97 1450.39 Z\" fill=\"#000000\" fill-rule=\"evenodd\" fill-opacity=\"1\" /><path clip-path=\"url(#clip970)\" d=\"M1827.13 1479.7 L1832.02 1479.7 L1832.02 1485.58 L1827.13 1485.58 L1827.13 1479.7 Z\" fill=\"#000000\" fill-rule=\"evenodd\" fill-opacity=\"1\" /><path clip-path=\"url(#clip970)\" d=\"M1852.2 1454.1 Q1848.59 1454.1 1846.76 1457.66 Q1844.95 1461.2 1844.95 1468.33 Q1844.95 1475.44 1846.76 1479.01 Q1848.59 1482.55 1852.2 1482.55 Q1855.83 1482.55 1857.64 1479.01 Q1859.47 1475.44 1859.47 1468.33 Q1859.47 1461.2 1857.64 1457.66 Q1855.83 1454.1 1852.2 1454.1 M1852.2 1450.39 Q1858.01 1450.39 1861.07 1455 Q1864.14 1459.58 1864.14 1468.33 Q1864.14 1477.06 1861.07 1481.67 Q1858.01 1486.25 1852.2 1486.25 Q1846.39 1486.25 1843.31 1481.67 Q1840.26 1477.06 1840.26 1468.33 Q1840.26 1459.58 1843.31 1455 Q1846.39 1450.39 1852.2 1450.39 Z\" fill=\"#000000\" fill-rule=\"evenodd\" fill-opacity=\"1\" /><path clip-path=\"url(#clip970)\" d=\"M1885.21 1455.09 L1873.4 1473.54 L1885.21 1473.54 L1885.21 1455.09 M1883.98 1451.02 L1889.86 1451.02 L1889.86 1473.54 L1894.79 1473.54 L1894.79 1477.43 L1889.86 1477.43 L1889.86 1485.58 L1885.21 1485.58 L1885.21 1477.43 L1869.61 1477.43 L1869.61 1472.92 L1883.98 1451.02 Z\" fill=\"#000000\" fill-rule=\"evenodd\" fill-opacity=\"1\" /><path clip-path=\"url(#clip970)\" d=\"M2048.39 1454.1 Q2044.78 1454.1 2042.95 1457.66 Q2041.14 1461.2 2041.14 1468.33 Q2041.14 1475.44 2042.95 1479.01 Q2044.78 1482.55 2048.39 1482.55 Q2052.02 1482.55 2053.83 1479.01 Q2055.66 1475.44 2055.66 1468.33 Q2055.66 1461.2 2053.83 1457.66 Q2052.02 1454.1 2048.39 1454.1 M2048.39 1450.39 Q2054.2 1450.39 2057.25 1455 Q2060.33 1459.58 2060.33 1468.33 Q2060.33 1477.06 2057.25 1481.67 Q2054.2 1486.25 2048.39 1486.25 Q2042.58 1486.25 2039.5 1481.67 Q2036.44 1477.06 2036.44 1468.33 Q2036.44 1459.58 2039.5 1455 Q2042.58 1450.39 2048.39 1450.39 Z\" fill=\"#000000\" fill-rule=\"evenodd\" fill-opacity=\"1\" /><path clip-path=\"url(#clip970)\" d=\"M2068.55 1479.7 L2073.43 1479.7 L2073.43 1485.58 L2068.55 1485.58 L2068.55 1479.7 Z\" fill=\"#000000\" fill-rule=\"evenodd\" fill-opacity=\"1\" /><path clip-path=\"url(#clip970)\" d=\"M2093.62 1454.1 Q2090.01 1454.1 2088.18 1457.66 Q2086.37 1461.2 2086.37 1468.33 Q2086.37 1475.44 2088.18 1479.01 Q2090.01 1482.55 2093.62 1482.55 Q2097.25 1482.55 2099.06 1479.01 Q2100.89 1475.44 2100.89 1468.33 Q2100.89 1461.2 2099.06 1457.66 Q2097.25 1454.1 2093.62 1454.1 M2093.62 1450.39 Q2099.43 1450.39 2102.49 1455 Q2105.56 1459.58 2105.56 1468.33 Q2105.56 1477.06 2102.49 1481.67 Q2099.43 1486.25 2093.62 1486.25 Q2087.81 1486.25 2084.73 1481.67 Q2081.68 1477.06 2081.68 1468.33 Q2081.68 1459.58 2084.73 1455 Q2087.81 1450.39 2093.62 1450.39 Z\" fill=\"#000000\" fill-rule=\"evenodd\" fill-opacity=\"1\" /><path clip-path=\"url(#clip970)\" d=\"M2124.36 1466.44 Q2121.21 1466.44 2119.36 1468.59 Q2117.53 1470.74 2117.53 1474.49 Q2117.53 1478.22 2119.36 1480.39 Q2121.21 1482.55 2124.36 1482.55 Q2127.51 1482.55 2129.34 1480.39 Q2131.19 1478.22 2131.19 1474.49 Q2131.19 1470.74 2129.34 1468.59 Q2127.51 1466.44 2124.36 1466.44 M2133.64 1451.78 L2133.64 1456.04 Q2131.88 1455.21 2130.08 1454.77 Q2128.3 1454.33 2126.54 1454.33 Q2121.91 1454.33 2119.45 1457.45 Q2117.02 1460.58 2116.68 1466.9 Q2118.04 1464.89 2120.1 1463.82 Q2122.16 1462.73 2124.64 1462.73 Q2129.85 1462.73 2132.86 1465.9 Q2135.89 1469.05 2135.89 1474.49 Q2135.89 1479.82 2132.74 1483.03 Q2129.59 1486.25 2124.36 1486.25 Q2118.37 1486.25 2115.19 1481.67 Q2112.02 1477.06 2112.02 1468.33 Q2112.02 1460.14 2115.91 1455.28 Q2119.8 1450.39 2126.35 1450.39 Q2128.11 1450.39 2129.89 1450.74 Q2131.7 1451.09 2133.64 1451.78 Z\" fill=\"#000000\" fill-rule=\"evenodd\" fill-opacity=\"1\" /><path clip-path=\"url(#clip970)\" d=\"M2289.77 1454.1 Q2286.16 1454.1 2284.33 1457.66 Q2282.53 1461.2 2282.53 1468.33 Q2282.53 1475.44 2284.33 1479.01 Q2286.16 1482.55 2289.77 1482.55 Q2293.41 1482.55 2295.21 1479.01 Q2297.04 1475.44 2297.04 1468.33 Q2297.04 1461.2 2295.21 1457.66 Q2293.41 1454.1 2289.77 1454.1 M2289.77 1450.39 Q2295.58 1450.39 2298.64 1455 Q2301.72 1459.58 2301.72 1468.33 Q2301.72 1477.06 2298.64 1481.67 Q2295.58 1486.25 2289.77 1486.25 Q2283.96 1486.25 2280.88 1481.67 Q2277.83 1477.06 2277.83 1468.33 Q2277.83 1459.58 2280.88 1455 Q2283.96 1450.39 2289.77 1450.39 Z\" fill=\"#000000\" fill-rule=\"evenodd\" fill-opacity=\"1\" /><path clip-path=\"url(#clip970)\" d=\"M2309.94 1479.7 L2314.82 1479.7 L2314.82 1485.58 L2309.94 1485.58 L2309.94 1479.7 Z\" fill=\"#000000\" fill-rule=\"evenodd\" fill-opacity=\"1\" /><path clip-path=\"url(#clip970)\" d=\"M2335 1454.1 Q2331.39 1454.1 2329.57 1457.66 Q2327.76 1461.2 2327.76 1468.33 Q2327.76 1475.44 2329.57 1479.01 Q2331.39 1482.55 2335 1482.55 Q2338.64 1482.55 2340.44 1479.01 Q2342.27 1475.44 2342.27 1468.33 Q2342.27 1461.2 2340.44 1457.66 Q2338.64 1454.1 2335 1454.1 M2335 1450.39 Q2340.81 1450.39 2343.87 1455 Q2346.95 1459.58 2346.95 1468.33 Q2346.95 1477.06 2343.87 1481.67 Q2340.81 1486.25 2335 1486.25 Q2329.19 1486.25 2326.12 1481.67 Q2323.06 1477.06 2323.06 1468.33 Q2323.06 1459.58 2326.12 1455 Q2329.19 1450.39 2335 1450.39 Z\" fill=\"#000000\" fill-rule=\"evenodd\" fill-opacity=\"1\" /><path clip-path=\"url(#clip970)\" d=\"M2365.17 1469.17 Q2361.83 1469.17 2359.91 1470.95 Q2358.01 1472.73 2358.01 1475.86 Q2358.01 1478.98 2359.91 1480.77 Q2361.83 1482.55 2365.17 1482.55 Q2368.5 1482.55 2370.42 1480.77 Q2372.34 1478.96 2372.34 1475.86 Q2372.34 1472.73 2370.42 1470.95 Q2368.52 1469.17 2365.17 1469.17 M2360.49 1467.18 Q2357.48 1466.44 2355.79 1464.38 Q2354.13 1462.32 2354.13 1459.35 Q2354.13 1455.21 2357.06 1452.8 Q2360.03 1450.39 2365.17 1450.39 Q2370.33 1450.39 2373.27 1452.8 Q2376.21 1455.21 2376.21 1459.35 Q2376.21 1462.32 2374.52 1464.38 Q2372.85 1466.44 2369.87 1467.18 Q2373.25 1467.96 2375.12 1470.26 Q2377.02 1472.55 2377.02 1475.86 Q2377.02 1480.88 2373.94 1483.57 Q2370.88 1486.25 2365.17 1486.25 Q2359.45 1486.25 2356.37 1483.57 Q2353.31 1480.88 2353.31 1475.86 Q2353.31 1472.55 2355.21 1470.26 Q2357.11 1467.96 2360.49 1467.18 M2358.78 1459.79 Q2358.78 1462.48 2360.44 1463.98 Q2362.13 1465.49 2365.17 1465.49 Q2368.18 1465.49 2369.87 1463.98 Q2371.58 1462.48 2371.58 1459.79 Q2371.58 1457.11 2369.87 1455.6 Q2368.18 1454.1 2365.17 1454.1 Q2362.13 1454.1 2360.44 1455.6 Q2358.78 1457.11 2358.78 1459.79 Z\" fill=\"#000000\" fill-rule=\"evenodd\" fill-opacity=\"1\" /><path clip-path=\"url(#clip970)\" d=\"M1864.59 1537.87 Q1863.61 1537.3 1862.43 1537.04 Q1861.28 1536.76 1859.88 1536.76 Q1854.92 1536.76 1852.24 1540 Q1849.6 1543.22 1849.6 1549.27 L1849.6 1568.04 L1843.71 1568.04 L1843.71 1532.4 L1849.6 1532.4 L1849.6 1537.93 Q1851.45 1534.69 1854.41 1533.13 Q1857.37 1531.54 1861.6 1531.54 Q1862.21 1531.54 1862.94 1531.63 Q1863.67 1531.7 1864.56 1531.85 L1864.59 1537.87 Z\" fill=\"#000000\" fill-rule=\"evenodd\" fill-opacity=\"1\" /><path clip-path=\"url(#clip970)\" d=\"M1886.94 1550.12 Q1879.84 1550.12 1877.1 1551.75 Q1874.37 1553.37 1874.37 1557.29 Q1874.37 1560.4 1876.4 1562.25 Q1878.47 1564.07 1882 1564.07 Q1886.87 1564.07 1889.8 1560.63 Q1892.76 1557.16 1892.76 1551.43 L1892.76 1550.12 L1886.94 1550.12 M1898.62 1547.71 L1898.62 1568.04 L1892.76 1568.04 L1892.76 1562.63 Q1890.76 1565.88 1887.77 1567.44 Q1884.77 1568.97 1880.44 1568.97 Q1874.97 1568.97 1871.72 1565.91 Q1868.51 1562.82 1868.51 1557.67 Q1868.51 1551.65 1872.52 1548.6 Q1876.56 1545.54 1884.55 1545.54 L1892.76 1545.54 L1892.76 1544.97 Q1892.76 1540.93 1890.09 1538.73 Q1887.45 1536.5 1882.64 1536.5 Q1879.59 1536.5 1876.69 1537.23 Q1873.79 1537.97 1871.12 1539.43 L1871.12 1534.02 Q1874.33 1532.78 1877.36 1532.17 Q1880.38 1531.54 1883.25 1531.54 Q1890.98 1531.54 1894.8 1535.55 Q1898.62 1539.56 1898.62 1547.71 Z\" fill=\"#000000\" fill-rule=\"evenodd\" fill-opacity=\"1\" /><path clip-path=\"url(#clip970)\" d=\"M1916.47 1522.27 L1916.47 1532.4 L1928.54 1532.4 L1928.54 1536.95 L1916.47 1536.95 L1916.47 1556.3 Q1916.47 1560.66 1917.65 1561.9 Q1918.86 1563.14 1922.52 1563.14 L1928.54 1563.14 L1928.54 1568.04 L1922.52 1568.04 Q1915.74 1568.04 1913.16 1565.53 Q1910.59 1562.98 1910.59 1556.3 L1910.59 1536.95 L1906.29 1536.95 L1906.29 1532.4 L1910.59 1532.4 L1910.59 1522.27 L1916.47 1522.27 Z\" fill=\"#000000\" fill-rule=\"evenodd\" fill-opacity=\"1\" /><path clip-path=\"url(#clip970)\" d=\"M1966.73 1548.76 L1966.73 1551.62 L1939.8 1551.62 Q1940.19 1557.67 1943.43 1560.85 Q1946.71 1564 1952.54 1564 Q1955.91 1564 1959.06 1563.17 Q1962.24 1562.35 1965.36 1560.69 L1965.36 1566.23 Q1962.21 1567.57 1958.9 1568.27 Q1955.59 1568.97 1952.19 1568.97 Q1943.66 1568.97 1938.66 1564 Q1933.69 1559.04 1933.69 1550.57 Q1933.69 1541.82 1938.4 1536.69 Q1943.15 1531.54 1951.17 1531.54 Q1958.36 1531.54 1962.53 1536.18 Q1966.73 1540.8 1966.73 1548.76 M1960.88 1547.04 Q1960.81 1542.23 1958.17 1539.37 Q1955.56 1536.5 1951.23 1536.5 Q1946.33 1536.5 1943.37 1539.27 Q1940.44 1542.04 1940 1547.07 L1960.88 1547.04 Z\" fill=\"#000000\" fill-rule=\"evenodd\" fill-opacity=\"1\" /><polyline clip-path=\"url(#clip973)\" style=\"stroke:#000000; stroke-linecap:butt; stroke-linejoin:round; stroke-width:2; stroke-opacity:0.1; fill:none\" points=\"\n",
       "  1457.69,1335.62 2352.76,1335.62 \n",
       "  \"/>\n",
       "<polyline clip-path=\"url(#clip973)\" style=\"stroke:#000000; stroke-linecap:butt; stroke-linejoin:round; stroke-width:2; stroke-opacity:0.1; fill:none\" points=\"\n",
       "  1457.69,1128.6 2352.76,1128.6 \n",
       "  \"/>\n",
       "<polyline clip-path=\"url(#clip973)\" style=\"stroke:#000000; stroke-linecap:butt; stroke-linejoin:round; stroke-width:2; stroke-opacity:0.1; fill:none\" points=\"\n",
       "  1457.69,921.571 2352.76,921.571 \n",
       "  \"/>\n",
       "<polyline clip-path=\"url(#clip973)\" style=\"stroke:#000000; stroke-linecap:butt; stroke-linejoin:round; stroke-width:2; stroke-opacity:0.1; fill:none\" points=\"\n",
       "  1457.69,714.545 2352.76,714.545 \n",
       "  \"/>\n",
       "<polyline clip-path=\"url(#clip973)\" style=\"stroke:#000000; stroke-linecap:butt; stroke-linejoin:round; stroke-width:2; stroke-opacity:0.1; fill:none\" points=\"\n",
       "  1457.69,507.519 2352.76,507.519 \n",
       "  \"/>\n",
       "<polyline clip-path=\"url(#clip973)\" style=\"stroke:#000000; stroke-linecap:butt; stroke-linejoin:round; stroke-width:2; stroke-opacity:0.1; fill:none\" points=\"\n",
       "  1457.69,300.493 2352.76,300.493 \n",
       "  \"/>\n",
       "<polyline clip-path=\"url(#clip973)\" style=\"stroke:#000000; stroke-linecap:butt; stroke-linejoin:round; stroke-width:2; stroke-opacity:0.1; fill:none\" points=\"\n",
       "  1457.69,93.4673 2352.76,93.4673 \n",
       "  \"/>\n",
       "<polyline clip-path=\"url(#clip970)\" style=\"stroke:#000000; stroke-linecap:butt; stroke-linejoin:round; stroke-width:4; stroke-opacity:1; fill:none\" points=\"\n",
       "  1457.69,1423.18 1457.69,47.2441 \n",
       "  \"/>\n",
       "<polyline clip-path=\"url(#clip970)\" style=\"stroke:#000000; stroke-linecap:butt; stroke-linejoin:round; stroke-width:4; stroke-opacity:1; fill:none\" points=\"\n",
       "  1457.69,1335.62 1476.59,1335.62 \n",
       "  \"/>\n",
       "<polyline clip-path=\"url(#clip970)\" style=\"stroke:#000000; stroke-linecap:butt; stroke-linejoin:round; stroke-width:4; stroke-opacity:1; fill:none\" points=\"\n",
       "  1457.69,1128.6 1476.59,1128.6 \n",
       "  \"/>\n",
       "<polyline clip-path=\"url(#clip970)\" style=\"stroke:#000000; stroke-linecap:butt; stroke-linejoin:round; stroke-width:4; stroke-opacity:1; fill:none\" points=\"\n",
       "  1457.69,921.571 1476.59,921.571 \n",
       "  \"/>\n",
       "<polyline clip-path=\"url(#clip970)\" style=\"stroke:#000000; stroke-linecap:butt; stroke-linejoin:round; stroke-width:4; stroke-opacity:1; fill:none\" points=\"\n",
       "  1457.69,714.545 1476.59,714.545 \n",
       "  \"/>\n",
       "<polyline clip-path=\"url(#clip970)\" style=\"stroke:#000000; stroke-linecap:butt; stroke-linejoin:round; stroke-width:4; stroke-opacity:1; fill:none\" points=\"\n",
       "  1457.69,507.519 1476.59,507.519 \n",
       "  \"/>\n",
       "<polyline clip-path=\"url(#clip970)\" style=\"stroke:#000000; stroke-linecap:butt; stroke-linejoin:round; stroke-width:4; stroke-opacity:1; fill:none\" points=\"\n",
       "  1457.69,300.493 1476.59,300.493 \n",
       "  \"/>\n",
       "<polyline clip-path=\"url(#clip970)\" style=\"stroke:#000000; stroke-linecap:butt; stroke-linejoin:round; stroke-width:4; stroke-opacity:1; fill:none\" points=\"\n",
       "  1457.69,93.4673 1476.59,93.4673 \n",
       "  \"/>\n",
       "<path clip-path=\"url(#clip970)\" d=\"M1315.65 1336.07 L1345.32 1336.07 L1345.32 1340.01 L1315.65 1340.01 L1315.65 1336.07 Z\" fill=\"#000000\" fill-rule=\"evenodd\" fill-opacity=\"1\" /><path clip-path=\"url(#clip970)\" d=\"M1365.42 1321.42 Q1361.81 1321.42 1359.98 1324.99 Q1358.17 1328.53 1358.17 1335.66 Q1358.17 1342.76 1359.98 1346.33 Q1361.81 1349.87 1365.42 1349.87 Q1369.05 1349.87 1370.86 1346.33 Q1372.69 1342.76 1372.69 1335.66 Q1372.69 1328.53 1370.86 1324.99 Q1369.05 1321.42 1365.42 1321.42 M1365.42 1317.72 Q1371.23 1317.72 1374.28 1322.32 Q1377.36 1326.91 1377.36 1335.66 Q1377.36 1344.38 1374.28 1348.99 Q1371.23 1353.57 1365.42 1353.57 Q1359.61 1353.57 1356.53 1348.99 Q1353.47 1344.38 1353.47 1335.66 Q1353.47 1326.91 1356.53 1322.32 Q1359.61 1317.72 1365.42 1317.72 Z\" fill=\"#000000\" fill-rule=\"evenodd\" fill-opacity=\"1\" /><path clip-path=\"url(#clip970)\" d=\"M1385.58 1347.02 L1390.46 1347.02 L1390.46 1352.9 L1385.58 1352.9 L1385.58 1347.02 Z\" fill=\"#000000\" fill-rule=\"evenodd\" fill-opacity=\"1\" /><path clip-path=\"url(#clip970)\" d=\"M1399.47 1318.34 L1421.69 1318.34 L1421.69 1320.33 L1409.14 1352.9 L1404.26 1352.9 L1416.07 1322.28 L1399.47 1322.28 L1399.47 1318.34 Z\" fill=\"#000000\" fill-rule=\"evenodd\" fill-opacity=\"1\" /><path clip-path=\"url(#clip970)\" d=\"M1314.58 1129.05 L1344.26 1129.05 L1344.26 1132.98 L1314.58 1132.98 L1314.58 1129.05 Z\" fill=\"#000000\" fill-rule=\"evenodd\" fill-opacity=\"1\" /><path clip-path=\"url(#clip970)\" d=\"M1364.35 1114.4 Q1360.74 1114.4 1358.91 1117.96 Q1357.11 1121.5 1357.11 1128.63 Q1357.11 1135.74 1358.91 1139.3 Q1360.74 1142.84 1364.35 1142.84 Q1367.99 1142.84 1369.79 1139.3 Q1371.62 1135.74 1371.62 1128.63 Q1371.62 1121.5 1369.79 1117.96 Q1367.99 1114.4 1364.35 1114.4 M1364.35 1110.69 Q1370.16 1110.69 1373.22 1115.3 Q1376.3 1119.88 1376.3 1128.63 Q1376.3 1137.36 1373.22 1141.96 Q1370.16 1146.55 1364.35 1146.55 Q1358.54 1146.55 1355.46 1141.96 Q1352.41 1137.36 1352.41 1128.63 Q1352.41 1119.88 1355.46 1115.3 Q1358.54 1110.69 1364.35 1110.69 Z\" fill=\"#000000\" fill-rule=\"evenodd\" fill-opacity=\"1\" /><path clip-path=\"url(#clip970)\" d=\"M1384.51 1140 L1389.4 1140 L1389.4 1145.88 L1384.51 1145.88 L1384.51 1140 Z\" fill=\"#000000\" fill-rule=\"evenodd\" fill-opacity=\"1\" /><path clip-path=\"url(#clip970)\" d=\"M1410.16 1126.73 Q1407.01 1126.73 1405.16 1128.89 Q1403.33 1131.04 1403.33 1134.79 Q1403.33 1138.52 1405.16 1140.69 Q1407.01 1142.84 1410.16 1142.84 Q1413.31 1142.84 1415.14 1140.69 Q1416.99 1138.52 1416.99 1134.79 Q1416.99 1131.04 1415.14 1128.89 Q1413.31 1126.73 1410.16 1126.73 M1419.44 1112.08 L1419.44 1116.34 Q1417.69 1115.51 1415.88 1115.07 Q1414.1 1114.63 1412.34 1114.63 Q1407.71 1114.63 1405.26 1117.75 Q1402.82 1120.88 1402.48 1127.2 Q1403.84 1125.18 1405.9 1124.12 Q1407.96 1123.03 1410.44 1123.03 Q1415.65 1123.03 1418.66 1126.2 Q1421.69 1129.35 1421.69 1134.79 Q1421.69 1140.11 1418.54 1143.33 Q1415.39 1146.55 1410.16 1146.55 Q1404.17 1146.55 1401 1141.96 Q1397.82 1137.36 1397.82 1128.63 Q1397.82 1120.44 1401.71 1115.58 Q1405.6 1110.69 1412.15 1110.69 Q1413.91 1110.69 1415.69 1111.04 Q1417.5 1111.39 1419.44 1112.08 Z\" fill=\"#000000\" fill-rule=\"evenodd\" fill-opacity=\"1\" /><path clip-path=\"url(#clip970)\" d=\"M1315.74 922.022 L1345.42 922.022 L1345.42 925.957 L1315.74 925.957 L1315.74 922.022 Z\" fill=\"#000000\" fill-rule=\"evenodd\" fill-opacity=\"1\" /><path clip-path=\"url(#clip970)\" d=\"M1365.51 907.37 Q1361.9 907.37 1360.07 910.934 Q1358.26 914.476 1358.26 921.606 Q1358.26 928.712 1360.07 932.277 Q1361.9 935.819 1365.51 935.819 Q1369.14 935.819 1370.95 932.277 Q1372.78 928.712 1372.78 921.606 Q1372.78 914.476 1370.95 910.934 Q1369.14 907.37 1365.51 907.37 M1365.51 903.666 Q1371.32 903.666 1374.38 908.272 Q1377.45 912.856 1377.45 921.606 Q1377.45 930.332 1374.38 934.939 Q1371.32 939.522 1365.51 939.522 Q1359.7 939.522 1356.62 934.939 Q1353.57 930.332 1353.57 921.606 Q1353.57 912.856 1356.62 908.272 Q1359.7 903.666 1365.51 903.666 Z\" fill=\"#000000\" fill-rule=\"evenodd\" fill-opacity=\"1\" /><path clip-path=\"url(#clip970)\" d=\"M1385.67 932.971 L1390.56 932.971 L1390.56 938.851 L1385.67 938.851 L1385.67 932.971 Z\" fill=\"#000000\" fill-rule=\"evenodd\" fill-opacity=\"1\" /><path clip-path=\"url(#clip970)\" d=\"M1400.79 904.291 L1419.14 904.291 L1419.14 908.226 L1405.07 908.226 L1405.07 916.698 Q1406.09 916.351 1407.11 916.189 Q1408.13 916.004 1409.14 916.004 Q1414.93 916.004 1418.31 919.175 Q1421.69 922.346 1421.69 927.763 Q1421.69 933.342 1418.22 936.444 Q1414.75 939.522 1408.43 939.522 Q1406.25 939.522 1403.98 939.152 Q1401.74 938.781 1399.33 938.041 L1399.33 933.342 Q1401.41 934.476 1403.63 935.031 Q1405.86 935.587 1408.33 935.587 Q1412.34 935.587 1414.68 933.481 Q1417.01 931.374 1417.01 927.763 Q1417.01 924.152 1414.68 922.045 Q1412.34 919.939 1408.33 919.939 Q1406.46 919.939 1404.58 920.356 Q1402.73 920.772 1400.79 921.652 L1400.79 904.291 Z\" fill=\"#000000\" fill-rule=\"evenodd\" fill-opacity=\"1\" /><path clip-path=\"url(#clip970)\" d=\"M1314.26 714.996 L1343.94 714.996 L1343.94 718.932 L1314.26 718.932 L1314.26 714.996 Z\" fill=\"#000000\" fill-rule=\"evenodd\" fill-opacity=\"1\" /><path clip-path=\"url(#clip970)\" d=\"M1364.03 700.344 Q1360.42 700.344 1358.59 703.908 Q1356.78 707.45 1356.78 714.58 Q1356.78 721.686 1358.59 725.251 Q1360.42 728.793 1364.03 728.793 Q1367.66 728.793 1369.47 725.251 Q1371.3 721.686 1371.3 714.58 Q1371.3 707.45 1369.47 703.908 Q1367.66 700.344 1364.03 700.344 M1364.03 696.64 Q1369.84 696.64 1372.89 701.246 Q1375.97 705.83 1375.97 714.58 Q1375.97 723.307 1372.89 727.913 Q1369.84 732.496 1364.03 732.496 Q1358.22 732.496 1355.14 727.913 Q1352.08 723.307 1352.08 714.58 Q1352.08 705.83 1355.14 701.246 Q1358.22 696.64 1364.03 696.64 Z\" fill=\"#000000\" fill-rule=\"evenodd\" fill-opacity=\"1\" /><path clip-path=\"url(#clip970)\" d=\"M1384.19 725.945 L1389.07 725.945 L1389.07 731.825 L1384.19 731.825 L1384.19 725.945 Z\" fill=\"#000000\" fill-rule=\"evenodd\" fill-opacity=\"1\" /><path clip-path=\"url(#clip970)\" d=\"M1412.11 701.339 L1400.3 719.788 L1412.11 719.788 L1412.11 701.339 M1410.88 697.265 L1416.76 697.265 L1416.76 719.788 L1421.69 719.788 L1421.69 723.677 L1416.76 723.677 L1416.76 731.825 L1412.11 731.825 L1412.11 723.677 L1396.51 723.677 L1396.51 719.163 L1410.88 697.265 Z\" fill=\"#000000\" fill-rule=\"evenodd\" fill-opacity=\"1\" /><path clip-path=\"url(#clip970)\" d=\"M1315.39 507.97 L1345.07 507.97 L1345.07 511.906 L1315.39 511.906 L1315.39 507.97 Z\" fill=\"#000000\" fill-rule=\"evenodd\" fill-opacity=\"1\" /><path clip-path=\"url(#clip970)\" d=\"M1365.16 493.318 Q1361.55 493.318 1359.72 496.883 Q1357.92 500.424 1357.92 507.554 Q1357.92 514.66 1359.72 518.225 Q1361.55 521.767 1365.16 521.767 Q1368.8 521.767 1370.6 518.225 Q1372.43 514.66 1372.43 507.554 Q1372.43 500.424 1370.6 496.883 Q1368.8 493.318 1365.16 493.318 M1365.16 489.614 Q1370.97 489.614 1374.03 494.221 Q1377.11 498.804 1377.11 507.554 Q1377.11 516.281 1374.03 520.887 Q1370.97 525.47 1365.16 525.47 Q1359.35 525.47 1356.27 520.887 Q1353.22 516.281 1353.22 507.554 Q1353.22 498.804 1356.27 494.221 Q1359.35 489.614 1365.16 489.614 Z\" fill=\"#000000\" fill-rule=\"evenodd\" fill-opacity=\"1\" /><path clip-path=\"url(#clip970)\" d=\"M1385.32 518.919 L1390.21 518.919 L1390.21 524.799 L1385.32 524.799 L1385.32 518.919 Z\" fill=\"#000000\" fill-rule=\"evenodd\" fill-opacity=\"1\" /><path clip-path=\"url(#clip970)\" d=\"M1414.56 506.165 Q1417.92 506.883 1419.79 509.151 Q1421.69 511.42 1421.69 514.753 Q1421.69 519.869 1418.17 522.669 Q1414.65 525.47 1408.17 525.47 Q1406 525.47 1403.68 525.031 Q1401.39 524.614 1398.94 523.757 L1398.94 519.244 Q1400.88 520.378 1403.19 520.957 Q1405.51 521.535 1408.03 521.535 Q1412.43 521.535 1414.72 519.799 Q1417.04 518.063 1417.04 514.753 Q1417.04 511.697 1414.88 509.984 Q1412.76 508.248 1408.94 508.248 L1404.91 508.248 L1404.91 504.406 L1409.12 504.406 Q1412.57 504.406 1414.4 503.04 Q1416.23 501.651 1416.23 499.058 Q1416.23 496.396 1414.33 494.984 Q1412.45 493.549 1408.94 493.549 Q1407.01 493.549 1404.82 493.966 Q1402.62 494.383 1399.98 495.262 L1399.98 491.096 Q1402.64 490.355 1404.95 489.984 Q1407.29 489.614 1409.35 489.614 Q1414.68 489.614 1417.78 492.045 Q1420.88 494.452 1420.88 498.572 Q1420.88 501.443 1419.24 503.433 Q1417.59 505.401 1414.56 506.165 Z\" fill=\"#000000\" fill-rule=\"evenodd\" fill-opacity=\"1\" /><path clip-path=\"url(#clip970)\" d=\"M1316.34 300.945 L1346.02 300.945 L1346.02 304.88 L1316.34 304.88 L1316.34 300.945 Z\" fill=\"#000000\" fill-rule=\"evenodd\" fill-opacity=\"1\" /><path clip-path=\"url(#clip970)\" d=\"M1366.11 286.292 Q1362.5 286.292 1360.67 289.857 Q1358.87 293.398 1358.87 300.528 Q1358.87 307.634 1360.67 311.199 Q1362.5 314.741 1366.11 314.741 Q1369.75 314.741 1371.55 311.199 Q1373.38 307.634 1373.38 300.528 Q1373.38 293.398 1371.55 289.857 Q1369.75 286.292 1366.11 286.292 M1366.11 282.588 Q1371.92 282.588 1374.98 287.195 Q1378.06 291.778 1378.06 300.528 Q1378.06 309.255 1374.98 313.861 Q1371.92 318.444 1366.11 318.444 Q1360.3 318.444 1357.22 313.861 Q1354.17 309.255 1354.17 300.528 Q1354.17 291.778 1357.22 287.195 Q1360.3 282.588 1366.11 282.588 Z\" fill=\"#000000\" fill-rule=\"evenodd\" fill-opacity=\"1\" /><path clip-path=\"url(#clip970)\" d=\"M1386.27 311.894 L1391.16 311.894 L1391.16 317.773 L1386.27 317.773 L1386.27 311.894 Z\" fill=\"#000000\" fill-rule=\"evenodd\" fill-opacity=\"1\" /><path clip-path=\"url(#clip970)\" d=\"M1405.37 313.838 L1421.69 313.838 L1421.69 317.773 L1399.75 317.773 L1399.75 313.838 Q1402.41 311.083 1406.99 306.454 Q1411.6 301.801 1412.78 300.458 Q1415.02 297.935 1415.9 296.199 Q1416.81 294.44 1416.81 292.75 Q1416.81 289.996 1414.86 288.259 Q1412.94 286.523 1409.84 286.523 Q1407.64 286.523 1405.19 287.287 Q1402.76 288.051 1399.98 289.602 L1399.98 284.88 Q1402.8 283.746 1405.26 283.167 Q1407.71 282.588 1409.75 282.588 Q1415.12 282.588 1418.31 285.273 Q1421.5 287.959 1421.5 292.449 Q1421.5 294.579 1420.69 296.5 Q1419.91 298.398 1417.8 300.991 Q1417.22 301.662 1414.12 304.88 Q1411.02 308.074 1405.37 313.838 Z\" fill=\"#000000\" fill-rule=\"evenodd\" fill-opacity=\"1\" /><path clip-path=\"url(#clip970)\" d=\"M1315.97 93.9186 L1345.65 93.9186 L1345.65 97.8538 L1315.97 97.8538 L1315.97 93.9186 Z\" fill=\"#000000\" fill-rule=\"evenodd\" fill-opacity=\"1\" /><path clip-path=\"url(#clip970)\" d=\"M1365.74 79.2659 Q1362.13 79.2659 1360.3 82.8307 Q1358.5 86.3724 1358.5 93.502 Q1358.5 100.608 1360.3 104.173 Q1362.13 107.715 1365.74 107.715 Q1369.38 107.715 1371.18 104.173 Q1373.01 100.608 1373.01 93.502 Q1373.01 86.3724 1371.18 82.8307 Q1369.38 79.2659 1365.74 79.2659 M1365.74 75.5623 Q1371.55 75.5623 1374.61 80.1687 Q1377.69 84.752 1377.69 93.502 Q1377.69 102.229 1374.61 106.835 Q1371.55 111.419 1365.74 111.419 Q1359.93 111.419 1356.85 106.835 Q1353.8 102.229 1353.8 93.502 Q1353.8 84.752 1356.85 80.1687 Q1359.93 75.5623 1365.74 75.5623 Z\" fill=\"#000000\" fill-rule=\"evenodd\" fill-opacity=\"1\" /><path clip-path=\"url(#clip970)\" d=\"M1385.9 104.868 L1390.79 104.868 L1390.79 110.747 L1385.9 110.747 L1385.9 104.868 Z\" fill=\"#000000\" fill-rule=\"evenodd\" fill-opacity=\"1\" /><path clip-path=\"url(#clip970)\" d=\"M1401.78 106.812 L1409.42 106.812 L1409.42 80.4465 L1401.11 82.1131 L1401.11 77.8539 L1409.38 76.1873 L1414.05 76.1873 L1414.05 106.812 L1421.69 106.812 L1421.69 110.747 L1401.78 110.747 L1401.78 106.812 Z\" fill=\"#000000\" fill-rule=\"evenodd\" fill-opacity=\"1\" /><path clip-path=\"url(#clip970)\" d=\"M1216.48 968.292 L1216.48 940.983 L1221.9 940.983 L1221.9 961.863 L1235.9 961.863 L1235.9 943.02 L1241.31 943.02 L1241.31 961.863 L1264 961.863 L1264 968.292 L1216.48 968.292 Z\" fill=\"#000000\" fill-rule=\"evenodd\" fill-opacity=\"1\" /><path clip-path=\"url(#clip970)\" d=\"M1249.94 935.222 L1228.36 935.222 L1228.36 929.366 L1249.71 929.366 Q1254.77 929.366 1257.32 927.393 Q1259.83 925.419 1259.83 921.473 Q1259.83 916.73 1256.81 913.993 Q1253.79 911.224 1248.57 911.224 L1228.36 911.224 L1228.36 905.367 L1264 905.367 L1264 911.224 L1258.53 911.224 Q1261.78 913.356 1263.37 916.189 Q1264.93 918.99 1264.93 922.714 Q1264.93 928.857 1261.11 932.04 Q1257.29 935.222 1249.94 935.222 M1227.5 920.486 L1227.5 920.486 Z\" fill=\"#000000\" fill-rule=\"evenodd\" fill-opacity=\"1\" /><path clip-path=\"url(#clip970)\" d=\"M1242.49 863.672 L1264 863.672 L1264 869.528 L1242.68 869.528 Q1237.62 869.528 1235.1 871.502 Q1232.59 873.475 1232.59 877.422 Q1232.59 882.164 1235.61 884.902 Q1238.64 887.639 1243.86 887.639 L1264 887.639 L1264 893.527 L1228.36 893.527 L1228.36 887.639 L1233.89 887.639 Q1230.68 885.538 1229.09 882.705 Q1227.5 879.841 1227.5 876.117 Q1227.5 869.974 1231.32 866.823 Q1235.1 863.672 1242.49 863.672 Z\" fill=\"#000000\" fill-rule=\"evenodd\" fill-opacity=\"1\" /><path clip-path=\"url(#clip970)\" d=\"M1229.72 826.337 L1235.2 826.337 Q1233.83 828.82 1233.16 831.334 Q1232.46 833.817 1232.46 836.363 Q1232.46 842.06 1236.09 845.211 Q1239.69 848.362 1246.21 848.362 Q1252.74 848.362 1256.37 845.211 Q1259.96 842.06 1259.96 836.363 Q1259.96 833.817 1259.29 831.334 Q1258.59 828.82 1257.22 826.337 L1262.64 826.337 Q1263.78 828.788 1264.35 831.43 Q1264.93 834.04 1264.93 837 Q1264.93 845.052 1259.87 849.795 Q1254.81 854.537 1246.21 854.537 Q1237.49 854.537 1232.49 849.763 Q1227.5 844.957 1227.5 836.618 Q1227.5 833.912 1228.07 831.334 Q1228.61 828.756 1229.72 826.337 Z\" fill=\"#000000\" fill-rule=\"evenodd\" fill-opacity=\"1\" /><path clip-path=\"url(#clip970)\" d=\"M1218.23 810.359 L1228.36 810.359 L1228.36 798.296 L1232.91 798.296 L1232.91 810.359 L1252.26 810.359 Q1256.62 810.359 1257.86 809.181 Q1259.1 807.972 1259.1 804.312 L1259.1 798.296 L1264 798.296 L1264 804.312 Q1264 811.091 1261.49 813.669 Q1258.94 816.247 1252.26 816.247 L1232.91 816.247 L1232.91 820.544 L1228.36 820.544 L1228.36 816.247 L1218.23 816.247 L1218.23 810.359 Z\" fill=\"#000000\" fill-rule=\"evenodd\" fill-opacity=\"1\" /><path clip-path=\"url(#clip970)\" d=\"M1228.36 790.594 L1228.36 784.737 L1264 784.737 L1264 790.594 L1228.36 790.594 M1214.48 790.594 L1214.48 784.737 L1221.9 784.737 L1221.9 790.594 L1214.48 790.594 Z\" fill=\"#000000\" fill-rule=\"evenodd\" fill-opacity=\"1\" /><path clip-path=\"url(#clip970)\" d=\"M1232.46 758.67 Q1232.46 763.38 1236.15 766.117 Q1239.81 768.855 1246.21 768.855 Q1252.61 768.855 1256.3 766.149 Q1259.96 763.412 1259.96 758.67 Q1259.96 753.991 1256.27 751.254 Q1252.58 748.516 1246.21 748.516 Q1239.88 748.516 1236.19 751.254 Q1232.46 753.991 1232.46 758.67 M1227.5 758.67 Q1227.5 751.031 1232.46 746.67 Q1237.43 742.31 1246.21 742.31 Q1254.96 742.31 1259.96 746.67 Q1264.93 751.031 1264.93 758.67 Q1264.93 766.34 1259.96 770.701 Q1254.96 775.029 1246.21 775.029 Q1237.43 775.029 1232.46 770.701 Q1227.5 766.34 1227.5 758.67 Z\" fill=\"#000000\" fill-rule=\"evenodd\" fill-opacity=\"1\" /><path clip-path=\"url(#clip970)\" d=\"M1242.49 702.97 L1264 702.97 L1264 708.826 L1242.68 708.826 Q1237.62 708.826 1235.1 710.799 Q1232.59 712.773 1232.59 716.72 Q1232.59 721.462 1235.61 724.199 Q1238.64 726.937 1243.86 726.937 L1264 726.937 L1264 732.825 L1228.36 732.825 L1228.36 726.937 L1233.89 726.937 Q1230.68 724.836 1229.09 722.003 Q1227.5 719.139 1227.5 715.415 Q1227.5 709.272 1231.32 706.121 Q1235.1 702.97 1242.49 702.97 Z\" fill=\"#000000\" fill-rule=\"evenodd\" fill-opacity=\"1\" /><path clip-path=\"url(#clip970)\" d=\"M1228.36 674.77 L1228.36 668.563 L1258.28 657.423 L1228.36 646.283 L1228.36 640.076 L1264 653.444 L1264 661.402 L1228.36 674.77 Z\" fill=\"#000000\" fill-rule=\"evenodd\" fill-opacity=\"1\" /><path clip-path=\"url(#clip970)\" d=\"M1246.08 615.791 Q1246.08 622.889 1247.71 625.626 Q1249.33 628.364 1253.25 628.364 Q1256.37 628.364 1258.21 626.327 Q1260.03 624.258 1260.03 620.725 Q1260.03 615.855 1256.59 612.927 Q1253.12 609.967 1247.39 609.967 L1246.08 609.967 L1246.08 615.791 M1243.67 604.11 L1264 604.11 L1264 609.967 L1258.59 609.967 Q1261.84 611.972 1263.4 614.964 Q1264.93 617.956 1264.93 622.284 Q1264.93 627.759 1261.87 631.005 Q1258.78 634.22 1253.63 634.22 Q1247.61 634.22 1244.56 630.21 Q1241.5 626.167 1241.5 618.178 L1241.5 609.967 L1240.93 609.967 Q1236.89 609.967 1234.69 612.64 Q1232.46 615.282 1232.46 620.088 Q1232.46 623.144 1233.19 626.04 Q1233.93 628.936 1235.39 631.61 L1229.98 631.61 Q1228.74 628.395 1228.13 625.372 Q1227.5 622.348 1227.5 619.483 Q1227.5 611.749 1231.51 607.93 Q1235.52 604.11 1243.67 604.11 Z\" fill=\"#000000\" fill-rule=\"evenodd\" fill-opacity=\"1\" /><path clip-path=\"url(#clip970)\" d=\"M1214.48 592.047 L1214.48 586.191 L1264 586.191 L1264 592.047 L1214.48 592.047 Z\" fill=\"#000000\" fill-rule=\"evenodd\" fill-opacity=\"1\" /><path clip-path=\"url(#clip970)\" d=\"M1249.94 574.542 L1228.36 574.542 L1228.36 568.685 L1249.71 568.685 Q1254.77 568.685 1257.32 566.712 Q1259.83 564.738 1259.83 560.792 Q1259.83 556.049 1256.81 553.312 Q1253.79 550.543 1248.57 550.543 L1228.36 550.543 L1228.36 544.686 L1264 544.686 L1264 550.543 L1258.53 550.543 Q1261.78 552.675 1263.37 555.508 Q1264.93 558.309 1264.93 562.033 Q1264.93 568.176 1261.11 571.359 Q1257.29 574.542 1249.94 574.542 M1227.5 559.805 L1227.5 559.805 Z\" fill=\"#000000\" fill-rule=\"evenodd\" fill-opacity=\"1\" /><path clip-path=\"url(#clip970)\" d=\"M1244.72 502.132 L1247.58 502.132 L1247.58 529.059 Q1253.63 528.677 1256.81 525.43 Q1259.96 522.152 1259.96 516.327 Q1259.96 512.953 1259.13 509.802 Q1258.31 506.619 1256.65 503.5 L1262.19 503.5 Q1263.53 506.651 1264.23 509.961 Q1264.93 513.272 1264.93 516.677 Q1264.93 525.207 1259.96 530.204 Q1255 535.17 1246.53 535.17 Q1237.78 535.17 1232.65 530.459 Q1227.5 525.717 1227.5 517.696 Q1227.5 510.503 1232.14 506.333 Q1236.76 502.132 1244.72 502.132 M1243 507.988 Q1238.19 508.052 1235.33 510.693 Q1232.46 513.303 1232.46 517.632 Q1232.46 522.534 1235.23 525.494 Q1238 528.422 1243.03 528.868 L1243 507.988 Z\" fill=\"#000000\" fill-rule=\"evenodd\" fill-opacity=\"1\" /><circle clip-path=\"url(#clip973)\" cx=\"1483.02\" cy=\"679.05\" r=\"14.4\" fill=\"#009af9\" fill-rule=\"evenodd\" fill-opacity=\"1\" stroke=\"#000000\" stroke-opacity=\"1\" stroke-width=\"3.2\"/>\n",
       "<circle clip-path=\"url(#clip973)\" cx=\"1576.84\" cy=\"1384.24\" r=\"14.4\" fill=\"#009af9\" fill-rule=\"evenodd\" fill-opacity=\"1\" stroke=\"#000000\" stroke-opacity=\"1\" stroke-width=\"3.2\"/>\n",
       "<circle clip-path=\"url(#clip973)\" cx=\"1670.67\" cy=\"732.845\" r=\"14.4\" fill=\"#009af9\" fill-rule=\"evenodd\" fill-opacity=\"1\" stroke=\"#000000\" stroke-opacity=\"1\" stroke-width=\"3.2\"/>\n",
       "<circle clip-path=\"url(#clip973)\" cx=\"1764.49\" cy=\"86.1857\" r=\"14.4\" fill=\"#009af9\" fill-rule=\"evenodd\" fill-opacity=\"1\" stroke=\"#000000\" stroke-opacity=\"1\" stroke-width=\"3.2\"/>\n",
       "<circle clip-path=\"url(#clip973)\" cx=\"1858.31\" cy=\"708.327\" r=\"14.4\" fill=\"#009af9\" fill-rule=\"evenodd\" fill-opacity=\"1\" stroke=\"#000000\" stroke-opacity=\"1\" stroke-width=\"3.2\"/>\n",
       "<circle clip-path=\"url(#clip973)\" cx=\"1952.13\" cy=\"637.807\" r=\"14.4\" fill=\"#009af9\" fill-rule=\"evenodd\" fill-opacity=\"1\" stroke=\"#000000\" stroke-opacity=\"1\" stroke-width=\"3.2\"/>\n",
       "<circle clip-path=\"url(#clip973)\" cx=\"2045.96\" cy=\"1141.94\" r=\"14.4\" fill=\"#009af9\" fill-rule=\"evenodd\" fill-opacity=\"1\" stroke=\"#000000\" stroke-opacity=\"1\" stroke-width=\"3.2\"/>\n",
       "<circle clip-path=\"url(#clip973)\" cx=\"2139.78\" cy=\"966.047\" r=\"14.4\" fill=\"#009af9\" fill-rule=\"evenodd\" fill-opacity=\"1\" stroke=\"#000000\" stroke-opacity=\"1\" stroke-width=\"3.2\"/>\n",
       "<circle clip-path=\"url(#clip973)\" cx=\"2233.6\" cy=\"589.396\" r=\"14.4\" fill=\"#009af9\" fill-rule=\"evenodd\" fill-opacity=\"1\" stroke=\"#000000\" stroke-opacity=\"1\" stroke-width=\"3.2\"/>\n",
       "<circle clip-path=\"url(#clip973)\" cx=\"2327.42\" cy=\"988.775\" r=\"14.4\" fill=\"#009af9\" fill-rule=\"evenodd\" fill-opacity=\"1\" stroke=\"#000000\" stroke-opacity=\"1\" stroke-width=\"3.2\"/>\n",
       "</svg>\n"
      ]
     },
     "metadata": {},
     "output_type": "display_data"
    }
   ],
   "source": [
    "using Plots\n",
    "plot(hob)"
   ]
  },
  {
   "cell_type": "markdown",
   "metadata": {},
   "source": [
    "# Flux.jl\n",
    "First we need to iterate through data load it into Hdf5 and collect the sizes - sizes will be needed as neural network expect uniform sizes of all training and test cases so we will need to get biggest image and pad others accordingly\n",
    "code is based on https://github.com/Dale-Black/MedicalTutorials.jl/tree/master/src/3D_Segmentation/Heart"
   ]
  },
  {
   "cell_type": "code",
   "execution_count": 2,
   "metadata": {},
   "outputs": [
    {
     "data": {
      "text/plain": [
       "unet3D (generic function with 1 method)"
      ]
     },
     "metadata": {},
     "output_type": "display_data"
    }
   ],
   "source": [
    "\n",
    "# 3D layer utilities from https://github.com/Dale-Black/MedicalTutorials.jl/tree/master/src/3D_Segmentation/Heart\n",
    "conv = (stride, in, out) -> Flux.Conv((3, 3, 3), in=>out, stride=stride, pad=Flux.SamePad())\n",
    "tran = (stride, in, out) -> Flux.ConvTranspose((3, 3, 3), in=>out, stride=stride, pad=Flux.SamePad())\n",
    "\n",
    "conv1 = (in, out) -> Flux.Chain(conv(1, in, out), Flux.BatchNorm(out), x -> leakyrelu.(x))\n",
    "conv2 = (in, out) -> Flux.Chain(conv(2, in, out), Flux.BatchNorm(out), x -> leakyrelu.(x))\n",
    "tran2 = (in, out) -> Flux.Chain(tran(2, in, out), Flux.BatchNorm(out), x -> leakyrelu.(x))\n",
    "\n",
    "\n",
    "\n",
    "function unet3D(in_chs, lbl_chs)\n",
    "    # Contracting layers\n",
    "    l1 = Flux.Chain(conv1(in_chs, 4))\n",
    "    l2 = Flux.Chain(l1, conv1(4, 4), conv2(4, 16))\n",
    "    l3 = Flux.Chain(l2, conv1(16, 16), conv2(16, 32))\n",
    "    l4 = Flux.Chain(l3, conv1(32, 32), conv2(32, 64))\n",
    "    l5 = Flux.Chain(l4, conv1(64, 64), conv2(64, 128))\n",
    "\n",
    "    # Expanding layers\n",
    "    l6 = Flux.Chain(l5, tran2(128, 64), conv1(64, 64))\n",
    "    l7 = Flux.Chain(Flux.Parallel(+, l6, l4), tran2(64, 32), conv1(32, 32))\n",
    "    l8 = Flux.Chain(Flux.Parallel(+, l7, l3), tran2(32, 16), conv1(16, 16))\n",
    "    l9 = Flux.Chain(Flux.Parallel(+, l8, l2), tran2(16, 4), conv1(4, 4))\n",
    "    l10 = Flux.Chain(l9, conv1(4, lbl_chs))\n",
    "end\n"
   ]
  },
  {
   "cell_type": "code",
   "execution_count": 5,
   "metadata": {},
   "outputs": [
    {
     "data": {
      "text/plain": [
       "gpu (generic function with 1 method)"
      ]
     },
     "metadata": {},
     "output_type": "display_data"
    }
   ],
   "source": [
    "model = unet3D(1, 2)\n",
    "ps = Flux.params(model)  \n",
    "opt = ADAM() \n",
    "loss = Flux.Losses.dice_coeff_loss\n",
    "device = gpu"
   ]
  },
  {
   "cell_type": "code",
   "execution_count": 4,
   "metadata": {},
   "outputs": [
    {
     "data": {
      "text/plain": [
       "🗂️ HDF5.File: (read-write) /media/jakub/NewVolume/projects/bigDataSet.hdf5\n",
       "├─ 📂 1\n",
       "│  ├─ 🏷️ spacing\n",
       "│  ├─ 🔢 image\n",
       "│  │  ├─ 🏷️ dataType\n",
       "│  │  ├─ 🏷️ max\n",
       "│  │  └─ 🏷️ min\n",
       "│  └─ 🔢 labelSet\n",
       "│     ├─ 🏷️ dataType\n",
       "│     ├─ 🏷️ max\n",
       "│     └─ 🏷️ min\n",
       "├─ 📂 10\n",
       "│  ├─ 🏷️ spacing\n",
       "│  ├─ 🔢 image\n",
       "│  │  ├─ 🏷️ dataType\n",
       "│  │  ├─ 🏷️ max\n",
       "│  │  └─ 🏷️ min\n",
       "│  └─ 🔢 labelSet\n",
       "│     ├─ 🏷️ dataType\n",
       "│     ├─ 🏷️ max\n",
       "│     └─ 🏷️ min\n",
       "├─ 📂 11\n",
       "│  ├─ 🏷️ spacing\n",
       "│  ├─ 🔢 image\n",
       "│  │  ├─ 🏷️ dataType\n",
       "│  │  ├─ 🏷️ max\n",
       "│  │  └─ 🏷️ min\n",
       "│  └─ 🔢 labelSet\n",
       "│     ├─ 🏷️ dataType\n",
       "│     ├─ 🏷️ max\n",
       "│     └─ 🏷️ min\n",
       "├─ 📂 12\n",
       "│  ├─ 🏷️ spacing\n",
       "│  ├─ 🔢 image\n",
       "│  │  ├─ 🏷️ dataType\n",
       "│  │  ├─ 🏷️ max\n",
       "│  │  └─ 🏷️ min\n",
       "│  └─ 🔢 labelSet\n",
       "│     ├─ 🏷️ dataType\n",
       "│     ├─ 🏷️ max\n",
       "│     └─ 🏷️ min\n",
       "├─ 📂 13\n",
       "│  ├─ 🏷️ spacing\n",
       "│  ├─ 🔢 image\n",
       "│  │  ├─ 🏷️ dataType\n",
       "│  │  ├─ 🏷️ max\n",
       "│  │  └─ 🏷️ min\n",
       "│  └─ 🔢 labelSet\n",
       "│     ├─ 🏷️ dataType\n",
       "│     ├─ 🏷️ max\n",
       "│     └─ 🏷️ min\n",
       "├─ 📂 14\n",
       "│  ├─ 🏷️ spacing\n",
       "│  ├─ 🔢 image\n",
       "│  │  ├─ 🏷️ dataType\n",
       "│  │  ├─ 🏷️ max\n",
       "│  │  └─ 🏷️ min\n",
       "│  └─ 🔢 labelSet\n",
       "│     ├─ 🏷️ dataType\n",
       "│     ├─ 🏷️ max\n",
       "│     └─ 🏷️ min\n",
       "├─ 📂 15\n",
       "│  ├─ 🏷️ spacing\n",
       "│  ├─ 🔢 image\n",
       "│  │  ├─ 🏷️ dataType\n",
       "│  │  ├─ 🏷️ max\n",
       "│  │  └─ 🏷️ min\n",
       "│  └─ 🔢 labelSet\n",
       "│     ├─ 🏷️ dataType\n",
       "│     ├─ 🏷️ max\n",
       "│     └─ 🏷️ min\n",
       "├─ 📂 16\n",
       "│  ├─ 🏷️ spacing\n",
       "│  ├─ 🔢 image\n",
       "│  │  ├─ 🏷️ dataType\n",
       "│  │  ├─ 🏷️ max\n",
       "│  │  └─ 🏷️ min\n",
       "│  └─ 🔢 labelSet\n",
       "│     ├─ 🏷️ dataType\n",
       "│     ├─ 🏷️ max\n",
       "│     └─ 🏷️ min\n",
       "├─ 📂 17\n",
       "│  ├─ 🏷️ spacing\n",
       "│  ├─ 🔢 image\n",
       "│  │  ├─ 🏷️ dataType\n",
       "│  │  ├─ 🏷️ max\n",
       "│  │  └─ 🏷️ min\n",
       "│  └─ 🔢 labelSet\n",
       "│     ├─ 🏷️ dataType\n",
       "│     ├─ 🏷️ max\n",
       "│     └─ 🏷️ min\n",
       "├─ 📂 18\n",
       "│  ├─ 🏷️ spacing\n",
       "│  ├─ 🔢 image\n",
       "│  │  ├─ 🏷️ dataType\n",
       "│  │  ├─ 🏷️ max\n",
       "│  │  └─ 🏷️ min\n",
       "│  └─ 🔢 labelSet\n",
       "│     ├─ 🏷️ dataType\n",
       "│     ├─ 🏷️ max\n",
       "│     └─ 🏷️ min\n",
       "├─ 📂 19\n",
       "│  ├─ 🏷️ spacing\n",
       "│  ├─ 🔢 image\n",
       "│  │  ├─ 🏷️ dataType\n",
       "│  │  ├─ 🏷️ max\n",
       "│  │  └─ 🏷️ min\n",
       "│  └─ 🔢 labelSet\n",
       "│     ├─ 🏷️ dataType\n",
       "│     ├─ 🏷️ max\n",
       "│     └─ 🏷️ min\n",
       "├─ 📂 2\n",
       "│  ├─ 🏷️ spacing\n",
       "│  ├─ 🔢 image\n",
       "│  │  ├─ 🏷️ dataType\n",
       "│  │  ├─ 🏷️ max\n",
       "│  │  └─ 🏷️ min\n",
       "│  └─ 🔢 labelSet\n",
       "│     ├─ 🏷️ dataType\n",
       "│     ├─ 🏷️ max\n",
       "│     └─ 🏷️ min\n",
       "├─ 📂 20\n",
       "│  ├─ 🏷️ spacing\n",
       "│  ├─ 🔢 image\n",
       "│  │  ├─ 🏷️ dataType\n",
       "│  │  ├─ 🏷️ max\n",
       "│  │  └─ 🏷️ min\n",
       "│  └─ 🔢 labelSet\n",
       "│     ├─ 🏷️ dataType\n",
       "│     ├─ 🏷️ max\n",
       "│     └─ 🏷️ min\n",
       "├─ 📂 21\n",
       "│  ├─ 🏷️ spacing\n",
       "│  ├─ 🔢 image\n",
       "│  │  ├─ 🏷️ dataType\n",
       "│  │  ├─ 🏷️ max\n",
       "│  │  └─ 🏷️ min\n",
       "│  └─ 🔢 labelSet\n",
       "│     ├─ 🏷️ dataType\n",
       "│     ├─ 🏷️ max\n",
       "│     └─ 🏷️ min\n",
       "├─ 📂 22\n",
       "│  ├─ 🏷️ spacing\n",
       "│  ├─ 🔢 image\n",
       "│  │  ├─ 🏷️ dataType\n",
       "│  │  ├─ 🏷️ max\n",
       "│  │  └─ 🏷️ min\n",
       "│  └─ 🔢 labelSet\n",
       "│     ├─ 🏷️ dataType\n",
       "│     ├─ 🏷️ max\n",
       "│     └─ 🏷️ min\n",
       "├─ 📂 23\n",
       "│  ├─ 🏷️ spacing\n",
       "│  ├─ 🔢 image\n",
       "│  │  ├─ 🏷️ dataType\n",
       "│  │  ├─ 🏷️ max\n",
       "│  │  └─ 🏷️ min\n",
       "│  └─ 🔢 labelSet\n",
       "│     ├─ 🏷️ dataType\n",
       "│     ├─ 🏷️ max\n",
       "│     └─ 🏷️ min\n",
       "├─ 📂 24\n",
       "│  ├─ 🏷️ spacing\n",
       "│  ├─ 🔢 image\n",
       "│  │  ├─ 🏷️ dataType\n",
       "│  │  ├─ 🏷️ max\n",
       "│  │  └─ 🏷️ min\n",
       "│  └─ 🔢 labelSet\n",
       "│     ├─ 🏷️ dataType\n",
       "│     ├─ 🏷️ max\n",
       "│     └─ 🏷️ min\n",
       "├─ 📂 25\n",
       "│  ├─ 🏷️ spacing\n",
       "│  ├─ 🔢 image\n",
       "│  │  ├─ 🏷️ dataType\n",
       "│  │  ├─ 🏷️ max\n",
       "│  │  └─ 🏷️ min\n",
       "│  └─ 🔢 labelSet\n",
       "│     ├─ 🏷️ dataType\n",
       "│     ├─ 🏷️ max\n",
       "│     └─ 🏷️ min\n",
       "├─ 📂 26\n",
       "│  ├─ 🏷️ spacing\n",
       "│  ├─ 🔢 image\n",
       "│  │  ├─ 🏷️ dataType\n",
       "│  │  ├─ 🏷️ max\n",
       "│  │  └─ 🏷️ min\n",
       "│  └─ 🔢 labelSet\n",
       "│     ├─ 🏷️ dataType\n",
       "│     ├─ 🏷️ max\n",
       "│     └─ 🏷️ min\n",
       "├─ 📂 27\n",
       "│  ├─ 🏷️ spacing\n",
       "│  ├─ 🔢 image\n",
       "│  │  ├─ 🏷️ dataType\n",
       "│  │  ├─ 🏷️ max\n",
       "│  │  └─ 🏷️ min\n",
       "│  └─ 🔢 labelSet\n",
       "│     ├─ 🏷️ dataType\n",
       "│     ├─ 🏷️ max\n",
       "│     └─ 🏷️ min\n",
       "├─ 📂 28\n",
       "│  ├─ 🏷️ spacing\n",
       "│  ├─ 🔢 image\n",
       "│  │  ├─ 🏷️ dataType\n",
       "│  │  ├─ 🏷️ max\n",
       "│  │  └─ 🏷️ min\n",
       "│  └─ 🔢 labelSet\n",
       "│     ├─ 🏷️ dataType\n",
       "│     ├─ 🏷️ max\n",
       "│     └─ 🏷️ min\n",
       "├─ 📂 29\n",
       "│  ├─ 🏷️ spacing\n",
       "│  ├─ 🔢 image\n",
       "│  │  ├─ 🏷️ dataType\n",
       "│  │  ├─ 🏷️ max\n",
       "│  │  └─ 🏷️ min\n",
       "│  └─ 🔢 labelSet\n",
       "│     ├─ 🏷️ dataType\n",
       "│     ├─ 🏷️ max\n",
       "│     └─ 🏷️ min\n",
       "├─ 📂 3\n",
       "│  ├─ 🏷️ spacing\n",
       "│  ├─ 🔢 image\n",
       "│  │  ├─ 🏷️ dataType\n",
       "│  │  ├─ 🏷️ max\n",
       "│  │  └─ 🏷️ min\n",
       "│  └─ 🔢 labelSet\n",
       "│     ├─ 🏷️ dataType\n",
       "│     ├─ 🏷️ max\n",
       "│     └─ 🏷️ min\n",
       "├─ 📂 30\n",
       "│  ├─ 🏷️ spacing\n",
       "│  ├─ 🔢 image\n",
       "│  │  ├─ 🏷️ dataType\n",
       "│  │  ├─ 🏷️ max\n",
       "│  │  └─ 🏷️ min\n",
       "│  └─ 🔢 labelSet\n",
       "│     ├─ 🏷️ dataType\n",
       "│     ├─ 🏷️ max\n",
       "│     └─ 🏷️ min\n",
       "├─ 📂 31\n",
       "│  ├─ 🏷️ spacing\n",
       "│  ├─ 🔢 image\n",
       "│  │  ├─ 🏷️ dataType\n",
       "│  │  ├─ 🏷️ max\n",
       "│  │  └─ 🏷️ min\n",
       "│  └─ 🔢 labelSet\n",
       "│     ├─ 🏷️ dataType\n",
       "│     ├─ 🏷️ max\n",
       "│     └─ 🏷️ min\n",
       "├─ 📂 32\n",
       "│  ├─ 🏷️ spacing\n",
       "│  ├─ 🔢 image\n",
       "│  │  ├─ 🏷️ dataType\n",
       "│  │  ├─ 🏷️ max\n",
       "│  │  └─ 🏷️ min\n",
       "│  └─ 🔢 labelSet\n",
       "│     ├─ 🏷️ dataType\n",
       "│     ├─ 🏷️ max\n",
       "│     └─ 🏷️ min\n",
       "├─ 📂 33\n",
       "│  ├─ 🏷️ spacing\n",
       "│  ├─ 🔢 image\n",
       "│  │  ├─ 🏷️ dataType\n",
       "│  │  ├─ 🏷️ max\n",
       "│  │  └─ 🏷️ min\n",
       "│  └─ 🔢 labelSet\n",
       "│     ├─ 🏷️ dataType\n",
       "│     ├─ 🏷️ max\n",
       "│     └─ 🏷️ min\n",
       "├─ 📂 34\n",
       "│  ├─ 🏷️ spacing\n",
       "│  ├─ 🔢 image\n",
       "│  │  ├─ 🏷️ dataType\n",
       "│  │  ├─ 🏷️ max\n",
       "│  │  └─ 🏷️ min\n",
       "│  └─ 🔢 labelSet\n",
       "│     ├─ 🏷️ dataType\n",
       "│     ├─ 🏷️ max\n",
       "│     └─ 🏷️ min\n",
       "├─ 📂 35\n",
       "│  ├─ 🏷️ spacing\n",
       "│  ├─ 🔢 image\n",
       "│  │  ├─ 🏷️ dataType\n",
       "│  │  ├─ 🏷️ max\n",
       "│  │  └─ 🏷️ min\n",
       "│  └─ 🔢 labelSet\n",
       "│     ├─ 🏷️ dataType\n",
       "│     ├─ 🏷️ max\n",
       "│     └─ 🏷️ min\n",
       "├─ 📂 36\n",
       "│  ├─ 🏷️ spacing\n",
       "│  ├─ 🔢 image\n",
       "│  │  ├─ 🏷️ dataType\n",
       "│  │  ├─ 🏷️ max\n",
       "│  │  └─ 🏷️ min\n",
       "│  └─ 🔢 labelSet\n",
       "│     ├─ 🏷️ dataType\n",
       "│     ├─ 🏷️ max\n",
       "│     └─ 🏷️ min\n",
       "├─ 📂 37\n",
       "│  ├─ 🏷️ spacing\n",
       "│  ├─ 🔢 image\n",
       "│  │  ├─ 🏷️ dataType\n",
       "│  │  ├─ 🏷️ max\n",
       "│  │  └─ 🏷️ min\n",
       "│  └─ 🔢 labelSet\n",
       "│     ├─ 🏷️ dataType\n",
       "│     ├─ 🏷️ max\n",
       "│     └─ 🏷️ min\n",
       "├─ 📂 38\n",
       "│  ├─ 🏷️ spacing\n",
       "│  ├─ 🔢 image\n",
       "│  │  ├─ 🏷️ dataType\n",
       "│  │  ├─ 🏷️ max\n",
       "│  │  └─ 🏷️ min\n",
       "│  └─ 🔢 labelSet\n",
       "│     ├─ 🏷️ dataType\n",
       "│     ├─ 🏷️ max\n",
       "│     └─ 🏷️ min\n",
       "├─ 📂 39\n",
       "│  ├─ 🏷️ spacing\n",
       "│  ├─ 🔢 image\n",
       "│  │  ├─ 🏷️ dataType\n",
       "│  │  ├─ 🏷️ max\n",
       "│  │  └─ 🏷️ min\n",
       "│  └─ 🔢 labelSet\n",
       "│     ├─ 🏷️ dataType\n",
       "│     ├─ 🏷️ max\n",
       "│     └─ 🏷️ min\n",
       "├─ 📂 4\n",
       "│  ├─ 🏷️ spacing\n",
       "│  ├─ 🔢 image\n",
       "│  │  ├─ 🏷️ dataType\n",
       "│  │  ├─ 🏷️ max\n",
       "│  │  └─ 🏷️ min\n",
       "│  └─ 🔢 labelSet\n",
       "│     ├─ 🏷️ dataType\n",
       "│     ├─ 🏷️ max\n",
       "│     └─ 🏷️ min\n",
       "├─ 📂 40\n",
       "│  ├─ 🏷️ spacing\n",
       "│  ├─ 🔢 image\n",
       "│  │  ├─ 🏷️ dataType\n",
       "│  │  ├─ 🏷️ max\n",
       "│  │  └─ 🏷️ min\n",
       "│  └─ 🔢 labelSet\n",
       "│     ├─ 🏷️ dataType\n",
       "│     ├─ 🏷️ max\n",
       "│     └─ 🏷️ min\n",
       "├─ 📂 41\n",
       "│  ├─ 🏷️ spacing\n",
       "│  ├─ 🔢 image\n",
       "│  │  ├─ 🏷️ dataType\n",
       "│  │  ├─ 🏷️ max\n",
       "│  │  └─ 🏷️ min\n",
       "│  └─ 🔢 labelSet\n",
       "│     ├─ 🏷️ dataType\n",
       "│     ├─ 🏷️ max\n",
       "│     └─ 🏷️ min\n",
       "├─ 📂 42\n",
       "│  ├─ 🏷️ spacing\n",
       "│  ├─ 🔢 image\n",
       "│  │  ├─ 🏷️ dataType\n",
       "│  │  ├─ 🏷️ max\n",
       "│  │  └─ 🏷️ min\n",
       "│  └─ 🔢 labelSet\n",
       "│     ├─ 🏷️ dataType\n",
       "│     ├─ 🏷️ max\n",
       "│     └─ 🏷️ min\n",
       "├─ 📂 43\n",
       "│  ├─ 🏷️ spacing\n",
       "│  ├─ 🔢 image\n",
       "│  │  ├─ 🏷️ dataType\n",
       "│  │  ├─ 🏷️ max\n",
       "│  │  └─ 🏷️ min\n",
       "│  └─ 🔢 labelSet\n",
       "│     ├─ 🏷️ dataType\n",
       "│     ├─ 🏷️ max\n",
       "│     └─ 🏷️ min\n",
       "├─ 📂 44\n",
       "│  ├─ 🏷️ spacing\n",
       "│  ├─ 🔢 image\n",
       "│  │  ├─ 🏷️ dataType\n",
       "│  │  ├─ 🏷️ max\n",
       "│  │  └─ 🏷️ min\n",
       "│  └─ 🔢 labelSet\n",
       "│     ├─ 🏷️ dataType\n",
       "│     ├─ 🏷️ max\n",
       "│     └─ 🏷️ min\n",
       "├─ 📂 45\n",
       "│  ├─ 🏷️ spacing\n",
       "│  ├─ 🔢 image\n",
       "│  │  ├─ 🏷️ dataType\n",
       "│  │  ├─ 🏷️ max\n",
       "│  │  └─ 🏷️ min\n",
       "│  └─ 🔢 labelSet\n",
       "│     ├─ 🏷️ dataType\n",
       "│     ├─ 🏷️ max\n",
       "│     └─ 🏷️ min\n",
       "├─ 📂 46\n",
       "│  ├─ 🏷️ spacing\n",
       "│  ├─ 🔢 image\n",
       "│  │  ├─ 🏷️ dataType\n",
       "│  │  ├─ 🏷️ max\n",
       "│  │  └─ 🏷️ min\n",
       "│  └─ 🔢 labelSet\n",
       "│     ├─ 🏷️ dataType\n",
       "│     ├─ 🏷️ max\n",
       "│     └─ 🏷️ min\n",
       "├─ 📂 47\n",
       "│  ├─ 🏷️ spacing\n",
       "│  ├─ 🔢 image\n",
       "│  │  ├─ 🏷️ dataType\n",
       "│  │  ├─ 🏷️ max\n",
       "│  │  └─ 🏷️ min\n",
       "│  └─ 🔢 labelSet\n",
       "│     ├─ 🏷️ dataType\n",
       "│     ├─ 🏷️ max\n",
       "│     └─ 🏷️ min\n",
       "├─ 📂 48\n",
       "│  ├─ 🏷️ spacing\n",
       "│  ├─ 🔢 image\n",
       "│  │  ├─ 🏷️ dataType\n",
       "│  │  ├─ 🏷️ max\n",
       "│  │  └─ 🏷️ min\n",
       "│  └─ 🔢 labelSet\n",
       "│     ├─ 🏷️ dataType\n",
       "│     ├─ 🏷️ max\n",
       "│     └─ 🏷️ min\n",
       "├─ 📂 49\n",
       "│  ├─ 🏷️ spacing\n",
       "│  ├─ 🔢 image\n",
       "│  │  ├─ 🏷️ dataType\n",
       "│  │  ├─ 🏷️ max\n",
       "│  │  └─ 🏷️ min\n",
       "│  └─ 🔢 labelSet\n",
       "│     ├─ 🏷️ dataType\n",
       "│     ├─ 🏷️ max\n",
       "│     └─ 🏷️ min\n",
       "├─ 📂 5\n",
       "│  ├─ 🏷️ spacing\n",
       "│  ├─ 🔢 image\n",
       "│  │  ├─ 🏷️ dataType\n",
       "│  │  ├─ 🏷️ max\n",
       "│  │  └─ 🏷️ min\n",
       "│  └─ 🔢 labelSet\n",
       "│     ├─ 🏷️ dataType\n",
       "│     ├─ 🏷️ max\n",
       "│     └─ 🏷️ min\n",
       "├─ 📂 50\n",
       "│  ├─ 🏷️ spacing\n",
       "│  ├─ 🔢 image\n",
       "│  │  ├─ 🏷️ dataType\n",
       "│  │  ├─ 🏷️ max\n",
       "│  │  └─ 🏷️ min\n",
       "│  └─ 🔢 labelSet\n",
       "│     ├─ 🏷️ dataType\n",
       "│     ├─ 🏷️ max\n",
       "│     └─ 🏷️ min\n",
       "├─ 📂 51\n",
       "│  ├─ 🏷️ spacing\n",
       "│  ├─ 🔢 image\n",
       "│  │  ├─ 🏷️ dataType\n",
       "│  │  ├─ 🏷️ max\n",
       "│  │  └─ 🏷️ min\n",
       "│  └─ 🔢 labelSet\n",
       "│     ├─ 🏷️ dataType\n",
       "│     ├─ 🏷️ max\n",
       "│     └─ 🏷️ min\n",
       "├─ 📂 52\n",
       "│  ├─ 🏷️ spacing\n",
       "│  ├─ 🔢 image\n",
       "│  │  ├─ 🏷️ dataType\n",
       "│  │  ├─ 🏷️ max\n",
       "│  │  └─ 🏷️ min\n",
       "│  └─ 🔢 labelSet\n",
       "│     ├─ 🏷️ dataType\n",
       "│     ├─ 🏷️ max\n",
       "│     └─ 🏷️ min\n",
       "├─ 📂 53\n",
       "│  ├─ 🏷️ spacing\n",
       "│  ├─ 🔢 image\n",
       "│  │  ├─ 🏷️ dataType\n",
       "│  │  ├─ 🏷️ max\n",
       "│  │  └─ 🏷️ min\n",
       "│  └─ 🔢 labelSet\n",
       "│     ├─ 🏷️ dataType\n",
       "│     ├─ 🏷️ max\n",
       "│     └─ 🏷️ min\n",
       "├─ 📂 54\n",
       "│  ├─ 🏷️ spacing\n",
       "│  ├─ 🔢 image\n",
       "│  │  ├─ 🏷️ dataType\n",
       "│  │  ├─ 🏷️ max\n",
       "│  │  └─ 🏷️ min\n",
       "│  └─ 🔢 labelSet\n",
       "│     ├─ 🏷️ dataType\n",
       "│     ├─ 🏷️ max\n",
       "│     └─ 🏷️ min\n",
       "└─ (32 more children)"
      ]
     },
     "metadata": {},
     "output_type": "display_data"
    }
   ],
   "source": [
    "#close(fid)\n",
    "pathToHDF55=\"/media/jakub/NewVolume/projects/bigDataSet.hdf5\"\n",
    "fid = h5open(pathToHDF55, \"r+\")\n",
    "# for groupKey in keys(fid)\n",
    "#     print( size(getGroupOrCreate(fid, groupKey)[\"image\"][:,:,:])) end #(334, 334, 348)"
   ]
  },
  {
   "cell_type": "code",
   "execution_count": 6,
   "metadata": {},
   "outputs": [],
   "source": [
    "#taken from https://github.com/FluxML/model-zoo/blob/master/vision/conv_mnist/conv_mnist.jl\n",
    "maxEpoch=2\n",
    "for epoch in 1:maxEpoch\n",
    "    @showprogress for groupKey in keys(fid)\n",
    "        gr= getGroupOrCreate(fid, groupKey)    \n",
    "        x=reshape( gr[\"image\"][:,:,:],(334, 334, 348 ,1,1))\n",
    "        y=reshape( gr[\"labelSet\"][:,:,:],(334, 334, 348 ,1,1))\n",
    "        x, y = x |> device, y |> device\n",
    "        gs = Flux.gradient(ps) do\n",
    "                ŷ = model(x)\n",
    "                l=loss(ŷ, y)\n",
    "                print(l)\n",
    "                l\n",
    "            end\n",
    "\n",
    "        Flux.Optimise.update!(opt, ps, gs)\n",
    "    end\n",
    "end\n",
    "    \n"
   ]
  },
  {
   "cell_type": "code",
   "execution_count": null,
   "metadata": {},
   "outputs": [],
   "source": [
    "modelpath = joinpath(args.savepath, \"model.bson\")\n",
    "let model = cpu(model) ## return model to cpu before serialization\n",
    "    BSON.@save modelpath model 1\n",
    "end"
   ]
  }
 ],
 "metadata": {
  "kernelspec": {
   "display_name": "Julia 1.6.6",
   "language": "julia",
   "name": "julia-1.6"
  },
  "language_info": {
   "file_extension": ".jl",
   "mimetype": "application/julia",
   "name": "julia",
   "version": "1.6.6"
  },
  "orig_nbformat": 4
 },
 "nbformat": 4,
 "nbformat_minor": 2
}
